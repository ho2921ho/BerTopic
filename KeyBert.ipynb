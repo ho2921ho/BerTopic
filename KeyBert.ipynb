{
 "cells": [
  {
   "cell_type": "code",
   "execution_count": 1,
   "id": "bf256a88",
   "metadata": {
    "scrolled": true
   },
   "outputs": [
    {
     "name": "stdout",
     "output_type": "stream",
     "text": [
      "Collecting keybert"
     ]
    },
    {
     "name": "stderr",
     "output_type": "stream",
     "text": [
      "WARNING: Ignoring invalid distribution -atplotlib (c:\\users\\user-pc\\miniconda3\\lib\\site-packages)\n",
      "WARNING: Ignoring invalid distribution -atplotlib (c:\\users\\user-pc\\miniconda3\\lib\\site-packages)\n",
      "WARNING: Ignoring invalid distribution -atplotlib (c:\\users\\user-pc\\miniconda3\\lib\\site-packages)\n",
      "WARNING: Ignoring invalid distribution -atplotlib (c:\\users\\user-pc\\miniconda3\\lib\\site-packages)\n",
      "WARNING: Ignoring invalid distribution -atplotlib (c:\\users\\user-pc\\miniconda3\\lib\\site-packages)\n",
      "WARNING: Ignoring invalid distribution -atplotlib (c:\\users\\user-pc\\miniconda3\\lib\\site-packages)\n",
      "WARNING: Ignoring invalid distribution -atplotlib (c:\\users\\user-pc\\miniconda3\\lib\\site-packages)\n",
      "WARNING: Ignoring invalid distribution -atplotlib (c:\\users\\user-pc\\miniconda3\\lib\\site-packages)\n",
      "WARNING: Ignoring invalid distribution -atplotlib (c:\\users\\user-pc\\miniconda3\\lib\\site-packages)\n",
      "WARNING: You are using pip version 22.0.4; however, version 22.2.2 is available.\n",
      "You should consider upgrading via the 'C:\\Users\\User-Pc\\miniconda3\\python.exe -m pip install --upgrade pip' command.\n"
     ]
    },
    {
     "name": "stdout",
     "output_type": "stream",
     "text": [
      "\n",
      "  Downloading keybert-0.6.0-py2.py3-none-any.whl (22 kB)\n",
      "Collecting rich>=10.4.0\n",
      "  Downloading rich-12.5.1-py3-none-any.whl (235 kB)\n",
      "     -------------------------------------- 235.6/235.6 KB 4.8 MB/s eta 0:00:00\n",
      "Requirement already satisfied: scikit-learn>=0.22.2 in c:\\users\\user-pc\\miniconda3\\lib\\site-packages (from keybert) (1.1.2)\n",
      "Requirement already satisfied: numpy>=1.18.5 in c:\\users\\user-pc\\miniconda3\\lib\\site-packages (from keybert) (1.21.5)\n",
      "Requirement already satisfied: sentence-transformers>=0.3.8 in c:\\users\\user-pc\\miniconda3\\lib\\site-packages (from keybert) (2.2.2)\n",
      "Collecting commonmark<0.10.0,>=0.9.0\n",
      "  Downloading commonmark-0.9.1-py2.py3-none-any.whl (51 kB)\n",
      "     ---------------------------------------- 51.1/51.1 KB 2.6 MB/s eta 0:00:00\n",
      "Requirement already satisfied: pygments<3.0.0,>=2.6.0 in c:\\users\\user-pc\\miniconda3\\lib\\site-packages (from rich>=10.4.0->keybert) (2.11.2)\n",
      "Requirement already satisfied: joblib>=1.0.0 in c:\\users\\user-pc\\miniconda3\\lib\\site-packages (from scikit-learn>=0.22.2->keybert) (1.1.0)\n",
      "Requirement already satisfied: threadpoolctl>=2.0.0 in c:\\users\\user-pc\\miniconda3\\lib\\site-packages (from scikit-learn>=0.22.2->keybert) (3.0.0)\n",
      "Requirement already satisfied: scipy>=1.3.2 in c:\\users\\user-pc\\miniconda3\\lib\\site-packages (from scikit-learn>=0.22.2->keybert) (1.9.0)\n",
      "Requirement already satisfied: transformers<5.0.0,>=4.6.0 in c:\\users\\user-pc\\miniconda3\\lib\\site-packages (from sentence-transformers>=0.3.8->keybert) (4.21.1)\n",
      "Requirement already satisfied: torchvision in c:\\users\\user-pc\\miniconda3\\lib\\site-packages (from sentence-transformers>=0.3.8->keybert) (0.12.0)\n",
      "Requirement already satisfied: tqdm in c:\\users\\user-pc\\miniconda3\\lib\\site-packages (from sentence-transformers>=0.3.8->keybert) (4.63.0)\n",
      "Requirement already satisfied: nltk in c:\\users\\user-pc\\miniconda3\\lib\\site-packages (from sentence-transformers>=0.3.8->keybert) (3.7)\n",
      "Requirement already satisfied: huggingface-hub>=0.4.0 in c:\\users\\user-pc\\miniconda3\\lib\\site-packages (from sentence-transformers>=0.3.8->keybert) (0.8.1)\n",
      "Requirement already satisfied: torch>=1.6.0 in c:\\users\\user-pc\\miniconda3\\lib\\site-packages (from sentence-transformers>=0.3.8->keybert) (1.11.0)\n",
      "Requirement already satisfied: sentencepiece in c:\\users\\user-pc\\miniconda3\\lib\\site-packages (from sentence-transformers>=0.3.8->keybert) (0.1.97)\n",
      "Requirement already satisfied: typing-extensions>=3.7.4.3 in c:\\users\\user-pc\\miniconda3\\lib\\site-packages (from huggingface-hub>=0.4.0->sentence-transformers>=0.3.8->keybert) (4.1.1)\n",
      "Requirement already satisfied: requests in c:\\users\\user-pc\\miniconda3\\lib\\site-packages (from huggingface-hub>=0.4.0->sentence-transformers>=0.3.8->keybert) (2.28.1)\n",
      "Requirement already satisfied: packaging>=20.9 in c:\\users\\user-pc\\miniconda3\\lib\\site-packages (from huggingface-hub>=0.4.0->sentence-transformers>=0.3.8->keybert) (21.3)\n",
      "Requirement already satisfied: pyyaml>=5.1 in c:\\users\\user-pc\\miniconda3\\lib\\site-packages (from huggingface-hub>=0.4.0->sentence-transformers>=0.3.8->keybert) (5.4.1)\n",
      "Requirement already satisfied: filelock in c:\\users\\user-pc\\miniconda3\\lib\\site-packages (from huggingface-hub>=0.4.0->sentence-transformers>=0.3.8->keybert) (3.6.0)\n",
      "Requirement already satisfied: tokenizers!=0.11.3,<0.13,>=0.11.1 in c:\\users\\user-pc\\miniconda3\\lib\\site-packages (from transformers<5.0.0,>=4.6.0->sentence-transformers>=0.3.8->keybert) (0.12.1)\n",
      "Requirement already satisfied: regex!=2019.12.17 in c:\\users\\user-pc\\miniconda3\\lib\\site-packages (from transformers<5.0.0,>=4.6.0->sentence-transformers>=0.3.8->keybert) (2022.4.24)\n",
      "Requirement already satisfied: colorama in c:\\users\\user-pc\\miniconda3\\lib\\site-packages (from tqdm->sentence-transformers>=0.3.8->keybert) (0.4.4)\n",
      "Requirement already satisfied: click in c:\\users\\user-pc\\miniconda3\\lib\\site-packages (from nltk->sentence-transformers>=0.3.8->keybert) (8.1.2)\n",
      "Requirement already satisfied: pillow!=8.3.*,>=5.3.0 in c:\\users\\user-pc\\miniconda3\\lib\\site-packages (from torchvision->sentence-transformers>=0.3.8->keybert) (9.1.0)\n",
      "Requirement already satisfied: pyparsing!=3.0.5,>=2.0.2 in c:\\users\\user-pc\\miniconda3\\lib\\site-packages (from packaging>=20.9->huggingface-hub>=0.4.0->sentence-transformers>=0.3.8->keybert) (3.0.4)\n",
      "Requirement already satisfied: idna<4,>=2.5 in c:\\users\\user-pc\\miniconda3\\lib\\site-packages (from requests->huggingface-hub>=0.4.0->sentence-transformers>=0.3.8->keybert) (2.6)\n",
      "Requirement already satisfied: urllib3<1.27,>=1.21.1 in c:\\users\\user-pc\\miniconda3\\lib\\site-packages (from requests->huggingface-hub>=0.4.0->sentence-transformers>=0.3.8->keybert) (1.26.11)\n",
      "Requirement already satisfied: charset-normalizer<3,>=2 in c:\\users\\user-pc\\miniconda3\\lib\\site-packages (from requests->huggingface-hub>=0.4.0->sentence-transformers>=0.3.8->keybert) (2.0.4)\n",
      "Requirement already satisfied: certifi>=2017.4.17 in c:\\users\\user-pc\\miniconda3\\lib\\site-packages (from requests->huggingface-hub>=0.4.0->sentence-transformers>=0.3.8->keybert) (2021.10.8)\n",
      "Installing collected packages: commonmark, rich, keybert\n",
      "Successfully installed commonmark-0.9.1 keybert-0.6.0 rich-12.5.1\n"
     ]
    }
   ],
   "source": [
    "!pip install keybert"
   ]
  },
  {
   "cell_type": "code",
   "execution_count": 2,
   "id": "035c0903",
   "metadata": {},
   "outputs": [],
   "source": [
    "doc = \"\"\"\n",
    "Metaverse is creating a revolutionary modification in the finance industry by enabling to build the payment infrastructure in the ecosystem. It has created ample opportunities for the financial sector by introducing seamless payment systems for users and players through digital avatars. NFT in Metaverse is one of the popular payment solutions through the integration of blockchain technology. It has started helping creators to monetize their creativity and innovation skills through art, music, videos, and so on. Metaverse is offering digital twins that is helping the fintech sector to provide multi-way authentication. Digital avatars are linked to users’ own identity as well as it is same as the physical body in reality. Thus, it is helping to develop new protection products for Metaverse.\n",
    "\n",
    "Metaverse holds huge potential for the financial sector to explore the new space for business. Digital avatars can with bank staff and other customers in the nearby future. Users can move around with their digital assets without shifting to another place. This has created a positive impact on the financial sector to grow even bigger than the physical world. These financial institutions can balance volumes of transactions in both the physical and virtual worlds with a wide range of target audiences. Multiple virtual shopping hubs can leverage these financial institutions for seamless digital payments within the Metaverse ecosystem.\n",
    "\n",
    "There is a possibility to open multiple bank branches virtually with customer-centric development strategies. It is expected that the consumers will accept the new mode of financial transactions in a new form of human interaction with digital avatars. The monetization power of Metaverse will quickly expand to the next level for the financial sector with millions of dollars of commercial transactions. There is a symbiotic relationship between the financial sector and the Metaverse.\n",
    "\n",
    "Three financial companies working on Metaverse:\n",
    "\n",
    "JPMorgan Chase: JPMorgan Chase is one of the first banks to open a branch in Metaverse with its Onyx, a virtual world browser-based platform. It will offer blockchain payments to clients to widen the opportunities of the cryptocurrency market.\n",
    "\n",
    "IBK: Industrial Bank of Korea is set to launch an IBK Dotori Bank on Metaverse with financial products and services streamlined for Cyworld Z users.\n",
    "\n",
    "Shinhan Bank: Shinhan Bank has collaborated with KT to feature multiple financial services in Metaverse for the digitization of bank branches in the nearby future.\n",
    "\"\"\""
   ]
  },
  {
   "cell_type": "code",
   "execution_count": 3,
   "id": "64d20dd4",
   "metadata": {
    "scrolled": true
   },
   "outputs": [],
   "source": [
    "cleaned_content = re.sub(r'[^\\.\\?\\!\\w\\d\\s]','',doc) # 문장단위로 끊기\n",
    "cleaned_content = cleaned_content.repalce('\\n',' ')\n",
    "cleaned_content = cleaned_content.lower()"
   ]
  },
  {
   "cell_type": "code",
   "execution_count": 13,
   "id": "136c73cc",
   "metadata": {},
   "outputs": [],
   "source": [
    "from keybert import KeyBERT\n",
    "kw_model = KeyBERT(model='all-MiniLM-L6-v2')\n",
    "'''\n",
    "sentence_model = SentenceTransformer(\"kpfsbert\")\n",
    "'''\n",
    "keywords = kw_model.extract_keywords(doc)"
   ]
  },
  {
   "cell_type": "code",
   "execution_count": 49,
   "id": "69a96c82",
   "metadata": {},
   "outputs": [],
   "source": [
    "n2_kwd = kw_model.extract_keywords(cleaned_content, keyphrase_ngram_range=(2, 2), stop_words='english',\n",
    "                              use_mmr=True, diversity=0.7, top_n=100)"
   ]
  },
  {
   "cell_type": "code",
   "execution_count": 53,
   "id": "ed1ee6fd",
   "metadata": {},
   "outputs": [],
   "source": [
    "n1_kwd = kw_model.extract_keywords(cleaned_content, keyphrase_ngram_range=(1, 1), stop_words='english',\n",
    "                              use_mmr=True, diversity=0.7, top_n=50)"
   ]
  },
  {
   "cell_type": "code",
   "execution_count": 56,
   "id": "28023a5f",
   "metadata": {},
   "outputs": [
    {
     "data": {
      "text/plain": [
       "[('metaverse', 0.5229),\n",
       " ('nft', 0.3766),\n",
       " ('banks', 0.362),\n",
       " ('virtual', 0.3291),\n",
       " ('monetize', 0.3084),\n",
       " ('assets', 0.3016),\n",
       " ('creators', 0.2957),\n",
       " ('authentication', 0.2925),\n",
       " ('avatars', 0.2825),\n",
       " ('balance', 0.2781),\n",
       " ('innovation', 0.2688),\n",
       " ('cryptocurrency', 0.2645),\n",
       " ('shopping', 0.257),\n",
       " ('platform', 0.255),\n",
       " ('sector', 0.2486),\n",
       " ('reality', 0.2315),\n",
       " ('digitization', 0.2299),\n",
       " ('future', 0.2294),\n",
       " ('multiway', 0.228),\n",
       " ('dotori', 0.2113),\n",
       " ('worlds', 0.2081),\n",
       " ('twins', 0.2064),\n",
       " ('feature', 0.2024),\n",
       " ('new', 0.1893),\n",
       " ('seamless', 0.1877),\n",
       " ('audiences', 0.1797),\n",
       " ('hubs', 0.1775),\n",
       " ('space', 0.1745),\n",
       " ('ecosystem', 0.1722),\n",
       " ('protection', 0.1657),\n",
       " ('power', 0.1657),\n",
       " ('onyx', 0.163),\n",
       " ('physical', 0.1611),\n",
       " ('browserbased', 0.1589),\n",
       " ('enabling', 0.146),\n",
       " ('interaction', 0.142),\n",
       " ('offering', 0.1325),\n",
       " ('helping', 0.1214),\n",
       " ('target', 0.1208),\n",
       " ('ibk', 0.1117),\n",
       " ('shifting', 0.1107),\n",
       " ('collaborated', 0.1064),\n",
       " ('possibility', 0.1043),\n",
       " ('form', 0.0962),\n",
       " ('integration', 0.0816),\n",
       " ('huge', 0.0672),\n",
       " ('kt', 0.0657),\n",
       " ('nearby', 0.0551),\n",
       " ('shinhan', 0.0506),\n",
       " ('ample', 0.041)]"
      ]
     },
     "execution_count": 56,
     "metadata": {},
     "output_type": "execute_result"
    }
   ],
   "source": [
    "n1_kwd"
   ]
  }
 ],
 "metadata": {
  "kernelspec": {
   "display_name": "Python 3",
   "language": "python",
   "name": "python3"
  },
  "language_info": {
   "codemirror_mode": {
    "name": "ipython",
    "version": 3
   },
   "file_extension": ".py",
   "mimetype": "text/x-python",
   "name": "python",
   "nbconvert_exporter": "python",
   "pygments_lexer": "ipython3",
   "version": "3.9.12"
  }
 },
 "nbformat": 4,
 "nbformat_minor": 5
}
