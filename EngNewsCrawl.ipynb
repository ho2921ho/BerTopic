{
 "cells": [
  {
   "cell_type": "code",
   "execution_count": 1,
   "id": "51a9495e",
   "metadata": {
    "collapsed": true
   },
   "outputs": [
    {
     "name": "stdout",
     "output_type": "stream",
     "text": [
      "Requirement already satisfied: beautifulsoup4 in c:\\users\\user-pc\\miniconda3\\lib\\site-packages (4.10.0)\n",
      "Requirement already satisfied: soupsieve>1.2 in c:\\users\\user-pc\\miniconda3\\lib\\site-packages (from beautifulsoup4) (2.3.1)\n"
     ]
    },
    {
     "name": "stderr",
     "output_type": "stream",
     "text": [
      "WARNING: Ignoring invalid distribution -atplotlib (c:\\users\\user-pc\\miniconda3\\lib\\site-packages)\n",
      "WARNING: Ignoring invalid distribution -atplotlib (c:\\users\\user-pc\\miniconda3\\lib\\site-packages)\n",
      "WARNING: Ignoring invalid distribution -atplotlib (c:\\users\\user-pc\\miniconda3\\lib\\site-packages)\n",
      "WARNING: Ignoring invalid distribution -atplotlib (c:\\users\\user-pc\\miniconda3\\lib\\site-packages)\n",
      "WARNING: Ignoring invalid distribution -atplotlib (c:\\users\\user-pc\\miniconda3\\lib\\site-packages)\n",
      "WARNING: Ignoring invalid distribution -atplotlib (c:\\users\\user-pc\\miniconda3\\lib\\site-packages)\n",
      "WARNING: You are using pip version 22.0.4; however, version 22.2.2 is available.\n",
      "You should consider upgrading via the 'C:\\Users\\User-Pc\\miniconda3\\python.exe -m pip install --upgrade pip' command.\n"
     ]
    },
    {
     "name": "stdout",
     "output_type": "stream",
     "text": [
      "Requirement already satisfied: selenium in c:\\users\\user-pc\\miniconda3\\lib\\site-packages (4.4.3)\n",
      "Requirement already satisfied: trio-websocket~=0.9 in c:\\users\\user-pc\\miniconda3\\lib\\site-packages (from selenium) (0.9.2)\n",
      "Requirement already satisfied: certifi>=2021.10.8 in c:\\users\\user-pc\\miniconda3\\lib\\site-packages (from selenium) (2021.10.8)\n",
      "Requirement already satisfied: urllib3[socks]~=1.26 in c:\\users\\user-pc\\miniconda3\\lib\\site-packages (from selenium) (1.26.11)\n",
      "Requirement already satisfied: trio~=0.17 in c:\\users\\user-pc\\miniconda3\\lib\\site-packages (from selenium) (0.21.0)\n",
      "Requirement already satisfied: attrs>=19.2.0 in c:\\users\\user-pc\\miniconda3\\lib\\site-packages (from trio~=0.17->selenium) (21.4.0)\n",
      "Requirement already satisfied: outcome in c:\\users\\user-pc\\miniconda3\\lib\\site-packages (from trio~=0.17->selenium) (1.2.0)\n",
      "Requirement already satisfied: async-generator>=1.9 in c:\\users\\user-pc\\miniconda3\\lib\\site-packages (from trio~=0.17->selenium) (1.10)\n",
      "Requirement already satisfied: sortedcontainers in c:\\users\\user-pc\\miniconda3\\lib\\site-packages (from trio~=0.17->selenium) (2.4.0)\n",
      "Requirement already satisfied: cffi>=1.14 in c:\\users\\user-pc\\miniconda3\\lib\\site-packages (from trio~=0.17->selenium) (1.15.0)\n",
      "Requirement already satisfied: idna in c:\\users\\user-pc\\miniconda3\\lib\\site-packages (from trio~=0.17->selenium) (2.6)\n",
      "Requirement already satisfied: sniffio in c:\\users\\user-pc\\miniconda3\\lib\\site-packages (from trio~=0.17->selenium) (1.2.0)\n",
      "Requirement already satisfied: wsproto>=0.14 in c:\\users\\user-pc\\miniconda3\\lib\\site-packages (from trio-websocket~=0.9->selenium) (1.1.0)\n",
      "Requirement already satisfied: PySocks!=1.5.7,<2.0,>=1.5.6 in c:\\users\\user-pc\\miniconda3\\lib\\site-packages (from urllib3[socks]~=1.26->selenium) (1.7.1)\n",
      "Requirement already satisfied: pycparser in c:\\users\\user-pc\\miniconda3\\lib\\site-packages (from cffi>=1.14->trio~=0.17->selenium) (2.21)\n",
      "Requirement already satisfied: h11<1,>=0.9.0 in c:\\users\\user-pc\\miniconda3\\lib\\site-packages (from wsproto>=0.14->trio-websocket~=0.9->selenium) (0.13.0)\n"
     ]
    },
    {
     "name": "stderr",
     "output_type": "stream",
     "text": [
      "WARNING: Ignoring invalid distribution -atplotlib (c:\\users\\user-pc\\miniconda3\\lib\\site-packages)\n",
      "WARNING: Ignoring invalid distribution -atplotlib (c:\\users\\user-pc\\miniconda3\\lib\\site-packages)\n",
      "WARNING: Ignoring invalid distribution -atplotlib (c:\\users\\user-pc\\miniconda3\\lib\\site-packages)\n",
      "WARNING: Ignoring invalid distribution -atplotlib (c:\\users\\user-pc\\miniconda3\\lib\\site-packages)\n",
      "WARNING: Ignoring invalid distribution -atplotlib (c:\\users\\user-pc\\miniconda3\\lib\\site-packages)\n",
      "WARNING: Ignoring invalid distribution -atplotlib (c:\\users\\user-pc\\miniconda3\\lib\\site-packages)\n",
      "WARNING: You are using pip version 22.0.4; however, version 22.2.2 is available.\n",
      "You should consider upgrading via the 'C:\\Users\\User-Pc\\miniconda3\\python.exe -m pip install --upgrade pip' command.\n"
     ]
    }
   ],
   "source": [
    "!pip3 install beautifulsoup4\n",
    "!pip install selenium"
   ]
  },
  {
   "cell_type": "code",
   "execution_count": 122,
   "id": "42b0780e",
   "metadata": {
    "collapsed": true
   },
   "outputs": [
    {
     "name": "stderr",
     "output_type": "stream",
     "text": [
      "<ipython-input-122-b91fd2893659>:15: DeprecationWarning: executable_path has been deprecated, please pass in a Service object\n",
      "  driver = webdriver.Chrome (executable_path=r\"C:\\Users\\Notebiz003\\Documents\\chromedriver_win32\\chromedriver.exe\")\n"
     ]
    }
   ],
   "source": [
    "import requests \n",
    "from bs4 import BeautifulSoup\n",
    "import re\n",
    "from tqdm import tqdm\n",
    "import time\n",
    "import numpy\n",
    "import random\n",
    "\n",
    "import selenium\n",
    "from selenium import webdriver\n",
    "from selenium.webdriver.common.by import By\n",
    "from datetime import datetime\n",
    "import pandas as pd\n",
    "\n",
    "driver = webdriver.Chrome (executable_path=r\"C:\\Users\\Notebiz003\\Documents\\chromedriver_win32\\chromedriver.exe\")"
   ]
  },
  {
   "cell_type": "code",
   "execution_count": 117,
   "id": "2c15f622",
   "metadata": {
    "scrolled": false
   },
   "outputs": [],
   "source": [
    "# 1 키워드 검색 뉴스 url 수집\n",
    "def page2url(searching_word,date):\n",
    "    urls = []\n",
    "    for start in range(0, 360, 10):\n",
    "        main_url = 'https://www.google.co.kr/search?q={}&tbs=cdr:1,cd_min:{},cd_max:{}&tbm=nws&ei=dPP-Yu_eCJLL-Qb55bvQDA&start={}&sa=N&ved=2ahUKEwjv6Lvy69H5AhWSZd4KHfnyDso4ChDy0wN6BAgBEDk&biw=1536&bih=754&dpr=1.25'.format(searching_word,date,date,start)\n",
    "        driver.get(url=main_url)\n",
    "        elements = driver.find_elements(By.TAG_NAME, 'a')\n",
    "        lnks = []\n",
    "        for lnk in elements:\n",
    "            lnk = str(lnk.get_attribute('href'))\n",
    "            if 'google' not in lnk and lnk != 'None':\n",
    "                lnks.append(lnk)\n",
    "        if len(lnks) == 0:\n",
    "            print(date, ' 완료')\n",
    "            break\n",
    "        urls.extend(lnks)\n",
    "        rand_value =random.uniform(1, 4)\n",
    "        time.sleep(rand_value)\n",
    "        \n",
    "    return urls"
   ]
  },
  {
   "cell_type": "code",
   "execution_count": 125,
   "id": "da9c1f67",
   "metadata": {
    "scrolled": true
   },
   "outputs": [],
   "source": [
    "from_date = '2022-7-26'\n",
    "to_date = '2022-7-31'\n",
    "\n",
    "datelist = pd.date_range(start=from_date, end=to_date).tolist()\n",
    "dtlst = []\n",
    "for d_t in datelist:\n",
    "    d_t = str(d_t)[0:-9]\n",
    "    d = datetime.strptime(d_t, '%Y-%m-%d')\n",
    "    d = d.strftime('%m/%d/%Y')\n",
    "    d = d[0].replace('0','') + d[1:]\n",
    "    d = d[:-7] + d[-7].replace('0','') + d[-6:]\n",
    "    dtlst.append(d)"
   ]
  },
  {
   "cell_type": "code",
   "execution_count": 127,
   "id": "68bf1a52",
   "metadata": {
    "collapsed": true
   },
   "outputs": [
    {
     "name": "stderr",
     "output_type": "stream",
     "text": [
      " 17%|██████████████                                                                      | 1/6 [00:59<04:57, 59.48s/it]"
     ]
    },
    {
     "name": "stdout",
     "output_type": "stream",
     "text": [
      "7/26/2022  완료\n"
     ]
    },
    {
     "name": "stderr",
     "output_type": "stream",
     "text": [
      "\r",
      " 33%|████████████████████████████                                                        | 2/6 [02:16<04:38, 69.63s/it]"
     ]
    },
    {
     "name": "stdout",
     "output_type": "stream",
     "text": [
      "7/27/2022  완료\n"
     ]
    },
    {
     "name": "stderr",
     "output_type": "stream",
     "text": [
      "\r",
      " 50%|██████████████████████████████████████████                                          | 3/6 [03:15<03:14, 64.70s/it]"
     ]
    },
    {
     "name": "stdout",
     "output_type": "stream",
     "text": [
      "7/28/2022  완료\n"
     ]
    },
    {
     "name": "stderr",
     "output_type": "stream",
     "text": [
      "\r",
      " 67%|████████████████████████████████████████████████████████                            | 4/6 [04:06<01:58, 59.38s/it]"
     ]
    },
    {
     "name": "stdout",
     "output_type": "stream",
     "text": [
      "7/29/2022  완료\n"
     ]
    },
    {
     "name": "stderr",
     "output_type": "stream",
     "text": [
      "\r",
      " 83%|██████████████████████████████████████████████████████████████████████              | 5/6 [04:12<00:40, 40.31s/it]"
     ]
    },
    {
     "name": "stdout",
     "output_type": "stream",
     "text": [
      "7/30/2022  완료\n"
     ]
    },
    {
     "name": "stderr",
     "output_type": "stream",
     "text": [
      "100%|████████████████████████████████████████████████████████████████████████████████████| 6/6 [04:26<00:00, 44.40s/it]"
     ]
    },
    {
     "name": "stdout",
     "output_type": "stream",
     "text": [
      "7/31/2022  완료\n"
     ]
    },
    {
     "name": "stderr",
     "output_type": "stream",
     "text": [
      "\n"
     ]
    }
   ],
   "source": [
    "searching_word = 'digital+finance'\n",
    "Urls = dict()\n",
    "for date in tqdm(dtlst):\n",
    "    urls = page2url(searching_word,date)\n",
    "    Urls[date] = urls"
   ]
  },
  {
   "cell_type": "code",
   "execution_count": 129,
   "id": "c6cf22e7",
   "metadata": {},
   "outputs": [],
   "source": [
    "name = \"Urls{}-{}.pickle\".format(from_date,r'2022-7-31')\n",
    "name = name.replace('/','.')\n",
    "import pickle\n",
    "with open(r'C:/Users/Notebiz003/BerTopic/' + name,'wb') as f:\n",
    "    pickle.dump(Urls,f)"
   ]
  },
  {
   "cell_type": "code",
   "execution_count": 260,
   "id": "3a81e8e5",
   "metadata": {},
   "outputs": [],
   "source": [
    "'''\n",
    "import os\n",
    "pickles= []\n",
    "\n",
    "path = \"C:/Users/Notebiz003/BerTopic/pickles/\"\n",
    "file_list = os.listdir(path) \n",
    "\n",
    "for name in file_list:\n",
    "    with open(r'C:/Users/Notebiz003/BerTopic/pickles/' + name, 'rb') as f:\n",
    "        data = pickle.load(f) # 단 한줄씩 읽어옴\n",
    "    pickles.append(data)\n",
    "    \n",
    "\n",
    "tmp = pd.concat([pd.Series(pickles[0])[:-28], pd.Series(pickles[4])[:8]])\n",
    "tmp = pd.concat([tmp,pd.Series(pickles[1])[1:]])\n",
    "tmp = pd.concat([tmp,pd.Series(pickles[2])[:7]])\n",
    "tmp = pd.concat([tmp,pd.Series(pickles[3])])\n",
    "\n",
    "name = \"Urls_final_{}_{}.pickle\".format(r'2019-8-1',r'2022-7-31')\n",
    "name = name.replace('/','.')\n",
    "\n",
    "tmp = pd.DataFrame(tmp)\n",
    "with open(r'C:/Users/Notebiz003/BerTopic/' + name,'wb') as f:\n",
    "    pickle.dump(tmp,f)\n",
    "'''"
   ]
  },
  {
   "cell_type": "code",
   "execution_count": 280,
   "id": "4fcdbf88",
   "metadata": {},
   "outputs": [],
   "source": [
    "name = 'Urls_final_2019-8-1_2022-7-31.pickle'\n",
    "with open(r'C:/Users/Notebiz003/BerTopic/' + name, 'rb') as f:\n",
    "    data = pickle.load(f)\n",
    "data = data.T"
   ]
  },
  {
   "cell_type": "code",
   "execution_count": null,
   "id": "7df45c42",
   "metadata": {
    "scrolled": true
   },
   "outputs": [
    {
     "name": "stderr",
     "output_type": "stream",
     "text": [
      "\r",
      "  0%|                                                                                         | 0/1108 [00:00<?, ?it/s]"
     ]
    },
    {
     "name": "stdout",
     "output_type": "stream",
     "text": [
      "https://www.forbes.com/sites/lizfrazierpeck/2019/08/01/want-to-teach-your-young-child-about-finance-here-are-five-simple-activities-to-get-you-started/\n",
      "https://www.pymnts.com/news/partnerships-acquisitions/2019/amex-digital-payments-firm/\n",
      "https://www.forbes.com/sites/suzannerowankelleher/2019/08/01/everyones-social-security-number-has-been-compromised-heres-how-to-protect-yourself/\n"
     ]
    },
    {
     "name": "stderr",
     "output_type": "stream",
     "text": [
      "\r",
      "  0%|                                                                               | 1/1108 [00:19<5:57:20, 19.37s/it]"
     ]
    },
    {
     "name": "stdout",
     "output_type": "stream",
     "text": [
      "8/1/2019  완료\n",
      "https://www.forbes.com/sites/forbesfinancecouncil/2019/08/02/surf-and-the-art-of-investing/\n"
     ]
    },
    {
     "name": "stderr",
     "output_type": "stream",
     "text": [
      "\r",
      "  0%|▏                                                                              | 2/1108 [00:34<5:10:56, 16.87s/it]"
     ]
    },
    {
     "name": "stdout",
     "output_type": "stream",
     "text": [
      "8/2/2019  완료\n",
      "https://thearabweekly.com/banking-system-aims-make-sure-young-jordanians-are-included\n"
     ]
    },
    {
     "name": "stderr",
     "output_type": "stream",
     "text": [
      "\r",
      "  0%|▏                                                                              | 3/1108 [00:36<3:07:35, 10.19s/it]"
     ]
    },
    {
     "name": "stdout",
     "output_type": "stream",
     "text": [
      "8/3/2019  완료\n"
     ]
    },
    {
     "name": "stderr",
     "output_type": "stream",
     "text": [
      "\r",
      "  0%|▎                                                                              | 4/1108 [00:38<2:07:26,  6.93s/it]"
     ]
    },
    {
     "name": "stdout",
     "output_type": "stream",
     "text": [
      "https://www.forbes.com/sites/williamarruda/2019/08/04/why-your-employees-financial-wellbeing-affects-your-corporate-brand/\n",
      "https://www.forbes.com/sites/gordonkelly/2019/08/04/apple-iphone-11-logic-board-battery-release-upgrade-iphone-xs-max-xr-update/\n",
      "8/4/2019  완료\n",
      "https://www.forbes.com/sites/forbesfinancecouncil/2019/08/05/six-priceless-educational-resources-for-managing-your-finances/\n",
      "https://www.forbes.com/sites/lizfrazierpeck/2019/08/05/everyday-ways-you-can-be-a-positive-financial-role-model-for-your-child/\n",
      "https://siliconangle.com/2019/08/05/beating-big-tech-at-their-own-game-mit-research-scientist-offers-practical-advice-for-running-the-digital-race-mitcdoiq-womenintech/\n",
      "https://www.crowdfundinsider.com/2019/08/150247-citi-hong-kong-announces-new-digital-payment-solution-that-enables-credit-cardholders-to-settle-big-ticket-payments-on-citi-mobile-app/\n",
      "https://www.ccn.com/amazon-lost-more-value-since-july-than-2-5-times-teslas-market-cap/\n"
     ]
    },
    {
     "name": "stderr",
     "output_type": "stream",
     "text": [
      "\r",
      "  0%|▎                                                                              | 5/1108 [01:18<5:43:01, 18.66s/it]"
     ]
    },
    {
     "name": "stdout",
     "output_type": "stream",
     "text": [
      "8/5/2019  완료\n",
      "https://www.smartcitiesworld.net/inclusivity/inclusivity/mexicos-largest-cities-promote-digital-inclusion\n",
      "https://dailynewsegypt.com/2019/08/06/prime-holding-to-establish-consumer-finance-arm-prime-finance/\n",
      "https://www.forbes.com/sites/financialfinesse/2019/08/06/3-ways-to-invest-for-financial-independence/\n",
      "https://www.forbes.com/sites/workday/2019/08/06/global-study-five-behaviors-necessary-for-organizational-agility/\n",
      "https://www.forbes.com/sites/forbesfinancecouncil/2019/08/06/blockchain-and-web-3-0-investing/\n",
      "https://www.forbes.com/sites/antoinegara/2019/08/06/billionaire-sam-zells-baby-boomer-stock-is-a-growth-and-dividend-play-for-turbulent-times/\n"
     ]
    },
    {
     "name": "stderr",
     "output_type": "stream",
     "text": [
      "\r",
      "  1%|▍                                                                              | 6/1108 [02:02<8:22:53, 27.38s/it]"
     ]
    },
    {
     "name": "stdout",
     "output_type": "stream",
     "text": [
      "8/6/2019  완료\n",
      "https://www.forbes.com/sites/robertfarrington/2019/08/07/the-three-levels-of-financial-planning--which-is-right-for-you/\n",
      "https://www.forbes.com/sites/jrose/2019/08/07/700000-women-live-richer-because-this-former-teachers-online-personal-finance-academy/\n"
     ]
    },
    {
     "name": "stderr",
     "output_type": "stream",
     "text": [
      "\r",
      "  1%|▍                                                                              | 7/1108 [02:31<8:31:00, 27.85s/it]"
     ]
    },
    {
     "name": "stdout",
     "output_type": "stream",
     "text": [
      "8/7/2019  완료\n",
      "https://www.mumbrella.asia/2019/08/shingy-leaves-his-role-as-digital-prophet-after-speaking-into-the-soul-of-our-industry\n",
      "https://www.forbes.com/sites/forbesfinancecouncil/2019/08/08/moving-the-narrative-from-loss-making-to-value-creation-in-tech/\n",
      "https://www.forbes.com/sites/korihale/2019/08/08/guccis-culture-bet-ushers-in-its-first-chief-diversity-officer/\n",
      "https://www.forbes.com/sites/bhaktimirchandani/2019/08/08/the-surprising-leader-in-the-impact-investing-boom-debt/\n",
      "https://www.forbes.com/sites/laurendebter/2019/08/08/jim-kavanaugh-david-steward-world-wide-technology/\n"
     ]
    },
    {
     "name": "stderr",
     "output_type": "stream",
     "text": [
      "\r",
      "  1%|▌                                                                              | 8/1108 [03:01<8:43:19, 28.55s/it]"
     ]
    },
    {
     "name": "stdout",
     "output_type": "stream",
     "text": [
      "8/8/2019  완료\n",
      "https://www.forbes.com/sites/forbesfinancecouncil/2019/08/09/why-women-should-seek-out-financial-advice-before-divorcing-or-separating/\n"
     ]
    },
    {
     "name": "stderr",
     "output_type": "stream",
     "text": [
      "\r",
      "  1%|▋                                                                              | 9/1108 [03:34<9:06:52, 29.86s/it]"
     ]
    },
    {
     "name": "stdout",
     "output_type": "stream",
     "text": [
      "8/9/2019  완료\n"
     ]
    },
    {
     "name": "stderr",
     "output_type": "stream",
     "text": [
      "\r",
      "  1%|▋                                                                             | 10/1108 [03:36<6:30:23, 21.33s/it]"
     ]
    },
    {
     "name": "stdout",
     "output_type": "stream",
     "text": [
      "8/10/2019  완료\n",
      "https://www.forbes.com/sites/brianthompson1/2019/08/11/the-top-10-financial-planning-concerns-for-unmarried-couples/\n"
     ]
    },
    {
     "name": "stderr",
     "output_type": "stream",
     "text": [
      "\r",
      "  1%|▊                                                                             | 11/1108 [03:44<5:17:39, 17.37s/it]"
     ]
    },
    {
     "name": "stdout",
     "output_type": "stream",
     "text": [
      "8/11/2019  완료\n",
      "https://www.devex.com/news/sponsored/health-technology-4-takeaways-on-what-young-people-think-95365\n",
      "https://www.forbes.com/sites/tomgroenfeldt/2019/08/12/eq-bank-built-its-all-digital-bank-on-modern-technology/\n",
      "https://www.pymnts.com/credit-unions/2019/can-credit-unions-help-solve-cannabis-cash-conundrum/\n",
      "https://www.forbes.com/sites/robertkidd/2019/08/12/how-soccer-clubs-are-funding-big-money-transfers/\n",
      "https://www.forbes.com/sites/forbesfinancecouncil/2019/08/12/why-your-cfo-belongs-on-the-sales-team/\n",
      "https://www.forbes.com/sites/forbestechcouncil/2019/08/12/whats-behind-the-rise-of-the-subscription-model/\n"
     ]
    },
    {
     "name": "stderr",
     "output_type": "stream",
     "text": [
      "\r",
      "  1%|▊                                                                             | 12/1108 [04:39<8:47:16, 28.87s/it]"
     ]
    },
    {
     "name": "stdout",
     "output_type": "stream",
     "text": [
      "8/12/2019  완료\n",
      "https://www.forbes.com/sites/forbestechcouncil/2019/08/13/explainable-ai-is-the-next-big-thing-in-accounting-and-finance/\n",
      "https://www.forbes.com/sites/forbesfinancecouncil/2019/08/13/what-young-investors-should-look-for-in-a-financial-advisor/\n",
      "https://www.pna.gov.ph/articles/1077713\n",
      "https://www.newswire.ca/news-releases/appnovation-receives-c-15-million-in-equity-financing-868245565.html\n",
      "https://www.forbes.com/sites/forbesfinancecouncil/2019/08/13/three-challenges-faced-by-todays-private-money-lenders-and-how-to-weather-them/\n",
      "https://www.forbes.com/sites/forbesnycouncil/2019/08/13/how-to-climb-the-mountain-of-corporate-transformation/\n",
      "https://www.forbes.com/sites/forbestechcouncil/2019/08/13/15-everyday-business-functions-in-need-of-innovation/\n",
      "https://www.devex.com/news/why-nigeria-s-campaign-to-end-open-defecation-is-failing-95448\n"
     ]
    },
    {
     "name": "stderr",
     "output_type": "stream",
     "text": [
      "\r",
      "  1%|▉                                                                             | 13/1108 [05:05<8:31:37, 28.03s/it]"
     ]
    },
    {
     "name": "stdout",
     "output_type": "stream",
     "text": [
      "8/13/2019  완료\n",
      "https://www.vanguardngr.com/2019/08/cybersecurity-data-awareness-best-form-of-combating-cyber-crime/\n",
      "https://www.forbes.com/sites/forbesfinancecouncil/2019/08/14/nine-key-reasons-online-banking-benefits-small-business/\n",
      "https://www.forbes.com/sites/forbestechcouncil/2019/08/14/alternative-data-the-great-equalizer-to-lending-inequalities/\n",
      "https://www.forbes.com/sites/forbestechcouncil/2019/08/14/why-stricter-data-privacy-laws-would-benefit-the-data-industry/\n"
     ]
    },
    {
     "name": "stderr",
     "output_type": "stream",
     "text": [
      "\r",
      "  1%|▉                                                                             | 14/1108 [05:30<8:12:27, 27.01s/it]"
     ]
    },
    {
     "name": "stdout",
     "output_type": "stream",
     "text": [
      "8/14/2019  완료\n",
      "https://www.newswire.ca/news-releases/alterna-bank-partners-with-ncino-to-transform-the-small-business-customer-experience-811177809.html\n",
      "https://www.forbes.com/sites/louiscolumbus/2019/08/15/why-ai-is-the-future-of-financial-services/\n"
     ]
    },
    {
     "name": "stderr",
     "output_type": "stream",
     "text": [
      "\r",
      "  1%|█                                                                             | 15/1108 [06:12<9:32:56, 31.45s/it]"
     ]
    },
    {
     "name": "stdout",
     "output_type": "stream",
     "text": [
      "8/15/2019  완료\n"
     ]
    },
    {
     "name": "stderr",
     "output_type": "stream",
     "text": [
      "\r",
      "  1%|█▏                                                                            | 16/1108 [06:19<7:19:07, 24.13s/it]"
     ]
    },
    {
     "name": "stdout",
     "output_type": "stream",
     "text": [
      "8/16/2019  완료\n"
     ]
    },
    {
     "name": "stderr",
     "output_type": "stream",
     "text": [
      "\r",
      "  2%|█▏                                                                            | 17/1108 [06:20<5:11:20, 17.12s/it]"
     ]
    },
    {
     "name": "stdout",
     "output_type": "stream",
     "text": [
      "8/17/2019  완료\n",
      "https://www.forbes.com/sites/carminegallo/2019/08/18/how-the-finance-prof-who-discovered-the-inverted-yield-curve-explains-it-to-grandma/\n"
     ]
    },
    {
     "name": "stderr",
     "output_type": "stream",
     "text": [
      "\r",
      "  2%|█▎                                                                            | 18/1108 [06:24<4:02:51, 13.37s/it]"
     ]
    },
    {
     "name": "stdout",
     "output_type": "stream",
     "text": [
      "8/18/2019  완료\n",
      "https://www.forbes.com/sites/elisabethbrier/2019/08/19/bettercom-a-digital-mortgage-disruptor-raises-160m-in-latest-funding-round/\n",
      "https://www.forbes.com/sites/forbesfinancecouncil/2019/08/19/will-blockchain-revolutionize-mortgage-lending/\n"
     ]
    },
    {
     "name": "stderr",
     "output_type": "stream",
     "text": [
      "\r",
      "  2%|█▎                                                                            | 19/1108 [06:53<5:25:58, 17.96s/it]"
     ]
    },
    {
     "name": "stdout",
     "output_type": "stream",
     "text": [
      "8/19/2019  완료\n",
      "https://www.forbes.com/sites/forbestechcouncil/2019/08/20/digital-transformation-in-the-age-of-millennials-and-gen-z/\n",
      "https://www.forbes.com/sites/forbescommunicationscouncil/2019/08/20/how-to-make-a-product-go-viral-the-holy-grail-of-digital-marketing/\n",
      "https://www.forbes.com/sites/noahkirsch/2019/08/20/to-infinity-and-beyond-the-mowbray-siblings-assembled-a-billion-dollar-fortune-from-cheap-toys-can-they-create-something-grander/\n",
      "https://www.forbes.com/sites/kweilinellingrud/2019/08/20/increasing-resilience-during-a-recession-three-factors-of-successful-companies/\n"
     ]
    },
    {
     "name": "stderr",
     "output_type": "stream",
     "text": [
      "\r",
      "  2%|█▍                                                                            | 20/1108 [07:22<6:27:04, 21.35s/it]"
     ]
    },
    {
     "name": "stdout",
     "output_type": "stream",
     "text": [
      "8/20/2019  완료\n",
      "https://www.forbes.com/sites/forbesagencycouncil/2019/08/21/how-artificial-intelligence-is-transforming-digital-marketing/\n",
      "https://www.forbes.com/sites/oracle/2019/08/21/how-oracle-moved-to-the-cloud-a-deep-dive/\n",
      "https://www.forbes.com/sites/blakemorgan/2019/08/21/amazon-versus-walmart-goliath-versus-goliath/\n"
     ]
    },
    {
     "name": "stderr",
     "output_type": "stream",
     "text": [
      "\r",
      "  2%|█▍                                                                            | 21/1108 [08:03<8:10:50, 27.09s/it]"
     ]
    },
    {
     "name": "stdout",
     "output_type": "stream",
     "text": [
      "8/21/2019  완료\n",
      "https://www.financialexpress.com/infrastructure/airlines-aviation/delhi-igi-airport-undergoing-major-transformation-flyers-must-know-these-5-key-upcoming-changes/1683350/\n",
      "https://www.forbes.com/sites/christopherrim/2019/08/22/youre-probably-wrong-about-how-much-college-costs/\n",
      "https://www.wgmd.com/delaware-gun-rights-slams-state-senators-plans-to-revive-gun-control-bill-saying-were-ready-for-a-fight/\n"
     ]
    },
    {
     "name": "stderr",
     "output_type": "stream",
     "text": [
      "\r",
      "  2%|█▌                                                                            | 22/1108 [08:34<8:30:58, 28.23s/it]"
     ]
    },
    {
     "name": "stdout",
     "output_type": "stream",
     "text": [
      "8/22/2019  완료\n"
     ]
    },
    {
     "name": "stderr",
     "output_type": "stream",
     "text": [
      "\r",
      "  2%|█▌                                                                           | 23/1108 [09:28<10:52:29, 36.08s/it]"
     ]
    },
    {
     "name": "stdout",
     "output_type": "stream",
     "text": [
      "8/23/2019  완료\n"
     ]
    },
    {
     "name": "stderr",
     "output_type": "stream",
     "text": [
      "\r",
      "  2%|█▋                                                                            | 24/1108 [09:34<8:08:11, 27.02s/it]"
     ]
    },
    {
     "name": "stdout",
     "output_type": "stream",
     "text": [
      "8/24/2019  완료\n"
     ]
    },
    {
     "name": "stderr",
     "output_type": "stream",
     "text": [
      "\r",
      "  2%|█▊                                                                            | 25/1108 [09:46<6:48:45, 22.65s/it]"
     ]
    },
    {
     "name": "stdout",
     "output_type": "stream",
     "text": [
      "8/25/2019  완료\n",
      "https://www.forbes.com/sites/ronshevlin/2019/08/26/why-is-uber-hiring-so-many-fintech-people/\n",
      "https://www.crowdfundinsider.com/2019/08/150892-synthetic-hegemonic-currency-bank-of-england-governor-mark-carney-proposes-global-digital-currency/\n"
     ]
    },
    {
     "name": "stderr",
     "output_type": "stream",
     "text": [
      "\r",
      "  2%|█▊                                                                            | 26/1108 [10:09<6:46:19, 22.53s/it]"
     ]
    },
    {
     "name": "stdout",
     "output_type": "stream",
     "text": [
      "8/26/2019  완료\n",
      "https://www.forbes.com/sites/forbesfinancecouncil/2019/08/27/breaking-unspoken-career-expectations-during-the-hiring-process/\n",
      "https://www.forbes.com/sites/georgebradt/2019/08/27/why-different-talks-require-precise-scripts-versus-general-talking-points/\n"
     ]
    }
   ],
   "source": [
    "from newspaper import Article\n",
    "df_trans = data.copy()\n",
    "\n",
    "for date in tqdm(list(data)):\n",
    "    for idx,url in enumerate(data[date][0]):\n",
    "        try:\n",
    "            article = Article(url)\n",
    "            article.download()\n",
    "            article.parse()\n",
    "            v = article.text\n",
    "            df_trans[date][0][idx] = v\n",
    "\n",
    "        except:\n",
    "            df_trans [date][0][idx] = ''\n",
    "            print(url)\n",
    "    print(date,' 완료')"
   ]
  },
  {
   "cell_type": "code",
   "execution_count": 274,
   "id": "b132b93a",
   "metadata": {},
   "outputs": [
    {
     "data": {
      "text/html": [
       "<div>\n",
       "<style scoped>\n",
       "    .dataframe tbody tr th:only-of-type {\n",
       "        vertical-align: middle;\n",
       "    }\n",
       "\n",
       "    .dataframe tbody tr th {\n",
       "        vertical-align: top;\n",
       "    }\n",
       "\n",
       "    .dataframe thead th {\n",
       "        text-align: right;\n",
       "    }\n",
       "</style>\n",
       "<table border=\"1\" class=\"dataframe\">\n",
       "  <thead>\n",
       "    <tr style=\"text-align: right;\">\n",
       "      <th></th>\n",
       "      <th>0</th>\n",
       "    </tr>\n",
       "  </thead>\n",
       "  <tbody>\n",
       "    <tr>\n",
       "      <th>8/1/2019</th>\n",
       "      <td>[, , , , , , , , , , , , , , , , , , , , , , ,...</td>\n",
       "    </tr>\n",
       "    <tr>\n",
       "      <th>8/2/2019</th>\n",
       "      <td>[Why did this happen?\\n\\nPlease make sure your...</td>\n",
       "    </tr>\n",
       "    <tr>\n",
       "      <th>8/3/2019</th>\n",
       "      <td>[Become an FT subscriber to read:\\n\\nLeverage ...</td>\n",
       "    </tr>\n",
       "    <tr>\n",
       "      <th>8/4/2019</th>\n",
       "      <td>[https://www.ft.com/content/8dc7ec28-b531-11e9...</td>\n",
       "    </tr>\n",
       "    <tr>\n",
       "      <th>8/5/2019</th>\n",
       "      <td>[https://www.ledgerinsights.com/standard-chart...</td>\n",
       "    </tr>\n",
       "    <tr>\n",
       "      <th>...</th>\n",
       "      <td>...</td>\n",
       "    </tr>\n",
       "    <tr>\n",
       "      <th>7/27/2022</th>\n",
       "      <td>[https://forkast.news/south-korea-passes-by-te...</td>\n",
       "    </tr>\n",
       "    <tr>\n",
       "      <th>7/28/2022</th>\n",
       "      <td>[https://www.biometricupdate.com/202207/report...</td>\n",
       "    </tr>\n",
       "    <tr>\n",
       "      <th>7/29/2022</th>\n",
       "      <td>[https://techmonitor.ai/leadership/what-financ...</td>\n",
       "    </tr>\n",
       "    <tr>\n",
       "      <th>7/30/2022</th>\n",
       "      <td>[https://www.financialexpress.com/industry/sme...</td>\n",
       "    </tr>\n",
       "    <tr>\n",
       "      <th>7/31/2022</th>\n",
       "      <td>[https://www.zawya.com/en/press-release/compan...</td>\n",
       "    </tr>\n",
       "  </tbody>\n",
       "</table>\n",
       "<p>1108 rows × 1 columns</p>\n",
       "</div>"
      ],
      "text/plain": [
       "                                                           0\n",
       "8/1/2019   [, , , , , , , , , , , , , , , , , , , , , , ,...\n",
       "8/2/2019   [Why did this happen?\\n\\nPlease make sure your...\n",
       "8/3/2019   [Become an FT subscriber to read:\\n\\nLeverage ...\n",
       "8/4/2019   [https://www.ft.com/content/8dc7ec28-b531-11e9...\n",
       "8/5/2019   [https://www.ledgerinsights.com/standard-chart...\n",
       "...                                                      ...\n",
       "7/27/2022  [https://forkast.news/south-korea-passes-by-te...\n",
       "7/28/2022  [https://www.biometricupdate.com/202207/report...\n",
       "7/29/2022  [https://techmonitor.ai/leadership/what-financ...\n",
       "7/30/2022  [https://www.financialexpress.com/industry/sme...\n",
       "7/31/2022  [https://www.zawya.com/en/press-release/compan...\n",
       "\n",
       "[1108 rows x 1 columns]"
      ]
     },
     "execution_count": 274,
     "metadata": {},
     "output_type": "execute_result"
    }
   ],
   "source": [
    "df_trans.T"
   ]
  },
  {
   "cell_type": "code",
   "execution_count": 231,
   "id": "0a0ae804",
   "metadata": {},
   "outputs": [
    {
     "data": {
      "text/plain": [
       "['',\n",
       " '',\n",
       " '',\n",
       " '',\n",
       " '',\n",
       " '',\n",
       " '',\n",
       " '',\n",
       " '',\n",
       " '',\n",
       " '',\n",
       " 'Four Senegalese start-ups have received coaching and help in drawing up business growth plans from Ernst & Young (EY), as part of the AgriHack Talent initiative. Here, we look back at a successful pilot project that bodes well for fruitful collaboration among CTA, a leading international consulting firm, and promising new businesses.\\n\\nCTA and EY joined forces to deliver entrepreneurship and business management training and support to four Senegalese start-ups, three of which took part in the Pitch AgriHack competition in 2016 and 2017:\\n\\nSooretul, an online retailer of locally grown food that also provides IT support services to women’s farming cooperatives;\\n\\nBaySeddo, a digital platform to boost investment and support agricultural production;\\n\\nAywajieune, a platform specialising in fish and seafood trading;\\n\\nMlouma, which uses digital technology to connect farmers and buyers.\\n\\nSupporting business growth and entrepreneurship\\n\\nThe start-ups each received five days’ worth of coaching. The package included a performance assessment using SMEAT, EY’s SME assessment tool. EY consultants reviewed each company’s strengths, weaknesses and degree of maturity, looking at five indicators:\\n\\nTeam (team-member engagement, diversity, distribution of tasks);\\n\\nValue proposition, how the start-up formulates its offering, and the extent to which it matches target-market demand;\\n\\nMastery of business processes (operations management);\\n\\nAccounting and financial management, operating expenses (OpEx), capital expenditure (CapEx), pricing policy, business value, fund-raising strategies to support business growth, etc.;\\n\\nMarket/customer dynamics, including existing customer relationships, customer acquisition, marketing, and the legal environment.\\n\\nThe consultants helped the start-ups draw up a one-year business growth plan – including recommendations on business practices, business models, revenue growth and sustainable profit growth – along with an online plan to track progress.\\n\\nAll four companies received above-average scores in the assessment on account of their success to date and their potential going forward. EY rated their performance as being on a par with start-ups it had assessed in other countries, but judged that they were in urgent need of support because they were operating in difficult business conditions. The consulting firm pointed in particular to the challenges they faced in accessing funding – a problem that could hinder efforts to execute their growth plans – and proposed areas where strategy could be improved.\\n\\nThe collaboration is a prime example of how, in addition to one-off competitions, the AgriHack Talent initiative encompasses a wide range of capacity-building activities, including financial management and business development support.\\n\\nEasing access to finance\\n\\nThe initiative includes several schemes to help businesses access finance, including the Pitch AgriHack, where start-ups compete for between €5,000 and €15,000 of seed capital. Direct financial awards aside, AgriHack Talent offers a range of other benefits. Start-ups – including non-pitch winners – are featured in publications, gain networking opportunities, and have a chance to attend regional, international and B2B events where they can connect with investors and other potential business partners.\\n\\nPositive outcomes\\n\\nWorking with EY proved an incredible opportunity for the start-ups to get insights from experts specialising in the West African business environment.\\n\\nThe companies are already reaping the benefits of the support they received. BaySeddo’s business growth plan, drawn up with EY’s support, has helped the start-up map out its future trajectory and secure a €100,000 investment from the DER, a business growth accelerator set up by the President of Senegal. “We now have a clearer picture of our business model and the wider market,” says Mamadou Sall, founder of BaySeddo. “We’ve been able to better segment our customer base, and we know exactly what our recruitment needs are. With EY’s support, we’ve also developed a more scalable model and added some clearer timings to our next steps.” Meanwhile, Sooretul CEO Awa Caba has used the growth plan she developed with EY to apply for various funding opportunities. In 2018, she won $100,000 (around €89,000) through the African Entrepreneurship Award (AEA), organised by BMCE Bank of Africa.\\n\\nEY’s methodology is particularly beneficial because it assesses performance against a set of metrics relevant to the challenges that any start-up faces when operating in a competitive market. For CTA, meanwhile, the tool gives us a clearer picture of the start-ups we work with – what their weaknesses are, where their potential lies, and what support they need. We hope to build on this successful pilot and bring the benefits of EY’s expertise to more start-ups, including the Pitch AgriHack winners in 2018 and 2019.',\n",
       " 'Data center News\\n\\nMichael Dell: 2008 Financial Crisis Delayed Dell EMC Merger\\n\\nMark Haranas\\n\\nDell Technologies CEO Michael Dell talks to CRN about the history and execution of his blockbuster $67 billion acquisition of EMC.\\n\\nShare this\\n\\nDell Technologies CEO and founder Michael Dell said the market-shattering $67 billion acquisition of EMC by Dell in 2016 might have happened years earlier, but the 2008 U.S. financial crisis postponed the merger of the two IT titans.\\n\\n“In 2001, we had created this alliance that we called Dell-EMC to bring EMC storage technology and Dell server technology together and it worked really well to the point where we were talking about combining the company in 2008-2009. But with the financial crisis in 2009, we couldn’t do that,” said Dell in an interview with CRN.\\n\\nDell said his company’s relationship with EMC took off in 2001, when Joe Tucci – who Dell had known since the 1990s -- was appointed president and CEO of EMC. Later that year, EMC and Dell formed a successful multi-year alliance by selling Dell servers together with EMC storage.\\n\\n[Related: Michael Dell On AI Innovation, 5G And His Vision For Dell Technologies]\\n\\nThe two CEOs began privately discussing the possibility of merging together in 2008 but the Great Recession that year delayed any potential deal from moving forward, according to Dell.\\n\\nFlashing forward to 2012, Dell was striving to evolve and transform his company by investing in new software capabilities which proved difficult due to “short-term” shareholders, he said.\\n\\n“Why was it hard? I think among our shareholder base, there were short-term oriented shareholders and long-term oriented shareholder. I’ll represent the long-term oriented ones because I’m kind of the ultimate long-term shareholder,” said Dell. “If you go back and read the analysts’ reports at that time, they weren’t too excited about the new things that we were doing. They certainly weren’t as excited as we were. We thought that by becoming a private company again, we could accelerate the transformation.”\\n\\nDespite concerns from shareholders, including activist investor Carl Icahn, Dell took his company private in 2013 with the goal of significantly investing in R&D, product innovation and sales. Dell said the plan worked out “extremely well.”\\n\\n“After going private was done, I called Joe Tucci – I’ve known Joe a long time, way before he joined EMC, I met him in 1994 – and said, ‘Let’s re-explore what we talked about back in 2008-2009?’” said Dell. “So fast forward to 2014, I’m talking to Joe Tucci saying, ‘Hey lets re-explore this.’ Because I knew if we could combine the No. 1 in servers, the No. 1 in storage, the No. 1 in all things software-defined infrastructure – VMware – that you’d have the essential infrastructure company and an incredibly powerful juggernaut. It wasn’t a quick decision. We started that discussion with Joe and we worked on it for more than a year in secret.”\\n\\nIn October 2015, Dell unveiled to the world its plan to buy EMC. The deal closed nearly a year later in September 2016.\\n\\nPrior to the Dell acquisition, solution providers said the messaging and culture across the EMC Federation – which included EMC, VMware, Pivotal and RSA -- was lacking clarity and comradery.\\n\\n“I know EMC was struggling with the messaging of the EMC Federation and how they were going to get everybody to work together,” said Vinu Thomas, CTO of New York-based Presidio, a $2.8 billion Dell EMC partner ranked No. 23 on CRN’s 2019 Solution Provider 500 list. “I knew that [putting it] in the hands of somebody like Michael, that’s going to be an easy way to get this fixed. … It was a really brilliant move when he decided to buy EMC in 2016. The acquisition of EMC purely from a storage perspective was brilliant. But in my mind, the acquisition of EMC was all the more greater for the hidden gem of VMware.”\\n\\nDell said both the technical and operational integration between Dell and EMC took some time but turned out to be a huge success. “There was tons of technical collaboration, tons of new products created, tons of innovation, we combined the channel programs together and there was lots of growth,” he said.\\n\\nThe merger spawned the formation of Dell Technologies which is currently a $91 billion infrastructure giant leading the worldwide market in servers, storage and hyper-converged infrastructure.\\n\\nThe Round Rock, Texas-based company generated $4 billion in server revenue in the first quarter of 2019, up 9 percent year over year, leading the global market with 20.2 percent share, according to research firm IDC. Dell is now the worldwide leader in storage with nearly $3 billion in sales, capturing 22.2 percent market share in first quarter 2019. In the rapidly growing hyper-converged infrastructure market, Dell dominated in the first quarter by capturing 32.2 percent share, with hyper-converged sales of $587 million, up 64 percent year over year.\\n\\nDell reentered the public market late last year, debuting on the New York Stock Exchange on Dec. 28, 2018. For Dell Technologies’ recent first fiscal quarter 2020, the company reported $21.9 billion in revenue, up 3 percent year over year.\\n\\n“So you put a plan out there, you execute behind it and do what you said you’re going to do – it creates a lot of momentum,” said Dell.',\n",
       " 'Utah’s governor recently signed into law H.B. 378, which created a sandbox program for companies providing “innovative financial products or services” in the state. The program, run by Utah’s Department of Commerce, requires companies to apply and meet certain requirements in order to participate in the sandbox. Importantly, H.B. 378 specifically includes “blockchain technology” within its scope.\\n\\nThe Utah Sandbox\\n\\nCompanies accepted into Utah’s sandbox are permitted to test their business models without any state license or authorization that might otherwise be required, including any federal law requiring state licensure, on a limited basis (i.e., up to 24 months).\\n\\nIn order to participate in Utah’s program, an applicant must have a physical location in Utah where testing of the product or service takes place, and the product or service may only be tested with Utah residents. Applicants must also provide information describing how the product or service will benefit consumers and is different from existing products or services, what risks consumers may face, and how the applicant plans to test the product or service.\\n\\nComparable Programs\\n\\nUtah is the third U.S. state to pass legislation establishing a sandbox for Fintech companies. Arizona passed its sandbox legislation in March 2018 and Wyoming enacted sandbox legislation in February of this year (see our post regarding Wyoming here).\\n\\nAt the federal level, regulatory sandboxes has been considered, though none have been implemented thus far. For example, Rep. Patrick McHenry (R-NC) introduced H.R. 6118, the Financial Services Innovation Act of 2016, which would have allowed innovative financial product and service companies to apply to federal agencies for exemptions from statutory or regulatory requirements, subject to terms approved by the applicable agencies. Last year, the Consumer Financial Protection Bureau created its Office of Innovation to identify certain areas, such as no-action letters and product sandboxes, that could help foster innovation.\\n\\nThere are also headwinds against the adoption of sandboxes, however. Securities and Exchange Commissioner Hester M. Peirce (who has been referred to as “crypto mom” for her support of innovation in the blockchain and digital asset space), spoke in May last year about regulatory sandboxes at a conference in Los Angeles, CA. In her speech, entitled “Beaches and Bitcoin,” Commissioner Peirce expressed skepticism about the effectiveness of regulatory sandbox programs:\\n\\n“My fear that regulators will grab hold of the shovels and buckets is why I am often wary of so-called regulatory sandboxes. I am entirely in favor of finding ways to make appropriate regulatory allowances that clear the way for innovation to flourish. What troubles me about sandboxes, however, is that the regulator is typically sitting right there next to the entrepreneurs. The regulator is facilitating and hosting the sandbox.”\\n\\nIn light of such concerns, companies operating in the blockchain and digital asset industry may opt to continue holding on to their own “shovels and buckets” rather than participating in a state-sanctioned sandbox, unless and until the advantages of participation become more clear. Others, however, may find that these sandboxes offer a period of light touch regulatory oversight, which enables them to build out proofs-of-concept without incurring impractical compliance costs at the start-up stage.\\n\\n[View source.]',\n",
       " '',\n",
       " 'Cookies on FT Sites\\n\\nWe use cookies and other data for a number of reasons, such as keeping FT Sites reliable and secure, personalising content and ads, providing social media features and to analyse how our Sites are used.',\n",
       " 'The Chartered Institute of Management Accountants (CIMA) has announced that it will end the practice of charging exemption fees for new students who hold a relevant degree or qualification.\\n\\nTaking effect from 1 August 2019, the change makes the CIMA the first professional body to remove exemption fees in the UK, and is designed to encourage accessibility and social mobility and to encourage students to start their studies and further support their career development.\\n\\nAndrew Harding FCMA, CGMA, Chief Executive of Management Accounting said: “CIMA students come from many different backgrounds and countries with a variety of educational experiences and qualifications, and the Institute believes that students should not be put at a disadvantage for undertaking prior learning in the accounting field.\\n\\n“By removing a significant barrier to entry into CIMA qualifications, we want to offer the opportunity to build a successful and sustainable career to as many individuals as possible and help create a diverse, dynamic and future-ready workforce.\\n\\n“We are setting a new standard for the accounting profession, and hope that other professional bodies will join us in delivering greater accessibility and equity in to the profession.”\\n\\nAny students who have been awarded and already paid for exemptions between 1 January and 31 July 2019, and who will be taking an exam between 1 August and 31 December 2019 will also be reimbursed by the CIMA, with the difference between the previous and new 2019 exam fees being credited to these student’s accounts.\\n\\nCIMA was founded over 100 years ago and claims to be the largest professional body for managing accountants and offers a training and qualifications in management accounting and other related subjects.\\n\\nThe body currently boasts over 117,000 students across 156 counties who are working towards their CIMA professional qualification and earning the Chartered Global Management Accountant (CGMA) designation.',\n",
       " 'LONDON (Reuters) - A pool of ten investment banks working on the London Stock Exchange Group’s $27 billion purchase of financial-data business Refinitiv could reap advisory fees of up to $100 million, according to industry estimates.\\n\\nFILE PHOTO: The Refinitiv logo is seen on a screen in offices in Canary Wharf in London, Britain August 1, 2019. REUTERS/Toby Melville\\n\\nThe acquisition ranks as Britain’s biggest deal so far this year and Europe’s second biggest after Novartis’s spinoff of its eyecare division Alcon in April, according to Refinitiv data.\\n\\nThe LSE said the transaction would be a “defining moment” in its history as it will transform the exchange operator into a major distributor as well as creator of market data competing with Michael Bloomberg’s financial data empire.\\n\\nInvestment bank boutiques have played a key role in engineering the deal.\\n\\nThey will potentially share an overall fee pot of $80-100 million along with some Wall Street banks, Freeman Consulting estimated.\\n\\nCanson Capital Partners, led by 50-year old Italian banker Matteo Canonaco, worked on the deal on behalf of Refinitiv’s majority owner Blackstone Group Inc, according to the LSE statement.\\n\\nCanonaco has worked closely with Refinitiv’s boss David Craig since 2013 and was recently joined by Evercore and Jefferies in shaping the deal when talks gained traction in May, four familiar with the matter sources said.\\n\\nEvercore and Jefferies were mentioned in the LSE statement as Refinitiv’s advisers.\\n\\nThomson Reuters Corp, which owns a minority stake in Refinitiv and is the parent company of Reuters, drafted in its long-term adviser Guggenheim Securities with 56-year old senior managing director Fares Noujaim leading the talks, the sources said.\\n\\nNoujaim, who worked at Bear Stearns for more than two decades and later became Bank of America Corp’s executive vice chairman of global corporate and investment banking, previously led the merger between Thomson Corporation and Reuters Group Plc back in 2008. Most recently he represented the Toronto-based firm when it sold Refinitiv to Blackstone in a deal that completed in October.\\n\\nAnother U.S. investment bank boutique, Centerview, has been involved in the deal on behalf of Thomson Reuters alongside Canada’s Toronto-Dominion Bank, the sources said.\\n\\nLSE tapped another independent advisory firm, Robey Warshaw, to handle the deal alongside Goldman Sachs and Morgan Stanley. Its corporate broker Barclays also acted as financial adviser and sponsor, according to the LSE statement.\\n\\nRobey Warshaw was previously involved in negotiating a failed merger between the LSE and Deutsche Boerse back in 2016.\\n\\nThe four banks working with LSE could share a pool of $40-50 million, Freeman estimated, and a similar windfall would go to the six banks representing Refinitiv’s shareholders.\\n\\nBlackstone and other minority investors, including Canada Pension Plan Investment Board and Singapore state fund GIC, will control 22% of the combined firm and get two board seats, while Thomson Reuters will have a 15% stake in LSE and one board seat.\\n\\nBlackstone and Thomson Reuters will be paid with LSE shares and will have to remain fully invested for at least the first two years as part of a lock-up arrangement which will come to an end on the fourth anniversary of completion.',\n",
       " 'Illustration by Christian Northeast\\n\\nA version of this article appeared in the Winter 2019 issue of strategy+business.\\n\\nJames Zhu knew the time had come to join Fanli as full-time chief operating officer in 2010, when the Shanghai-based startup first began to raise money. At the time, Fanli was an online shopping rebates service cofounded by an acquaintance, Gary Ge Yongchang, who ran it from his apartment’s living room. The startup period was difficult; China’s e-commerce market was still immature. The company had just two servers, one for the website and one for the database. Online speed was glacially slow. Fanli’s employees walked up and down Shanghai’s streets handing out cards to drum up interest. Ge initially paid out rebates using his personal credit cards.\\n\\nZhu was only helping out Fanli part-time; he had a senior role in the Shanghai office of Corel, a Canadian software company. “I had a great job,” he recalls. “I had a driver, oversaw a team of 200 people, and was paid quite a bit.” But institutional investors convinced him to come onboard as Fanli’s full-time chief operating officer. “They wanted me to have skin in the game,” he says. Within a year, he joined, and Fanli raised US$10 million in Series A funding (its first round of venture capital finance).\\n\\nNine years later, Fanli has grown into one of China’s largest e-commerce websites — an online directory and “flash event” company that matches Chinese shoppers with marketers from around the world, helping people find their most-desired goal (as Ge has been known to state it): “value for money: the best products at the lowest prices.” Fanli’s story is typical of about 200 rapidly growing Chinese “unicorns,” enabled by leading-edge digital technology, the burgeoning Chinese middle class, new capital-raising opportunities in Shanghai and elsewhere, and the enthusiastic entrepreneurialism of their founders.\\n\\nThe standard definition of a unicorn is a privately held startup valued at more than $1 billion. Currently, when people think of Chinese unicorns, they think of the handful of companies that have risen to global status in two decades or less: companies such as Alibaba, Baidu, JD.com, and Tencent. Since these few are already valued at $10 billion or more, they are now known as “superunicorns.” Many more Chinese unicorns are coming up behind them, still relatively unknown because they currently operate only within China, which is large enough to sustain them for some time. But sooner or later, many of this second wave of Chinese unicorns will grow into global industry giants.\\n\\nWhy Chinese unicorns grow\\n\\nCompanies like Fanli were once as elusive as their mythical namesakes. Just 39 unicorns existed in the United States in 2013, when Aileen Lee, founder of Silicon Valley investor Cowboy Ventures, coined the term. Now there are at least 334 around the world, with a combined valuation of more than $1 trillion. In China, as the Internet era has transformed business, unicorns have been created at an accelerating rate. Only the U.S. has as many as China. According to the May 2019 Greater China Unicorn Index from Shanghai-based research firm Hurun, there are currently more than 200 such companies in China (by comparison, the U.S. has more than 300), 21 of them having entered the ranks in the first quarter of 2019 — almost one per week. Hurun estimates that one-fifth of today’s Chinese unicorns will fail, one-tenth will be acquired, and most of the rest will go public successfully.\\n\\nIn mid-2018, to shed light on the unicorn phenomenon and its impact, PwC surveyed the chief executives of 101 young, successful Chinese companies — companies that either are unicorns now or are likely to become unicorns soon. These executives described the factors affecting their fast-growth businesses and their own prescriptions for success. Augmented since then with follow-up research, including in-depth interviews with the leaders of several of these companies, these results shed light on the nature of this new phenomenon, and the impact that Chinese unicorns are likely to have, in China and around the world.\\n\\nGet the strategy+business newsletter delivered to your inbox (sample) Email\\n\\nUnicorns are prevalent in at least 13 industrial sectors, with the largest numbers in four industries significantly shaped by technology: enterprise services, media and entertainment, transportation and automotive, and fintech (digital financial technology services). Examples in these sectors include ManBang Group, a pioneer in truck hailing; Meicai, a B2B platform for the agriculture industry; ByteDance, the developer of the content platform Toutiao and the popular 15-second video app TikTok; Yitu, which provides artificial intelligence (AI) services to business; Tuhu, which connects people to car-related services online; and the online brokerage Tiger Brokers. Close behind in the sector rankings are e-commerce startups, online-to-offline (O2O) businesses enabling online purchasers to pick up products in person or receive goods and services delivered instantly, and healthcare enterprises, with an emphasis on biotech.\\n\\nThe survey also seems to confirm the rapid growth rates of these companies. Of those leaders who disclosed financial information, 83 percent said revenues had increased by more than 50 percent in the previous fiscal year; more than half of that group said revenues had more than doubled. Most unicorns, of course, are privately held businesses, a model that can be conducive to rapid growth. As with industry everywhere, Chinese unicorns gravitate to large cities with skilled talent; 80 percent are headquartered in Beijing, Shanghai, Shenzhen, or Hangzhou. Like many of their Silicon Valley counterparts, they are tapping into new types of venture capital and other financial resources that might not have been available in the past.\\n\\nOne major advantage that Chinese unicorns enjoy is their near-exclusive access to a huge and vital domestic market. China is full of newly prosperous consumers with improving standards of living who are largely out of reach for companies from other economies. Consumer expenditures accounted for nearly 80 percent of overall economic growth in China in 2018, up from 58 percent in 2017, according to the National Bureau of Statistics. China’s consumers are also relatively technologically advanced. Online retail sales there have ranked first in the world since 2013, with the U.S. in the second position; in 2018, China’s online sales reached $1.33 trillion (just over ¥9 trillion), an increase of almost 24 percent over 2017. The mobile Internet is particularly important in China, where 800 million people, out of a total population of 1.4 billion, use handheld phones or devices to connect.\\n\\nThe rise of startups with $1 billion-plus valuations is regarded as an indicator of the continued strength of China’s domestic consumer economy, regardless of what happens to overseas trade or economic policy. Technological innovation is transforming the way people shop, travel, invest, eat, and choose entertainment. The generation born in the 1980s and 1990s is China’s most influential buying group, creating demand that fuels new business opportunities. Consumers are technologically adept and are interested in personalized, convenient, and AI-enhanced products and services.\\n\\n“The market is big,” says Zhu. “It has so much imagination and so much possibility…it is going to be able to support much bigger businesses.”\\n\\nIn Beijing, Shanghai, and other major Chinese cities, it is often significantly cheaper to have food delivered than to get it yourself, especially with O2O unicorn companies such as China Internet Plus (formerly Meituan-Dianping), Ele.me (purchased in 2018 by Alibaba), and Luckin Coffee (which delivers hot drinks to homes and offices). In many cities, electronics and groceries can arrive within hours of an order. Millions of Chinese people are becoming sophisticated consumers who can have a wide range of products or service providers, such as barbers, arrive at their door.\\n\\nMore PwC insights The New Chinese Unicorns: Seizing opportunity in China’s burgeoning economy\\n\\nThe mastery of digital technology is another key factor in these companies’ growth. Of the executive respondents, 76 percent identified big data as one ofthe most influential emerging technologies for business development and product innovation. AI ranked second, with 67 percent. Other emerging technologies that scored high were cloud computing (42 percent), the Internet of Things (37 percent), and 5G wireless transmission (34 percent). Blockchain, robotics, bioscience, virtual and artificial reality, and quantum science were all cited by fewer than 20 percent of respondents, and unmanned aerial vehicle technology was named by only 4 percent.\\n\\nSome unicorns, such as the facial recognition software maker SenseTime, are breaking new ground technologically. SenseTime, which has been called the world’s most valuable AI startup, was developed “out of the computer vision lab at the Chinese University of Hong Kong,” writes Rebecca Fannin in her forthcoming book, Tech Titans of China. “In China, about one-third of its customers are in the public security sector.… The client list also includes Chinese smartphone makers Xiaomi and OPPO, social networking service Weibo, Hainan Airlines, and payment systems China UnionPay. Outside of Mainland China, SenseTime has established a subsidiary in Japan to work with Honda to develop autonomous driving.” Fannin quotes CEO Xu Li, from a talk he gave at an entrepreneurial summit: “The world is facing East…. [In the past] we relied on the West for advanced technology and industrial modes. Now we must embark on a treasure voyage to better service other industries with advanced technology.”\\n\\nLong-range aspirations\\n\\nMany Chinese unicorns aim to go international over the next decade. More than 70 percent of the leaders of Chinese unicorn companies say they already have plans or strategies for overseas expansion. This is in part thanks to government encouragement: China’s Belt and Road Initiative emphasizes international “innovation-based open cooperation,” and China has introduced a series of measures to create a favorable environment for innovation. At first, most unicorns will probably stay rather close to home; their preferred locations are the Asia-Pacific region (31 percent), regions covered by the Belt and Road Initiative (19 percent), and North America (18 percent). But many may attempt to become full-scale global enterprises, either on their own or in partnership with companies from other regions.\\n\\nWhen it comes to growth, in fact, most of the unicorn leaders say they value independent, long-term development over flipping their companies for immediate gain. They want to create tomorrow’s great global enterprises; they’ll countenance an initial public offering (IPO) or alliance if it furthers those goals. For example, nearly half of the companies, 48 percent, planned to acquire outside businesses, but only 6 percent planned to be taken over by other companies.\\n\\nRaising capital to keep up with rapid growth requirements is thus a priority for nearly all the unicorns. Of the 101 survey respondents, 80 percent said they expected to undertake a new round of financing during the next two years. Within this group, nearly one-third — representing a quarter of the survey’s total respondents — said their plans for financing were urgent. Many will seek private equity funding or venture capital.\\n\\nAsked to name the most important factor when choosing investors, only 20 percent of the unicorn leaders said valuation. More respondents named the investors’ brand value (24 percent) or the business and traffic they brought in (22 percent). The top 10 institutional investors providing capital to Chinese unicorns, ranked by the number of these companies they invested in, are Sequoia, Tencent, IDG, Matrix, Alibaba, Shunwei, Warburg Pincus, Qiming, Morningside, and Baidu. This is a diverse group, and it includes three institutional investors (Baidu, Alibaba, and Tencent [BAT]) that are first-generation superunicorns themselves. The BAT investments are noteworthy: 23 percent of the Chinese unicorns have received funds from at least one of these three superunicorns.\\n\\nAs for public financing, PwC’s survey found few companies had immediate plans for an IPO. Of the enterprises that disclosed information in the survey, nearly two-thirds had plans to list within two years. But within this group, only 21 percent said their IPO would happen as soon as possible. Another 44 percent had plans to list but without the same urgency, and the remaining disclosing companies had no plans to list. The survey, conducted in 2018, identified Hong Kong as the most desirable destination to list, with 43 percent of the vote, and the U.S. and the Chinese Series A market trailed with 25 percent and 23 percent, respectively.\\n\\nFortunately for the companies that want to go public, China’s capital market system is evolving to accommodate them. For example, the Hong Kong Stock Exchange (HKEX) has developed an option for weighted voting rights, which are friendlier to startups, along with new rules designed to open doors to biotech companies that may not see direct revenues for several years.\\n\\nThe Chinese government has also signaled strong interest in luring technology-oriented businesses back to stock exchanges in mainland China, even if this means relaxing some of its vetting practices. Additionally, China launched a Nasdaq-style exchange, the Science and Technology Innovation Board, in July 2019, focusing on four sectors: biomedicine, materials, energy, and IT. On the first day, the 25 companies that listed IPOs gained, on average, 140 percent of their initial share price.\\n\\nOne of the most critical questions in financing is how long the investors must wait for companies to become self-sustaining businesses. Thirty-five percent of the unicorns surveyed had already made profits, and another 27 percent expected to start turning a profit within one to three years. Twenty-five percent did not disclose this information.\\n\\nEntrepreneurial spirit\\n\\nThough China is not always viewed in the West as an entrepreneurial culture, the unicorn leaders are tapping into a way of thinking that has been present for most of its history. “Traditionally, Chinese people have been starting their own businesses since ancient times,” says Shen Haiyin, founder of Singulato, a startup automaker. “In Japan, after graduating from college, most students prefer to work for big companies, such as Sony and Toshiba. But a bigger proportion in China join startups or start their own businesses.” Ambitious tech entrepreneurs see other companies reach a billion-dollar valuation and think “Why not me?”\\n\\nThe leaders of China’s unicorn companies cultivate an energetic, entrepreneurial frame of mind. Figures like Alibaba’s Jack Ma and Xiaomi’s Lei Jun are continually profiled and widely admired; startup experience is highly valued by investors and talent recruiters. Fully 70 percent of the founding members of unicorns have two or more startups already under their belt. As in Silicon Valley, unicorns favor the young: 88 percent of the survey respondents were in their 30s and 40s, and for 72 percent of the surveyed companies, the average employee age was under 30. The ability to manage and motivate younger employees is thus at a premium.\\n\\nThe companies are growing fast, in part, because their leaders feel they don’t have time to grow slowly. Three-quarters of the responding companies in PwC’s survey had been in business for less than eight years, and one-quarter of the respondents said their company was less than four years old. These leaders build their businesses around engaging user experience. Like tech companies everywhere, they emphasize speed and rapid, continuous improvement. They release products before they are fully tested, change their business models quickly as they learn from customer data (an app will typically have millions of users), lock up distribution partnerships early on, and use social media strategically. They do not hide their ambition to become champions of their market sectors, and in many cases they feel driven to launch entrepreneurial businesses just to survive in the high-pressure world of the Chinese middle class.\\n\\nLike tech companies everywhere, Chinese unicorns release products before they are fully tested, change their business models quickly, and use social media strategically.\\n\\n“The restlessness comes from social competition,” says Zhu at Fanli. “People here are very anxious. They tend to feel, ‘If I’m just going to work the way that was planned out for me, I’m not going to get where I want to go. So I want to take shortcuts. I want to try new things.’”\\n\\nAlthough the automotive industry is generally more mature elsewhere, in China it is the domain of startups. By some estimates, new Chinese auto manufacturers have raised a combined $18 billion since 2011; the companies include Aiways Auto, Leap Motors, NIO, Singulato, WM Motor, and Xpeng Motors. Government support for the electric vehicle (EV) sector — through subsidies for automakers and buyers, favorable lending, and tax breaks — has created a significant tailwind for these companies. China recently announced cuts to these subsidies, but it is still under pressure to combat smog, boost its own auto industry, and reduce its reliance on imported oil.\\n\\nSingulato, founded in 2014 in Beijing, is typical of the group in its stated ambition: to build a car for China’s smartphone generation. The company, whose name combines singularity (referring to an evolutionary threshold anticipated by some AI pioneers) and auto, is one of the biggest fundraisers in the crowded EV market. The company’s EVs are aimed mainly at young, tech-savvy consumers in Beijing, Shanghai, Shenzhen, and other large cities where buying a gasoline-powered car is becoming more difficult because of purchase restrictions imposed by the government. The first offering is a connected electric sport utility vehicle, and Singulato plans to evolve, in part through software-driven upgrades, toward autonomous vehicles.\\n\\nShen, Singulato’s founder, had never worked in the auto industry before launching the company. A fluent Japanese speaker, he cofounded JWord, a Japanese-language keyword-based Internet guide site, which he sold to Yahoo Japan in 2007. He then joined Kingsoft, one of the oldest Chinese software companies, before launching Singulato.\\n\\n“Singulato is trying to seize the historical opportunity, like when China started shifting from functional phones to smartphones,” says Shen. “We’re trying to build a smart EV to lead the industry from the traditional functional car to a truly smart car.”\\n\\nLiving with Chinese unicorns\\n\\nSome observers are skeptical about the future of Chinese unicorns. A recent article cited trade tensions and fluctuating investment levels to argue that many of these fast-growth tech companies may falter. Nonetheless, the overall impact — as with all issues related to Chinese commerce — could be far greater than expected, because of the scale of activity.\\n\\nFor example, Chinese unicorns will compete for talent. Competing for skilled employees is already a priority for 77 percent of the companies surveyed, and as they grow, that will increase, particularly in emerging technologies such as AI and blockchain. As the Singulato example suggests, unicorn leaders are increasingly interested in global opportunity in a variety of industries — as opposed to primarily producing online systems and apps for the Chinese market.\\n\\nWhen a large number of companies attract valuations of more than $1 billion after just a few years, it changes the nature of the economy. Unicorns will develop in other places; India already has a number of rapidly growing startups, and the United States is not expected to lose momentum.\\n\\nChina’s new unicorns will face numerous challenges, particularly as they grow and their need for talent and other resources scales up. They will increasingly find success by relying on managerial skill and effective use of the resources they possess. Not every Chinese unicorn will succeed; rivals may emerge to challenge or compete with them. But their rapid growth and global ambition suggest that they will not be unknown for long.',\n",
       " 'Universities that fail to deliver in the best interests of students could now face financial penalties of up to £500,000 as the final suite of powers for the sector regulator came into force today (1 August).\\n\\nSince launching in 2018, the OfS has already taken great strides in highlighting and tackling issues in the higher education sector, such as the rising proportions of Firsts awarded, levels of senior staff remuneration and increasing numbers of unconditional offers.\\n\\nIt now has statutory powers to impose financial penalties of up to £500,000 or two per cent of a university’s income from tuition fees and grants (whichever is highest) to ensure high standards and quality in higher education.\\n\\nIn addition to these powers, the OfS can already impose registration conditions on universities to ensure improvements are made in specific areas, such as eliminating gaps in access and attainment for disadvantaged groups. The regulator has already placed conditions on providers which they must meet, such as demanding greater evidence on the support, including financial support, they provide for disadvantaged students or requesting an action plan if student outcomes are poor.\\n\\nThe regulations in force today mean the thousands of students opening their A Level results in two weeks and starting university in September, will be the first of a new generation to receive the greatest protections of high-quality education.\\n\\nUniversities Minister Jo Johnson said:\\n\\nToday marks an important milestone for future students and our world-class higher education – one which I am pleased to see, having worked hard to drive through these reforms two years ago. Our vision for the OfS was for it to be a regulator with teeth and it has already made a significant impact on the sector. Now I expect it to use its full range of powers to ensure students up and down the country are at the heart of the system and receive value for money from our universities. For the thousands of young people collecting their A Level results this month and starting university in September, they can be confident that the OfS will be a champion for students which is able to take strong action. Our universities are world-leading and this reputation must be protected. I look forward to getting back to work to drive a focus on ensuring all students have a high-quality higher education which leads to a successful, fulfilling career.\\n\\nFrom today, the regulator also has the power to refuse to renew a university’s plan for widening access and participation among disadvantaged groups, which providers are submitting to the OfS over the summer for implementation in 2020-21.\\n\\nUniversities that wish to charge higher tuition fees must have an ‘access and participation plan’ which sets out how they will improve equality of opportunity for underrepresented groups to succeed in higher education. If institutions don’t meet these requirements (set out) the OfS will intervene and take appropriate action.\\n\\nWhere the OfS finds universities are not working in students’ interests, it can take action by placing additional conditions on an institution’s registration, refuse its registration, and in the most serious cases, remove an institution’s powers to award degrees.\\n\\nToday’s move will strengthen its ability to enhance the student experience, help universities maintain their global standing, and challenge providers who are not acting in students’ best interests.\\n\\nSir Michael Barber, chair of the Office for Students, said:',\n",
       " 'Pay based on use\\n\\nGet Started\\n\\nPurchase a Team or Enterprise subscription for per week\\n\\nYou will be billed per month after the trial ends',\n",
       " 'Thanks in no small part to a barrage of news stories about smartphone spyware and misbehaving smart devices, there’s a growing awareness that the cameras and microphones in our digital companions can be hijacked by sophisticated threat actors to remotely spy and eavesdrop on users. But while it’s relatively straightforward for users of these devices to prevent illicit image capture by blocking built-in cameras, the complexities associated with blocking sound preclude a simple equivalent for microphones. To solve this gap in protection, sophisticated products have started to emerge that add noise near a device’s microphones to mask sound in vicinity of the device.\\n\\nThis article will explore why on-device audio masking is being used to fight digital eavesdropping and look at some considerations for maximizing the effectiveness of this technique.\\n\\nWhy audio data matters\\n\\nBefore discussing the ins and outs of preventing illicit audio capture, it’s helpful to look at why threat actors seek audio data in the first place.\\n\\nSensitive and confidential conversations, of course, are digital eavesdropping’s version of gold, as the information revealed in these discussions is often too sensitive or too fresh to be written down or recorded and therefore unavailable through other modes of hacking. Think of the foreign intelligence service learning about an adversary’s strategic moves well in advance or the corporate spy learning about a competitor’s product development while it’s still in the early stages.\\n\\nBut it’s not just long, uninterrupted sequences of dialogue that can be valuable to an eavesdropper. Random audio snippets, for example, can be pieced together to draw important conclusions, especially when the audio is accompanied with other data points. After the audio recordings of an Amazon Alexa user in Germany were mistakenly sent to another user, a neutral party listening to the audio files was able “to piece together a detailed picture of the customer concerned and his personal habits,” Gizmodo reported.\\n\\nAnd soon, eavesdroppers will be able to pick up information just from a person’s vocal characteristics. A team at Carnegie Mellon University, for example, is developing machine learning-fueled voice forensics technology that can potentially yield a person’s age, height, health status and much more from a voice sample. In fact, we’re already seeing artificial intelligence that reconstructs a person’s face like based on a single sound bite. These kinds of inferences will prove to be invaluable to spies the world over.\\n\\nSmartphone users might think, “I’ll just tape the microphones on my smartphone and laptop and that should keep the bad guys from listening.” Facebook CEO Mark Zuckerberg famously had a similar notion. Unfortunately, while providing a physical barrier over a microphone can muffle sound, the sound won’t be stopped completely. Plus, if hackers have the tools to remotely install spyware on a smartphone or tap into a smart speaker, they likely have access to audio forensics technology for deciphering conversations distorted by a piece of tape.\\n\\nExacerbating the problem is the fact that turning off the microphones in devices is impossible or impractical. With today’s popular smartphone models, users can disallow microphone access to any given app, but there’s no way to completely disable the microphones from use, short of removing them from the device. And while some smart speakers -- like the Amazon Echo and Google Home -- have buttons or switches for shutting off their microphones, manually switching these back on requires touching the device, defeating the purpose of having voice-activated technology in the first place.\\n\\nBring on the noise\\n\\nEnter audio masking. Similar to how white noise machines drown out the audio in a room, on-device audio masking -- whether delivered through an anti-surveillance smartphone case or smart speaker gatekeeper -- adds noise at the locations of the microphones. At the proper volume levels, the end result is that the device is essentially deafened, burying any valuable audio content beneath the noise floor of the masking signal and rendering recordings useless to eavesdroppers.\\n\\nBut not any noise will do. To prevent a conversation or audio snippet from being successfully deciphered using advanced audio forensics, the noise added to the audio mix must have the following three characteristics:\\n\\nRandom: The noise must be random, ideally generated using a true random number generator based on a source with high entropy. If the noise is repetitive or even pseudo-random, a recorded audio signal can be processed -- using two-channel adaptive filtering -- to essentially “subtract” the noise profile found in a reference file from the audio in a target file, delivering a version of the target file with significantly improved speech intelligibility. To help synchronize the timing of the two files, additional signal processing -- using fast Fourier transform analysis -- can help determine the repetition rate of the noise profile. Microphone-specific: The audio masking must occur independently for each microphone, whether for the four microphones found in the iPhone XR or the seven found in the second-generation Amazon Echo. Doing so prevents an eavesdropper from using cross-correlation or known pseudo-random patterns to extract the audio from the masked output. Adaptive: The level of audio masking must adapt to the volume of the audio being masked throughout the range of human speech (from a whisper to a shout). After all, if the level of audio masking were at maximum volume the entire time, the noise would be unbearable for the user, and if the level of audio masking stayed within a moderate range, it wouldn’t be able to adequately mask louder speech and sounds.\\n\\nWith these three characteristics, a conversation’s content (the words spoken) and context (accents, tones, number of participants, etc.) will be unidentifiable to an eavesdropper, as the final audio output will be indistinguishable from a recording of noise alone.\\n\\nOf course, having the best audio masking in the world is meaningless if it gets in the user’s way. Even though we may only want our microphones to be actively listening to us only a fraction of the time, we don’t want any hiccups when it comes to making phone calls, recording audio messages or using a device’s virtual assistant. For an audio-masking add-on for smartphones or other handheld devices, the solution is rather simple, as a physical mechanism can give the user control of when masking occurs. But a similar add-on for smart speakers requires some creativity; one novel solution allows the user to temporarily stop audio masking by speaking a custom wake word to the add-on, which then triggers the speaker by whispering the standard wake word.\\n\\nBecause our smartphones, smart speakers and other smart devices act as witnesses to our most private conversations and personal behaviors, limiting the exposure of these details while leveraging the powerful technology at our disposal is a challenging balancing act. On-device audio masking in an exciting development that promises to help us achieve that balance.',\n",
       " 'NEW DELHI : Bharti Airtel Ltd posted its first quarterly loss in 14 years amid a brutal price war unleashed by Reliance Jio Infocomm Ltd that has ravaged its rivals and reshaped India’s telecom market .\\n\\nNew Delhi-based Bharti Airtel swung to a ₹2,866 crore loss in the quarter ended 30 June from a net profit of ₹97 crore in the year earlier as finance costs rose and it incurred a one-time loss of ₹1,445 crore.\\n\\nView Full Image\\n\\nBharti Airtel, which was till last year India’s biggest telecom operator, has been struggling to raise prices and add subscribers because of the tariff war, although a wave of consolidation in India’s telecom market has wiped out smaller telcos and forced Vodafone India Ltd and Idea Cellular Ltd to merge.\\n\\n“The pressure on Airtel will continue as it has to incur the cost of managing multiple networks given its users are also on 2G and 3G. This hurts Airtel’s economics in the short run,\" said Mahesh Uppal, director at communications consulting firm ComFirst India.\\n\\nBharti Airtel’s consolidated revenue from operations grew 4.7% to ₹20,738 crore in the June quarter from ₹19,799 crore a year ago. Revenue from the India wireless business grew 4.1% year-on-year to ₹10,724 crore.\\n\\nReliance Jio generated ₹11,679 crore in operating revenue in the June quarter, beating Bharti Airtel on this metric. Last week, Jio surpassed Vodafone Idea Ltd, which posted revenue of ₹11,269.9 crore despite having more users.\\n\\nWith this, Reliance Jio is now the number one telco in terms of revenue, achieving the rare feat of market leadership in the telecom industry in less than three years of starting its operations in September 2016.\\n\\nThe results also underscore the sustained struggle of Bharti Airtel and other Indian telecom operators to stay profitable despite recording higher data and voice consumption. An average Airtel user consumed 12GB of data a month in the June quarter, compared to 7.8GB in the year-ago period.\\n\\nConsolidated operating profit rose 24.2% to ₹8,493 crore from a year earlier. The company’s India wireless business posted a loss of ₹1,242 crore in the June quarter. Airtel’s consolidated net debt was ₹1.16 trillion as of June-end.\\n\\nThe silver lining for the firm is that its average monthly revenue per user (Arpu) from India mobile services rose to ₹129 in the June quarter from ₹123 in the preceding three months. This is also due to the fact that its subscriber base has shrunk.\\n\\nAirtel’s Arpu is the highest across telcos in the June quarter, with Jio at ₹122 and Vodafone Idea at ₹108.\\n\\n“The India business revenue is stable, Arpu is up and 4G base has also increased. These are positive factors,\" said a Mumbai-based fundamental analyst, requesting anonymity.\\n\\nThe launch of low-cost tariff plans by Reliance Jio, a unit of Reliance Industries Ltd, forced rivals to drop their rates, hurting profit margins. Smaller companies were forced to either shut shop or get acquired, leaving just Airtel, Jio and the merged entity of Vodafone and Idea to compete in the Indian market.\\n\\nThe performance of the firm’s Africa unit has proved to be a beacon of hope. Airtel Africa posted revenue of $795.9 million, a 6.9% rise from $744.5 million a year earlier, largely driven by growth in Nigeria and East Africa.\\n\\nThe Africa operations posted a profit of $132.2 million in the June quarter.\\n\\n\\n\\n\\n\\nSubscribe to Mint Newsletters * Enter a valid email * Thank you for subscribing to our newsletter.\\n\\nTopics',\n",
       " '',\n",
       " 'SANTIAGO (Reuters) - Chile’s state-owned Codelco [COBRE.UL], the world’s top copper miner, said on Thursday that it signed a non-binding agreement with foreign-backed miner Salar Blanco to develop a joint lithium project at the Salar de Maricunga in the country’s north.\\n\\nThe memorandum of understanding with Salar Blanco, which is 50% owned by Australia’s Lithium Power International with smaller stakes held by Canada’s Bearing Lithium, comes after a disagreement over adjoining lithium deposits in the Maricunga salt flat.\\n\\nIn May, Chile’s constitutional court declined to weigh in on Salar Blanco’s lawsuit alleging that Codelco was constitutionally barred from mining lithium.\\n\\n“The companies will negotiate the definitive terms of the association that allow them to carry out this initiative, combining the experience that both have in the area in order to maximize the value for Codelco and MSB,” Codelco said in a statement.\\n\\nConstruction on the project is expected to begin in 2020 or early 2021 after the permits and financial structure are finalized, Codelco said.\\n\\nLithium is a key ingredient in the rechargeable batteries that power everything from cell phones to electric vehicles. Chile possesses the world’s largest reserves of the “white gold” and sits atop the so-called Lithium Triangle, yet the government has not capitalized fully due to a national lithium policy that has been criticized as confusing and uninviting to newly arrived private miners.\\n\\nMaricunga’s 90 square miles (145 square km) make it less than 5 percent the size of the sprawling Salar de Atacama in northern Chile, home to top lithium producers Albemarle and SQM, but Salar Blanco has described it as one of the “highest-grade lithium brine salars globally.”\\n\\nUntil now, Codelco had delayed plans to develop its lithium reserves to concentrate on its key copper production business.',\n",
       " \"U.S. President Donald Trump speaks to the news media after returning from a quick trip to Williamsburg, Virginia, in Washington, U.S., July 30, 2019. REUTERS/Leah Millis\\n\\nWASHINGTON (Reuters) - U.S. President Donald Trump said on Thursday he would impose an additional 10% tariff on $300 billion worth of Chinese imports starting Sept. 1, as talks aimed at easing tensions between the world’s two largest economies continue.\\n\\n“Trade talks are continuing, and during the talks the U.S. will start, on September 1st, putting a small additional Tariff of 10% on the remaining 300 Billion Dollars of goods and products coming from China into our Country. This does not include the 250 Billion Dollars already Tariffed at 25%,” Trump tweeted.\\n\\nIn a string of tweets, Trump also faulted China for not following through on promises to buy more American agricultural products and personally criticized Chinese President Xi Jinping for failing to do more to stem sales of the synthetic opioid fentanyl.\\n\\nU.S. stock prices fell after Trump's announcement, with the Dow Jones Industrial Average .DJI falling into negative territory.\\n\\nU.S. and Chinese negotiators ended two days of talks in Shanghai on Wednesday with little sign of progress, although both countries described the negotiations as constructive. Another round of meetings between the negotiators has been scheduled for September.\\n\\nThe United States and China have been locked in a trade war marked by tit-for-tat tariffs since last year. The tensions have disrupted global supply chains and roiled financial markets.\",\n",
       " \"NEW YORK (Reuters) - A former chief executive officer and former chief financial officer of Brixmor Property Group Inc were charged on Thursday with accounting fraud for manipulating a key financial metric for the large shopping center owner and operator.\\n\\nFILE PHOTO: Michael Carroll, CEO of Brixmor Property Group awaits the company's IPO on the floor of the New York Stock Exchange, October 30, 2013. REUTERS/Brendan McDermid\\n\\nThe fraud and conspiracy charges against former CEO Michael Carroll and former CFO Michael Pappagallo follow guilty pleas to those charges last month by two other former Brixmor officials, chief accounting officer Steven Splain and senior vice president of accounting Michael Mortimer.\\n\\nBrixmor, a New York-based real estate investment trust with about 421 shopping centers, said it will pay a $7 million fine and hire an independent consultant for its financial reporting to settle a related U.S. Securities and Exchange Commission civil lawsuit, without admitting wrongdoing.\\n\\nThe SEC also filed civil charges against the four individual defendants, all of whom resigned from Brixmor in February 2016.\\n\\nLawyers for those defendants did not immediately respond to requests for comment.\\n\\nInvestigators began examining Brixmor in February 2016 after the REIT said it had uncovered “smoothing” in same property net operating income (“SP-NOI”), a key measure for investors of a REIT’s financial performance.\\n\\nBrixmor’s share price fell 20.1 percent, wiping out about $1.6 billion of market value, on the first trading day after the disclosure, according to Reuters data.\\n\\nProsecutors said Carroll and Pappagallo falsely touted the consistency of Brixmor’s SP-NOI growth rate, with Carroll even describing it at an industry conference as the REIT’s “secret sauce,” when in fact the rate fluctuated significantly.\\n\\nThe defendants concealed the volatility through a variety of means, including by squirreling away extra income for future use in so-called “cookie jar” accounting, prosecutors said.\\n\\nAccording to the indictment, Pappagallo once expressed concern after a Brixmor investor relations employee questioned one of the suspect accounting tactics.\\n\\n“How did she find out?” the indictment quoted him as saying. “She must not be given access to how we make the sausage.”\\n\\nCarroll, 51, of Manhattan, and Pappagallo, 60, of Trumbull, Connecticut, each faces six criminal charges, five of which carry maximum 20-year prison terms.\\n\\nSplain, 57, lives in Cheshire, Connecticut, and Mortimer, 49, in Yardley, Pennsylvania.\\n\\nBrixmor’s market value is now about $5.6 billion. Its shares closed down 11 cents at $18.87 on Thursday.\\n\\nThe criminal case is U.S. v. Carroll et al, U.S. District Court, Southern District of New York, 19-cr-00545.\",\n",
       " 'Since 1988, the stock market\\'s average return has been 10% per year. But stock fund investors have earned only 4.1% per year, according to Dalbar\\'s Quantitative Analysis of Investor Behavior. So, why are investors missing out on 60% of the market\\'s profits? Because your brain gets in the way. Survival instincts have evolved into \"behavior biases\" that cause us to make bad financial and investment decisions. Understanding them can help you avoid costly mistakes. Let\\'s look at five of the most important biases researchers have identified.\\n\\n1. Herd mentality bias\\n\\nHumans seek comfort in groups. So you tend to buy and sell stocks when everyone else does. The problem is that most people buy when prices are rising and sell when prices are falling. It\\'s a bad idea to follow the crowd.\\n\\nNet mutual fund net cash flows are from the Investment Company Institure for U.S. equity mutual funds Bloomberg\\n\\n2. Overconfidence bias\\n\\nAre you a better-than-average driver? Well, 75% of Americans say so. Obviously, only half can be better than average — meaning lots of people aren\\'t as good as they think they are. Hubris applies to investing, too: Are you sure you\\'re as good at picking investments as you think you are?\\n\\n3. Recency bias\\n\\nIs the stock market risky, volatile and unpredictable? If you believe it is, that\\'s because your view of the market matches the chart below. It shows the monthly performance of the S&P 500 Stock Index since 1926.\\n\\nMonthly performance of the S&P 500 stock index, 1926-2018 Ibbotson Associates\\n\\nBut do you hold your investments for just 30 days? Unlikely. If you\\'re investing to achieve long-term goals, such as paying for college or saving for retirement, monthly returns don\\'t matter. The below chart, showing the market\\'s returns over 20-year intervals since 1926, reveals that the stock market\\'s returns are remarkably consistent over long periods.\\n\\n20-year rolling intervals of the S&P 500 stock index, 1926-2017 MorningStar\\n\\nIgnore the daily movements of the market, and stay focused on your long-term goals.\\n\\n4. Action bias\\n\\nHumans are wired for action. Soccer goalies prove it. A study of thousands of penalty kicks from professional matches showed that goals were scored 80% of the time. And while the ball went down the middle 29% of the time, goalies stayed there only 6%.\\n\\nJournal of Economic Psychology\\n\\nWhy? With such low odds of stopping the ball, goalies would rather look like they tried by diving left or right, instead of looking stupid by standing still. But if a goalie stood still five times more often, they would stop five times as many shots. Whether or not you are a soccer fan, you should know this applies to investing, as well: The less often you change your investments, the better off you\\'ll be. So, when tempted to do something, don\\'t. Instead, just stand there.\\n\\n5. Availability bias\\n\\nWhat kills more people annually: lightning strikes or shark attacks? Lightning. But you\\'re forgiven if you thought sharks, because the media cover shark attacks more than lightning strikes. The availability of information causes us to act on it. Don\\'t be so sure that the facts you\\'re hearing about are the only facts that matter.\\n\\nSources: International Shark Attack File, Flordia Museum of Natural Hostory, Univeristy of Florida, NOAA. National Weather Service, Google news sources, 2001-2012',\n",
       " 'You see them in films like Will Smith\\'s \"I, Robot\" and Eve from \"Wall-E.\" Real-life examples include Honda\\'s Asimo , UBTECH\\'s Walker , Boston Dynamics\\' Atlas , and even NASA\\'s Valkyrie robot.All made of shiny white material. And some real-life humanoid robots are modeled after white celebrities, such as Audrey Hepburn and Scarlett Johansson\\n\\nThe reason for these shades of technological white may be racism, according to new research.\\n\\nThese colors have been found to trigger social cues that determine how humans react to and behave toward other people and also, apparently, robots.\\n\\n\"The bias against black robots is a result of bias against African-Americans,\" lead researcher Christoph Bartneck explained to The Next Web . He told CNN, \"It is amazing to see how people who had no prior interaction with robots show racial bias towards them.\"\\n\\nThe researchers think this is an issue that needs to be addressed. \"If robots are supposed to function as teachers, friends, or carers, for instance, then it will be a serious problem if all of these roles are only ever occupied by robots that are racialized as White,\" according to the study.\\n\\nSophia, robot and public figure, was modeled after the British actress Audrey Hepburn.\\n\\nThe robots used in the study are clearly robots but have human-like limbs and a head, with exterior complexions that are white -- which is to say, pinkish -- or black -- really, a deep brown. In the \"shooter bias\" test, black and white people and robots appeared on a screen for less than a second, and participants were told to \"shoot\" those holding a weapon. Black robots that were not holding weapons were shot more than the white ones not carrying guns.\\n\\nRun a simple Google Image search on the term \"robot.\" You won\\'t see a lot of color, as pointed out in the study. The researchers see this overrepresentation of white robots as potentially harmful to the perception of other races.\\n\\nRobot designers come from all corners of the world, Bartneck pointed out, yet they still idealize white robots.\\n\\n\"Human-shaped robots should represent the diversity of humans,\" Bartneck told The Next Web.\\n\\n\"Imagine a world in which all Barbie dolls are white. Imagine a world in which all the robots working in Africa or India are white. Further imagine that these robots take over roles that involve authority. Clearly, this would raise concerns about imperialism and white supremacy,\" Bartneck told CNN. \"Robots are not just machines, but they represent humans.\"\\n\\nIn a second study, the HIT Lab NZ team added lighter brown robots, finding that as they increased the racial diversity, participants\\' racial bias toward the robots disappeared altogether. This \"potentially means that diversification of robots might lead to a reduction in racial bias towards them,\" according to that study\\n\\n\"This leads me to believe that we have everything to win by offering racial options and nothing to lose,\" Bartneck told CNN.\\n\\n\"In the same way that we do want Barbie dolls in all colors and shapes, we also want robots in more than just white.\"',\n",
       " 'Hot foil stamping is the method of using pressure and heat to apply holograms to materials such as carton board, light papers, corrugated board, laminated board, plastics. It also used for the stamping of metallic or pigmented foil on the solid surfaces. The machine which is used in this type of printing is known as hot foil printing machine. The machine consists of the printing die in the form of letters, which are hot stamped on to the solid surface.\\n\\nThe hot foil printing machine market is anticipated to register significant growth rate over the forecast period. This process is used on a wide range of products to create anti-counterfeiting measures and decorative finishes. It has various applications in packaging industries such as luxury goods packaging, food, and tobacco, as well as labels for products such as wine and beer. Hot foil packaging is also used on bank notes and commercial printing applications. It is anticipated that demand for hot foil printing machine is expected to be high during the forecast period.\\n\\nGlobal Hot foil printing Machine Market: Dynamics\\n\\nThe hot foil printing machine market penetrates various industries, it is used for anti-counterfeiting majors in packaging industry. It is used for packing of food products, and pharmaceuticals, among others. Hence, the hot foil printing machine market growth is proportional to packaging industry, such as food & beverages, confectionary and pharmaceutical and healthcare.\\n\\nThe hot foil printing machine is not just used in packaging industry, but it also finds application in currency printing which is one of the premier tasks of every nation, it is expected to drive the global hot foil printing machine market growth. Hot foil printing machine is used for commercial printing applications which might boost the global hot foil printing machine market. These machines can be modified as per the requirement of customers, and ongoing R&D efforts are expected to boost growth of the global hot foil printing machine market, as well as enable technology integration.\\n\\nAre you a start-up willing to make it big in the business? Grab an exclusive PDF Brochure of this report here\\n\\nHowever, the availability of cold foil printing machine in the market and its growing popularity might hamper the overall growth of hot foil printing machine market. Cost is a major concern regarding use of hot foil printing machine, and leads to increased preference for cold foil printing machine in the market. The cost of cold foil printing machine is almost half of that of the hot foil printing machine, which hinders the global hot foil printing machine market growth.\\n\\nThe North America and Western Europe market for hot foil printing machine is expected to witness moderate growth, over the forecast period. APEJ is expected to drive the overall hot foil printing machine market growth due to increased printing applications in the food & beverages, and pharmaceuticals industry, coupled with shifting preference of consumers toward personal care products. The Latin America and Middle East Africa are expected to witness steady growth over the forecast period.\\n\\nShare this: Twitter\\n\\nFacebook\\n\\n\\n\\nLike this: Like Loading...']"
      ]
     },
     "execution_count": 231,
     "metadata": {},
     "output_type": "execute_result"
    }
   ],
   "source": [
    "df['8/1/2019'][0]"
   ]
  }
 ],
 "metadata": {
  "kernelspec": {
   "display_name": "Python 3",
   "language": "python",
   "name": "python3"
  },
  "language_info": {
   "codemirror_mode": {
    "name": "ipython",
    "version": 3
   },
   "file_extension": ".py",
   "mimetype": "text/x-python",
   "name": "python",
   "nbconvert_exporter": "python",
   "pygments_lexer": "ipython3",
   "version": "3.9.12"
  }
 },
 "nbformat": 4,
 "nbformat_minor": 5
}
