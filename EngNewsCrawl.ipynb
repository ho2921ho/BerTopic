{
 "cells": [
  {
   "cell_type": "code",
   "execution_count": 1,
   "id": "51a9495e",
   "metadata": {},
   "outputs": [
    {
     "name": "stdout",
     "output_type": "stream",
     "text": [
      "Requirement already satisfied: beautifulsoup4 in c:\\users\\user-pc\\miniconda3\\lib\\site-packages (4.10.0)\n",
      "Requirement already satisfied: soupsieve>1.2 in c:\\users\\user-pc\\miniconda3\\lib\\site-packages (from beautifulsoup4) (2.3.1)\n"
     ]
    },
    {
     "name": "stderr",
     "output_type": "stream",
     "text": [
      "WARNING: Ignoring invalid distribution -atplotlib (c:\\users\\user-pc\\miniconda3\\lib\\site-packages)\n",
      "WARNING: Ignoring invalid distribution -atplotlib (c:\\users\\user-pc\\miniconda3\\lib\\site-packages)\n",
      "WARNING: Ignoring invalid distribution -atplotlib (c:\\users\\user-pc\\miniconda3\\lib\\site-packages)\n",
      "WARNING: Ignoring invalid distribution -atplotlib (c:\\users\\user-pc\\miniconda3\\lib\\site-packages)\n",
      "WARNING: Ignoring invalid distribution -atplotlib (c:\\users\\user-pc\\miniconda3\\lib\\site-packages)\n",
      "WARNING: Ignoring invalid distribution -atplotlib (c:\\users\\user-pc\\miniconda3\\lib\\site-packages)\n",
      "WARNING: You are using pip version 22.0.4; however, version 22.2.2 is available.\n",
      "You should consider upgrading via the 'C:\\Users\\User-Pc\\miniconda3\\python.exe -m pip install --upgrade pip' command.\n"
     ]
    },
    {
     "name": "stdout",
     "output_type": "stream",
     "text": [
      "Requirement already satisfied: selenium in c:\\users\\user-pc\\miniconda3\\lib\\site-packages (4.4.3)\n",
      "Requirement already satisfied: trio-websocket~=0.9 in c:\\users\\user-pc\\miniconda3\\lib\\site-packages (from selenium) (0.9.2)\n",
      "Requirement already satisfied: certifi>=2021.10.8 in c:\\users\\user-pc\\miniconda3\\lib\\site-packages (from selenium) (2021.10.8)\n",
      "Requirement already satisfied: urllib3[socks]~=1.26 in c:\\users\\user-pc\\miniconda3\\lib\\site-packages (from selenium) (1.26.11)\n",
      "Requirement already satisfied: trio~=0.17 in c:\\users\\user-pc\\miniconda3\\lib\\site-packages (from selenium) (0.21.0)\n",
      "Requirement already satisfied: attrs>=19.2.0 in c:\\users\\user-pc\\miniconda3\\lib\\site-packages (from trio~=0.17->selenium) (21.4.0)\n",
      "Requirement already satisfied: outcome in c:\\users\\user-pc\\miniconda3\\lib\\site-packages (from trio~=0.17->selenium) (1.2.0)\n",
      "Requirement already satisfied: async-generator>=1.9 in c:\\users\\user-pc\\miniconda3\\lib\\site-packages (from trio~=0.17->selenium) (1.10)\n",
      "Requirement already satisfied: sortedcontainers in c:\\users\\user-pc\\miniconda3\\lib\\site-packages (from trio~=0.17->selenium) (2.4.0)\n",
      "Requirement already satisfied: cffi>=1.14 in c:\\users\\user-pc\\miniconda3\\lib\\site-packages (from trio~=0.17->selenium) (1.15.0)\n",
      "Requirement already satisfied: idna in c:\\users\\user-pc\\miniconda3\\lib\\site-packages (from trio~=0.17->selenium) (2.6)\n",
      "Requirement already satisfied: sniffio in c:\\users\\user-pc\\miniconda3\\lib\\site-packages (from trio~=0.17->selenium) (1.2.0)\n",
      "Requirement already satisfied: wsproto>=0.14 in c:\\users\\user-pc\\miniconda3\\lib\\site-packages (from trio-websocket~=0.9->selenium) (1.1.0)\n",
      "Requirement already satisfied: PySocks!=1.5.7,<2.0,>=1.5.6 in c:\\users\\user-pc\\miniconda3\\lib\\site-packages (from urllib3[socks]~=1.26->selenium) (1.7.1)\n",
      "Requirement already satisfied: pycparser in c:\\users\\user-pc\\miniconda3\\lib\\site-packages (from cffi>=1.14->trio~=0.17->selenium) (2.21)\n",
      "Requirement already satisfied: h11<1,>=0.9.0 in c:\\users\\user-pc\\miniconda3\\lib\\site-packages (from wsproto>=0.14->trio-websocket~=0.9->selenium) (0.13.0)\n"
     ]
    },
    {
     "name": "stderr",
     "output_type": "stream",
     "text": [
      "WARNING: Ignoring invalid distribution -atplotlib (c:\\users\\user-pc\\miniconda3\\lib\\site-packages)\n",
      "WARNING: Ignoring invalid distribution -atplotlib (c:\\users\\user-pc\\miniconda3\\lib\\site-packages)\n",
      "WARNING: Ignoring invalid distribution -atplotlib (c:\\users\\user-pc\\miniconda3\\lib\\site-packages)\n",
      "WARNING: Ignoring invalid distribution -atplotlib (c:\\users\\user-pc\\miniconda3\\lib\\site-packages)\n",
      "WARNING: Ignoring invalid distribution -atplotlib (c:\\users\\user-pc\\miniconda3\\lib\\site-packages)\n",
      "WARNING: Ignoring invalid distribution -atplotlib (c:\\users\\user-pc\\miniconda3\\lib\\site-packages)\n",
      "WARNING: You are using pip version 22.0.4; however, version 22.2.2 is available.\n",
      "You should consider upgrading via the 'C:\\Users\\User-Pc\\miniconda3\\python.exe -m pip install --upgrade pip' command.\n"
     ]
    }
   ],
   "source": [
    "!pip3 install beautifulsoup4\n",
    "!pip install selenium"
   ]
  },
  {
   "cell_type": "code",
<<<<<<< HEAD
   "execution_count": 57,
=======
   "execution_count": 3,
>>>>>>> 0ab7f69a7149cee6d0356d1e59220eb4e9913372
   "id": "42b0780e",
   "metadata": {},
   "outputs": [
    {
     "name": "stderr",
     "output_type": "stream",
     "text": [
<<<<<<< HEAD
      "<ipython-input-57-b91fd2893659>:15: DeprecationWarning: executable_path has been deprecated, please pass in a Service object\n",
      "  driver = webdriver.Chrome (executable_path=r\"C:\\Users\\Notebiz003\\Documents\\chromedriver_win32\\chromedriver.exe\")\n"
=======
      "<ipython-input-3-ff52a4593dfd>:15: DeprecationWarning: executable_path has been deprecated, please pass in a Service object\n",
      "  driver = webdriver.Chrome (executable_path=r\"C:\\Users\\User-Pc\\Documents\\chromedriver.exe\")\n"
>>>>>>> 0ab7f69a7149cee6d0356d1e59220eb4e9913372
     ]
    }
   ],
   "source": [
    "import requests \n",
    "from bs4 import BeautifulSoup\n",
    "import re\n",
    "from tqdm import tqdm\n",
    "import time\n",
    "import numpy\n",
    "import random\n",
    "\n",
    "import selenium\n",
    "from selenium import webdriver\n",
    "from selenium.webdriver.common.by import By\n",
    "from datetime import datetime\n",
    "import pandas as pd\n",
    "\n",
    "driver = webdriver.Chrome (executable_path=r\"C:\\Users\\User-Pc\\Documents\\chromedriver.exe\")"
   ]
  },
  {
   "cell_type": "code",
<<<<<<< HEAD
   "execution_count": 58,
=======
   "execution_count": 4,
>>>>>>> 0ab7f69a7149cee6d0356d1e59220eb4e9913372
   "id": "2c15f622",
   "metadata": {
    "scrolled": false
   },
   "outputs": [],
   "source": [
    "# 1 키워드 검색 뉴스 url 수집\n",
    "def page2url(searching_word,date):\n",
    "    urls = []\n",
    "    for start in range(0, 360, 10):\n",
    "        main_url = 'https://www.google.co.kr/search?q={}&tbs=cdr:1,cd_min:{},cd_max:{}&tbm=nws&ei=dPP-Yu_eCJLL-Qb55bvQDA&start={}&sa=N&ved=2ahUKEwjv6Lvy69H5AhWSZd4KHfnyDso4ChDy0wN6BAgBEDk&biw=1536&bih=754&dpr=1.25'.format(searching_word,date,date,start)\n",
    "        driver.get(url=main_url)\n",
    "        elements = driver.find_elements(By.TAG_NAME, 'a')\n",
    "        lnks = []\n",
    "        for lnk in elements:\n",
    "            lnk = str(lnk.get_attribute('href'))\n",
    "            if 'google' not in lnk and lnk != 'None':\n",
    "                lnks.append(lnk)\n",
    "        if len(lnks) == 0:\n",
    "            print(date, ' 완료')\n",
    "            break\n",
    "        urls.extend(lnks)\n",
    "        rand_value =random.uniform(2, 5)\n",
    "        time.sleep(rand_value)\n",
    "        \n",
    "    return urls"
   ]
  },
  {
   "cell_type": "code",
<<<<<<< HEAD
   "execution_count": 66,
=======
   "execution_count": 5,
>>>>>>> 0ab7f69a7149cee6d0356d1e59220eb4e9913372
   "id": "da9c1f67",
   "metadata": {
    "scrolled": true
   },
   "outputs": [],
   "source": [
<<<<<<< HEAD
    "from_date = '31/5/2018'\n",
    "to_date = '11/8/2022'\n",
=======
    "from_date = '2019-8-1'\n",
    "to_date = '2022-7-31'\n",
>>>>>>> 0ab7f69a7149cee6d0356d1e59220eb4e9913372
    "\n",
    "datelist = pd.date_range(start=from_date, end=to_date).tolist()\n",
    "dtlst = []\n",
    "for d_t in datelist:\n",
    "    d_t = str(d_t)[0:-9]\n",
    "    d = datetime.strptime(d_t, '%Y-%m-%d')\n",
    "    d = d.strftime('%m/%d/%Y')\n",
    "    d = d[0].replace('0','') + d[1:]\n",
    "    d = d[:-7] + d[-7].replace('0','') + d[-6:]\n",
    "    dtlst.append(d)"
   ]
  },
  {
   "cell_type": "code",
<<<<<<< HEAD
   "execution_count": 67,
   "id": "68bf1a52",
=======
   "execution_count": 6,
   "id": "ed779608",
>>>>>>> 0ab7f69a7149cee6d0356d1e59220eb4e9913372
   "metadata": {},
   "outputs": [
    {
     "data": {
      "text/plain": [
       "1096"
      ]
     },
     "execution_count": 6,
     "metadata": {},
     "output_type": "execute_result"
    }
   ],
   "source": [
    "len(dtlst)"
   ]
  },
  {
   "cell_type": "code",
   "execution_count": 7,
   "id": "68bf1a52",
   "metadata": {
    "scrolled": true
   },
   "outputs": [
    {
     "name": "stderr",
     "output_type": "stream",
     "text": [
<<<<<<< HEAD
      "  0%|                                                                               | 1/1623 [00:06<2:50:14,  6.30s/it]"
=======
      "  0%|                                                                               | 1/1096 [00:19<5:52:41, 19.33s/it]"
>>>>>>> 0ab7f69a7149cee6d0356d1e59220eb4e9913372
     ]
    },
    {
     "name": "stdout",
     "output_type": "stream",
     "text": [
<<<<<<< HEAD
      "31/5/2018  완료\n",
      "6\n"
=======
      "8/1/2019  완료\n"
>>>>>>> 0ab7f69a7149cee6d0356d1e59220eb4e9913372
     ]
    },
    {
     "name": "stderr",
     "output_type": "stream",
     "text": [
      "\r",
<<<<<<< HEAD
      "  0%|                                                                               | 2/1623 [00:10<2:19:45,  5.17s/it]"
=======
      "  0%|▏                                                                              | 2/1096 [00:27<3:56:25, 12.97s/it]"
>>>>>>> 0ab7f69a7149cee6d0356d1e59220eb4e9913372
     ]
    },
    {
     "name": "stdout",
     "output_type": "stream",
     "text": [
<<<<<<< HEAD
      "1/6/2018  완료\n",
      "12\n"
=======
      "8/2/2019  완료\n"
>>>>>>> 0ab7f69a7149cee6d0356d1e59220eb4e9913372
     ]
    },
    {
     "name": "stderr",
     "output_type": "stream",
     "text": [
      "\r",
<<<<<<< HEAD
      "  0%|▏                                                                              | 3/1623 [00:22<3:43:58,  8.30s/it]"
=======
      "  0%|▏                                                                              | 3/1096 [00:32<2:49:17,  9.29s/it]"
>>>>>>> 0ab7f69a7149cee6d0356d1e59220eb4e9913372
     ]
    },
    {
     "name": "stdout",
     "output_type": "stream",
     "text": [
<<<<<<< HEAD
      "2/6/2018  완료\n",
      "41\n"
=======
      "8/3/2019  완료\n"
>>>>>>> 0ab7f69a7149cee6d0356d1e59220eb4e9913372
     ]
    },
    {
     "name": "stderr",
     "output_type": "stream",
     "text": [
      "\r",
<<<<<<< HEAD
      "  0%|▏                                                                              | 4/1623 [00:33<4:15:29,  9.47s/it]"
=======
      "  0%|▎                                                                              | 4/1096 [00:39<2:29:23,  8.21s/it]"
>>>>>>> 0ab7f69a7149cee6d0356d1e59220eb4e9913372
     ]
    },
    {
     "name": "stdout",
     "output_type": "stream",
     "text": [
<<<<<<< HEAD
      "3/6/2018  완료\n",
      "67\n"
=======
      "8/4/2019  완료\n"
>>>>>>> 0ab7f69a7149cee6d0356d1e59220eb4e9913372
     ]
    },
    {
     "name": "stderr",
     "output_type": "stream",
     "text": [
<<<<<<< HEAD
      "\r",
      "  0%|▏                                                                              | 5/1623 [00:42<4:06:57,  9.16s/it]"
     ]
    },
    {
     "name": "stdout",
     "output_type": "stream",
     "text": [
      "4/6/2018  완료\n",
      "85\n"
     ]
    },
    {
     "name": "stderr",
     "output_type": "stream",
     "text": [
      "\r",
      "  0%|▎                                                                              | 6/1623 [00:52<4:14:13,  9.43s/it]"
     ]
    },
    {
     "name": "stdout",
     "output_type": "stream",
     "text": [
      "5/6/2018  완료\n",
      "96\n"
     ]
    },
    {
     "name": "stderr",
     "output_type": "stream",
     "text": [
      "\r",
      "  0%|▎                                                                              | 7/1623 [01:13<5:55:48, 13.21s/it]"
     ]
    },
    {
     "name": "stdout",
     "output_type": "stream",
     "text": [
      "6/6/2018  완료\n",
      "131\n"
     ]
    },
    {
     "name": "stderr",
     "output_type": "stream",
     "text": [
      "\r",
      "  0%|▍                                                                              | 8/1623 [01:39<7:49:04, 17.43s/it]"
     ]
    },
    {
     "name": "stdout",
     "output_type": "stream",
     "text": [
      "7/6/2018  완료\n",
      "192\n"
     ]
    },
    {
     "name": "stderr",
     "output_type": "stream",
     "text": [
      "\r",
      "  1%|▍                                                                              | 9/1623 [01:47<6:24:47, 14.30s/it]"
     ]
    },
    {
     "name": "stdout",
     "output_type": "stream",
     "text": [
      "8/6/2018  완료\n",
      "207\n"
     ]
    },
    {
     "name": "stderr",
     "output_type": "stream",
     "text": [
      "\r",
      "  1%|▍                                                                             | 10/1623 [02:02<6:34:45, 14.68s/it]"
     ]
    },
    {
     "name": "stdout",
     "output_type": "stream",
     "text": [
      "9/6/2018  완료\n",
      "243\n"
     ]
    },
    {
     "name": "stderr",
     "output_type": "stream",
     "text": [
      "\r",
      "  1%|▌                                                                             | 11/1623 [02:07<5:14:29, 11.71s/it]"
     ]
    },
    {
     "name": "stdout",
     "output_type": "stream",
     "text": [
      "1/6/2018  완료\n",
      "249\n"
     ]
    },
    {
     "name": "stderr",
     "output_type": "stream",
     "text": [
      "\r",
      "  1%|▌                                                                             | 12/1623 [02:18<5:02:48, 11.28s/it]"
     ]
    },
    {
     "name": "stdout",
     "output_type": "stream",
     "text": [
      "11/6/2018  완료\n",
      "265\n"
     ]
    },
    {
     "name": "stderr",
     "output_type": "stream",
     "text": [
      "\r",
      "  1%|▌                                                                             | 13/1623 [02:31<5:17:01, 11.81s/it]"
     ]
    },
    {
     "name": "stdout",
     "output_type": "stream",
     "text": [
      "12/6/2018  완료\n",
      "289\n"
     ]
    },
    {
     "name": "stderr",
     "output_type": "stream",
     "text": [
      "\r",
      "  1%|▋                                                                             | 14/1623 [02:36<4:27:28,  9.97s/it]"
     ]
    },
    {
     "name": "stdout",
     "output_type": "stream",
     "text": [
      "13/6/2018  완료\n",
      "296\n"
     ]
    },
    {
     "name": "stderr",
     "output_type": "stream",
     "text": [
      "\r",
      "  1%|▋                                                                             | 15/1623 [02:55<5:33:37, 12.45s/it]"
     ]
    },
    {
     "name": "stdout",
     "output_type": "stream",
     "text": [
      "14/6/2018  완료\n",
      "336\n"
     ]
    },
    {
     "name": "stderr",
     "output_type": "stream",
     "text": [
      "\r",
      "  1%|▊                                                                             | 16/1623 [03:11<6:01:28, 13.50s/it]"
     ]
    },
    {
     "name": "stdout",
     "output_type": "stream",
     "text": [
      "15/6/2018  완료\n",
      "356\n"
     ]
    },
    {
     "name": "stderr",
     "output_type": "stream",
     "text": [
      "\r",
      "  1%|▊                                                                             | 17/1623 [03:17<5:01:12, 11.25s/it]"
     ]
    },
    {
     "name": "stdout",
     "output_type": "stream",
     "text": [
      "16/6/2018  완료\n",
      "357\n"
     ]
    },
    {
     "name": "stderr",
     "output_type": "stream",
     "text": [
      "\r",
      "  1%|▊                                                                             | 18/1623 [03:30<5:14:40, 11.76s/it]"
     ]
    },
    {
     "name": "stdout",
     "output_type": "stream",
     "text": [
      "17/6/2018  완료\n",
      "381\n"
     ]
    },
    {
     "name": "stderr",
     "output_type": "stream",
     "text": [
      "\r",
      "  1%|▉                                                                             | 19/1623 [03:41<5:15:26, 11.80s/it]"
     ]
    },
    {
     "name": "stdout",
     "output_type": "stream",
     "text": [
      "18/6/2018  완료\n",
      "409\n"
     ]
    },
    {
     "name": "stderr",
     "output_type": "stream",
     "text": [
      "\r",
      "  1%|▉                                                                             | 20/1623 [03:48<4:31:37, 10.17s/it]"
     ]
    },
    {
     "name": "stdout",
     "output_type": "stream",
     "text": [
      "19/6/2018  완료\n",
      "412\n"
     ]
    },
    {
     "name": "stderr",
     "output_type": "stream",
     "text": [
      "\r",
      "  1%|█                                                                             | 21/1623 [04:00<4:49:40, 10.85s/it]"
     ]
    },
    {
     "name": "stdout",
     "output_type": "stream",
     "text": [
      "2/6/2018  완료\n",
      "441\n"
     ]
    },
    {
     "name": "stderr",
     "output_type": "stream",
     "text": [
      "\r",
      "  1%|█                                                                             | 22/1623 [04:12<4:57:47, 11.16s/it]"
     ]
    },
    {
     "name": "stdout",
     "output_type": "stream",
     "text": [
      "21/6/2018  완료\n",
      "457\n"
     ]
    },
    {
     "name": "stderr",
     "output_type": "stream",
     "text": [
      "\r",
      "  1%|█                                                                             | 23/1623 [04:16<3:58:30,  8.94s/it]"
     ]
    },
    {
     "name": "stdout",
     "output_type": "stream",
     "text": [
      "22/6/2018  완료\n",
      "462\n"
     ]
    },
    {
     "name": "stderr",
     "output_type": "stream",
     "text": [
      "\r",
      "  1%|█▏                                                                            | 24/1623 [04:30<4:41:39, 10.57s/it]"
     ]
    },
    {
     "name": "stdout",
     "output_type": "stream",
     "text": [
      "23/6/2018  완료\n",
      "493\n"
     ]
    },
    {
     "name": "stderr",
     "output_type": "stream",
     "text": [
      "\r",
      "  2%|█▏                                                                            | 25/1623 [04:38<4:16:07,  9.62s/it]"
     ]
    },
    {
     "name": "stdout",
     "output_type": "stream",
     "text": [
      "24/6/2018  완료\n",
      "510\n"
     ]
    },
    {
     "name": "stderr",
     "output_type": "stream",
     "text": [
      "\r",
      "  2%|█▏                                                                            | 26/1623 [04:50<4:34:01, 10.30s/it]"
     ]
    },
    {
     "name": "stdout",
     "output_type": "stream",
     "text": [
      "25/6/2018  완료\n",
      "538\n"
     ]
    },
    {
     "name": "stderr",
     "output_type": "stream",
     "text": [
      "\r",
      "  2%|█▎                                                                            | 27/1623 [05:05<5:12:30, 11.75s/it]"
     ]
    },
    {
     "name": "stdout",
     "output_type": "stream",
     "text": [
      "26/6/2018  완료\n",
      "559\n"
     ]
    },
    {
     "name": "stderr",
     "output_type": "stream",
     "text": [
      "\r",
      "  2%|█▎                                                                            | 28/1623 [05:18<5:23:16, 12.16s/it]"
     ]
    },
    {
     "name": "stdout",
     "output_type": "stream",
     "text": [
      "27/6/2018  완료\n",
      "580\n"
     ]
    },
    {
     "name": "stderr",
     "output_type": "stream",
     "text": [
      "\r",
      "  2%|█▍                                                                            | 29/1623 [05:36<6:14:47, 14.11s/it]"
     ]
    },
    {
     "name": "stdout",
     "output_type": "stream",
     "text": [
      "28/6/2018  완료\n",
      "614\n"
     ]
    },
    {
     "name": "stderr",
     "output_type": "stream",
     "text": [
      "\r",
      "  2%|█▍                                                                            | 30/1623 [05:49<6:03:23, 13.69s/it]"
     ]
    },
    {
     "name": "stdout",
     "output_type": "stream",
     "text": [
      "29/6/2018  완료\n",
      "642\n"
     ]
    },
    {
     "name": "stderr",
     "output_type": "stream",
     "text": [
      "\r",
      "  2%|█▍                                                                            | 31/1623 [06:01<5:48:20, 13.13s/it]"
     ]
    },
    {
     "name": "stdout",
     "output_type": "stream",
     "text": [
      "3/6/2018  완료\n",
      "668\n"
     ]
    },
    {
     "name": "stderr",
     "output_type": "stream",
     "text": [
      "\r",
      "  2%|█▌                                                                            | 32/1623 [06:05<4:38:56, 10.52s/it]"
     ]
    },
    {
     "name": "stdout",
     "output_type": "stream",
     "text": [
      "1/7/2018  완료\n",
      "670\n"
     ]
    },
    {
     "name": "stderr",
     "output_type": "stream",
     "text": [
      "\r",
      "  2%|█▌                                                                            | 33/1623 [06:23<5:35:53, 12.68s/it]"
     ]
    },
    {
     "name": "stdout",
     "output_type": "stream",
     "text": [
      "2/7/2018  완료\n",
      "701\n"
     ]
    },
    {
     "name": "stderr",
     "output_type": "stream",
     "text": [
      "\r",
      "  2%|█▋                                                                            | 34/1623 [06:40<6:05:17, 13.79s/it]"
     ]
    },
    {
     "name": "stdout",
     "output_type": "stream",
     "text": [
      "3/7/2018  완료\n",
      "733\n"
     ]
    },
    {
     "name": "stderr",
     "output_type": "stream",
     "text": [
      "\r",
      "  2%|█▋                                                                            | 35/1623 [06:44<4:51:24, 11.01s/it]"
     ]
    },
    {
     "name": "stdout",
     "output_type": "stream",
     "text": [
      "4/7/2018  완료\n",
      "735\n"
     ]
    },
    {
     "name": "stderr",
     "output_type": "stream",
     "text": [
      "\r",
      "  2%|█▋                                                                            | 36/1623 [06:52<4:25:34, 10.04s/it]"
     ]
    },
    {
     "name": "stdout",
     "output_type": "stream",
     "text": [
      "5/7/2018  완료\n",
      "751\n"
     ]
    },
    {
     "name": "stderr",
     "output_type": "stream",
     "text": [
      "\r",
      "  2%|█▊                                                                            | 37/1623 [07:11<5:40:12, 12.87s/it]"
     ]
    },
    {
     "name": "stdout",
     "output_type": "stream",
     "text": [
      "6/7/2018  완료\n",
      "783\n"
     ]
    },
    {
     "name": "stderr",
     "output_type": "stream",
     "text": [
      "\r",
      "  2%|█▊                                                                            | 38/1623 [07:17<4:41:39, 10.66s/it]"
     ]
    },
    {
     "name": "stdout",
     "output_type": "stream",
     "text": [
      "7/7/2018  완료\n",
      "791\n"
     ]
    },
    {
     "name": "stderr",
     "output_type": "stream",
     "text": [
      "\r",
      "  2%|█▊                                                                            | 39/1623 [07:29<4:57:04, 11.25s/it]"
     ]
    },
    {
     "name": "stdout",
     "output_type": "stream",
     "text": [
      "8/7/2018  완료\n",
      "820\n"
     ]
    },
    {
     "name": "stderr",
     "output_type": "stream",
     "text": [
      "\r",
      "  2%|█▉                                                                            | 40/1623 [07:37<4:24:42, 10.03s/it]"
     ]
    },
    {
     "name": "stdout",
     "output_type": "stream",
     "text": [
      "9/7/2018  완료\n",
      "840\n"
     ]
    },
    {
     "name": "stderr",
     "output_type": "stream",
     "text": [
      "\r",
      "  3%|█▉                                                                            | 41/1623 [07:42<3:50:00,  8.72s/it]"
     ]
    },
    {
     "name": "stdout",
     "output_type": "stream",
     "text": [
      "1/7/2018  완료\n",
      "842\n"
     ]
    },
    {
     "name": "stderr",
     "output_type": "stream",
     "text": [
      "\r",
      "  3%|██                                                                            | 42/1623 [07:54<4:14:29,  9.66s/it]"
     ]
    },
    {
     "name": "stdout",
     "output_type": "stream",
     "text": [
      "11/7/2018  완료\n",
      "859\n"
     ]
    },
    {
     "name": "stderr",
     "output_type": "stream",
     "text": [
      "\r",
      "  3%|██                                                                            | 43/1623 [08:08<4:49:31, 10.99s/it]"
     ]
    },
    {
     "name": "stdout",
     "output_type": "stream",
     "text": [
      "12/7/2018  완료\n",
      "880\n"
     ]
    },
    {
     "name": "stderr",
     "output_type": "stream",
     "text": [
      "\r",
      "  3%|██                                                                            | 44/1623 [08:26<5:43:02, 13.04s/it]"
     ]
    },
    {
     "name": "stdout",
     "output_type": "stream",
     "text": [
      "13/7/2018  완료\n",
      "918\n"
     ]
    },
    {
     "name": "stderr",
     "output_type": "stream",
     "text": [
      "\r",
      "  3%|██▏                                                                           | 45/1623 [08:44<6:20:22, 14.46s/it]"
     ]
    },
    {
     "name": "stdout",
     "output_type": "stream",
     "text": [
      "14/7/2018  완료\n",
      "954\n"
     ]
    },
    {
     "name": "stderr",
     "output_type": "stream",
     "text": [
      "\r",
      "  3%|██▏                                                                           | 46/1623 [08:58<6:17:55, 14.38s/it]"
     ]
    },
    {
     "name": "stdout",
     "output_type": "stream",
     "text": [
      "15/7/2018  완료\n",
      "976\n"
     ]
    },
    {
     "name": "stderr",
     "output_type": "stream",
     "text": [
      "\r",
      "  3%|██▎                                                                           | 47/1623 [09:03<5:07:23, 11.70s/it]"
     ]
    },
    {
     "name": "stdout",
     "output_type": "stream",
     "text": [
      "16/7/2018  완료\n",
      "980\n"
     ]
    },
    {
     "name": "stderr",
     "output_type": "stream",
     "text": [
      "\r",
      "  3%|██▎                                                                           | 48/1623 [09:24<6:14:51, 14.28s/it]"
     ]
    },
    {
     "name": "stdout",
     "output_type": "stream",
     "text": [
      "17/7/2018  완료\n",
      "1021\n"
     ]
    },
    {
     "name": "stderr",
     "output_type": "stream",
     "text": [
      "\r",
      "  3%|██▎                                                                           | 49/1623 [09:36<5:55:02, 13.53s/it]"
     ]
    },
    {
     "name": "stdout",
     "output_type": "stream",
     "text": [
      "18/7/2018  완료\n",
      "1038\n"
     ]
    },
    {
     "name": "stderr",
     "output_type": "stream",
     "text": [
      "\r",
      "  3%|██▍                                                                           | 50/1623 [09:39<4:37:04, 10.57s/it]"
     ]
    },
    {
     "name": "stdout",
     "output_type": "stream",
     "text": [
      "19/7/2018  완료\n",
      "1047\n"
     ]
    },
    {
     "name": "stderr",
     "output_type": "stream",
     "text": [
      "\r",
      "  3%|██▍                                                                           | 51/1623 [09:58<5:41:10, 13.02s/it]"
     ]
    },
    {
     "name": "stdout",
     "output_type": "stream",
     "text": [
      "2/7/2018  완료\n",
      "1078\n"
     ]
    },
    {
     "name": "stderr",
     "output_type": "stream",
     "text": [
      "\r",
      "  3%|██▍                                                                           | 52/1623 [10:02<4:27:44, 10.23s/it]"
     ]
    },
    {
     "name": "stdout",
     "output_type": "stream",
     "text": [
      "21/7/2018  완료\n",
      "1082\n"
     ]
    },
    {
     "name": "stderr",
     "output_type": "stream",
     "text": [
      "\r",
      "  3%|██▌                                                                           | 53/1623 [10:23<5:53:49, 13.52s/it]"
     ]
    },
    {
     "name": "stdout",
     "output_type": "stream",
     "text": [
      "22/7/2018  완료\n",
      "1114\n"
     ]
    },
    {
     "name": "stderr",
     "output_type": "stream",
     "text": [
      "\r",
      "  3%|██▌                                                                           | 54/1623 [10:36<5:49:59, 13.38s/it]"
     ]
    },
    {
     "name": "stdout",
     "output_type": "stream",
     "text": [
      "23/7/2018  완료\n",
      "1137\n"
     ]
    },
    {
     "name": "stderr",
     "output_type": "stream",
     "text": [
      "\r",
      "  3%|██▋                                                                           | 55/1623 [10:41<4:47:40, 11.01s/it]"
     ]
    },
    {
     "name": "stdout",
     "output_type": "stream",
     "text": [
      "24/7/2018  완료\n",
      "1140\n"
     ]
    },
    {
     "name": "stderr",
     "output_type": "stream",
     "text": [
      "\r",
      "  3%|██▋                                                                           | 56/1623 [10:53<4:54:23, 11.27s/it]"
     ]
    },
    {
     "name": "stdout",
     "output_type": "stream",
     "text": [
      "25/7/2018  완료\n",
      "1167\n"
     ]
    },
    {
     "name": "stderr",
     "output_type": "stream",
     "text": [
      "\r",
      "  4%|██▋                                                                           | 57/1623 [11:01<4:29:48, 10.34s/it]"
     ]
    },
    {
     "name": "stdout",
     "output_type": "stream",
     "text": [
      "26/7/2018  완료\n",
      "1182\n"
     ]
    },
    {
     "name": "stderr",
     "output_type": "stream",
     "text": [
      "\r",
      "  4%|██▊                                                                           | 58/1623 [11:07<3:48:31,  8.76s/it]"
     ]
    },
    {
     "name": "stdout",
     "output_type": "stream",
     "text": [
      "27/7/2018  완료\n",
      "1186\n"
     ]
    },
    {
     "name": "stderr",
     "output_type": "stream",
     "text": [
      "\r",
      "  4%|██▊                                                                           | 59/1623 [11:14<3:39:23,  8.42s/it]"
     ]
    },
    {
     "name": "stdout",
     "output_type": "stream",
     "text": [
      "28/7/2018  완료\n",
      "1206\n"
     ]
    },
    {
     "name": "stderr",
     "output_type": "stream",
     "text": [
      "\r",
      "  4%|██▉                                                                           | 60/1623 [11:25<3:58:28,  9.15s/it]"
     ]
    },
    {
     "name": "stdout",
     "output_type": "stream",
     "text": [
      "29/7/2018  완료\n",
      "1231\n"
     ]
    },
    {
     "name": "stderr",
     "output_type": "stream",
     "text": [
      "\r",
      "  4%|██▉                                                                           | 61/1623 [11:45<5:18:57, 12.25s/it]"
     ]
    },
    {
     "name": "stdout",
     "output_type": "stream",
     "text": [
      "3/7/2018  완료\n",
      "1263\n"
     ]
    },
    {
     "name": "stderr",
     "output_type": "stream",
     "text": [
      "\r",
      "  4%|██▉                                                                           | 62/1623 [12:02<5:55:54, 13.68s/it]"
     ]
    },
    {
     "name": "stdout",
     "output_type": "stream",
     "text": [
      "31/7/2018  완료\n",
      "1285\n"
     ]
    },
    {
     "name": "stderr",
     "output_type": "stream",
     "text": [
      "\r",
      "  4%|███                                                                           | 63/1623 [12:24<7:04:56, 16.34s/it]"
     ]
    },
    {
     "name": "stdout",
     "output_type": "stream",
     "text": [
      "1/8/2018  완료\n",
      "1315\n"
     ]
    },
    {
     "name": "stderr",
     "output_type": "stream",
     "text": [
      "\r",
      "  4%|███                                                                           | 64/1623 [12:39<6:53:42, 15.92s/it]"
     ]
    },
    {
     "name": "stdout",
     "output_type": "stream",
     "text": [
      "2/8/2018  완료\n",
      "1337\n"
     ]
    },
    {
     "name": "stderr",
     "output_type": "stream",
     "text": [
      "\r",
      "  4%|███                                                                           | 65/1623 [12:56<6:59:56, 16.17s/it]"
     ]
    },
    {
     "name": "stdout",
     "output_type": "stream",
     "text": [
      "3/8/2018  완료\n",
      "1369\n"
     ]
    },
    {
     "name": "stderr",
     "output_type": "stream",
     "text": [
      "\r",
      "  4%|███▏                                                                          | 66/1623 [13:02<5:42:56, 13.22s/it]"
     ]
    },
    {
     "name": "stdout",
     "output_type": "stream",
     "text": [
      "4/8/2018  완료\n",
      "1379\n"
     ]
    },
    {
     "name": "stderr",
     "output_type": "stream",
     "text": [
      "\r",
      "  4%|███▏                                                                          | 67/1623 [13:15<5:42:32, 13.21s/it]"
     ]
    },
    {
     "name": "stdout",
     "output_type": "stream",
     "text": [
      "5/8/2018  완료\n",
      "1408\n"
     ]
    },
    {
     "name": "stderr",
     "output_type": "stream",
     "text": [
      "\r",
      "  4%|███▎                                                                          | 68/1623 [13:24<5:06:56, 11.84s/it]"
     ]
    },
    {
     "name": "stdout",
     "output_type": "stream",
     "text": [
      "6/8/2018  완료\n",
      "1425\n"
     ]
    },
    {
     "name": "stderr",
     "output_type": "stream",
     "text": [
      "\r",
      "  4%|███▎                                                                          | 69/1623 [13:29<4:10:11,  9.66s/it]"
     ]
    },
    {
     "name": "stdout",
     "output_type": "stream",
     "text": [
      "7/8/2018  완료\n",
      "1430\n"
     ]
    },
    {
     "name": "stderr",
     "output_type": "stream",
     "text": [
      "\r",
      "  4%|███▎                                                                          | 70/1623 [13:42<4:40:15, 10.83s/it]"
     ]
    },
    {
     "name": "stdout",
     "output_type": "stream",
     "text": [
      "8/8/2018  완료\n",
      "1454\n"
     ]
    },
    {
     "name": "stderr",
     "output_type": "stream",
     "text": [
      "\r",
      "  4%|███▍                                                                          | 71/1623 [13:48<4:01:22,  9.33s/it]"
     ]
    },
    {
     "name": "stdout",
     "output_type": "stream",
     "text": [
      "9/8/2018  완료\n",
      "1463\n"
     ]
    },
    {
     "name": "stderr",
     "output_type": "stream",
     "text": [
      "\r",
      "  4%|███▍                                                                          | 72/1623 [14:07<5:18:35, 12.32s/it]"
     ]
    },
    {
     "name": "stdout",
     "output_type": "stream",
     "text": [
      "1/8/2018  완료\n",
      "1494\n"
     ]
    },
    {
     "name": "stderr",
     "output_type": "stream",
     "text": [
      "\r",
      "  4%|███▌                                                                          | 73/1623 [14:20<5:20:28, 12.41s/it]"
     ]
    },
    {
     "name": "stdout",
     "output_type": "stream",
     "text": [
      "11/8/2018  완료\n",
      "1514\n"
     ]
    },
    {
     "name": "stderr",
     "output_type": "stream",
     "text": [
      "\r",
      "  5%|███▌                                                                          | 74/1623 [14:23<4:11:57,  9.76s/it]"
     ]
    },
    {
     "name": "stdout",
     "output_type": "stream",
     "text": [
      "12/8/2018  완료\n",
      "1517\n"
     ]
    },
    {
     "name": "stderr",
     "output_type": "stream",
     "text": [
      "\r",
      "  5%|███▌                                                                          | 75/1623 [14:39<4:59:07, 11.59s/it]"
     ]
    },
    {
     "name": "stdout",
     "output_type": "stream",
     "text": [
      "13/8/2018  완료\n",
      "1555\n"
     ]
    },
    {
     "name": "stderr",
     "output_type": "stream",
     "text": [
      "\r",
      "  5%|███▋                                                                          | 76/1623 [14:52<5:10:10, 12.03s/it]"
     ]
    },
    {
     "name": "stdout",
     "output_type": "stream",
     "text": [
      "14/8/2018  완료\n",
      "1582\n"
     ]
    },
    {
     "name": "stderr",
     "output_type": "stream",
     "text": [
      "\r",
      "  5%|███▋                                                                          | 77/1623 [15:06<5:23:26, 12.55s/it]"
     ]
    },
    {
     "name": "stdout",
     "output_type": "stream",
     "text": [
      "15/8/2018  완료\n",
      "1609\n"
     ]
    },
    {
     "name": "stderr",
     "output_type": "stream",
     "text": [
      "\r",
      "  5%|███▋                                                                          | 78/1623 [15:22<5:46:35, 13.46s/it]"
     ]
    },
    {
     "name": "stdout",
     "output_type": "stream",
     "text": [
      "16/8/2018  완료\n",
      "1634\n"
     ]
    },
    {
     "name": "stderr",
     "output_type": "stream",
     "text": [
      "\r",
      "  5%|███▊                                                                          | 79/1623 [15:34<5:35:14, 13.03s/it]"
     ]
    },
    {
     "name": "stdout",
     "output_type": "stream",
     "text": [
      "17/8/2018  완료\n",
      "1659\n"
     ]
    },
    {
     "name": "stderr",
     "output_type": "stream",
     "text": [
      "\r",
      "  5%|███▊                                                                          | 80/1623 [15:38<4:28:19, 10.43s/it]"
     ]
    },
    {
     "name": "stdout",
     "output_type": "stream",
     "text": [
      "18/8/2018  완료\n",
      "1661\n"
     ]
    },
    {
     "name": "stderr",
     "output_type": "stream",
     "text": [
      "\r",
      "  5%|███▉                                                                          | 81/1623 [15:51<4:44:19, 11.06s/it]"
     ]
    },
    {
     "name": "stdout",
     "output_type": "stream",
     "text": [
      "19/8/2018  완료\n",
      "1684\n"
     ]
    },
    {
     "name": "stderr",
     "output_type": "stream",
     "text": [
      "\r",
      "  5%|███▉                                                                          | 82/1623 [16:04<5:03:47, 11.83s/it]"
     ]
    },
    {
     "name": "stdout",
     "output_type": "stream",
     "text": [
      "2/8/2018  완료\n",
      "1706\n"
     ]
    },
    {
     "name": "stderr",
     "output_type": "stream",
     "text": [
      "\r",
      "  5%|███▉                                                                          | 83/1623 [16:09<4:06:49,  9.62s/it]"
     ]
    },
    {
     "name": "stdout",
     "output_type": "stream",
     "text": [
      "21/8/2018  완료\n",
      "1710\n"
     ]
    },
    {
     "name": "stderr",
     "output_type": "stream",
     "text": [
      "\r",
      "  5%|████                                                                          | 84/1623 [16:22<4:36:50, 10.79s/it]"
     ]
    },
    {
     "name": "stdout",
     "output_type": "stream",
     "text": [
      "22/8/2018  완료\n",
      "1736\n"
     ]
    },
    {
     "name": "stderr",
     "output_type": "stream",
     "text": [
      "\r",
      "  5%|████                                                                          | 85/1623 [16:36<5:01:35, 11.77s/it]"
     ]
    },
    {
     "name": "stdout",
     "output_type": "stream",
     "text": [
      "23/8/2018  완료\n",
      "1758\n"
     ]
    },
    {
     "name": "stderr",
     "output_type": "stream",
     "text": [
      "\r",
      "  5%|████▏                                                                         | 86/1623 [16:43<4:20:56, 10.19s/it]"
     ]
    },
    {
     "name": "stdout",
     "output_type": "stream",
     "text": [
      "24/8/2018  완료\n",
      "1766\n"
     ]
    },
    {
     "name": "stderr",
     "output_type": "stream",
     "text": [
      "\r",
      "  5%|████▏                                                                         | 87/1623 [16:58<4:59:56, 11.72s/it]"
     ]
    },
    {
     "name": "stdout",
     "output_type": "stream",
     "text": [
      "25/8/2018  완료\n",
      "1793\n"
     ]
    },
    {
     "name": "stderr",
     "output_type": "stream",
     "text": [
      "\r",
      "  5%|████▏                                                                         | 88/1623 [16:59<3:36:30,  8.46s/it]"
     ]
    },
    {
     "name": "stdout",
     "output_type": "stream",
     "text": [
      "26/8/2018  완료\n",
      "1793\n"
     ]
    },
    {
     "name": "stderr",
     "output_type": "stream",
     "text": [
      "\r",
      "  5%|████▎                                                                         | 89/1623 [17:03<3:01:20,  7.09s/it]"
     ]
    },
    {
     "name": "stdout",
     "output_type": "stream",
     "text": [
      "27/8/2018  완료\n",
      "1803\n"
     ]
    },
    {
     "name": "stderr",
     "output_type": "stream",
     "text": [
      "\r",
      "  6%|████▎                                                                         | 90/1623 [17:17<3:54:11,  9.17s/it]"
     ]
    },
    {
     "name": "stdout",
     "output_type": "stream",
     "text": [
      "28/8/2018  완료\n",
      "1824\n"
     ]
    },
    {
     "name": "stderr",
     "output_type": "stream",
     "text": [
      "\r",
      "  6%|████▎                                                                         | 91/1623 [17:25<3:50:08,  9.01s/it]"
     ]
    },
    {
     "name": "stdout",
     "output_type": "stream",
     "text": [
      "29/8/2018  완료\n",
      "1840\n"
     ]
    },
    {
     "name": "stderr",
     "output_type": "stream",
     "text": [
      "\r",
      "  6%|████▍                                                                         | 92/1623 [17:37<4:11:59,  9.88s/it]"
     ]
    },
    {
     "name": "stdout",
     "output_type": "stream",
     "text": [
      "3/8/2018  완료\n",
      "1870\n"
     ]
    },
    {
     "name": "stderr",
     "output_type": "stream",
     "text": [
      "\r",
      "  6%|████▍                                                                         | 93/1623 [17:54<5:01:48, 11.84s/it]"
     ]
    },
    {
     "name": "stdout",
     "output_type": "stream",
     "text": [
      "31/8/2018  완료\n",
      "1893\n"
     ]
    },
    {
     "name": "stderr",
     "output_type": "stream",
     "text": [
      "\r",
      "  6%|████▌                                                                         | 94/1623 [18:15<6:16:05, 14.76s/it]"
     ]
    },
    {
     "name": "stdout",
     "output_type": "stream",
     "text": [
      "1/9/2018  완료\n",
      "1925\n"
     ]
    },
    {
     "name": "stderr",
     "output_type": "stream",
     "text": [
      "\r",
      "  6%|████▌                                                                         | 95/1623 [18:35<6:52:11, 16.19s/it]"
     ]
    },
    {
     "name": "stdout",
     "output_type": "stream",
     "text": [
      "2/9/2018  완료\n",
      "1960\n"
     ]
    },
    {
     "name": "stderr",
     "output_type": "stream",
     "text": [
      "\r",
      "  6%|████▌                                                                         | 96/1623 [18:43<5:49:03, 13.72s/it]"
     ]
    },
    {
     "name": "stdout",
     "output_type": "stream",
     "text": [
      "3/9/2018  완료\n",
      "1975\n"
     ]
    },
    {
     "name": "stderr",
     "output_type": "stream",
     "text": [
      "\r",
      "  6%|████▋                                                                         | 97/1623 [19:01<6:22:00, 15.02s/it]"
     ]
    },
    {
     "name": "stdout",
     "output_type": "stream",
     "text": [
      "4/9/2018  완료\n",
      "2009\n"
     ]
    },
    {
     "name": "stderr",
     "output_type": "stream",
     "text": [
      "\r",
      "  6%|████▋                                                                         | 98/1623 [19:14<6:10:23, 14.57s/it]"
     ]
    },
    {
     "name": "stdout",
     "output_type": "stream",
     "text": [
      "5/9/2018  완료\n",
      "2034\n"
     ]
    },
    {
     "name": "stderr",
     "output_type": "stream",
     "text": [
      "\r",
      "  6%|████▊                                                                         | 99/1623 [19:21<5:07:55, 12.12s/it]"
     ]
    },
    {
     "name": "stdout",
     "output_type": "stream",
     "text": [
      "6/9/2018  완료\n",
      "2044\n"
     ]
    },
    {
     "name": "stderr",
     "output_type": "stream",
     "text": [
      "\r",
      "  6%|████▋                                                                        | 100/1623 [19:36<5:28:12, 12.93s/it]"
     ]
    },
    {
     "name": "stdout",
     "output_type": "stream",
     "text": [
      "7/9/2018  완료\n",
      "2067\n"
     ]
    },
    {
     "name": "stderr",
     "output_type": "stream",
     "text": [
      "\r",
      "  6%|████▊                                                                        | 101/1623 [19:46<5:11:09, 12.27s/it]"
     ]
    },
    {
     "name": "stdout",
     "output_type": "stream",
     "text": [
      "8/9/2018  완료\n",
      "2093\n"
     ]
    },
    {
     "name": "stderr",
     "output_type": "stream",
     "text": [
      "\r",
      "  6%|████▊                                                                        | 102/1623 [19:52<4:19:08, 10.22s/it]"
     ]
    },
    {
     "name": "stdout",
     "output_type": "stream",
     "text": [
      "9/9/2018  완료\n",
      "2103\n"
     ]
    },
    {
     "name": "stderr",
     "output_type": "stream",
     "text": [
      "\r",
      "  6%|████▉                                                                        | 103/1623 [20:08<5:06:20, 12.09s/it]"
     ]
    },
    {
     "name": "stdout",
     "output_type": "stream",
     "text": [
      "1/9/2018  완료\n",
      "2135\n"
     ]
    },
    {
     "name": "stderr",
     "output_type": "stream",
     "text": [
      "\r",
      "  6%|████▉                                                                        | 104/1623 [20:25<5:43:26, 13.57s/it]"
     ]
    },
    {
     "name": "stdout",
     "output_type": "stream",
     "text": [
      "11/9/2018  완료\n",
      "2165\n"
     ]
    },
    {
     "name": "stderr",
     "output_type": "stream",
     "text": [
      "\r",
      "  6%|████▉                                                                        | 105/1623 [20:29<4:26:46, 10.54s/it]"
     ]
    },
    {
     "name": "stdout",
     "output_type": "stream",
     "text": [
      "12/9/2018  완료\n",
      "2167\n"
     ]
    },
    {
     "name": "stderr",
     "output_type": "stream",
     "text": [
      "\r",
      "  7%|█████                                                                        | 106/1623 [20:42<4:45:41, 11.30s/it]"
     ]
    },
    {
     "name": "stdout",
     "output_type": "stream",
     "text": [
      "13/9/2018  완료\n",
      "2196\n"
     ]
    },
    {
     "name": "stderr",
     "output_type": "stream",
     "text": [
      "\r",
      "  7%|█████                                                                        | 107/1623 [20:47<3:57:49,  9.41s/it]"
     ]
    },
    {
     "name": "stdout",
     "output_type": "stream",
     "text": [
      "14/9/2018  완료\n",
      "2199\n"
     ]
    },
    {
     "name": "stderr",
     "output_type": "stream",
     "text": [
      "\r",
      "  7%|█████                                                                        | 108/1623 [20:52<3:25:30,  8.14s/it]"
     ]
    },
    {
     "name": "stdout",
     "output_type": "stream",
     "text": [
      "15/9/2018  완료\n",
      "2201\n"
     ]
    },
    {
     "name": "stderr",
     "output_type": "stream",
     "text": [
      "\r",
      "  7%|█████▏                                                                       | 109/1623 [21:06<4:06:14,  9.76s/it]"
     ]
    },
    {
     "name": "stdout",
     "output_type": "stream",
     "text": [
      "16/9/2018  완료\n",
      "2229\n"
     ]
    },
    {
     "name": "stderr",
     "output_type": "stream",
     "text": [
      "\r",
      "  7%|█████▏                                                                       | 110/1623 [21:30<5:54:49, 14.07s/it]"
     ]
    },
    {
     "name": "stdout",
     "output_type": "stream",
     "text": [
      "17/9/2018  완료\n",
      "2262\n"
     ]
    },
    {
     "name": "stderr",
     "output_type": "stream",
     "text": [
      "\r",
      "  7%|█████▎                                                                       | 111/1623 [21:35<4:51:53, 11.58s/it]"
     ]
    },
    {
     "name": "stdout",
     "output_type": "stream",
     "text": [
      "18/9/2018  완료\n",
      "2263\n"
     ]
    },
    {
     "name": "stderr",
     "output_type": "stream",
     "text": [
      "\r",
      "  7%|█████▎                                                                       | 112/1623 [21:51<5:19:38, 12.69s/it]"
     ]
    },
    {
     "name": "stdout",
     "output_type": "stream",
     "text": [
      "19/9/2018  완료\n",
      "2289\n"
     ]
    },
    {
     "name": "stderr",
     "output_type": "stream",
     "text": [
      "\r",
      "  7%|█████▎                                                                       | 113/1623 [22:09<6:00:41, 14.33s/it]"
     ]
    },
    {
     "name": "stdout",
     "output_type": "stream",
     "text": [
      "2/9/2018  완료\n",
      "2321\n"
     ]
    },
    {
     "name": "stderr",
     "output_type": "stream",
     "text": [
      "\r",
      "  7%|█████▍                                                                       | 114/1623 [22:23<5:58:37, 14.26s/it]"
     ]
    },
    {
     "name": "stdout",
     "output_type": "stream",
     "text": [
      "21/9/2018  완료\n",
      "2344\n"
     ]
    },
    {
     "name": "stderr",
     "output_type": "stream",
     "text": [
      "\r",
      "  7%|█████▍                                                                       | 115/1623 [22:38<6:02:43, 14.43s/it]"
     ]
    },
    {
     "name": "stdout",
     "output_type": "stream",
     "text": [
      "22/9/2018  완료\n",
      "2370\n"
     ]
    },
    {
     "name": "stderr",
     "output_type": "stream",
     "text": [
      "\r",
      "  7%|█████▌                                                                       | 116/1623 [22:43<4:50:47, 11.58s/it]"
     ]
    },
    {
     "name": "stdout",
     "output_type": "stream",
     "text": [
      "23/9/2018  완료\n",
      "2377\n"
     ]
    },
    {
     "name": "stderr",
     "output_type": "stream",
     "text": [
      "\r",
      "  7%|█████▌                                                                       | 117/1623 [22:58<5:17:26, 12.65s/it]"
     ]
    },
    {
     "name": "stdout",
     "output_type": "stream",
     "text": [
      "24/9/2018  완료\n",
      "2402\n"
     ]
    },
    {
     "name": "stderr",
     "output_type": "stream",
     "text": [
      "\r",
      "  7%|█████▌                                                                       | 118/1623 [23:14<5:46:07, 13.80s/it]"
     ]
    },
    {
     "name": "stdout",
     "output_type": "stream",
     "text": [
      "25/9/2018  완료\n",
      "2423\n"
     ]
    },
    {
     "name": "stderr",
     "output_type": "stream",
     "text": [
      "\r",
      "  7%|█████▋                                                                       | 119/1623 [23:18<4:33:10, 10.90s/it]"
     ]
    },
    {
     "name": "stdout",
     "output_type": "stream",
     "text": [
      "26/9/2018  완료\n",
      "2427\n"
     ]
    },
    {
     "name": "stderr",
     "output_type": "stream",
     "text": [
      "\r",
      "  7%|█████▋                                                                       | 120/1623 [23:31<4:44:38, 11.36s/it]"
     ]
    },
    {
     "name": "stdout",
     "output_type": "stream",
     "text": [
      "27/9/2018  완료\n",
      "2454\n"
     ]
    },
    {
     "name": "stderr",
     "output_type": "stream",
     "text": [
      "\r",
      "  7%|█████▋                                                                       | 121/1623 [23:45<5:07:47, 12.30s/it]"
     ]
    },
    {
     "name": "stdout",
     "output_type": "stream",
     "text": [
      "28/9/2018  완료\n",
      "2479\n"
     ]
    },
    {
     "name": "stderr",
     "output_type": "stream",
     "text": [
      "\r",
      "  8%|█████▊                                                                       | 122/1623 [23:49<4:05:27,  9.81s/it]"
     ]
    },
    {
     "name": "stdout",
     "output_type": "stream",
     "text": [
      "29/9/2018  완료\n",
      "2481\n"
     ]
    },
    {
     "name": "stderr",
     "output_type": "stream",
     "text": [
      "\r",
      "  8%|█████▊                                                                       | 123/1623 [24:00<4:08:37,  9.94s/it]"
     ]
    },
    {
     "name": "stdout",
     "output_type": "stream",
     "text": [
      "3/9/2018  완료\n",
      "2497\n"
     ]
    },
    {
     "name": "stderr",
     "output_type": "stream",
     "text": [
      "\r",
      "  8%|█████▉                                                                       | 124/1623 [24:10<4:12:22, 10.10s/it]"
     ]
    },
    {
     "name": "stdout",
     "output_type": "stream",
     "text": [
      "1/1/2018  완료\n",
      "2511\n"
     ]
    },
    {
     "name": "stderr",
     "output_type": "stream",
     "text": [
      "\r",
      "  8%|█████▉                                                                       | 125/1623 [24:28<5:10:49, 12.45s/it]"
     ]
    },
    {
     "name": "stdout",
     "output_type": "stream",
     "text": [
      "2/1/2018  완료\n",
      "2541\n"
     ]
    },
    {
     "name": "stderr",
     "output_type": "stream",
     "text": [
      "\r",
      "  8%|█████▉                                                                       | 126/1623 [24:40<5:06:52, 12.30s/it]"
     ]
    },
    {
     "name": "stdout",
     "output_type": "stream",
     "text": [
      "3/1/2018  완료\n",
      "2558\n"
     ]
    },
    {
     "name": "stderr",
     "output_type": "stream",
     "text": [
      "\r",
      "  8%|██████                                                                       | 127/1623 [24:45<4:15:15, 10.24s/it]"
     ]
    },
    {
     "name": "stdout",
     "output_type": "stream",
     "text": [
      "4/1/2018  완료\n",
      "2564\n"
     ]
    },
    {
     "name": "stderr",
     "output_type": "stream",
     "text": [
      "\r",
      "  8%|██████                                                                       | 128/1623 [25:00<4:48:45, 11.59s/it]"
     ]
    },
    {
     "name": "stdout",
     "output_type": "stream",
     "text": [
      "5/1/2018  완료\n",
      "2584\n"
     ]
    },
    {
     "name": "stderr",
     "output_type": "stream",
     "text": [
      "\r",
      "  8%|██████                                                                       | 129/1623 [25:12<4:50:52, 11.68s/it]"
     ]
    },
    {
     "name": "stdout",
     "output_type": "stream",
     "text": [
      "6/1/2018  완료\n",
      "2602\n"
     ]
    },
    {
     "name": "stderr",
     "output_type": "stream",
     "text": [
      "\r",
      "  8%|██████▏                                                                      | 130/1623 [25:18<4:05:46,  9.88s/it]"
     ]
    },
    {
     "name": "stdout",
     "output_type": "stream",
     "text": [
      "7/1/2018  완료\n",
      "2611\n"
     ]
    },
    {
     "name": "stderr",
     "output_type": "stream",
     "text": [
      "\r",
      "  8%|██████▏                                                                      | 131/1623 [25:31<4:29:37, 10.84s/it]"
     ]
    },
    {
     "name": "stdout",
     "output_type": "stream",
     "text": [
      "8/1/2018  완료\n",
      "2638\n"
     ]
    },
    {
     "name": "stderr",
     "output_type": "stream",
     "text": [
      "\r",
      "  8%|██████▎                                                                      | 132/1623 [25:35<3:38:47,  8.80s/it]"
     ]
    },
    {
     "name": "stdout",
     "output_type": "stream",
     "text": [
      "9/1/2018  완료\n",
      "2641\n"
     ]
    },
    {
     "name": "stderr",
     "output_type": "stream",
     "text": [
      "\r",
      "  8%|██████▎                                                                      | 133/1623 [25:45<3:50:26,  9.28s/it]"
     ]
    },
    {
     "name": "stdout",
     "output_type": "stream",
     "text": [
      "1/1/2018  완료\n",
      "2655\n"
     ]
    },
    {
     "name": "stderr",
     "output_type": "stream",
     "text": [
      "\r",
      "  8%|██████▎                                                                      | 134/1623 [26:03<4:52:16, 11.78s/it]"
     ]
    },
    {
     "name": "stdout",
     "output_type": "stream",
     "text": [
      "11/1/2018  완료\n",
      "2690\n"
     ]
    },
    {
     "name": "stderr",
     "output_type": "stream",
     "text": [
      "\r",
      "  8%|██████▍                                                                      | 135/1623 [26:07<3:56:07,  9.52s/it]"
     ]
    },
    {
     "name": "stdout",
     "output_type": "stream",
     "text": [
      "12/1/2018  완료\n",
      "2695\n"
     ]
    },
    {
     "name": "stderr",
     "output_type": "stream",
     "text": [
      "\r",
      "  8%|██████▍                                                                      | 136/1623 [26:13<3:28:47,  8.42s/it]"
     ]
    },
    {
     "name": "stdout",
     "output_type": "stream",
     "text": [
      "13/1/2018  완료\n",
      "2702\n"
     ]
    },
    {
     "name": "stderr",
     "output_type": "stream",
     "text": [
      "\r",
      "  8%|██████▍                                                                      | 137/1623 [26:22<3:33:32,  8.62s/it]"
     ]
    },
    {
     "name": "stdout",
     "output_type": "stream",
     "text": [
      "14/1/2018  완료\n",
      "2719\n"
     ]
    },
    {
     "name": "stderr",
     "output_type": "stream",
     "text": [
      "\r",
      "  9%|██████▌                                                                      | 138/1623 [26:31<3:35:39,  8.71s/it]"
     ]
    },
    {
     "name": "stdout",
     "output_type": "stream",
     "text": [
      "15/1/2018  완료\n",
      "2736\n"
     ]
    },
    {
     "name": "stderr",
     "output_type": "stream",
     "text": [
      "\r",
      "  9%|██████▌                                                                      | 139/1623 [26:46<4:20:12, 10.52s/it]"
     ]
    },
    {
     "name": "stdout",
     "output_type": "stream",
     "text": [
      "16/1/2018  완료\n",
      "2757\n"
     ]
    },
    {
     "name": "stderr",
     "output_type": "stream",
     "text": [
      "\r",
      "  9%|██████▋                                                                      | 140/1623 [27:01<4:57:48, 12.05s/it]"
     ]
    },
    {
     "name": "stdout",
     "output_type": "stream",
     "text": [
      "17/1/2018  완료\n",
      "2785\n"
     ]
    },
    {
     "name": "stderr",
     "output_type": "stream",
     "text": [
      "\r",
      "  9%|██████▋                                                                      | 141/1623 [27:07<4:09:06, 10.09s/it]"
     ]
    },
    {
     "name": "stdout",
     "output_type": "stream",
     "text": [
      "18/1/2018  완료\n",
      "2787\n"
     ]
    },
    {
     "name": "stderr",
     "output_type": "stream",
     "text": [
      "\r",
      "  9%|██████▋                                                                      | 142/1623 [27:23<4:50:46, 11.78s/it]"
     ]
    },
    {
     "name": "stdout",
     "output_type": "stream",
     "text": [
      "19/1/2018  완료\n",
      "2815\n"
     ]
    },
    {
     "name": "stderr",
     "output_type": "stream",
     "text": [
      "\r",
      "  9%|██████▊                                                                      | 143/1623 [27:36<5:04:34, 12.35s/it]"
     ]
    },
    {
     "name": "stdout",
     "output_type": "stream",
     "text": [
      "2/1/2018  완료\n",
      "2845\n"
     ]
    },
    {
     "name": "stderr",
     "output_type": "stream",
     "text": [
      "\r",
      "  9%|██████▊                                                                      | 144/1623 [27:41<4:05:01,  9.94s/it]"
     ]
    },
    {
     "name": "stdout",
     "output_type": "stream",
     "text": [
      "21/1/2018  완료\n",
      "2851\n"
     ]
    },
    {
     "name": "stderr",
     "output_type": "stream",
     "text": [
      "\r",
      "  9%|██████▉                                                                      | 145/1623 [27:53<4:21:09, 10.60s/it]"
     ]
    },
    {
     "name": "stdout",
     "output_type": "stream",
     "text": [
      "22/1/2018  완료\n",
      "2871\n"
     ]
    },
    {
     "name": "stderr",
     "output_type": "stream",
     "text": [
      "\r",
      "  9%|██████▉                                                                      | 146/1623 [28:01<4:06:46, 10.02s/it]"
     ]
    },
    {
     "name": "stdout",
     "output_type": "stream",
     "text": [
      "23/1/2018  완료\n",
      "2888\n"
     ]
    },
    {
     "name": "stderr",
     "output_type": "stream",
     "text": [
      "\r",
      "  9%|██████▉                                                                      | 147/1623 [28:07<3:34:30,  8.72s/it]"
     ]
    },
    {
     "name": "stdout",
     "output_type": "stream",
     "text": [
      "24/1/2018  완료\n",
      "2897\n"
     ]
    },
    {
     "name": "stderr",
     "output_type": "stream",
     "text": [
      "\r",
      "  9%|███████                                                                      | 148/1623 [28:13<3:16:15,  7.98s/it]"
     ]
    },
    {
     "name": "stdout",
     "output_type": "stream",
     "text": [
      "25/1/2018  완료\n",
      "2905\n"
     ]
    },
    {
     "name": "stderr",
     "output_type": "stream",
     "text": [
      "\r",
      "  9%|███████                                                                      | 149/1623 [28:19<2:59:56,  7.32s/it]"
     ]
    },
    {
     "name": "stdout",
     "output_type": "stream",
     "text": [
      "26/1/2018  완료\n",
      "2909\n"
     ]
    },
    {
     "name": "stderr",
     "output_type": "stream",
     "text": [
      "\r",
      "  9%|███████                                                                      | 150/1623 [28:25<2:47:57,  6.84s/it]"
     ]
    },
    {
     "name": "stdout",
     "output_type": "stream",
     "text": [
      "27/1/2018  완료\n",
      "2919\n"
     ]
    },
    {
     "name": "stderr",
     "output_type": "stream",
     "text": [
      "\r",
      "  9%|███████▏                                                                     | 151/1623 [28:37<3:29:10,  8.53s/it]"
     ]
    },
    {
     "name": "stdout",
     "output_type": "stream",
     "text": [
      "28/1/2018  완료\n",
      "2945\n"
     ]
    },
    {
     "name": "stderr",
     "output_type": "stream",
     "text": [
      "\r",
      "  9%|███████▏                                                                     | 152/1623 [28:51<4:07:38, 10.10s/it]"
     ]
    },
    {
     "name": "stdout",
     "output_type": "stream",
     "text": [
      "29/1/2018  완료\n",
      "2971\n"
     ]
    },
    {
     "name": "stderr",
     "output_type": "stream",
     "text": [
      "\r",
      "  9%|███████▎                                                                     | 153/1623 [29:01<4:03:10,  9.93s/it]"
     ]
    },
    {
     "name": "stdout",
     "output_type": "stream",
     "text": [
      "3/1/2018  완료\n",
      "2988\n"
     ]
    },
    {
     "name": "stderr",
     "output_type": "stream",
     "text": [
      "\r",
      "  9%|███████▎                                                                     | 154/1623 [29:21<5:23:31, 13.21s/it]"
     ]
    },
    {
     "name": "stdout",
     "output_type": "stream",
     "text": [
      "31/1/2018  완료\n",
      "3022\n"
     ]
    },
    {
     "name": "stderr",
     "output_type": "stream",
     "text": [
      "\r",
      " 10%|███████▎                                                                     | 155/1623 [29:36<5:29:30, 13.47s/it]"
     ]
    },
    {
     "name": "stdout",
     "output_type": "stream",
     "text": [
      "1/11/2018  완료\n",
      "3048\n"
     ]
    },
    {
     "name": "stderr",
     "output_type": "stream",
     "text": [
      "\r",
      " 10%|███████▍                                                                     | 156/1623 [29:39<4:18:45, 10.58s/it]"
     ]
    },
    {
     "name": "stdout",
     "output_type": "stream",
     "text": [
      "2/11/2018  완료\n",
      "3052\n"
     ]
    },
    {
     "name": "stderr",
     "output_type": "stream",
     "text": [
      "\r",
      " 10%|███████▍                                                                     | 157/1623 [29:44<3:37:45,  8.91s/it]"
     ]
    },
    {
     "name": "stdout",
     "output_type": "stream",
     "text": [
      "3/11/2018  완료\n",
      "3062\n"
     ]
    },
    {
     "name": "stderr",
     "output_type": "stream",
     "text": [
      "\r",
      " 10%|███████▍                                                                     | 158/1623 [29:57<4:07:52, 10.15s/it]"
     ]
    },
    {
     "name": "stdout",
     "output_type": "stream",
     "text": [
      "4/11/2018  완료\n",
      "3088\n"
     ]
    },
    {
     "name": "stderr",
     "output_type": "stream",
     "text": [
      "\r",
      " 10%|███████▌                                                                     | 159/1623 [30:13<4:45:17, 11.69s/it]"
     ]
    },
    {
     "name": "stdout",
     "output_type": "stream",
     "text": [
      "5/11/2018  완료\n",
      "3112\n"
     ]
    },
    {
     "name": "stderr",
     "output_type": "stream",
     "text": [
      "\r",
      " 10%|███████▌                                                                     | 160/1623 [30:27<5:00:32, 12.33s/it]"
     ]
    },
    {
     "name": "stdout",
     "output_type": "stream",
     "text": [
      "6/11/2018  완료\n",
      "3141\n"
     ]
    },
    {
     "name": "stderr",
     "output_type": "stream",
     "text": [
      "\r",
      " 10%|███████▋                                                                     | 161/1623 [30:47<5:57:38, 14.68s/it]"
     ]
    },
    {
     "name": "stdout",
     "output_type": "stream",
     "text": [
      "7/11/2018  완료\n",
      "3172\n"
     ]
    },
    {
     "name": "stderr",
     "output_type": "stream",
     "text": [
      "\r",
      " 10%|███████▋                                                                     | 162/1623 [30:51<4:41:59, 11.58s/it]"
     ]
    },
    {
     "name": "stdout",
     "output_type": "stream",
     "text": [
      "8/11/2018  완료\n",
      "3174\n"
     ]
    },
    {
     "name": "stderr",
     "output_type": "stream",
     "text": [
      "\r",
      " 10%|███████▋                                                                     | 163/1623 [31:04<4:55:10, 12.13s/it]"
     ]
    },
    {
     "name": "stdout",
     "output_type": "stream",
     "text": [
      "9/11/2018  완료\n",
      "3200\n"
     ]
    },
    {
     "name": "stderr",
     "output_type": "stream",
     "text": [
      "\r",
      " 10%|███████▊                                                                     | 164/1623 [31:17<5:00:21, 12.35s/it]"
     ]
    },
    {
     "name": "stdout",
     "output_type": "stream",
     "text": [
      "1/11/2018  완료\n",
      "3226\n"
     ]
    },
    {
     "name": "stderr",
     "output_type": "stream",
     "text": [
      "\r",
      " 10%|███████▊                                                                     | 165/1623 [31:22<4:02:36,  9.98s/it]"
     ]
    },
    {
     "name": "stdout",
     "output_type": "stream",
     "text": [
      "11/11/2018  완료\n",
      "3233\n"
     ]
    },
    {
     "name": "stderr",
     "output_type": "stream",
     "text": [
      "\r",
      " 10%|███████▉                                                                     | 166/1623 [31:35<4:22:13, 10.80s/it]"
     ]
    },
    {
     "name": "stdout",
     "output_type": "stream",
     "text": [
      "12/11/2018  완료\n",
      "3259\n"
     ]
    },
    {
     "name": "stderr",
     "output_type": "stream",
     "text": [
      "\r",
      " 10%|███████▉                                                                     | 167/1623 [31:51<5:03:30, 12.51s/it]"
     ]
    },
    {
     "name": "stdout",
     "output_type": "stream",
     "text": [
      "13/11/2018  완료\n",
      "3282\n"
     ]
    },
    {
     "name": "stderr",
     "output_type": "stream",
     "text": [
      "\r",
      " 10%|███████▉                                                                     | 168/1623 [32:12<6:05:21, 15.07s/it]"
     ]
    },
    {
     "name": "stdout",
     "output_type": "stream",
     "text": [
      "14/11/2018  완료\n",
      "3312\n"
     ]
    },
    {
     "name": "stderr",
     "output_type": "stream",
     "text": [
      "\r",
      " 10%|████████                                                                     | 169/1623 [32:20<5:15:25, 13.02s/it]"
     ]
    },
    {
     "name": "stdout",
     "output_type": "stream",
     "text": [
      "15/11/2018  완료\n",
      "3330\n"
     ]
    },
    {
     "name": "stderr",
     "output_type": "stream",
     "text": [
      "\r",
      " 10%|████████                                                                     | 170/1623 [32:31<4:59:35, 12.37s/it]"
     ]
    },
    {
     "name": "stdout",
     "output_type": "stream",
     "text": [
      "16/11/2018  완료\n",
      "3348\n"
     ]
    },
    {
     "name": "stderr",
     "output_type": "stream",
     "text": [
      "\r",
      " 11%|████████                                                                     | 171/1623 [32:36<4:07:26, 10.23s/it]"
     ]
    },
    {
     "name": "stdout",
     "output_type": "stream",
     "text": [
      "17/11/2018  완료\n",
      "3350\n"
     ]
    },
    {
     "name": "stderr",
     "output_type": "stream",
     "text": [
      "\r",
      " 11%|████████▏                                                                    | 172/1623 [32:54<5:00:03, 12.41s/it]"
     ]
    },
    {
     "name": "stdout",
     "output_type": "stream",
     "text": [
      "18/11/2018  완료\n",
      "3381\n"
     ]
    },
    {
     "name": "stderr",
     "output_type": "stream",
     "text": [
      "\r",
      " 11%|████████▏                                                                    | 173/1623 [33:14<5:57:01, 14.77s/it]"
     ]
    },
    {
     "name": "stdout",
     "output_type": "stream",
     "text": [
      "19/11/2018  완료\n",
      "3411\n"
     ]
    },
    {
     "name": "stderr",
     "output_type": "stream",
     "text": [
      "\r",
      " 11%|████████▎                                                                    | 174/1623 [33:20<4:53:32, 12.15s/it]"
     ]
    },
    {
     "name": "stdout",
     "output_type": "stream",
     "text": [
      "2/11/2018  완료\n",
      "3415\n"
     ]
    },
    {
     "name": "stderr",
     "output_type": "stream",
     "text": [
      "\r",
      " 11%|████████▎                                                                    | 175/1623 [33:32<4:48:24, 11.95s/it]"
     ]
    },
    {
     "name": "stdout",
     "output_type": "stream",
     "text": [
      "21/11/2018  완료\n",
      "3441\n"
     ]
    },
    {
     "name": "stderr",
     "output_type": "stream",
     "text": [
      "\r",
      " 11%|████████▎                                                                    | 176/1623 [33:47<5:14:26, 13.04s/it]"
     ]
    },
    {
     "name": "stdout",
     "output_type": "stream",
     "text": [
      "22/11/2018  완료\n",
      "3465\n"
     ]
    },
    {
     "name": "stderr",
     "output_type": "stream",
     "text": [
      "\r",
      " 11%|████████▍                                                                    | 177/1623 [33:59<5:07:38, 12.77s/it]"
     ]
    },
    {
     "name": "stdout",
     "output_type": "stream",
     "text": [
      "23/11/2018  완료\n",
      "3489\n"
     ]
    },
    {
     "name": "stderr",
     "output_type": "stream",
     "text": [
      "\r",
      " 11%|████████▍                                                                    | 178/1623 [34:15<5:28:00, 13.62s/it]"
     ]
    },
    {
     "name": "stdout",
     "output_type": "stream",
     "text": [
      "24/11/2018  완료\n",
      "3512\n"
     ]
    },
    {
     "name": "stderr",
     "output_type": "stream",
     "text": [
      "\r",
      " 11%|████████▍                                                                    | 179/1623 [34:16<3:55:53,  9.80s/it]"
     ]
    },
    {
     "name": "stdout",
     "output_type": "stream",
     "text": [
      "25/11/2018  완료\n",
      "3512\n"
     ]
    },
    {
     "name": "stderr",
     "output_type": "stream",
     "text": [
      "\r",
      " 11%|████████▌                                                                    | 180/1623 [34:31<4:37:38, 11.54s/it]"
     ]
    },
    {
     "name": "stdout",
     "output_type": "stream",
     "text": [
      "26/11/2018  완료\n",
      "3533\n"
     ]
    },
    {
     "name": "stderr",
     "output_type": "stream",
     "text": [
      "\r",
      " 11%|████████▌                                                                    | 181/1623 [34:42<4:31:35, 11.30s/it]"
     ]
    },
    {
     "name": "stdout",
     "output_type": "stream",
     "text": [
      "27/11/2018  완료\n",
      "3553\n"
     ]
    },
    {
     "name": "stderr",
     "output_type": "stream",
     "text": [
      "\r",
      " 11%|████████▋                                                                    | 182/1623 [34:43<3:17:08,  8.21s/it]"
     ]
    },
    {
     "name": "stdout",
     "output_type": "stream",
     "text": [
      "28/11/2018  완료\n",
      "3553\n"
     ]
    },
    {
     "name": "stderr",
     "output_type": "stream",
     "text": [
      "\r",
      " 11%|████████▋                                                                    | 183/1623 [34:58<4:04:24, 10.18s/it]"
     ]
    },
    {
     "name": "stdout",
     "output_type": "stream",
     "text": [
      "29/11/2018  완료\n",
      "3578\n"
     ]
    },
    {
     "name": "stderr",
     "output_type": "stream",
     "text": [
      "\r",
      " 11%|████████▋                                                                    | 184/1623 [35:04<3:33:29,  8.90s/it]"
     ]
    },
    {
     "name": "stdout",
     "output_type": "stream",
     "text": [
      "3/11/2018  완료\n",
      "3588\n"
     ]
    },
    {
     "name": "stderr",
     "output_type": "stream",
     "text": [
      "\r",
      " 11%|████████▊                                                                    | 185/1623 [35:11<3:20:12,  8.35s/it]"
     ]
    },
    {
     "name": "stdout",
     "output_type": "stream",
     "text": [
      "1/12/2018  완료\n",
      "3608\n"
     ]
    },
    {
     "name": "stderr",
     "output_type": "stream",
     "text": [
      "\r",
      " 11%|████████▊                                                                    | 186/1623 [35:28<4:22:14, 10.95s/it]"
     ]
    },
    {
     "name": "stdout",
     "output_type": "stream",
     "text": [
      "2/12/2018  완료\n",
      "3636\n"
     ]
    },
    {
     "name": "stderr",
     "output_type": "stream",
     "text": [
      "\r",
      " 12%|████████▊                                                                    | 187/1623 [35:43<4:48:26, 12.05s/it]"
     ]
    },
    {
     "name": "stdout",
     "output_type": "stream",
     "text": [
      "3/12/2018  완료\n",
      "3658\n"
     ]
    },
    {
     "name": "stderr",
     "output_type": "stream",
     "text": [
      "\r",
      " 12%|████████▉                                                                    | 188/1623 [35:58<5:13:42, 13.12s/it]"
     ]
    },
    {
     "name": "stdout",
     "output_type": "stream",
     "text": [
      "4/12/2018  완료\n",
      "3687\n"
     ]
    },
    {
     "name": "stderr",
     "output_type": "stream",
     "text": [
      "\r",
      " 12%|████████▉                                                                    | 189/1623 [36:04<4:18:59, 10.84s/it]"
     ]
    },
    {
     "name": "stdout",
     "output_type": "stream",
     "text": [
      "5/12/2018  완료\n",
      "3694\n"
     ]
    },
    {
     "name": "stderr",
     "output_type": "stream",
     "text": [
      "\r",
      " 12%|█████████                                                                    | 190/1623 [36:24<5:29:12, 13.78s/it]"
     ]
    },
    {
     "name": "stdout",
     "output_type": "stream",
     "text": [
      "6/12/2018  완료\n",
      "3729\n"
     ]
    },
    {
     "name": "stderr",
     "output_type": "stream",
     "text": [
      "\r",
      " 12%|█████████                                                                    | 191/1623 [36:37<5:21:12, 13.46s/it]"
     ]
    },
    {
     "name": "stdout",
     "output_type": "stream",
     "text": [
      "7/12/2018  완료\n",
      "3757\n"
     ]
    },
    {
     "name": "stderr",
     "output_type": "stream",
     "text": [
      "\r",
      " 12%|█████████                                                                    | 192/1623 [36:41<4:15:24, 10.71s/it]"
     ]
    },
    {
     "name": "stdout",
     "output_type": "stream",
     "text": [
      "8/12/2018  완료\n",
      "3765\n"
     ]
    },
    {
     "name": "stderr",
     "output_type": "stream",
     "text": [
      "\r",
      " 12%|█████████▏                                                                   | 193/1623 [37:01<5:17:21, 13.32s/it]"
     ]
    },
    {
     "name": "stdout",
     "output_type": "stream",
     "text": [
      "9/12/2018  완료\n",
      "3805\n"
     ]
    },
    {
     "name": "stderr",
     "output_type": "stream",
     "text": [
      " 12%|████████▋                                                               | 196/1623 [1:02:36<100:16:30, 252.97s/it]"
     ]
    },
    {
     "name": "stdout",
     "output_type": "stream",
     "text": [
      "1/12/2018  완료\n",
      "3825\n",
      "11/12/2018  완료\n",
      "3825\n",
      "12/12/2018  완료\n",
      "3825\n"
     ]
    },
    {
     "name": "stderr",
     "output_type": "stream",
     "text": [
      "\r",
      " 12%|████████▉                                                                | 198/1623 [1:02:36<60:21:31, 152.49s/it]"
     ]
    },
    {
     "name": "stdout",
     "output_type": "stream",
     "text": [
      "13/12/2018  완료\n",
      "3825\n",
      "14/12/2018  완료\n",
      "3825\n",
      "15/12/2018  완료\n",
      "3825\n"
     ]
    },
    {
     "name": "stderr",
     "output_type": "stream",
     "text": [
      " 12%|█████████▏                                                                | 202/1623 [1:02:36<25:19:18, 64.15s/it]"
     ]
    },
    {
     "name": "stdout",
     "output_type": "stream",
     "text": [
      "16/12/2018  완료\n",
      "3825\n",
      "17/12/2018  완료\n",
      "3825\n",
      "18/12/2018  완료\n",
      "3825\n"
     ]
    },
    {
     "name": "stderr",
     "output_type": "stream",
     "text": [
      "\r",
      " 13%|█████████▎                                                                | 204/1623 [1:02:36<17:00:50, 43.16s/it]"
     ]
    },
    {
     "name": "stdout",
     "output_type": "stream",
     "text": [
      "19/12/2018  완료\n",
      "3825\n",
      "2/12/2018  완료\n",
      "3825\n",
      "21/12/2018  완료\n",
      "3825\n"
     ]
    },
    {
     "name": "stderr",
     "output_type": "stream",
     "text": [
      " 13%|█████████▌                                                                 | 208/1623 [1:02:37<7:57:44, 20.26s/it]"
     ]
    },
    {
     "name": "stdout",
     "output_type": "stream",
     "text": [
      "22/12/2018  완료\n",
      "3825\n",
      "23/12/2018  완료\n",
      "3825\n",
      "24/12/2018  완료\n",
      "3825\n"
     ]
    },
    {
     "name": "stderr",
     "output_type": "stream",
     "text": [
      "\r",
      " 13%|█████████▋                                                                 | 210/1623 [1:02:37<5:30:16, 14.02s/it]"
     ]
    },
    {
     "name": "stdout",
     "output_type": "stream",
     "text": [
      "25/12/2018  완료\n",
      "3825\n",
      "26/12/2018  완료\n",
      "3825\n",
      "27/12/2018  완료\n",
      "3825\n"
     ]
    },
    {
     "name": "stderr",
     "output_type": "stream",
     "text": [
      " 13%|█████████▉                                                                 | 214/1623 [1:02:37<2:39:55,  6.81s/it]"
     ]
    },
    {
     "name": "stdout",
     "output_type": "stream",
     "text": [
      "28/12/2018  완료\n",
      "3825\n",
      "29/12/2018  완료\n",
      "3825\n",
      "3/12/2018  완료\n",
      "3825\n"
     ]
    },
    {
     "name": "stderr",
     "output_type": "stream",
     "text": [
      "\r",
      " 13%|█████████▉                                                                 | 216/1623 [1:02:37<1:51:52,  4.77s/it]"
     ]
    },
    {
     "name": "stdout",
     "output_type": "stream",
     "text": [
      "31/12/2018  완료\n",
      "3825\n",
      "1/1/2019  완료\n",
      "3825\n",
      "2/1/2019  완료\n",
      "3825\n"
     ]
    },
    {
     "name": "stderr",
     "output_type": "stream",
     "text": [
      " 14%|██████████▍                                                                  | 220/1623 [1:02:38<55:19,  2.37s/it]"
     ]
    },
    {
     "name": "stdout",
     "output_type": "stream",
     "text": [
      "3/1/2019  완료\n",
      "3825\n",
      "4/1/2019  완료\n",
      "3825\n",
      "5/1/2019  완료\n",
      "3825\n"
     ]
    },
    {
     "name": "stderr",
     "output_type": "stream",
     "text": [
      " 14%|██████████▋                                                                  | 224/1623 [1:02:38<27:45,  1.19s/it]"
     ]
    },
    {
     "name": "stdout",
     "output_type": "stream",
     "text": [
      "6/1/2019  완료\n",
      "3825\n",
      "7/1/2019  완료\n",
      "3825\n",
      "8/1/2019  완료\n",
      "3825\n",
      "9/1/2019  완료\n",
      "3825\n"
     ]
    },
    {
     "name": "stderr",
     "output_type": "stream",
     "text": [
      "\r",
      " 14%|██████████▋                                                                  | 226/1623 [1:02:38<19:49,  1.17it/s]"
     ]
    },
    {
     "name": "stdout",
     "output_type": "stream",
     "text": [
      "1/1/2019  완료\n",
      "3825\n",
      "11/1/2019  완료\n",
      "3825\n",
      "12/1/2019  완료\n",
      "3825\n"
     ]
    },
    {
     "name": "stderr",
     "output_type": "stream",
     "text": [
      " 14%|██████████▉                                                                  | 230/1623 [1:02:38<10:28,  2.22it/s]"
     ]
    },
    {
     "name": "stdout",
     "output_type": "stream",
     "text": [
      "13/1/2019  완료\n",
      "3825\n",
      "14/1/2019  완료\n",
      "3825\n",
      "15/1/2019  완료\n",
      "3825\n",
      "16/1/2019  완료\n",
      "3825\n"
     ]
    },
    {
     "name": "stderr",
     "output_type": "stream",
     "text": [
      " 14%|███████████                                                                  | 234/1623 [1:02:39<05:57,  3.89it/s]"
     ]
    },
    {
     "name": "stdout",
     "output_type": "stream",
     "text": [
      "17/1/2019  완료\n",
      "3825\n",
      "18/1/2019  완료\n",
      "3825\n",
      "19/1/2019  완료\n",
      "3825\n"
     ]
    },
    {
     "name": "stderr",
     "output_type": "stream",
     "text": [
      "\r",
      " 15%|███████████▏                                                                 | 236/1623 [1:02:39<04:39,  4.96it/s]"
     ]
    },
    {
     "name": "stdout",
     "output_type": "stream",
     "text": [
      "2/1/2019  완료\n",
      "3825\n",
      "21/1/2019  완료\n",
      "3825\n",
      "22/1/2019  완료\n",
      "3825\n"
     ]
    },
    {
     "name": "stderr",
     "output_type": "stream",
     "text": [
      " 15%|█████████▋                                                        | 238/1623 [136:57:14<28240:51:38, 73405.85s/it]"
     ]
    },
    {
     "name": "stdout",
     "output_type": "stream",
     "text": [
      "23/1/2019  완료\n",
      "3825\n"
     ]
    },
    {
     "name": "stderr",
     "output_type": "stream",
     "text": [
      " 15%|██████████                                                           | 238/1623 [136:57:16<796:59:03, 2071.58s/it]\n"
     ]
    },
    {
     "ename": "WebDriverException",
     "evalue": "Message: unknown error: net::ERR_INTERNET_DISCONNECTED\n  (Session info: chrome=104.0.5112.102)\nStacktrace:\nBacktrace:\n\tOrdinal0 [0x011C78B3+2193587]\n\tOrdinal0 [0x01160681+1771137]\n\tOrdinal0 [0x010741A8+803240]\n\tOrdinal0 [0x01070918+788760]\n\tOrdinal0 [0x0106781D+751645]\n\tOrdinal0 [0x01068450+754768]\n\tOrdinal0 [0x01067A2A+752170]\n\tOrdinal0 [0x01066FAF+749487]\n\tOrdinal0 [0x01065E94+745108]\n\tOrdinal0 [0x0106636D+746349]\n\tOrdinal0 [0x01075974+809332]\n\tOrdinal0 [0x010CE18D+1171853]\n\tOrdinal0 [0x010BD7AC+1103788]\n\tOrdinal0 [0x010CDAE2+1170146]\n\tOrdinal0 [0x010BD5C6+1103302]\n\tOrdinal0 [0x010977E0+948192]\n\tOrdinal0 [0x010986E6+952038]\n\tGetHandleVerifier [0x01470CB2+2738370]\n\tGetHandleVerifier [0x014621B8+2678216]\n\tGetHandleVerifier [0x012517AA+512954]\n\tGetHandleVerifier [0x01250856+509030]\n\tOrdinal0 [0x0116743B+1799227]\n\tOrdinal0 [0x0116BB68+1817448]\n\tOrdinal0 [0x0116BC55+1817685]\n\tOrdinal0 [0x01175230+1856048]\n\tBaseThreadInitThunk [0x754CFA29+25]\n\tRtlGetAppContainerNamedObjectPath [0x76FD7A9E+286]\n\tRtlGetAppContainerNamedObjectPath [0x76FD7A6E+238]\n",
     "output_type": "error",
     "traceback": [
      "\u001b[1;31m---------------------------------------------------------------------------\u001b[0m",
      "\u001b[1;31mWebDriverException\u001b[0m                        Traceback (most recent call last)",
      "\u001b[1;32m<ipython-input-67-d2168764ef75>\u001b[0m in \u001b[0;36m<module>\u001b[1;34m\u001b[0m\n\u001b[0;32m      2\u001b[0m \u001b[0mUrls\u001b[0m \u001b[1;33m=\u001b[0m \u001b[1;33m[\u001b[0m\u001b[1;33m]\u001b[0m\u001b[1;33m\u001b[0m\u001b[1;33m\u001b[0m\u001b[0m\n\u001b[0;32m      3\u001b[0m \u001b[1;32mfor\u001b[0m \u001b[0mdate\u001b[0m \u001b[1;32min\u001b[0m \u001b[0mtqdm\u001b[0m\u001b[1;33m(\u001b[0m\u001b[0mdtlst\u001b[0m\u001b[1;33m)\u001b[0m\u001b[1;33m:\u001b[0m\u001b[1;33m\u001b[0m\u001b[1;33m\u001b[0m\u001b[0m\n\u001b[1;32m----> 4\u001b[1;33m     \u001b[0murls\u001b[0m \u001b[1;33m=\u001b[0m \u001b[0mpage2url\u001b[0m\u001b[1;33m(\u001b[0m\u001b[0msearching_word\u001b[0m\u001b[1;33m,\u001b[0m\u001b[0mdate\u001b[0m\u001b[1;33m)\u001b[0m\u001b[1;33m\u001b[0m\u001b[1;33m\u001b[0m\u001b[0m\n\u001b[0m\u001b[0;32m      5\u001b[0m     \u001b[0mUrls\u001b[0m\u001b[1;33m.\u001b[0m\u001b[0mextend\u001b[0m\u001b[1;33m(\u001b[0m\u001b[0murls\u001b[0m\u001b[1;33m)\u001b[0m\u001b[1;33m\u001b[0m\u001b[1;33m\u001b[0m\u001b[0m\n\u001b[0;32m      6\u001b[0m     \u001b[0mprint\u001b[0m\u001b[1;33m(\u001b[0m\u001b[0mlen\u001b[0m\u001b[1;33m(\u001b[0m\u001b[0mUrls\u001b[0m\u001b[1;33m)\u001b[0m\u001b[1;33m)\u001b[0m\u001b[1;33m\u001b[0m\u001b[1;33m\u001b[0m\u001b[0m\n",
      "\u001b[1;32m<ipython-input-58-e069b1c1d798>\u001b[0m in \u001b[0;36mpage2url\u001b[1;34m(searching_word, date)\u001b[0m\n\u001b[0;32m      4\u001b[0m     \u001b[1;32mfor\u001b[0m \u001b[0mstart\u001b[0m \u001b[1;32min\u001b[0m \u001b[0mrange\u001b[0m\u001b[1;33m(\u001b[0m\u001b[1;36m0\u001b[0m\u001b[1;33m,\u001b[0m \u001b[1;36m360\u001b[0m\u001b[1;33m,\u001b[0m \u001b[1;36m10\u001b[0m\u001b[1;33m)\u001b[0m\u001b[1;33m:\u001b[0m\u001b[1;33m\u001b[0m\u001b[1;33m\u001b[0m\u001b[0m\n\u001b[0;32m      5\u001b[0m         \u001b[0mmain_url\u001b[0m \u001b[1;33m=\u001b[0m \u001b[1;34m'https://www.google.co.kr/search?q={}&tbs=cdr:1,cd_min:{},cd_max:{}&tbm=nws&ei=dPP-Yu_eCJLL-Qb55bvQDA&start={}&sa=N&ved=2ahUKEwjv6Lvy69H5AhWSZd4KHfnyDso4ChDy0wN6BAgBEDk&biw=1536&bih=754&dpr=1.25'\u001b[0m\u001b[1;33m.\u001b[0m\u001b[0mformat\u001b[0m\u001b[1;33m(\u001b[0m\u001b[0msearching_word\u001b[0m\u001b[1;33m,\u001b[0m\u001b[0mdate\u001b[0m\u001b[1;33m,\u001b[0m\u001b[0mdate\u001b[0m\u001b[1;33m,\u001b[0m\u001b[0mstart\u001b[0m\u001b[1;33m)\u001b[0m\u001b[1;33m\u001b[0m\u001b[1;33m\u001b[0m\u001b[0m\n\u001b[1;32m----> 6\u001b[1;33m         \u001b[0mdriver\u001b[0m\u001b[1;33m.\u001b[0m\u001b[0mget\u001b[0m\u001b[1;33m(\u001b[0m\u001b[0murl\u001b[0m\u001b[1;33m=\u001b[0m\u001b[0mmain_url\u001b[0m\u001b[1;33m)\u001b[0m\u001b[1;33m\u001b[0m\u001b[1;33m\u001b[0m\u001b[0m\n\u001b[0m\u001b[0;32m      7\u001b[0m         \u001b[0melements\u001b[0m \u001b[1;33m=\u001b[0m \u001b[0mdriver\u001b[0m\u001b[1;33m.\u001b[0m\u001b[0mfind_elements\u001b[0m\u001b[1;33m(\u001b[0m\u001b[0mBy\u001b[0m\u001b[1;33m.\u001b[0m\u001b[0mTAG_NAME\u001b[0m\u001b[1;33m,\u001b[0m \u001b[1;34m'a'\u001b[0m\u001b[1;33m)\u001b[0m\u001b[1;33m\u001b[0m\u001b[1;33m\u001b[0m\u001b[0m\n\u001b[0;32m      8\u001b[0m         \u001b[0mlnks\u001b[0m \u001b[1;33m=\u001b[0m \u001b[1;33m[\u001b[0m\u001b[1;33m]\u001b[0m\u001b[1;33m\u001b[0m\u001b[1;33m\u001b[0m\u001b[0m\n",
      "\u001b[1;32m~\\anaconda3\\lib\\site-packages\\selenium\\webdriver\\remote\\webdriver.py\u001b[0m in \u001b[0;36mget\u001b[1;34m(self, url)\u001b[0m\n\u001b[0;32m    438\u001b[0m         \u001b[0mLoads\u001b[0m \u001b[0ma\u001b[0m \u001b[0mweb\u001b[0m \u001b[0mpage\u001b[0m \u001b[1;32min\u001b[0m \u001b[0mthe\u001b[0m \u001b[0mcurrent\u001b[0m \u001b[0mbrowser\u001b[0m \u001b[0msession\u001b[0m\u001b[1;33m.\u001b[0m\u001b[1;33m\u001b[0m\u001b[1;33m\u001b[0m\u001b[0m\n\u001b[0;32m    439\u001b[0m         \"\"\"\n\u001b[1;32m--> 440\u001b[1;33m         \u001b[0mself\u001b[0m\u001b[1;33m.\u001b[0m\u001b[0mexecute\u001b[0m\u001b[1;33m(\u001b[0m\u001b[0mCommand\u001b[0m\u001b[1;33m.\u001b[0m\u001b[0mGET\u001b[0m\u001b[1;33m,\u001b[0m \u001b[1;33m{\u001b[0m\u001b[1;34m'url'\u001b[0m\u001b[1;33m:\u001b[0m \u001b[0murl\u001b[0m\u001b[1;33m}\u001b[0m\u001b[1;33m)\u001b[0m\u001b[1;33m\u001b[0m\u001b[1;33m\u001b[0m\u001b[0m\n\u001b[0m\u001b[0;32m    441\u001b[0m \u001b[1;33m\u001b[0m\u001b[0m\n\u001b[0;32m    442\u001b[0m     \u001b[1;33m@\u001b[0m\u001b[0mproperty\u001b[0m\u001b[1;33m\u001b[0m\u001b[1;33m\u001b[0m\u001b[0m\n",
      "\u001b[1;32m~\\anaconda3\\lib\\site-packages\\selenium\\webdriver\\remote\\webdriver.py\u001b[0m in \u001b[0;36mexecute\u001b[1;34m(self, driver_command, params)\u001b[0m\n\u001b[0;32m    426\u001b[0m         \u001b[0mresponse\u001b[0m \u001b[1;33m=\u001b[0m \u001b[0mself\u001b[0m\u001b[1;33m.\u001b[0m\u001b[0mcommand_executor\u001b[0m\u001b[1;33m.\u001b[0m\u001b[0mexecute\u001b[0m\u001b[1;33m(\u001b[0m\u001b[0mdriver_command\u001b[0m\u001b[1;33m,\u001b[0m \u001b[0mparams\u001b[0m\u001b[1;33m)\u001b[0m\u001b[1;33m\u001b[0m\u001b[1;33m\u001b[0m\u001b[0m\n\u001b[0;32m    427\u001b[0m         \u001b[1;32mif\u001b[0m \u001b[0mresponse\u001b[0m\u001b[1;33m:\u001b[0m\u001b[1;33m\u001b[0m\u001b[1;33m\u001b[0m\u001b[0m\n\u001b[1;32m--> 428\u001b[1;33m             \u001b[0mself\u001b[0m\u001b[1;33m.\u001b[0m\u001b[0merror_handler\u001b[0m\u001b[1;33m.\u001b[0m\u001b[0mcheck_response\u001b[0m\u001b[1;33m(\u001b[0m\u001b[0mresponse\u001b[0m\u001b[1;33m)\u001b[0m\u001b[1;33m\u001b[0m\u001b[1;33m\u001b[0m\u001b[0m\n\u001b[0m\u001b[0;32m    429\u001b[0m             response['value'] = self._unwrap_value(\n\u001b[0;32m    430\u001b[0m                 response.get('value', None))\n",
      "\u001b[1;32m~\\anaconda3\\lib\\site-packages\\selenium\\webdriver\\remote\\errorhandler.py\u001b[0m in \u001b[0;36mcheck_response\u001b[1;34m(self, response)\u001b[0m\n\u001b[0;32m    241\u001b[0m                 \u001b[0malert_text\u001b[0m \u001b[1;33m=\u001b[0m \u001b[0mvalue\u001b[0m\u001b[1;33m[\u001b[0m\u001b[1;34m'alert'\u001b[0m\u001b[1;33m]\u001b[0m\u001b[1;33m.\u001b[0m\u001b[0mget\u001b[0m\u001b[1;33m(\u001b[0m\u001b[1;34m'text'\u001b[0m\u001b[1;33m)\u001b[0m\u001b[1;33m\u001b[0m\u001b[1;33m\u001b[0m\u001b[0m\n\u001b[0;32m    242\u001b[0m             \u001b[1;32mraise\u001b[0m \u001b[0mexception_class\u001b[0m\u001b[1;33m(\u001b[0m\u001b[0mmessage\u001b[0m\u001b[1;33m,\u001b[0m \u001b[0mscreen\u001b[0m\u001b[1;33m,\u001b[0m \u001b[0mstacktrace\u001b[0m\u001b[1;33m,\u001b[0m \u001b[0malert_text\u001b[0m\u001b[1;33m)\u001b[0m  \u001b[1;31m# type: ignore[call-arg]  # mypy is not smart enough here\u001b[0m\u001b[1;33m\u001b[0m\u001b[1;33m\u001b[0m\u001b[0m\n\u001b[1;32m--> 243\u001b[1;33m         \u001b[1;32mraise\u001b[0m \u001b[0mexception_class\u001b[0m\u001b[1;33m(\u001b[0m\u001b[0mmessage\u001b[0m\u001b[1;33m,\u001b[0m \u001b[0mscreen\u001b[0m\u001b[1;33m,\u001b[0m \u001b[0mstacktrace\u001b[0m\u001b[1;33m)\u001b[0m\u001b[1;33m\u001b[0m\u001b[1;33m\u001b[0m\u001b[0m\n\u001b[0m",
      "\u001b[1;31mWebDriverException\u001b[0m: Message: unknown error: net::ERR_INTERNET_DISCONNECTED\n  (Session info: chrome=104.0.5112.102)\nStacktrace:\nBacktrace:\n\tOrdinal0 [0x011C78B3+2193587]\n\tOrdinal0 [0x01160681+1771137]\n\tOrdinal0 [0x010741A8+803240]\n\tOrdinal0 [0x01070918+788760]\n\tOrdinal0 [0x0106781D+751645]\n\tOrdinal0 [0x01068450+754768]\n\tOrdinal0 [0x01067A2A+752170]\n\tOrdinal0 [0x01066FAF+749487]\n\tOrdinal0 [0x01065E94+745108]\n\tOrdinal0 [0x0106636D+746349]\n\tOrdinal0 [0x01075974+809332]\n\tOrdinal0 [0x010CE18D+1171853]\n\tOrdinal0 [0x010BD7AC+1103788]\n\tOrdinal0 [0x010CDAE2+1170146]\n\tOrdinal0 [0x010BD5C6+1103302]\n\tOrdinal0 [0x010977E0+948192]\n\tOrdinal0 [0x010986E6+952038]\n\tGetHandleVerifier [0x01470CB2+2738370]\n\tGetHandleVerifier [0x014621B8+2678216]\n\tGetHandleVerifier [0x012517AA+512954]\n\tGetHandleVerifier [0x01250856+509030]\n\tOrdinal0 [0x0116743B+1799227]\n\tOrdinal0 [0x0116BB68+1817448]\n\tOrdinal0 [0x0116BC55+1817685]\n\tOrdinal0 [0x01175230+1856048]\n\tBaseThreadInitThunk [0x754CFA29+25]\n\tRtlGetAppContainerNamedObjectPath [0x76FD7A9E+286]\n\tRtlGetAppContainerNamedObjectPath [0x76FD7A6E+238]\n"
=======
      "  0%|▎                                                                              | 4/1096 [00:52<3:59:26, 13.16s/it]\n"
     ]
    },
    {
     "ename": "KeyboardInterrupt",
     "evalue": "",
     "output_type": "error",
     "traceback": [
      "\u001b[1;31m---------------------------------------------------------------------------\u001b[0m",
      "\u001b[1;31mKeyboardInterrupt\u001b[0m                         Traceback (most recent call last)",
      "\u001b[1;32m<ipython-input-7-0fcbc0699921>\u001b[0m in \u001b[0;36m<module>\u001b[1;34m\u001b[0m\n\u001b[0;32m      2\u001b[0m \u001b[0mUrls\u001b[0m \u001b[1;33m=\u001b[0m \u001b[0mdict\u001b[0m\u001b[1;33m(\u001b[0m\u001b[1;33m)\u001b[0m\u001b[1;33m\u001b[0m\u001b[1;33m\u001b[0m\u001b[0m\n\u001b[0;32m      3\u001b[0m \u001b[1;32mfor\u001b[0m \u001b[0mdate\u001b[0m \u001b[1;32min\u001b[0m \u001b[0mtqdm\u001b[0m\u001b[1;33m(\u001b[0m\u001b[0mdtlst\u001b[0m\u001b[1;33m)\u001b[0m\u001b[1;33m:\u001b[0m\u001b[1;33m\u001b[0m\u001b[1;33m\u001b[0m\u001b[0m\n\u001b[1;32m----> 4\u001b[1;33m     \u001b[0murls\u001b[0m \u001b[1;33m=\u001b[0m \u001b[0mpage2url\u001b[0m\u001b[1;33m(\u001b[0m\u001b[0msearching_word\u001b[0m\u001b[1;33m,\u001b[0m\u001b[0mdate\u001b[0m\u001b[1;33m)\u001b[0m\u001b[1;33m\u001b[0m\u001b[1;33m\u001b[0m\u001b[0m\n\u001b[0m\u001b[0;32m      5\u001b[0m     \u001b[0mUrls\u001b[0m\u001b[1;33m[\u001b[0m\u001b[0mdate\u001b[0m\u001b[1;33m]\u001b[0m \u001b[1;33m=\u001b[0m \u001b[0murls\u001b[0m\u001b[1;33m\u001b[0m\u001b[1;33m\u001b[0m\u001b[0m\n",
      "\u001b[1;32m<ipython-input-4-e069b1c1d798>\u001b[0m in \u001b[0;36mpage2url\u001b[1;34m(searching_word, date)\u001b[0m\n\u001b[0;32m      8\u001b[0m         \u001b[0mlnks\u001b[0m \u001b[1;33m=\u001b[0m \u001b[1;33m[\u001b[0m\u001b[1;33m]\u001b[0m\u001b[1;33m\u001b[0m\u001b[1;33m\u001b[0m\u001b[0m\n\u001b[0;32m      9\u001b[0m         \u001b[1;32mfor\u001b[0m \u001b[0mlnk\u001b[0m \u001b[1;32min\u001b[0m \u001b[0melements\u001b[0m\u001b[1;33m:\u001b[0m\u001b[1;33m\u001b[0m\u001b[1;33m\u001b[0m\u001b[0m\n\u001b[1;32m---> 10\u001b[1;33m             \u001b[0mlnk\u001b[0m \u001b[1;33m=\u001b[0m \u001b[0mstr\u001b[0m\u001b[1;33m(\u001b[0m\u001b[0mlnk\u001b[0m\u001b[1;33m.\u001b[0m\u001b[0mget_attribute\u001b[0m\u001b[1;33m(\u001b[0m\u001b[1;34m'href'\u001b[0m\u001b[1;33m)\u001b[0m\u001b[1;33m)\u001b[0m\u001b[1;33m\u001b[0m\u001b[1;33m\u001b[0m\u001b[0m\n\u001b[0m\u001b[0;32m     11\u001b[0m             \u001b[1;32mif\u001b[0m \u001b[1;34m'google'\u001b[0m \u001b[1;32mnot\u001b[0m \u001b[1;32min\u001b[0m \u001b[0mlnk\u001b[0m \u001b[1;32mand\u001b[0m \u001b[0mlnk\u001b[0m \u001b[1;33m!=\u001b[0m \u001b[1;34m'None'\u001b[0m\u001b[1;33m:\u001b[0m\u001b[1;33m\u001b[0m\u001b[1;33m\u001b[0m\u001b[0m\n\u001b[0;32m     12\u001b[0m                 \u001b[0mlnks\u001b[0m\u001b[1;33m.\u001b[0m\u001b[0mappend\u001b[0m\u001b[1;33m(\u001b[0m\u001b[0mlnk\u001b[0m\u001b[1;33m)\u001b[0m\u001b[1;33m\u001b[0m\u001b[1;33m\u001b[0m\u001b[0m\n",
      "\u001b[1;32m~\\miniconda3\\lib\\site-packages\\selenium\\webdriver\\remote\\webelement.py\u001b[0m in \u001b[0;36mget_attribute\u001b[1;34m(self, name)\u001b[0m\n\u001b[0;32m    170\u001b[0m         \u001b[1;32mif\u001b[0m \u001b[0mgetAttribute_js\u001b[0m \u001b[1;32mis\u001b[0m \u001b[1;32mNone\u001b[0m\u001b[1;33m:\u001b[0m\u001b[1;33m\u001b[0m\u001b[1;33m\u001b[0m\u001b[0m\n\u001b[0;32m    171\u001b[0m             \u001b[0m_load_js\u001b[0m\u001b[1;33m(\u001b[0m\u001b[1;33m)\u001b[0m\u001b[1;33m\u001b[0m\u001b[1;33m\u001b[0m\u001b[0m\n\u001b[1;32m--> 172\u001b[1;33m         attribute_value = self.parent.execute_script(\n\u001b[0m\u001b[0;32m    173\u001b[0m             \u001b[1;34m\"return (%s).apply(null, arguments);\"\u001b[0m \u001b[1;33m%\u001b[0m \u001b[0mgetAttribute_js\u001b[0m\u001b[1;33m,\u001b[0m\u001b[1;33m\u001b[0m\u001b[1;33m\u001b[0m\u001b[0m\n\u001b[0;32m    174\u001b[0m             self, name)\n",
      "\u001b[1;32m~\\miniconda3\\lib\\site-packages\\selenium\\webdriver\\remote\\webdriver.py\u001b[0m in \u001b[0;36mexecute_script\u001b[1;34m(self, script, *args)\u001b[0m\n\u001b[0;32m    489\u001b[0m         \u001b[0mcommand\u001b[0m \u001b[1;33m=\u001b[0m \u001b[0mCommand\u001b[0m\u001b[1;33m.\u001b[0m\u001b[0mW3C_EXECUTE_SCRIPT\u001b[0m\u001b[1;33m\u001b[0m\u001b[1;33m\u001b[0m\u001b[0m\n\u001b[0;32m    490\u001b[0m \u001b[1;33m\u001b[0m\u001b[0m\n\u001b[1;32m--> 491\u001b[1;33m         return self.execute(command, {\n\u001b[0m\u001b[0;32m    492\u001b[0m             \u001b[1;34m'script'\u001b[0m\u001b[1;33m:\u001b[0m \u001b[0mscript\u001b[0m\u001b[1;33m,\u001b[0m\u001b[1;33m\u001b[0m\u001b[1;33m\u001b[0m\u001b[0m\n\u001b[0;32m    493\u001b[0m             'args': converted_args})['value']\n",
      "\u001b[1;32m~\\miniconda3\\lib\\site-packages\\selenium\\webdriver\\remote\\webdriver.py\u001b[0m in \u001b[0;36mexecute\u001b[1;34m(self, driver_command, params)\u001b[0m\n\u001b[0;32m    424\u001b[0m \u001b[1;33m\u001b[0m\u001b[0m\n\u001b[0;32m    425\u001b[0m         \u001b[0mparams\u001b[0m \u001b[1;33m=\u001b[0m \u001b[0mself\u001b[0m\u001b[1;33m.\u001b[0m\u001b[0m_wrap_value\u001b[0m\u001b[1;33m(\u001b[0m\u001b[0mparams\u001b[0m\u001b[1;33m)\u001b[0m\u001b[1;33m\u001b[0m\u001b[1;33m\u001b[0m\u001b[0m\n\u001b[1;32m--> 426\u001b[1;33m         \u001b[0mresponse\u001b[0m \u001b[1;33m=\u001b[0m \u001b[0mself\u001b[0m\u001b[1;33m.\u001b[0m\u001b[0mcommand_executor\u001b[0m\u001b[1;33m.\u001b[0m\u001b[0mexecute\u001b[0m\u001b[1;33m(\u001b[0m\u001b[0mdriver_command\u001b[0m\u001b[1;33m,\u001b[0m \u001b[0mparams\u001b[0m\u001b[1;33m)\u001b[0m\u001b[1;33m\u001b[0m\u001b[1;33m\u001b[0m\u001b[0m\n\u001b[0m\u001b[0;32m    427\u001b[0m         \u001b[1;32mif\u001b[0m \u001b[0mresponse\u001b[0m\u001b[1;33m:\u001b[0m\u001b[1;33m\u001b[0m\u001b[1;33m\u001b[0m\u001b[0m\n\u001b[0;32m    428\u001b[0m             \u001b[0mself\u001b[0m\u001b[1;33m.\u001b[0m\u001b[0merror_handler\u001b[0m\u001b[1;33m.\u001b[0m\u001b[0mcheck_response\u001b[0m\u001b[1;33m(\u001b[0m\u001b[0mresponse\u001b[0m\u001b[1;33m)\u001b[0m\u001b[1;33m\u001b[0m\u001b[1;33m\u001b[0m\u001b[0m\n",
      "\u001b[1;32m~\\miniconda3\\lib\\site-packages\\selenium\\webdriver\\remote\\remote_connection.py\u001b[0m in \u001b[0;36mexecute\u001b[1;34m(self, command, params)\u001b[0m\n\u001b[0;32m    342\u001b[0m         \u001b[0mdata\u001b[0m \u001b[1;33m=\u001b[0m \u001b[0mutils\u001b[0m\u001b[1;33m.\u001b[0m\u001b[0mdump_json\u001b[0m\u001b[1;33m(\u001b[0m\u001b[0mparams\u001b[0m\u001b[1;33m)\u001b[0m\u001b[1;33m\u001b[0m\u001b[1;33m\u001b[0m\u001b[0m\n\u001b[0;32m    343\u001b[0m         \u001b[0murl\u001b[0m \u001b[1;33m=\u001b[0m \u001b[1;34mf\"{self._url}{path}\"\u001b[0m\u001b[1;33m\u001b[0m\u001b[1;33m\u001b[0m\u001b[0m\n\u001b[1;32m--> 344\u001b[1;33m         \u001b[1;32mreturn\u001b[0m \u001b[0mself\u001b[0m\u001b[1;33m.\u001b[0m\u001b[0m_request\u001b[0m\u001b[1;33m(\u001b[0m\u001b[0mcommand_info\u001b[0m\u001b[1;33m[\u001b[0m\u001b[1;36m0\u001b[0m\u001b[1;33m]\u001b[0m\u001b[1;33m,\u001b[0m \u001b[0murl\u001b[0m\u001b[1;33m,\u001b[0m \u001b[0mbody\u001b[0m\u001b[1;33m=\u001b[0m\u001b[0mdata\u001b[0m\u001b[1;33m)\u001b[0m\u001b[1;33m\u001b[0m\u001b[1;33m\u001b[0m\u001b[0m\n\u001b[0m\u001b[0;32m    345\u001b[0m \u001b[1;33m\u001b[0m\u001b[0m\n\u001b[0;32m    346\u001b[0m     \u001b[1;32mdef\u001b[0m \u001b[0m_request\u001b[0m\u001b[1;33m(\u001b[0m\u001b[0mself\u001b[0m\u001b[1;33m,\u001b[0m \u001b[0mmethod\u001b[0m\u001b[1;33m,\u001b[0m \u001b[0murl\u001b[0m\u001b[1;33m,\u001b[0m \u001b[0mbody\u001b[0m\u001b[1;33m=\u001b[0m\u001b[1;32mNone\u001b[0m\u001b[1;33m)\u001b[0m\u001b[1;33m:\u001b[0m\u001b[1;33m\u001b[0m\u001b[1;33m\u001b[0m\u001b[0m\n",
      "\u001b[1;32m~\\miniconda3\\lib\\site-packages\\selenium\\webdriver\\remote\\remote_connection.py\u001b[0m in \u001b[0;36m_request\u001b[1;34m(self, method, url, body)\u001b[0m\n\u001b[0;32m    364\u001b[0m \u001b[1;33m\u001b[0m\u001b[0m\n\u001b[0;32m    365\u001b[0m         \u001b[1;32mif\u001b[0m \u001b[0mself\u001b[0m\u001b[1;33m.\u001b[0m\u001b[0mkeep_alive\u001b[0m\u001b[1;33m:\u001b[0m\u001b[1;33m\u001b[0m\u001b[1;33m\u001b[0m\u001b[0m\n\u001b[1;32m--> 366\u001b[1;33m             \u001b[0mresponse\u001b[0m \u001b[1;33m=\u001b[0m \u001b[0mself\u001b[0m\u001b[1;33m.\u001b[0m\u001b[0m_conn\u001b[0m\u001b[1;33m.\u001b[0m\u001b[0mrequest\u001b[0m\u001b[1;33m(\u001b[0m\u001b[0mmethod\u001b[0m\u001b[1;33m,\u001b[0m \u001b[0murl\u001b[0m\u001b[1;33m,\u001b[0m \u001b[0mbody\u001b[0m\u001b[1;33m=\u001b[0m\u001b[0mbody\u001b[0m\u001b[1;33m,\u001b[0m \u001b[0mheaders\u001b[0m\u001b[1;33m=\u001b[0m\u001b[0mheaders\u001b[0m\u001b[1;33m)\u001b[0m\u001b[1;33m\u001b[0m\u001b[1;33m\u001b[0m\u001b[0m\n\u001b[0m\u001b[0;32m    367\u001b[0m             \u001b[0mstatuscode\u001b[0m \u001b[1;33m=\u001b[0m \u001b[0mresponse\u001b[0m\u001b[1;33m.\u001b[0m\u001b[0mstatus\u001b[0m\u001b[1;33m\u001b[0m\u001b[1;33m\u001b[0m\u001b[0m\n\u001b[0;32m    368\u001b[0m         \u001b[1;32melse\u001b[0m\u001b[1;33m:\u001b[0m\u001b[1;33m\u001b[0m\u001b[1;33m\u001b[0m\u001b[0m\n",
      "\u001b[1;32m~\\miniconda3\\lib\\site-packages\\urllib3\\request.py\u001b[0m in \u001b[0;36mrequest\u001b[1;34m(self, method, url, fields, headers, **urlopen_kw)\u001b[0m\n\u001b[0;32m     76\u001b[0m             )\n\u001b[0;32m     77\u001b[0m         \u001b[1;32melse\u001b[0m\u001b[1;33m:\u001b[0m\u001b[1;33m\u001b[0m\u001b[1;33m\u001b[0m\u001b[0m\n\u001b[1;32m---> 78\u001b[1;33m             return self.request_encode_body(\n\u001b[0m\u001b[0;32m     79\u001b[0m                 \u001b[0mmethod\u001b[0m\u001b[1;33m,\u001b[0m \u001b[0murl\u001b[0m\u001b[1;33m,\u001b[0m \u001b[0mfields\u001b[0m\u001b[1;33m=\u001b[0m\u001b[0mfields\u001b[0m\u001b[1;33m,\u001b[0m \u001b[0mheaders\u001b[0m\u001b[1;33m=\u001b[0m\u001b[0mheaders\u001b[0m\u001b[1;33m,\u001b[0m \u001b[1;33m**\u001b[0m\u001b[0murlopen_kw\u001b[0m\u001b[1;33m\u001b[0m\u001b[1;33m\u001b[0m\u001b[0m\n\u001b[0;32m     80\u001b[0m             )\n",
      "\u001b[1;32m~\\miniconda3\\lib\\site-packages\\urllib3\\request.py\u001b[0m in \u001b[0;36mrequest_encode_body\u001b[1;34m(self, method, url, fields, headers, encode_multipart, multipart_boundary, **urlopen_kw)\u001b[0m\n\u001b[0;32m    168\u001b[0m         \u001b[0mextra_kw\u001b[0m\u001b[1;33m.\u001b[0m\u001b[0mupdate\u001b[0m\u001b[1;33m(\u001b[0m\u001b[0murlopen_kw\u001b[0m\u001b[1;33m)\u001b[0m\u001b[1;33m\u001b[0m\u001b[1;33m\u001b[0m\u001b[0m\n\u001b[0;32m    169\u001b[0m \u001b[1;33m\u001b[0m\u001b[0m\n\u001b[1;32m--> 170\u001b[1;33m         \u001b[1;32mreturn\u001b[0m \u001b[0mself\u001b[0m\u001b[1;33m.\u001b[0m\u001b[0murlopen\u001b[0m\u001b[1;33m(\u001b[0m\u001b[0mmethod\u001b[0m\u001b[1;33m,\u001b[0m \u001b[0murl\u001b[0m\u001b[1;33m,\u001b[0m \u001b[1;33m**\u001b[0m\u001b[0mextra_kw\u001b[0m\u001b[1;33m)\u001b[0m\u001b[1;33m\u001b[0m\u001b[1;33m\u001b[0m\u001b[0m\n\u001b[0m",
      "\u001b[1;32m~\\miniconda3\\lib\\site-packages\\urllib3\\poolmanager.py\u001b[0m in \u001b[0;36murlopen\u001b[1;34m(self, method, url, redirect, **kw)\u001b[0m\n\u001b[0;32m    374\u001b[0m             \u001b[0mresponse\u001b[0m \u001b[1;33m=\u001b[0m \u001b[0mconn\u001b[0m\u001b[1;33m.\u001b[0m\u001b[0murlopen\u001b[0m\u001b[1;33m(\u001b[0m\u001b[0mmethod\u001b[0m\u001b[1;33m,\u001b[0m \u001b[0murl\u001b[0m\u001b[1;33m,\u001b[0m \u001b[1;33m**\u001b[0m\u001b[0mkw\u001b[0m\u001b[1;33m)\u001b[0m\u001b[1;33m\u001b[0m\u001b[1;33m\u001b[0m\u001b[0m\n\u001b[0;32m    375\u001b[0m         \u001b[1;32melse\u001b[0m\u001b[1;33m:\u001b[0m\u001b[1;33m\u001b[0m\u001b[1;33m\u001b[0m\u001b[0m\n\u001b[1;32m--> 376\u001b[1;33m             \u001b[0mresponse\u001b[0m \u001b[1;33m=\u001b[0m \u001b[0mconn\u001b[0m\u001b[1;33m.\u001b[0m\u001b[0murlopen\u001b[0m\u001b[1;33m(\u001b[0m\u001b[0mmethod\u001b[0m\u001b[1;33m,\u001b[0m \u001b[0mu\u001b[0m\u001b[1;33m.\u001b[0m\u001b[0mrequest_uri\u001b[0m\u001b[1;33m,\u001b[0m \u001b[1;33m**\u001b[0m\u001b[0mkw\u001b[0m\u001b[1;33m)\u001b[0m\u001b[1;33m\u001b[0m\u001b[1;33m\u001b[0m\u001b[0m\n\u001b[0m\u001b[0;32m    377\u001b[0m \u001b[1;33m\u001b[0m\u001b[0m\n\u001b[0;32m    378\u001b[0m         \u001b[0mredirect_location\u001b[0m \u001b[1;33m=\u001b[0m \u001b[0mredirect\u001b[0m \u001b[1;32mand\u001b[0m \u001b[0mresponse\u001b[0m\u001b[1;33m.\u001b[0m\u001b[0mget_redirect_location\u001b[0m\u001b[1;33m(\u001b[0m\u001b[1;33m)\u001b[0m\u001b[1;33m\u001b[0m\u001b[1;33m\u001b[0m\u001b[0m\n",
      "\u001b[1;32m~\\miniconda3\\lib\\site-packages\\urllib3\\connectionpool.py\u001b[0m in \u001b[0;36murlopen\u001b[1;34m(self, method, url, body, headers, retries, redirect, assert_same_host, timeout, pool_timeout, release_conn, chunked, body_pos, **response_kw)\u001b[0m\n\u001b[0;32m    690\u001b[0m             \u001b[1;31m# Request a connection from the queue.\u001b[0m\u001b[1;33m\u001b[0m\u001b[1;33m\u001b[0m\u001b[1;33m\u001b[0m\u001b[0m\n\u001b[0;32m    691\u001b[0m             \u001b[0mtimeout_obj\u001b[0m \u001b[1;33m=\u001b[0m \u001b[0mself\u001b[0m\u001b[1;33m.\u001b[0m\u001b[0m_get_timeout\u001b[0m\u001b[1;33m(\u001b[0m\u001b[0mtimeout\u001b[0m\u001b[1;33m)\u001b[0m\u001b[1;33m\u001b[0m\u001b[1;33m\u001b[0m\u001b[0m\n\u001b[1;32m--> 692\u001b[1;33m             \u001b[0mconn\u001b[0m \u001b[1;33m=\u001b[0m \u001b[0mself\u001b[0m\u001b[1;33m.\u001b[0m\u001b[0m_get_conn\u001b[0m\u001b[1;33m(\u001b[0m\u001b[0mtimeout\u001b[0m\u001b[1;33m=\u001b[0m\u001b[0mpool_timeout\u001b[0m\u001b[1;33m)\u001b[0m\u001b[1;33m\u001b[0m\u001b[1;33m\u001b[0m\u001b[0m\n\u001b[0m\u001b[0;32m    693\u001b[0m \u001b[1;33m\u001b[0m\u001b[0m\n\u001b[0;32m    694\u001b[0m             \u001b[0mconn\u001b[0m\u001b[1;33m.\u001b[0m\u001b[0mtimeout\u001b[0m \u001b[1;33m=\u001b[0m \u001b[0mtimeout_obj\u001b[0m\u001b[1;33m.\u001b[0m\u001b[0mconnect_timeout\u001b[0m\u001b[1;33m\u001b[0m\u001b[1;33m\u001b[0m\u001b[0m\n",
      "\u001b[1;32m~\\miniconda3\\lib\\site-packages\\urllib3\\connectionpool.py\u001b[0m in \u001b[0;36m_get_conn\u001b[1;34m(self, timeout)\u001b[0m\n\u001b[0;32m    270\u001b[0m \u001b[1;33m\u001b[0m\u001b[0m\n\u001b[0;32m    271\u001b[0m         \u001b[1;31m# If this is a persistent connection, check if it got disconnected\u001b[0m\u001b[1;33m\u001b[0m\u001b[1;33m\u001b[0m\u001b[1;33m\u001b[0m\u001b[0m\n\u001b[1;32m--> 272\u001b[1;33m         \u001b[1;32mif\u001b[0m \u001b[0mconn\u001b[0m \u001b[1;32mand\u001b[0m \u001b[0mis_connection_dropped\u001b[0m\u001b[1;33m(\u001b[0m\u001b[0mconn\u001b[0m\u001b[1;33m)\u001b[0m\u001b[1;33m:\u001b[0m\u001b[1;33m\u001b[0m\u001b[1;33m\u001b[0m\u001b[0m\n\u001b[0m\u001b[0;32m    273\u001b[0m             \u001b[0mlog\u001b[0m\u001b[1;33m.\u001b[0m\u001b[0mdebug\u001b[0m\u001b[1;33m(\u001b[0m\u001b[1;34m\"Resetting dropped connection: %s\"\u001b[0m\u001b[1;33m,\u001b[0m \u001b[0mself\u001b[0m\u001b[1;33m.\u001b[0m\u001b[0mhost\u001b[0m\u001b[1;33m)\u001b[0m\u001b[1;33m\u001b[0m\u001b[1;33m\u001b[0m\u001b[0m\n\u001b[0;32m    274\u001b[0m             \u001b[0mconn\u001b[0m\u001b[1;33m.\u001b[0m\u001b[0mclose\u001b[0m\u001b[1;33m(\u001b[0m\u001b[1;33m)\u001b[0m\u001b[1;33m\u001b[0m\u001b[1;33m\u001b[0m\u001b[0m\n",
      "\u001b[1;32m~\\miniconda3\\lib\\site-packages\\urllib3\\util\\connection.py\u001b[0m in \u001b[0;36mis_connection_dropped\u001b[1;34m(conn)\u001b[0m\n\u001b[0;32m     26\u001b[0m     \u001b[1;32mtry\u001b[0m\u001b[1;33m:\u001b[0m\u001b[1;33m\u001b[0m\u001b[1;33m\u001b[0m\u001b[0m\n\u001b[0;32m     27\u001b[0m         \u001b[1;31m# Returns True if readable, which here means it's been dropped\u001b[0m\u001b[1;33m\u001b[0m\u001b[1;33m\u001b[0m\u001b[1;33m\u001b[0m\u001b[0m\n\u001b[1;32m---> 28\u001b[1;33m         \u001b[1;32mreturn\u001b[0m \u001b[0mwait_for_read\u001b[0m\u001b[1;33m(\u001b[0m\u001b[0msock\u001b[0m\u001b[1;33m,\u001b[0m \u001b[0mtimeout\u001b[0m\u001b[1;33m=\u001b[0m\u001b[1;36m0.0\u001b[0m\u001b[1;33m)\u001b[0m\u001b[1;33m\u001b[0m\u001b[1;33m\u001b[0m\u001b[0m\n\u001b[0m\u001b[0;32m     29\u001b[0m     \u001b[1;32mexcept\u001b[0m \u001b[0mNoWayToWaitForSocketError\u001b[0m\u001b[1;33m:\u001b[0m  \u001b[1;31m# Platform-specific: AppEngine\u001b[0m\u001b[1;33m\u001b[0m\u001b[1;33m\u001b[0m\u001b[0m\n\u001b[0;32m     30\u001b[0m         \u001b[1;32mreturn\u001b[0m \u001b[1;32mFalse\u001b[0m\u001b[1;33m\u001b[0m\u001b[1;33m\u001b[0m\u001b[0m\n",
      "\u001b[1;32m~\\miniconda3\\lib\\site-packages\\urllib3\\util\\wait.py\u001b[0m in \u001b[0;36mwait_for_read\u001b[1;34m(sock, timeout)\u001b[0m\n\u001b[0;32m    143\u001b[0m     \u001b[0mReturns\u001b[0m \u001b[1;32mTrue\u001b[0m \u001b[1;32mif\u001b[0m \u001b[0mthe\u001b[0m \u001b[0msocket\u001b[0m \u001b[1;32mis\u001b[0m \u001b[0mreadable\u001b[0m\u001b[1;33m,\u001b[0m \u001b[1;32mor\u001b[0m \u001b[1;32mFalse\u001b[0m \u001b[1;32mif\u001b[0m \u001b[0mthe\u001b[0m \u001b[0mtimeout\u001b[0m \u001b[0mexpired\u001b[0m\u001b[1;33m.\u001b[0m\u001b[1;33m\u001b[0m\u001b[1;33m\u001b[0m\u001b[0m\n\u001b[0;32m    144\u001b[0m     \"\"\"\n\u001b[1;32m--> 145\u001b[1;33m     \u001b[1;32mreturn\u001b[0m \u001b[0mwait_for_socket\u001b[0m\u001b[1;33m(\u001b[0m\u001b[0msock\u001b[0m\u001b[1;33m,\u001b[0m \u001b[0mread\u001b[0m\u001b[1;33m=\u001b[0m\u001b[1;32mTrue\u001b[0m\u001b[1;33m,\u001b[0m \u001b[0mtimeout\u001b[0m\u001b[1;33m=\u001b[0m\u001b[0mtimeout\u001b[0m\u001b[1;33m)\u001b[0m\u001b[1;33m\u001b[0m\u001b[1;33m\u001b[0m\u001b[0m\n\u001b[0m\u001b[0;32m    146\u001b[0m \u001b[1;33m\u001b[0m\u001b[0m\n\u001b[0;32m    147\u001b[0m \u001b[1;33m\u001b[0m\u001b[0m\n",
      "\u001b[1;32m~\\miniconda3\\lib\\site-packages\\urllib3\\util\\wait.py\u001b[0m in \u001b[0;36mselect_wait_for_socket\u001b[1;34m(sock, read, write, timeout)\u001b[0m\n\u001b[0;32m     83\u001b[0m     \u001b[1;31m# thing.)\u001b[0m\u001b[1;33m\u001b[0m\u001b[1;33m\u001b[0m\u001b[1;33m\u001b[0m\u001b[0m\n\u001b[0;32m     84\u001b[0m     \u001b[0mfn\u001b[0m \u001b[1;33m=\u001b[0m \u001b[0mpartial\u001b[0m\u001b[1;33m(\u001b[0m\u001b[0mselect\u001b[0m\u001b[1;33m.\u001b[0m\u001b[0mselect\u001b[0m\u001b[1;33m,\u001b[0m \u001b[0mrcheck\u001b[0m\u001b[1;33m,\u001b[0m \u001b[0mwcheck\u001b[0m\u001b[1;33m,\u001b[0m \u001b[0mwcheck\u001b[0m\u001b[1;33m)\u001b[0m\u001b[1;33m\u001b[0m\u001b[1;33m\u001b[0m\u001b[0m\n\u001b[1;32m---> 85\u001b[1;33m     \u001b[0mrready\u001b[0m\u001b[1;33m,\u001b[0m \u001b[0mwready\u001b[0m\u001b[1;33m,\u001b[0m \u001b[0mxready\u001b[0m \u001b[1;33m=\u001b[0m \u001b[0m_retry_on_intr\u001b[0m\u001b[1;33m(\u001b[0m\u001b[0mfn\u001b[0m\u001b[1;33m,\u001b[0m \u001b[0mtimeout\u001b[0m\u001b[1;33m)\u001b[0m\u001b[1;33m\u001b[0m\u001b[1;33m\u001b[0m\u001b[0m\n\u001b[0m\u001b[0;32m     86\u001b[0m     \u001b[1;32mreturn\u001b[0m \u001b[0mbool\u001b[0m\u001b[1;33m(\u001b[0m\u001b[0mrready\u001b[0m \u001b[1;32mor\u001b[0m \u001b[0mwready\u001b[0m \u001b[1;32mor\u001b[0m \u001b[0mxready\u001b[0m\u001b[1;33m)\u001b[0m\u001b[1;33m\u001b[0m\u001b[1;33m\u001b[0m\u001b[0m\n\u001b[0;32m     87\u001b[0m \u001b[1;33m\u001b[0m\u001b[0m\n",
      "\u001b[1;32m~\\miniconda3\\lib\\site-packages\\urllib3\\util\\wait.py\u001b[0m in \u001b[0;36m_retry_on_intr\u001b[1;34m(fn, timeout)\u001b[0m\n\u001b[0;32m     41\u001b[0m     \u001b[1;31m# Modern Python, that retries syscalls by default\u001b[0m\u001b[1;33m\u001b[0m\u001b[1;33m\u001b[0m\u001b[1;33m\u001b[0m\u001b[0m\n\u001b[0;32m     42\u001b[0m     \u001b[1;32mdef\u001b[0m \u001b[0m_retry_on_intr\u001b[0m\u001b[1;33m(\u001b[0m\u001b[0mfn\u001b[0m\u001b[1;33m,\u001b[0m \u001b[0mtimeout\u001b[0m\u001b[1;33m)\u001b[0m\u001b[1;33m:\u001b[0m\u001b[1;33m\u001b[0m\u001b[1;33m\u001b[0m\u001b[0m\n\u001b[1;32m---> 43\u001b[1;33m         \u001b[1;32mreturn\u001b[0m \u001b[0mfn\u001b[0m\u001b[1;33m(\u001b[0m\u001b[0mtimeout\u001b[0m\u001b[1;33m)\u001b[0m\u001b[1;33m\u001b[0m\u001b[1;33m\u001b[0m\u001b[0m\n\u001b[0m\u001b[0;32m     44\u001b[0m \u001b[1;33m\u001b[0m\u001b[0m\n\u001b[0;32m     45\u001b[0m \u001b[1;32melse\u001b[0m\u001b[1;33m:\u001b[0m\u001b[1;33m\u001b[0m\u001b[1;33m\u001b[0m\u001b[0m\n",
      "\u001b[1;31mKeyboardInterrupt\u001b[0m: "
>>>>>>> 0ab7f69a7149cee6d0356d1e59220eb4e9913372
     ]
    }
   ],
   "source": [
    "searching_word = 'digital+finance'\n",
    "Urls = dict()\n",
    "for date in tqdm(dtlst):\n",
    "    urls = page2url(searching_word,date)\n",
    "    Urls[date] = urls"
   ]
  },
  {
   "cell_type": "code",
   "execution_count": 76,
   "id": "c02b33cc",
   "metadata": {},
   "outputs": [
    {
     "data": {
      "text/plain": [
       "{'8/1/2019': ['https://www.usatoday.com/story/money/2019/08/01/newspaper-layoffs-digital-journalism-job-cuts-pew-research-center/1877757001/',\n",
       "  'https://www.businesswire.com/news/home/20190801005099/en/PULSE-Study-Debit-Payments-Continue-to-Grow-and-Go-Digital',\n",
       "  'https://www.economist.com/leaders/2019/08/01/rich-countries-must-start-planning-for-a-cashless-future',\n",
       "  'https://qz.com/1679197/when-will-digital-banks-like-n26-and-revolut-start-making-money/',\n",
       "  'https://spendmatters.com/tfmatters/the-fallacy-of-non-recourse-invoice-finance/',\n",
       "  'https://www.livemint.com/industry/banking/india-post-payments-bank-to-be-converted-into-small-finance-bank-1564642661411.html',\n",
       "  'https://www.businessinsider.com/intelligence/goldman-sachs-retail-banking-case-study',\n",
       "  'https://www.london.edu/think/6-fine-summer-reads',\n",
       "  'https://www.technologyreview.com/2019/08/01/133942/crypto-rogue-nations-want-to-use-blockchains-to-undermine-the-us-dollar/',\n",
       "  'https://www.cnbc.com/2019/08/01/novogratz-sees-end-to-decade-long-stock-rally-based-on-dangerous-macro-environment.html',\n",
       "  'https://finance.yahoo.com/news/sap-taps-female-and-minority-startup-founders-to-stay-innovative-074002207.html',\n",
       "  'https://www.beckershospitalreview.com/finance/texas-hospital-closes-080119.html',\n",
       "  'https://www.forbes.com/sites/lizfrazierpeck/2019/08/01/want-to-teach-your-young-child-about-finance-here-are-five-simple-activities-to-get-you-started/',\n",
       "  'https://www.cta.int/en/blog/all/article/pitch-agrihack-winners-supported-by-ernst-young-in-senegal-sid02b852306-f575-48e5-8f99-958972e94e5f',\n",
       "  'https://www.crn.com/news/data-center/michael-dell-2008-financial-crisis-delayed-dell-emc-merger',\n",
       "  'https://www.financialexpress.com/infrastructure/delhi-metro-records-highest-ever-ridership-in-one-day-over-59-lakh-journeys-undertaken/1663059/',\n",
       "  'https://www.jdsupra.com/legalnews/utah-passes-the-third-state-run-sandbox-90889/',\n",
       "  'https://www.pymnts.com/news/partnerships-acquisitions/2019/amex-digital-payments-firm/',\n",
       "  'https://www.ft.com/content/7c0bb90a-b46f-11e9-8cb2-799a3a8cf37b',\n",
       "  'https://www.cnbctv18.com/economy/how-customer-behaviour-will-shape-the-future-of-banking-4100671.htm',\n",
       "  'https://www.accountancyage.com/2019/08/01/cima-removes-exemption-fees/',\n",
       "  'https://www.reuters.com/article/us-refinitiv-m-a-lse-advisers-idUSKCN1UR5L3',\n",
       "  'https://www.strategy-business.com/article/Chinas-herd-of-unicorns',\n",
       "  'https://www.gov.uk/government/news/universities-regulator-gains-full-powers-to-protect-students-interests',\n",
       "  'https://gcn.com/cybersecurity/2019/08/masking-the-audio-our-devices-hear-is-the-best-way-to-fight-digital-eavesdropping/297546/',\n",
       "  'https://www.ft.com/content/71d8c222-5090-11e9-8f44-fe4a86c48b33',\n",
       "  'https://www.forbes.com/sites/suzannerowankelleher/2019/08/01/everyones-social-security-number-has-been-compromised-heres-how-to-protect-yourself/',\n",
       "  'https://www.reuters.com/article/us-chile-codelco-idUSKCN1UR51K',\n",
       "  'https://www.reuters.com/article/us-usa-trade-china-tariffs-idUSKCN1UR5CK',\n",
       "  'https://www.reuters.com/article/us-usa-crime-idUSKCN1UR5MI',\n",
       "  'https://www.cnbc.com/2019/07/31/youre-making-big-financial-mistakes-and-its-your-brains-fault.html',\n",
       "  'https://www.cnn.com/2019/08/01/tech/robot-racism-scn-trnd/index.html',\n",
       "  'https://nenow.in/north-east-news/assam/assam-government-opposition-at-loggerheads-over-nrc.html',\n",
       "  'https://tmrblog.com/outlook-2019-2025-hot-foil-printing-machines-market-by-key-companies-and-manufacturing-scope-and-trend-report/']}"
      ]
     },
     "execution_count": 76,
     "metadata": {},
     "output_type": "execute_result"
    }
   ],
   "source": [
    "Urls"
   ]
  },
  {
   "cell_type": "code",
   "execution_count": 61,
   "id": "c6cf22e7",
   "metadata": {},
   "outputs": [],
   "source": [
<<<<<<< HEAD
    "name = \"Urls{}-{}.pickle\".format(from_date,r'31/5/2018')"
   ]
  },
  {
   "cell_type": "code",
   "execution_count": 62,
   "id": "44f645f6",
   "metadata": {},
   "outputs": [],
   "source": [
    "name = name.replace('/','.')"
   ]
  },
  {
   "cell_type": "code",
   "execution_count": 51,
   "id": "969c4687",
   "metadata": {},
   "outputs": [],
   "source": [
    "import pickle"
   ]
  },
  {
   "cell_type": "code",
   "execution_count": 63,
   "id": "eb421298",
   "metadata": {},
   "outputs": [],
   "source": [
=======
    "name = \"Urls{}-{}.pickle\".format(from_date,r'4/7/2018')\n",
    "name = name.replace('/','.')\n",
    "import pickle\n",
>>>>>>> 0ab7f69a7149cee6d0356d1e59220eb4e9913372
    "with open(r'C:/Users/Notebiz003/BerTopic/' + name,'wb') as f:\n",
    "    pickle.dump(Urls,f)"
   ]
  },
  {
   "cell_type": "code",
   "execution_count": 64,
   "id": "3a81e8e5",
   "metadata": {},
   "outputs": [],
   "source": [
<<<<<<< HEAD
    ">>> with open(r'C:/Users/Notebiz003/BerTopic/' + name, 'rb') as f:\n",
    "...     data = pickle.load(f) # 단 한줄씩 읽어옴"
   ]
  },
  {
   "cell_type": "code",
   "execution_count": 65,
   "id": "275a64f1",
   "metadata": {},
   "outputs": [
    {
     "data": {
      "text/plain": [
       "['https://www.forbes.com/sites/rachelwolfson/2018/07/05/maltese-parliament-passes-laws-that-set-regulatory-framework-for-blockchain-cryptocurrency-and-dlt/',\n",
       " 'https://bernews.com/2018/07/minister-speaks-on-digital-assets-in-france/',\n",
       " 'https://inc42.com/buzz/paytm-ashakiran-partners-with-grameen-foundation-to-enable-self-employment-opportunities-in-rural-india/',\n",
       " 'https://www.digitalmusicnews.com/2018/07/05/apple-music-spotify-us-subscribers-2/',\n",
       " 'https://fortune.com/2018/07/05/ubs-digital-clone-chief-economist-daniel-kalt/',\n",
       " 'https://www.financialexpress.com/opinion/seeding-agricultural-growth-optimal-support-goes-beyond-msp/1231832/',\n",
       " 'https://www.cnbctv18.com/retail/here-is-what-mukesh-ambani-said-about-reliance-retail-and-reliance-digital-255701.htm',\n",
       " 'https://www.forbes.com/sites/niallmccarthy/2018/07/05/where-financial-inequality-is-rampant-infographic/',\n",
       " 'https://www.cnbc.com/2018/06/29/rodney-williams-from-six-figure-procter--gamble-gig-to-ceo-of-lisnr.html',\n",
       " 'https://www.forbes.com/sites/catherineschnaubelt/2018/07/05/financial-elder-abuse-the-dark-side-of-aging-and-finances/',\n",
       " 'https://www.reuters.com/article/us-malaysia-politics-china-idUSKBN1JV1JP',\n",
       " 'https://www.mobihealthnews.com/content/q2-funding-round-digital-health-rakes-over-2b-foreign-companies-top-charts',\n",
       " 'https://ledgerinsights.com/trade-finance-blockchain-risks/',\n",
       " 'https://www.ft.com/content/ca255740-8059-11e8-bc55-50daf11b720d',\n",
       " 'https://www.openaccessgovernment.org/the-core-principles-of-smart-contracts/47369/',\n",
       " 'https://www.americanbanker.com/news/what-kind-of-bank-does-the-gig-economy-want',\n",
       " 'https://www.atlanticcouncil.org/blogs/energysource/the-risks-of-the-trump-administration-s-whiplash-policy-on-iranian-oil/',\n",
       " 'https://knowledge.wharton.upenn.edu/article/blockchain-can-transform-government/',\n",
       " 'https://www.cnbc.com/2018/06/29/how-reddit-plans-to-make-money-through-advertising.html',\n",
       " 'https://www.business-standard.com/article/companies/is-the-world-s-cheapest-car-finally-dead-only-one-nano-produced-in-june-118070401136_1.html',\n",
       " 'https://www.reuters.com/article/us-kenya-corruption-idUSKBN1JV1OA',\n",
       " 'https://www.cnbc.com/2018/07/05/netflix-and-amazon-are-struggling-to-win-over-indian-viewers.html',\n",
       " 'https://techcrunch.com/2018/07/05/fever-gets-20m-to-delight-more-hipsters-with-a-b-tested-madhatters-gt-parties/',\n",
       " 'https://www.business-standard.com/article/companies/reliance-jio-digital-pack-offer-extended-until-aug-6-offers-extra-2gb-data-per-day-118080500213_1.html',\n",
       " 'https://www.business-standard.com/article/companies/i-am-opposed-to-the-word-agency-says-gozoop-ceo-ahmed-aftab-naqvi-118080500608_1.html',\n",
       " 'https://www.business-standard.com/article/international/bigger-sales-than-apple-china-s-huawei-doesn-t-need-us-118080500017_1.html',\n",
       " 'https://www.calcalistech.com/ctech/articles/0,7340,L-3743707,00.html',\n",
       " 'https://www.prnewswire.com/news-releases/roman-regelman-joins-bny-mellon-in-new-role-as-head-of-digital-300707016.html',\n",
       " 'https://thefinancialbrand.com/news/fintech-banking/digital-banking-future-mondo-monzo-challenger-75087/',\n",
       " 'https://www.business-standard.com/article/companies/future-group-s-kishore-biyani-working-on-digital-retail-prototypes-118090501354_1.html',\n",
       " 'https://www.itweb.co.za/content/VgZeyqJAxrpMdjX9',\n",
       " 'https://www.investopedia.com/news/worlds-largest-bank-icbc-china-moves-toward-blockchain/',\n",
       " 'https://www.searchenginejournal.com/social-media-audience-research/267861/',\n",
       " 'https://www.financialexpress.com/money/4-financial-emergencies-you-must-prepare-for-and-how/1303321/',\n",
       " 'https://www.livemint.com/Companies/fhtD5aBgSY5FGqCRoQOlNL/Centrum-acquires-LT-Finances-supply-chain-business.html',\n",
       " 'https://publicintegrity.org/politics/company-using-foreign-workers-botches-u-s-senate-campaign-finance-records/',\n",
       " 'https://www.forbes.com/sites/forbesfinancecouncil/2018/09/05/six-tips-for-financing-a-new-business-with-limited-capital/',\n",
       " 'https://www.investopedia.com/news/eths-buterin-free-riders-cryptos-major-problem/',\n",
       " 'https://www.business-standard.com/article/markets/muthoot-finance-gains-6-on-post-q1-results-118090500159_1.html',\n",
       " 'https://www.investmentexecutive.com/news/products/policyme-brings-education-and-advice-to-digital-life-insurance/',\n",
       " 'https://www.london.edu/think/6-ways-to-sell-your-innovation',\n",
       " 'https://singularityhub.com/2018/09/05/tech-can-sustainably-feed-developing-world-cities-of-the-future-heres-how/',\n",
       " 'https://www.searchenginejournal.com/over-25-of-facebook-users-have-deleted-the-app-from-their-phone/268357/',\n",
       " 'https://www.forbes.com/sites/dereknewton/2018/09/05/this-26-year-old-ceo-found-students-7-billion-in-financial-aid/',\n",
       " 'https://www.globalgovernmentforum.com/whole-in-one-the-rise-and-rise-of-one-stop-shops/',\n",
       " 'https://www.business-standard.com/article/companies/tata-capital-financial-to-raise-up-to-rs-75-billion-through-sale-of-ncds-118090500032_1.html',\n",
       " 'https://www.searchenginejournal.com/instagram-is-working-on-its-own-shopping-app/268347/',\n",
       " 'https://www.housingfinance.com/finance/n-y-affordable-housing-developments-receive-financing_o',\n",
       " 'https://internationalbanker.com/banking/why-banks-must-change/',\n",
       " 'https://www.ft.com/content/3c1ab748-b09b-11e8-8d14-6f049d06439c',\n",
       " 'https://www.business-standard.com/article/companies/has-il-fs-defaulted-on-rs10-billion-short-term-loan-from-sidbi-118090500666_1.html',\n",
       " 'https://www.business-standard.com/article/markets/financial-crisis-explained-how-greedy-us-banks-crippled-world-economy-118090500388_1.html',\n",
       " 'https://www.business-standard.com/article/markets/nse-flags-concern-over-potential-cyber-attacks-on-financial-market-118090401000_1.html',\n",
       " 'https://www.reuters.com/article/uk-soccer-denmark-idUKKCN1LL1FY',\n",
       " 'https://businesstech.co.za/news/banking/269391/complaints-against-sa-banks-for-misleading-dishonest-or-false-advertising/',\n",
       " 'https://www.indiablooms.com/sports-details/SN/9083/sony-pictures-networks-india-acquires-exclusive-television-and-digital-rights-for-uefa-euro-2020-and-inaugural-uefa-nations-league.html',\n",
       " 'https://www.reuters.com/article/uk-britain-russia-gru-idUKKCN1LL26J',\n",
       " 'https://en.vietnamplus.vn/vinalines-raises-only-23-million-usd-from-ipo/137679.vnp',\n",
       " 'https://www.forbes.com/sites/kimelsesser/2018/09/05/pay-transparency-is-the-solution-to-the-pay-gap-heres-one-companys-success-story/',\n",
       " 'https://www.thelancet.com/journals/lancet/article/PIIS0140-6736(18)32075-0/fulltext',\n",
       " 'https://www.forbes.com/sites/tomhyland/2018/09/05/refining-greatness-at-krug-champagne-a-conversation-with-ceo-maggie-henriquez/',\n",
       " 'https://obj.ca/article/valvoline-buys-ottawa-based-oil-changers',\n",
       " 'https://www.worldfinance.com/strategy/government-policy/angola-ditches-dollar-peg',\n",
       " 'https://bfsi.eletsonline.com/infoaxon-expanding-digital-revolution-across-bfsi-sector/',\n",
       " 'https://inc42.com/buzz/wharton-india-startup-challenge-startup/',\n",
       " 'https://www.business-standard.com/article/companies/infosys-partners-belgium-telecom-company-proximus-118010500782_1.html',\n",
       " 'https://www.healthcarefinancenews.com/news/ssm-health-completes-merger-agnesian-healthcare-and-monroe-clinic',\n",
       " 'https://www.openaccessgovernment.org/switzerland-blockchains-spiritual-home/40955/',\n",
       " 'https://bfsi.eletsonline.com/bankbazaar-digitising-financial-products-for-simplified-user-experience/',\n",
       " 'https://www.cnbc.com/2018/01/05/second-largest-cryptocurrency-ripple-may-have-run-ahead-of-itself.html',\n",
       " 'https://www.financialexpress.com/industry/vistara-doubles-delhi-chennai-operations-to-connect-port-blair-from-march/1003507/',\n",
       " 'https://www.imf.org/en/News/Podcasts/All-Podcasts/2018/01/05/william-maloney-the-innovation-paradox',\n",
       " 'https://www.housingwire.com/articles/42223-situs-acquiring-mountainview-financial-solutions/',\n",
       " 'https://www.cnbc.com/2018/01/05/tax-season-starts-on-jan-29-heres-when-to-expect-key-forms.html',\n",
       " 'https://news.bitcoin.com/cryptocurrency-valuations-have-created-very-wealthy-founders/',\n",
       " 'https://www.forbes.com/sites/forbesfinancecouncil/2018/01/05/budgets-dont-work-heres-how-businesses-can-do-it-differently/',\n",
       " 'https://www.fnlondon.com/articles/barclays-names-corporate-broking-heads-20180105',\n",
       " 'https://www.cnbc.com/2018/01/05/tax-law-changes-that-affect-employees-and-their-benefits.html',\n",
       " 'https://www.businessinsider.com/fake-trump-gorilla-channel-2018-1',\n",
       " 'https://www.finews.com/news/english-news/30136-finews-first-dennis-larsen-banking-swiss-banking-reputation-bad-bankers-corporate-reputation',\n",
       " 'https://bitsonline.com/seatle-man-purchase-home-bitcoin-cash/',\n",
       " 'https://www.busiweek.com/alibaba-to-promote-rwandas-economic-development/',\n",
       " 'https://www.ft.com/content/fbb6d92c-e108-11e8-a6e5-792428919cee',\n",
       " 'https://www.ft.com/content/48849258-e0fa-11e8-8e70-5e22a430c1ad',\n",
       " 'https://www.wealthmanagement.com/technology/empower-retirement-plans-digital-wealth-management-transformation',\n",
       " 'https://www.theguardian.com/world/2018/nov/06/plans-for-digital-currency-spark-political-crisis-in-marshall-islands',\n",
       " 'https://www.businesswire.com/news/home/20181105005646/en/Global-Blockchain-Ventures-Announces-Launch-of-100000000-Blockchain-Technology-Focused-Venture-Fund',\n",
       " 'https://www.reuters.com/article/us-banks-cogni-exclusive-idUSKCN1NA28U',\n",
       " 'https://www.business-standard.com/article/pti-stories/fintech-nbfc-vivifi-india-finance-scores-20-000-flexsalary-accounts-in-first-year-of-operations-118110500502_1.html',\n",
       " 'https://internationalbanker.com/banking/interview-with-mr-romesh-sobti-managing-director-and-ceo-of-indusind-bank/',\n",
       " 'https://chiefexecutive.net/the-unique-challenges-of-digital-mas/',\n",
       " 'https://www.globalgovernmentforum.com/former-head-of-uk-civil-service-sir-jeremy-heywood-dies-at-56/',\n",
       " 'https://news.gallup.com/opinion/gallup/244508/world-bank-opens-2017-global-financial-inclusion-microdata.aspx',\n",
       " 'https://blogs.imf.org/2018/11/05/when-history-rhymes/',\n",
       " 'https://www.reuters.com/article/us-britain-eu-arronbanks-explainer-idUSKCN1NA1ZI',\n",
       " 'https://www.finextra.com/blogposting/16253/launching-products-is-becoming-more-painful-for-banks',\n",
       " 'https://www.premiumbeautynews.com/en/nichebox-a-new-fund-to-help,14158',\n",
       " 'https://www.computerweekly.com/news/252451953/Banking-sector-leading-CIAM-innovation-say-Big-Four',\n",
       " 'https://www.theguardian.com/business/2018/nov/05/lloyds-banking-group-to-add-2000-jobs-in-digital-shake-up',\n",
       " 'https://www.nyasatimes.com/standard-bank-malawi-opens-chichiri-mall-branch/',\n",
       " 'https://www.risk.net/asset-management/6099526/why-dario-villani-trusts-machine-learning',\n",
       " 'https://www.reuters.com/article/us-shire-m-a-takeda-idUSKCN1NA1WE',\n",
       " 'https://www.reuters.com/article/us-citigroup-chairman-dugan-idUSKCN1NA1P5',\n",
       " 'https://www.bloomberg.com/news/articles/2018-11-05/the-good-times-are-over-for-japan-s-loot-box-style-gaming-bonanza',\n",
       " 'https://www.forbes.com/sites/deloitte/2018/12/05/what-will-the-finance-industry-look-like-in-2025-eight-predictions-for-the-digital-age/',\n",
       " 'https://www.finextra.com/blogposting/16391/governments-key-to-solving-financial-inclusion',\n",
       " 'https://www.gfmag.com/topics/blogs/nigeria-creates-licensing-regimes-regulate-fintechs',\n",
       " 'https://duo.com/decipher/mastercard-microsoft-team-for-new-digital-identity-platform',\n",
       " 'https://www.globalgovernmentforum.com/zimbabwe-cracks-down-on-ghost-workers-with-id-system/',\n",
       " 'https://technical.ly/startups/why-hero-digital-acquired-this-50-person-firm-in-san-francisco/',\n",
       " 'https://www.forbes.com/sites/forbestechcouncil/2018/12/05/how-artificial-intelligence-is-helping-financial-institutions/',\n",
       " 'https://www.healthcarefinancenews.com/news/what-growing-demand-physicians-means-top-hospital-executives',\n",
       " 'https://www.london.edu/think/3-steps-closer-to-a-purposeful-organisation',\n",
       " 'https://www.cuinsight.com/press-release/cuna-mutual-group-expands-lending-solutions-with-acquisition-of-mirador/',\n",
       " 'https://financefeeds.com/ig-adds-deal-position-preview-functionality-web-trading-platform/',\n",
       " 'https://www.consultancy.eu/news/2127/accenture-acquires-sec-servizi-from-intesa-sanpaolo',\n",
       " 'https://www.greenbiz.com/article/future-digital-water-technology-here-its-just-not-evenly-distributed-yet',\n",
       " 'https://realtybiznews.com/freddie-mac-will-finance-loans-for-manufactured-homes/98751821/',\n",
       " 'https://www.finews.asia/finance/27877-grab-financial-partners-sm-investments',\n",
       " 'https://www.searchenginejournal.com/international-search-brand-measurement/281107/',\n",
       " 'https://biztechmagazine.com/article/2018/12/how-banks-can-benefit-collaboration-cloud',\n",
       " 'https://europa.eu/rapid/press-release_MEMO-18-6650_en.htm',\n",
       " 'https://www.forbes.com/sites/forbestechcouncil/2018/12/05/a-five-phase-road-map-for-digital-transformation/',\n",
       " 'https://www.reuters.com/article/us-portugal-china-xi-idUSKBN1O41RK',\n",
       " 'https://europa.eu/rapid/press-release_MEMO-18-6648_en.htm',\n",
       " 'https://www.business-standard.com/article/companies/novartis-india-md-milan-paleja-to-step-down-with-effect-from-may-31-118120500640_1.html',\n",
       " 'https://www.cnbc.com/2018/12/05/cvs-says-it-has-a-fix-for-those-mile-long-receipts--heres-how.html',\n",
       " 'https://www.epo.org/news-events/news/2018/20181205.html',\n",
       " 'https://www.business-standard.com/article/news-ians/delhi-government-launches-free-pilgrimage-scheme-for-senior-citizens-118120501058_1.html',\n",
       " 'https://www.digitalinformationworld.com/2018/12/roundup-of-2018-biggest-tech-failures.html',\n",
       " 'https://www.forbes.com/sites/forbestechcouncil/2018/12/05/moving-beyond-smart-contracts-what-are-the-next-generations-of-blockchain-use-cases/',\n",
       " 'https://www.eonline.com/news/993539/cardi-b-and-offset-split-what-s-at-stake-in-their-financial-empire',\n",
       " 'https://www.theguardian.com/business/2018/dec/05/funding-nemo-600m-power-cable-connects-uk-and-belgium',\n",
       " 'https://www.cnbc.com/2018/12/04/all-the-space-department-stores-take-up-could-build-350-malls.html',\n",
       " 'https://www.forbes.com/sites/forbesagencycouncil/2018/12/05/influence-and-the-influencer-persuading-audiences-through-social-identity/',\n",
       " 'https://www.tagesanzeiger.ch/in-oerlikon-wird-der-hockeyaner-zum-tintenfisch-770253320926',\n",
       " 'https://www.reuters.com/article/us-germany-economy-tax-idUSKCN1OZ0OF',\n",
       " 'https://www.financialexpress.com/industry/technology/netflixs-big-losses-what-to-make-of-its-financial-problems/1434539/',\n",
       " 'https://www.nbcnews.com/politics/donald-trump/trump-s-tweet-his-opponents-campaign-finance-violations-doesn-t-n955131',\n",
       " 'https://www.business-standard.com/article/economy-policy/no-liability-if-ppi-customers-report-fraud-in-three-days-says-rbi-119010500039_1.html',\n",
       " 'https://appinventiv.com/blog/impact-of-fintech-on-your-business/',\n",
       " 'https://nationalpost.com/pmn/news-pmn/police-kill-man-shooting-inside-gas-station-store',\n",
       " 'https://www.washingtonpost.com/business/2019/02/04/gannett-board-rejects-hostile-takeover-bid-that-may-be-just-start/',\n",
       " 'https://www.vccircle.com/r-systems-acquires-us-based-digital-services-firm-innovizant',\n",
       " 'https://www.financialexpress.com/infrastructure/railways/read-on-the-go-in-trains-irctc-ties-up-with-magzter-offers-passengers-digital-magazines-newspapers/1477545/',\n",
       " 'https://www.ft.com/content/538b8ece-296e-11e9-a5ab-ff8ef2b976c7',\n",
       " 'https://thefinancialbrand.com/news/fintech-banking/challenger-banks-legacy-institutions-mobile-banking-80002/',\n",
       " 'https://whoswholegal.com/features/disruptive-technologies-change-the-face-of-the-brazilian-financial-market',\n",
       " 'https://www.forbes.com/sites/forbesfinancecouncil/2019/02/05/simple-strategies-to-help-anyone-improve-their-financial-literacy/',\n",
       " 'https://www.finews.com/news/english-news/35139-crypto-finance-jan-brzezek-job-cuts-sales',\n",
       " 'https://www.reuters.com/article/bc-finreg-robo-advisers-solicitation-com-idUSKCN1PU228',\n",
       " 'https://www.forbes.com/sites/tiffanyyoung1/2019/02/05/15-minute-mortgages-meet-molo-the-new-fintech-aiming-to-shake-up-the-market/',\n",
       " 'https://www.gov.uk/government/news/ai-and-digital-design-to-transform-future-of-uk-construction',\n",
       " 'https://www.zeebiz.com/india/news-gamechanger-how-fintech-firms-are-disrupting-traditional-banking-and-financial-services-space-84224',\n",
       " 'https://www.livemint.com/companies/start-ups/indostar-to-buy-iifl-s-cv-financing-business-1549306783863.html',\n",
       " 'https://www.livemint.com/money/personal-finance/how-to-protect-yourself-from-otp-theft-1549307894204.html',\n",
       " 'https://www.itnewsafrica.com/2019/02/are-internet-shutdowns-the-new-norm-in-africa/',\n",
       " 'https://www.assetfinanceinternational.com/index.php/auto-finance/auto-asia/auto-asia-articles/17916-mazda-and-toyota-set-to-collaborate-in-new-australian-f-i-partnership',\n",
       " 'https://www.forbes.com/sites/jeffthomson/2019/02/05/digital-drives-crocs-comeback/',\n",
       " 'https://financefeeds.com/independent-derivative-traders-directors-get-banned-accepting-client-money-insolvent/',\n",
       " 'https://www.nbcnews.com/better/lifestyle/11-smart-ways-spend-your-tax-refund-according-personal-finance-ncna967196',\n",
       " 'https://fp.brecorder.com/2019/02/20190205444787/',\n",
       " 'https://stpetecatalyst.com/raymond-james-ceo-speaks-out-on-regulations-robo-advising-and-leadership/',\n",
       " 'https://www.searchenginejournal.com/supplemental-content/291127/',\n",
       " 'https://diginomica.com/robotic-news-production-help-hinder-better-worse',\n",
       " 'https://www.forbes.com/sites/forbestechcouncil/2019/02/05/10-industries-on-the-cusp-of-technological-disruption/',\n",
       " 'https://www.bworldonline.com/opinion/2019/02/05/212774/alternative-lending-in-the-philippines/',\n",
       " 'https://www.internationalinvestment.net/news/4000773/cayman-introduce-changes-trust-law',\n",
       " 'https://www.business-standard.com/article/news-ians/biometric-data-won-t-help-in-identifying-dead-bodies-uidai-tells-hc-119020501455_1.html',\n",
       " 'https://www.bbc.com/mundo/noticias-47134351',\n",
       " 'https://europe.autonews.com/automakers/how-vw-daimler-bmw-others-are-transforming-tech-companies',\n",
       " 'https://www.reuters.com/article/us-boeing-aerion-idUSKCN1PU1YW',\n",
       " 'https://www.forbes.com/sites/alejandrocremades/2019/02/05/these-entrepreneurs-were-rejected-hundreds-of-times-before-bringing-in-billions/',\n",
       " 'https://www.busiweek.com/african-crickets-field-of-dreams-stands-international-test/',\n",
       " 'https://reliefweb.int/report/jordan/refugee-access-financial-services-jordan-march-2019',\n",
       " 'https://www.devex.com/news/reducing-the-barriers-to-financial-access-plans-for-png-94385',\n",
       " 'https://www.financialexpress.com/infrastructure/railways/what-is-irctc-ipay-know-how-it-will-make-online-train-ticket-booking-on-irctc-co-in-faster-and-easier/1505604/',\n",
       " 'https://businessandfinance.com/ciaran-mcnamee-qpq-limited/',\n",
       " 'https://www.bizjournals.com/washington/news/2019/03/05/crypto-was-huge-in-2018-now-its-not-here-are-what.html',\n",
       " 'https://www.cnbc.com/2019/03/05/online-bank-chime-now-valued-at-1point5-billion-after-new-funding-round.html',\n",
       " 'https://www.livemint.com/politics/policy/world-bank-to-provide-250-million-to-boost-rural-income-1551789942463.html',\n",
       " 'https://www.forbes.com/sites/forbesfinancecouncil/2019/03/05/precision-finance-what-it-could-mean-for-financial-securities/',\n",
       " 'https://www.deccanherald.com/opinion/panorama/e-payments-taking-kirana-721701.html',\n",
       " 'https://www.thedrum.com/news/2019/03/05/financial-times-acquires-controlling-stake-the-next-web-bulk-up-events-portfolio',\n",
       " 'https://www.bobsguide.com/articles/the-future-of-client-onboarding-for-financial-institutions/',\n",
       " 'https://www.forbes.com/sites/forbesfinancecouncil/2019/03/05/12-tips-for-staying-on-top-of-your-business-financial-reporting/',\n",
       " 'https://www.euromoney.com/article/b1dbgr6w9zg7d1/banking-for-a-modern-middle-east',\n",
       " 'https://www.ledgerinsights.com/alipay-ant-double-chain-blockchain-supply-chain/',\n",
       " 'https://www.cnbc.com/2019/03/05/target-reports-q4-2018-earnings.html',\n",
       " 'https://www.forbes.com/sites/mayrarodriguezvalladares/2019/03/05/emerging-market-borrowing-is-breaking-records/',\n",
       " 'https://www.insidermedia.com/news/south-east/financial-services-firm-agrees-farnborough-aerospace-centre-move',\n",
       " 'https://www.business-standard.com/article/news-ians/most-of-modi-s-important-ministers-are-rajya-sabha-members-119030501163_1.html',\n",
       " 'https://www.dazeddigital.com/science-tech/article/43606/1/how-social-media-instagram-is-changing-financial-domination-findoms-subs',\n",
       " 'https://www.forbes.com/sites/forbescoachescouncil/2019/03/05/13-ways-for-your-business-to-stand-out-and-capture-attention-in-a-crowded-market/',\n",
       " 'https://www.forbes.com/sites/rasmushougaard/2019/03/05/the-power-of-putting-people-first/',\n",
       " 'https://www.cnbc.com/2019/03/05/why-alibaba-isnt-competing-with-amazon-and-ebay-for-the-us-consumer.html',\n",
       " 'https://www.theneweconomy.com/business/revolut-denies-accusations-of-money-laundering-negligence',\n",
       " 'https://europa.eu/rapid/press-release_IP-19-1512_en.htm',\n",
       " 'https://www.ft.com/content/2cd28d10-577b-11e9-91f9-b6515a54c5b1',\n",
       " 'https://www.reuters.com/article/us-france-eu-lemaire-interview-idUSKCN1RH119',\n",
       " 'https://www.bloomberg.com/news/articles/2019-04-05/btg-s-digital-ambitions-lead-to-midsize-banking-push-in-brazil',\n",
       " 'https://www.cnbc.com/2019/04/05/need-cash-now-you-can-sell-the-equity-in-your-home-to-investors.html',\n",
       " 'https://ec.europa.eu/commission/presscorner/detail/en/ip_19_2010',\n",
       " 'https://www.forbes.com/sites/forbesfinancecouncil/2019/04/05/nine-finance-experts-predict-the-biggest-changes-to-banking-by-2025/',\n",
       " 'https://www.finextra.com/blogposting/16973/european-fintech-in-the-era-of-brexit',\n",
       " 'https://www.cpomagazine.com/data-protection/toward-a-single-global-standard-for-secure-financial-data-sharing/',\n",
       " 'https://www.businessinsider.com/santander-digital-technology-investment-announcement-2019-4',\n",
       " 'https://www.odwyerpr.com/story/public/12318/2019-04-05/events-awards-opc-honors-khashoggi-other-murdered-journos-pr-couture.html',\n",
       " 'https://thehill.com/opinion/technology/437504-kids-programming-on-tv-is-regulated-what-about-their-digital-devices',\n",
       " 'https://www.forbes.com/sites/pamdanziger/2019/04/05/lululemons-2018-results-were-astounding-but-can-it-do-it-again-in-2019/',\n",
       " 'https://www.forbes.com/sites/tomdavenport/2019/04/05/ai-is-destroying-traditional-business-thinking/',\n",
       " 'https://www.business-standard.com/article/international/how-tesla-ceo-elon-musk-lost-1-bn-in-just-2-minutes-119040500218_1.html',\n",
       " 'https://www.forbes.com/sites/andrewdepietro/2019/04/05/photographer-salary-state/',\n",
       " 'https://www.zeebiz.com/personal-finance/news-senior-citizen-do-you-know-about-this-facility-your-bank-must-provide-93213',\n",
       " 'https://www.reuters.com/article/us-bofaml-branches-idUSKCN1RH1H9',\n",
       " 'https://www.bloomberg.com/news/features/2019-04-06/djibouti-needed-help-china-had-money-and-now-the-u-s-and-france-are-worried',\n",
       " 'https://www.businessinsider.com/marvel-cinematic-universe-after-avengers-endgame-details-analysis-2019-3',\n",
       " 'https://www.zdnet.com/article/new-zealand-looks-to-include-all-citizens-in-digital-future/',\n",
       " 'https://www.financemagnates.com/cryptocurrency/exchange/digital-currency-exchange-bits-of-gold-enters-european-market/',\n",
       " 'https://www.livemint.com/news/india/despite-hype-demonetization-missed-all-goals-1557059532885.html',\n",
       " 'https://www.ft.com/content/0c6e2f48-6cb6-11e9-80c7-60ee53e6681d',\n",
       " 'https://www.reuters.com/article/us-pacific-mining-newcrest-harmony-gold-idUSKCN1SC0C6',\n",
       " 'https://www.straitstimes.com/business/banking/banks-reskilling-frontline-staff-and-creating-new-jobs-to-help-employees-stay-ahead',\n",
       " 'https://www.gov.uk/government/news/government-safeguards-uk-elections',\n",
       " 'https://www.gfmag.com/magazine/june-2019/caixabanks-executive-director-global-customer-experience-jordi-nicolau',\n",
       " 'https://internationalbanker.com/banking/leveraging-disruptive-technologies-to-drive-financial-inclusion-within-the-banking-sector/',\n",
       " 'https://www.worldfinance.com/strategy/major-corporations-anticipate-1trn-climate-hit',\n",
       " 'https://www.gfmag.com/magazine/june-2019/innovators-2019-special-honors',\n",
       " 'https://thefintechtimes.com/private-securities-key-areas/',\n",
       " 'https://www.livemint.com/money/personal-finance/nilekani-report-proposes-to-simplify-kyc-norms-1559754300357.html',\n",
       " 'https://www.newswire.ca/news-releases/lifespeak-launches-mobile-app-version-of-its-leading-digital-well-being-platform-800453730.html',\n",
       " 'https://www.patentlyapple.com/2019/06/apples-liquid-retina-receives-registered-status-as-their-iphone-trademark-is-updated-to-cover-financial-services.html',\n",
       " 'https://www.financialexpress.com/industry/banking-finance/dighi-port-chairman-vijay-kalantri-under-the-scanner-bank-of-baroda-declares-him-as-wilful-defaulter/1598989/',\n",
       " 'https://www.datacenterdynamics.com/en/opinions/power-internet-exchanges-financial-services/',\n",
       " 'https://singularityhub.com/2019/06/05/revolt-on-the-horizon-how-young-people-really-feel-about-digital-technology/',\n",
       " 'https://europa.eu/rapid/press-release_MEMO-19-2829_en.htm',\n",
       " 'https://www.accountancyage.com/2019/06/05/kpmg-kick-off-world-environment-day-with-blue-planet-ii-producer/',\n",
       " 'https://www.vox.com/recode/2019/6/5/18654454/nubank-softbank-valuation-brazil-banking-funding',\n",
       " 'https://europa.eu/rapid/press-release_IP-19-2809_en.htm',\n",
       " 'https://www.forbes.com/sites/forbestechcouncil/2019/06/05/why-data-management-and-data-literacy-need-to-go-together/',\n",
       " 'https://www.businessinsider.com/andy-ruiz-jr-family-won-bets-beat-anthony-joshua-2019-6',\n",
       " 'https://news.ontario.ca/en/release/52523/ontario-government-taking-a-flexible-fair-and-reasonable-approach-to-managing-public-sector-compensa',\n",
       " 'https://www.bloomberg.com/news/features/2019-06-06/towing-an-iceberg-one-captain-s-plan-to-bring-drinking-water-to-4-million-people',\n",
       " 'https://www.financialexpress.com/budget/union-budget-2019-internet-connectivity-in-rural-india-to-be-fast-tracked-digital-india-gains-momentum/1630461/',\n",
       " 'https://europa.eu/rapid/press-release_MEX-19-3772_en.htm',\n",
       " 'https://employeebenefits.co.uk/exclusive-four-fifths-digital-engagement/',\n",
       " 'https://www.exchange4media.com/media-others-news/fdi-norms-in-media-to-be-relaxed-sitharaman-97888.html',\n",
       " 'https://www.livemint.com/budget/news/top-10-takeaways-from-nirmala-sitharaman-s-budget-2019-speech-1562325649396.html',\n",
       " 'https://finance.yahoo.com/news/paddy-mc-guinness-didnt-realise-he-was-a-bad-driver-until-top-gear-230223839.html',\n",
       " 'https://www.weforum.org/agenda/2019/07/skills-not-job-titles-are-the-new-metric-for-the-labour-market/',\n",
       " 'https://www.livemint.com/budget/news/budget-2019-sitharaman-proposes-safe-drinking-water-for-every-citizen-1562310236734.html',\n",
       " 'https://www.kroll.com/en/services/compliance-risk-and-diligence/kroll-compliance-portal',\n",
       " 'https://www.business-standard.com/article/pti-stories/govt-hikes-customs-duty-on-cctv-camera-split-ac-119070500693_1.html',\n",
       " 'https://www.kroll.com/en/services/compliance-risk-and-diligence/kroll-compliance-portal/screen-and-monitor',\n",
       " 'https://www.cnbc.com/2019/07/05/india-budget-agriculture-infrastructure-investments-fiscal-deficit.html',\n",
       " 'https://www.business-standard.com/article/economy-policy/financial-creditors-recover-more-under-ibc-says-economic-survey-119070500042_1.html',\n",
       " 'https://www.reuters.com/article/us-cuba-usa-mcafee-idUSKCN1U028D',\n",
       " 'https://en.vietnamplus.vn/trade-through-lao-cai-international-border-gate-goes-down/155624.vnp',\n",
       " 'https://www.livemint.com/budget/news/not-highlighted-in-budget-speech-ayushman-bharat-fssai-get-major-chunk-of-fund-1562334924875.html',\n",
       " 'https://www.livemint.com/budget/news/budget-2019-fm-sitharaman-proposes-to-set-up-national-research-foundation-1562317448239.html',\n",
       " 'https://www.cnbc.com/2019/07/05/how-criminals-use-stolen-passport-information.html',\n",
       " 'https://www.forbes.com/sites/forbescoachescouncil/2019/07/05/11-reasons-why-most-entrepreneurs-fail/',\n",
       " 'https://www.expresshealthcare.in/blogs/guest-blogs-healthcare/telemedicine-in-india-is-the-time-ripe/412528/',\n",
       " 'https://www.cnbc.com/2019/07/05/revolut-ceo-nikolay-storonsky-on-the-fintech-unicorns-journey.html',\n",
       " 'https://www.businessinsider.com/fortnite-demogorgon-chief-hoppper-skin-outfit-stranger-things-3-crossover-2019-7',\n",
       " 'https://www.reuters.com/article/us-brazil-beef-idUSKCN1U028L',\n",
       " 'https://obj.ca/article/ottawa-gatineau-adds-4700-jobs-june',\n",
       " 'https://www.cnbc.com/2018/02/05/advisors-dont-panic-amid-the-market-sell-off.html',\n",
       " 'https://www.brinknews.com/energy-access-is-critical-to-economic-growth/',\n",
       " 'https://www.fortuneindia.com/technology/bank-on-the-chain/101538',\n",
       " 'https://www.worldfinance.com/markets/unbalanced-books-germanys-controversial-current-account-surplus-has-grown-even-larger',\n",
       " 'https://maritime-executive.com/article/blockchain-arrives-for-ship-finance',\n",
       " 'https://www.bbc.co.uk/news/business-42940728',\n",
       " 'https://www.vietnam-briefing.com/news/vietnamese-firms-shifting-to-e-invoices.html/',\n",
       " 'https://www.livemint.com/Politics/S57BpKHAclw2El4KJF7tHO/Plan-on-revenue-deficit-seen-as-shift-towards-consumption-sp.html',\n",
       " 'https://archive.siasat.com/news/former-finance-minister-chidambaram-explains-cost-involved-digital-payment-1313136/',\n",
       " 'https://orissadiary.com/k-r-vasudevan-assumes-charge-director-finance-mahanadi-coalfields-limited/',\n",
       " 'https://businesstech.co.za/news/banking/223164/fnb-is-now-south-africas-most-valuable-banking-brand/',\n",
       " 'https://www.livemint.com/Home-Page/LGiSxKK2Q2mZfiBXjCnVJP/Money-myths-5-stereotypes-about-women-and-finances-that-we.html',\n",
       " 'https://www.forbes.com/sites/forbesagencycouncil/2018/02/05/the-financial-fallout-of-celebrity-endorser-misconduct/',\n",
       " 'https://www.calcalistech.com/ctech/articles/0,7340,L-3731142,00.html',\n",
       " 'https://www.forbes.com/sites/insights-deloitte/2018/02/05/3-ways-to-excel-at-regulatory-compliance-and-new-business-models/',\n",
       " 'https://www.cnbc.com/2018/02/05/bitcoin-price-drops-below-8000-over-60-billion-wiped-off-cryptocurrencies.html',\n",
       " 'https://www.bloomberg.com/news/features/2018-02-06/germany-is-still-obsessed-with-cash',\n",
       " 'https://www.business-standard.com/article/international/paris-attacks-suspect-salah-abdeslam-tried-in-belgium-over-shootout-118020500648_1.html',\n",
       " 'https://www.business-standard.com/article/international/chinese-shipping-firm-md-killed-by-unidentified-gunmen-in-pakistan-118020501310_1.html',\n",
       " 'https://www.nytimes.com/2018/02/05/business/media/newsweek-firings.html',\n",
       " 'https://www.forbes.com/sites/thomaspellechia/2018/02/05/academics-explain-terroir-but-not-exactly-the-way-wine-consumers-might-expect/',\n",
       " 'https://www.business-standard.com/article/international/erdogan-meets-pope-as-rome-bans-kurdish-protests-against-turkey-s-offensive-118020500644_1.html',\n",
       " 'https://www.wsp.com/en-CA/services/urban-planning-and-master-planning',\n",
       " 'https://www.reuters.com/article/us-sgx-bursa-malaysia-trading-link-idUSKBN1FQ0A7',\n",
       " 'https://www.agenceecofin.com/gestion-publique/0502-54064-congo-brazzaville-en-quasi-faillite-les-societes-nationales-d-electricite-et-de-distribution-d-eau-seront-dissoutes-et-remplacees',\n",
       " 'https://www.internationalinvestment.net/news/4004603/kuwait-finance-house-bahrain-launches-wealth-management-services',\n",
       " 'https://www.cutimes.com/2019/09/05/consumers-changing-the-meaning-of-banking-convenience/',\n",
       " 'https://economist.com.na/47020/technology/chinas-digital-currency-may-be-worlds-first-newspaper/',\n",
       " 'https://www.openaccessgovernment.org/digital-skills-gap-business-government/72802/',\n",
       " 'https://www.prnewswire.com/news-releases/engage-mobilize-closes-series-a-financing-to-expand-its-digital-field-management-platform-300910996.html',\n",
       " 'https://www.biometricupdate.com/201909/nigeria-to-receive-433m-from-world-bank-for-biometric-national-id-registration',\n",
       " 'https://www.reuters.com/article/us-siam-comm-bank-sea-idUSKCN1VQ1FA',\n",
       " 'https://www.finextra.com/blogposting/17830/super-apps-and-financial-services-how-can-banks-catch-up-with-the-trend',\n",
       " 'https://www.healthcarefinancenews.com/news/how-artificial-intelligence-can-allow-providers-get-better-handle-social-determinants-health',\n",
       " 'https://www.prnewswire.com/news-releases/brightinsight-raises-25-million-to-enhance-its-regulated-digital-health-platform-and-accelerate-global-commercialization-300912084.html',\n",
       " 'https://seenews.com/news/ebp-names-ceo-of-germanys-n26-digital-bank-european-manager-of-2019-667982',\n",
       " 'https://www.canadianunderwriter.ca/insurance/ontario-approves-electronic-proof-of-auto-insurance-1004167995/',\n",
       " 'https://www.forbes.com/sites/louiscolumbus/2019/09/05/how-ai-is-protecting-against-payments-fraud/',\n",
       " 'https://news.bloombergtax.com/daily-tax-report-state/chicago-reaps-revenue-bonanza-with-cloud-computing-tax',\n",
       " 'https://www.forbes.com/sites/bradadgate/2019/09/05/when-a-recession-comes-dont-stop-advertising/',\n",
       " 'https://ec.europa.eu/commission/presscorner/detail/en/IP_19_5511',\n",
       " 'https://www.forbes.com/sites/jilliancanning/2019/09/05/the-rise-of-startups-innovating-in-the-fertility-space/',\n",
       " 'https://www.consultancy.asia/news/2501/ey-books-global-revenues-of-364-billion-as-apac-again-leads-growth',\n",
       " 'https://www.reuters.com/article/us-china-p2p-regulation-analysis-idUSKCN1VR055',\n",
       " 'https://www.forbes.com/sites/donnafuscaldo/2019/09/05/happy-money-raises-70-million-at-a-valuation-of-nearly-500-million/',\n",
       " 'https://www.abc.net.au/news/2019-09-06/drivers-licence-identity-theft-leaves-victims-exposed/11439668',\n",
       " 'https://www.reuters.com/article/us-thyssenkrupp-m-a-kone-idUSKCN1VQ1WT',\n",
       " 'https://www.reuters.com/article/assuranceiq-ma-prudential-finl-idUSL3N25W2JN',\n",
       " 'https://www.crowdfundinsider.com/2019/09/151255-bill-gates-mark-zuckerberg-more-invest-6-5-million-in-minu-a-fintech-company-that-helps-mexican-employees-get-paid/',\n",
       " 'https://www.insurancebusinessmag.com/ca/news/cyber/federal-governments-new-cybersecurity-pilot-sounds-alarm-for-smes-177158.aspx',\n",
       " 'https://meconstructionnews.com/36638/uaes-arabtec-holding-and-trojan-holding-considering-cooperation-agreement',\n",
       " 'https://qz.com/africa/1722613/mobile-money-lending-in-kenya-helps-but-also-spikes-debt/',\n",
       " 'http://www.cmt.com/news/1812787/kenny-chesneys-walk-through-at-the-work-in-progress-at-sofi/',\n",
       " 'https://www.finextra.com/blogposting/17979/the-role-of-fintech-innovation-in-smart-cities',\n",
       " 'https://www.financialmirror.com/2019/10/05/technology-cyprus-is-lagging-in-digital-transformation/',\n",
       " 'https://www.cnbc.com/2019/10/05/psychology-behind-ikeas-huge-success.html',\n",
       " 'https://morningconsult.com/2019/11/05/reps-eshoo-lofgren-introduce-bill-to-create-digital-privacy-agency-to-protect-users/',\n",
       " 'https://thehill.com/opinion/finance/469045-will-the-federal-reserve-have-a-monopoly-in-digital-currencies/',\n",
       " 'https://www.ft.com/content/b3672cae-fc63-11e9-98fd-4d6c20050229',\n",
       " 'https://www.zdnet.com/article/adobes-growth-strategy-revolves-around-digital-customer-experiences-expanding-market-for-creatives/',\n",
       " 'https://www.finextra.com/blogposting/18099/how-can-banks-win-in-the-sme-market-contemporary-mobile-banking-trends',\n",
       " 'https://www.ledgerinsights.com/idc-trade-finance-biggest-enterprise-blockchain-app-china/',\n",
       " 'https://www.hankyung.com/finance/article/201911055884g',\n",
       " 'https://www.finextra.com/pressarticle/80500/wirecard-to-acquire-chinas-allscore-payment-services',\n",
       " 'https://sbr.com.sg/financial-services/news/daily-briefing-fintech-nium-snubs-digital-banking-licence-travel-wallet-yout',\n",
       " 'https://opengovasia.com/auckland-new-zealand-recognised-for-smart-city-innovations/',\n",
       " 'https://www.business-standard.com/article/companies/bajaj-finance-launches-qualified-institutional-placement-of-rs-8-500-crore-119110500048_1.html',\n",
       " 'https://interestingengineering.com/culture/100-bill-its-all-about-the-benjamins',\n",
       " 'https://www.forbes.com/sites/forrester/2019/11/05/webank-is-driving-financial-inclusion-at-scale-in-china/',\n",
       " 'https://www.assetfinanceinternational.com/index.php/technology/technology-archive/technology-articles/18852-in-car-connectivity-drives-new-financial-ecosystem',\n",
       " 'https://www.zeebiz.com/personal-finance/news-bank-account-holder-alert-top-6-things-that-you-absolutely-must-never-do-on-your-mobile-phone-113761',\n",
       " 'https://www.bloomberg.com/news/videos/2019-11-05/hedge-fund-cqs-sees-distressed-opportunities-in-brexit-energy-video',\n",
       " 'https://www.maravipost.com/tnm-mpamba-first-capital-bank-launch-joint-transact-win-promotion/',\n",
       " 'https://www.maravipost.com/tnm-mpambafirst-capital-bank-launch-joint-transact-win-promotion/',\n",
       " 'https://www.reuters.com/article/us-germany-politics-schaeuble-idUSKBN1XF1J9',\n",
       " 'https://knowledge.wharton.upenn.edu/article/three-waves-tracking-evolution-indias-startups/',\n",
       " 'https://www.forbes.com/sites/forbesfinancecouncil/2019/11/05/the-real-reasons-so-many-small-businesses-run-out-of-money/',\n",
       " 'https://www.marketplace.org/2019/11/05/how-the-fdic-approaches-cryptocurrencies/',\n",
       " 'https://www.forbes.com/sites/donnafuscaldo/2019/11/05/brex-and-bank-of-the-west-team-on-co-branded-credit-card/',\n",
       " 'https://www.sandiegouniontribune.com/business/technology/story/2019-11-05/out-of-proflowers-ashes-execs-launch-new-san-diego-tech-startup-daasity',\n",
       " 'https://www.reuters.com/article/us-eu-ecofin-cryptocurrencies-idUSKBN1Y91E4',\n",
       " 'https://www.iflr.com/article/2a63a9xnk2s75fpqu1mv4/primer-chinas-cryptography-law',\n",
       " 'https://www.cnbc.com/2019/12/05/chime-quadruples-valuation-to-5point8-billion-as-it-raises-500-million.html',\n",
       " 'https://www.businesswire.com/news/home/20191205005430/en/CWB-Financial-Group-Partners-With-Temenos-to-Deliver-Personalized-World-class-Digital-Experience-for-Business-Owners',\n",
       " 'https://www.insidermedia.com/news/yorkshire/hippo-digital-acquires-data-analytics-provider',\n",
       " 'https://www.orfonline.org/expert-speak/bridging-the-gender-gap-fintech-as-a-means-to-empower-women-58365/',\n",
       " 'https://thenewdaily.com.au/finance/finance-news/2019/12/05/technology-australia-economy/',\n",
       " 'https://www.screendaily.com/news/singapore-launches-14m-initiative-to-draw-film-funds-to-southeast-asia/5145391.article',\n",
       " 'https://inc42.com/buzz/govt-says-194-defence-tech-startups-under-startup-india-reveals-idex-data/',\n",
       " 'https://www.financialexpress.com/industry/banking-finance/small-finance-banks-to-get-scheduled-bank-status-soon-after-being-operative-rbi-revises-guidelines/1785535/',\n",
       " 'https://www.forbes.com/sites/forbesfinancecouncil/2019/12/05/brick-and-mortar-isnt-dead-14-financial-strategies-to-compete-with-online-retailers/',\n",
       " 'https://www.cnbc.com/2019/12/05/despite-the-rise-of-online-banks-millennials-still-go-to-branches.html',\n",
       " 'https://www.risk.net/people/7233061/asia-moves-soc-gen-replaces-asia-chief-deutsche-bank-appoints-wealth-management-head-and-more',\n",
       " 'https://www.forbes.com/sites/forbestechcouncil/2019/12/05/rox-is-the-new-roi-why-and-how-to-focus-on-customer-experience/',\n",
       " 'https://www.reuters.com/article/us-health-hospitals-rural-idUSKBN1Y92OQ',\n",
       " 'https://www.reuters.com/article/us-deka-m-a-helaba-idUSKBN1Y92BV',\n",
       " 'https://www.forbesindia.com/article/special/rbi-pauses-on-rate-cuts-but-more-policy-easing-is-on-the-cards-economists/56471/1',\n",
       " 'https://www.forbesindia.com/article/thoughts/thoughts-of-billionaires/56467/1',\n",
       " 'https://www.capitalgazette.com/sports/navy/ac-cs-army-navy-game-streak-1205-20191205-zqy5kwyjojblho4ba6kupxdu4i-story.html',\n",
       " 'https://tirto.id/presiden-trump-sebut-huawei-bisa-jadi-ancaman-keamanan-bagi-as-emWv',\n",
       " 'https://www.ft.com/content/74d3c16a-1f35-11ea-92da-f0c92e957a96',\n",
       " 'https://www.ft.com/content/bd8e838e-2324-11ea-92da-f0c92e957a96',\n",
       " 'https://www.ft.com/content/e0ca1a16-28b0-11ea-9a4f-963f0ec7e134',\n",
       " 'https://www.kxan.com/news/local/austin/people-gather-to-watch-demolition-of-university-towers-student-housing/',\n",
       " 'https://www.reuters.com/article/us-usa-fed-brainard-idUSKBN1ZZ2XF',\n",
       " 'https://thefinancialbrand.com/news/digital-transformation-banking/digital-transformation-banking-technology-fallacy-92792/',\n",
       " 'https://www.gov.uk/government/news/digital-sector-worth-more-than-400-million-a-day-to-uk-economy',\n",
       " 'https://ledgerinsights.com/municipal-bonds-blockchain-tokenization-consensys-broker-acquisition/',\n",
       " 'https://www.paymentsjournal.com/latest-trends-in-digital-banking-a-must-read-for-new-age-customers/',\n",
       " 'https://theconversation.com/a-national-digital-currency-has-serious-privacy-implications-130520',\n",
       " 'https://www.risk.net/quantitative-finance/7359021/quant-guide-2020-princeton-university',\n",
       " 'https://nairametrics.com/2020/02/05/carbon-debuts-ios-app-to-increase-access-to-finance/',\n",
       " 'https://www.prnewswire.com/news-releases/avant-spins-out-saas-business-amount-300999069.html',\n",
       " 'https://www.ft.com/content/458bc9d0-3e79-11ea-a01a-bae547046735',\n",
       " 'https://www.zdnet.com/article/macys-doubles-down-on-digital-growth-strategy-amid-latest-restructuring/',\n",
       " 'https://www.livemint.com/companies/company-results/indiabulls-housing-finance-posts-44-decline-in-q3-net-profit-at-rs547-crore-11580914061312.html',\n",
       " 'https://www.finextra.com/newsarticle/35231/starling-unveils-three-new-marketplace-partners',\n",
       " 'https://www.globenewswire.com/news-release/2020/02/05/1980163/0/en/Vineti-Completes-35-Million-in-Series-C-Financing-to-Industrialize-Personalized-and-High-Value-Therapeutics.html',\n",
       " 'https://www.livemint.com/money/personal-finance/what-is-a-sweep-in-facility-and-is-it-beneficial-11580896172436.html',\n",
       " 'https://www.beckershospitalreview.com/pharmacy/the-10-most-valued-pharma-brands-in-the-world.html',\n",
       " 'https://seekingalpha.com/article/4321257-korn-ferry-new-disclosures-highlight-resilient-digital-and-rpo-platforms-worth-12minus-14x',\n",
       " 'https://www.cnbc.com/2020/02/05/nike-ceo-john-donahoe-shoppers-care-about-sustainabilty.html',\n",
       " 'https://www.businessinsider.com/trump-acquitted-senate-impeachment-trial-ukraine-2020-2',\n",
       " 'https://www.bizjournals.com/boston/news/2020/02/05/irobots-longtime-cfo-to-step-down-just-months.html',\n",
       " 'https://www.reuters.com/article/us-casper-sleep-ipo-idUSKBN1ZZ1UB',\n",
       " 'https://cointelegraph.com/news/aircraft-maintenance-repair-industry-is-latest-to-form-blockchain-alliance',\n",
       " 'https://www.forbes.com/sites/robertolsen/2020/02/05/how-adrian-cheng-is-rejuvenating-a-50-year-old-business-by-targeting-chinas-millennials/',\n",
       " 'https://www.reuters.com/article/us-global-oil-idUSKBN20004P',\n",
       " 'https://www.reuters.com/article/us-china-health-drugs-idUSKBN2000HA',\n",
       " 'https://www.benefitspro.com/2020/02/05/patients-being-priced-out-of-primary-care/',\n",
       " 'https://www.financialexpress.com/industry/msme-skill-digital-skilling-how-trinity-of-govt-edtech-startups-tech-businesses-is-helping-msmes-grow-online/1889798/',\n",
       " 'https://www.businesswire.com/news/home/20200305005195/en/YellowPepper-Announces-Company%E2%80%99s-First-Live-Project-in-Brazil-in-Partnership-with-Visa-and-Bradesco.',\n",
       " 'https://www.newvision.co.ug/new_vision/news/1516022/digital-networking-platform-empower-women-business',\n",
       " 'https://www.nasdaq.com/articles/the-softbank-effect-on-vc-in-latin-america-2020-03-05',\n",
       " 'https://www.supermarketnews.com/retail-financial/kroger-cites-sales-boost-our-brands-digital-fiscal-2019-report',\n",
       " 'https://www.forbes.com/sites/nataliakarayaneva/2020/03/05/real-estate-digital-asset-trends-coronavirus/',\n",
       " 'https://govinsider.asia/innovation/ozzeir-khan-exclusive-inside-adbs-digital-innovation-sandbox-programme/',\n",
       " 'https://www.biometricupdate.com/202003/aadhaars-architect-discusses-what-went-into-worlds-biggest-biometric-repository',\n",
       " 'https://businesstech.co.za/news/banking/379301/this-is-how-south-africas-biggest-financial-companies-are-converging/',\n",
       " 'https://www.prnewswire.com/news-releases/empower-closes-20-million-series-a-financing-to-build-ai-powered-mobile-banking-app-designed-for-millennials-301018799.html',\n",
       " 'https://www.crowdfundinsider.com/2020/03/158384-family-finance-mobile-app-jassby-scores-5-million-through-latest-investment-round/',\n",
       " 'https://jakartaglobe.id/tech/techsavvy-warungs-to-take-major-leap-toward-digital-economy/',\n",
       " 'https://www.finextra.com/blogposting/18511/how-are-banks-using-events-to-create-better-experiences',\n",
       " 'https://www.healthcareitnews.com/news/emea/how-portugal-advancing-use-ehealth-europe',\n",
       " 'https://www.businesswire.com/news/home/20200305005270/en/Survey-Says-Women-Are-Leaving-Money-and-Influence-On-the-Table',\n",
       " 'https://www.mobihealthnews.com/news/emea/making-digital-new-normal-healthcare-stockholm-s-approach',\n",
       " 'https://www.mobihealthnews.com/news/ginger-acquires-fellow-digital-mental-health-company-livebetters-tech',\n",
       " 'https://www.forbes.com/sites/forbesrealestatecouncil/2020/03/05/social-media-is-the-biggest-factor-in-the-new-real-estate-market/',\n",
       " 'https://www.business-standard.com/article/news-cm/board-of-syndicate-bank-approves-share-exchange-ratio-for-amalgamation-into-canara-bank-120030501328_1.html',\n",
       " 'https://www.crowdfundinsider.com/2020/03/158342-women-in-fintech-powerlist-2019-innovate-finance-highlights-2000-women-shaping-the-future-of-finance/',\n",
       " 'https://www.ft.com/content/dd2f4a6c-75cb-11ea-95fe-fcd274e920ca',\n",
       " 'https://www.regulationasia.com/the-four-e-kyc-models-around-the-world/',\n",
       " 'https://cointelegraph.com/news/tapping-into-tokenization-for-fresh-ideas-changing-finance-gaming-and-more',\n",
       " 'https://www.financialexpress.com/industry/banking-finance/pm-cares-fund-employees-of-finance-ministry-banks-financial-institutions-donate-one-days-salary/1919554/',\n",
       " 'https://cointelegraph.com/news/bitcoins-correlations-with-global-financial-assets-soar-amid-coronavirus-crisis',\n",
       " 'https://www.cnbc.com/2020/04/03/boutique-fitness-studios-are-going-digital-during-coronavirus-pandemic.html',\n",
       " 'https://www.reuters.com/article/health-coronavirus-britain-queen-text-idUSL8N2BT0VD',\n",
       " 'https://www.financialexpress.com/hindi/investment-saving-news/failed-online-transaction-or-amount-debited-twice-during-digital-transaction-here-is-what-to-do-solutions-to-tackle-digital-payment-issues/1919531/',\n",
       " 'https://www.reuters.com/article/uk-health-coronavirus-soccer-fifa-exclus-idUKKBN21N0JK',\n",
       " 'https://www.newswire.ca/news-releases/alpian-secures-chf-12-2m-series-a-funding-to-tap-into-chf-660bn-private-banking-opportunity-823659854.html',\n",
       " 'https://www.forbes.com/sites/moorinsights/2020/05/05/ibm-builds-out-its-financial-services-ready-public-cloud-ecosystem-with-more-isvs/',\n",
       " 'https://www.livemint.com/money/personal-finance/standardized-digital-kyc-process-beats-lockdown-woes-of-investors-11588697688730.html',\n",
       " 'https://www.channele2e.com/investors/mergers-acquisitions/cognizant-buys-collaborative-solutions/',\n",
       " 'https://www.investopedia.com/paypal-stock-at-resistance-ahead-of-earnings-4844084',\n",
       " 'https://www.theafricareport.com/27379/coronavirus-nigerias-access-bank-announces-salary-cuts-to-curb-job-loss/',\n",
       " 'https://www.reuters.com/article/us-health-coronavirus-tech-trfn-idUSKBN22H254',\n",
       " 'https://www.theafricareport.com/27332/i-would-rather-borrow-from-algerians-than-from-the-imf-says-president/',\n",
       " 'https://www.london.edu/think/5-steps-to-achieving-sustainable-behaviour-change',\n",
       " 'https://www.forbes.com/sites/forbescommunicationscouncil/2020/05/05/take-an-active-approach-to-reputation-management-in-the-digital-age/',\n",
       " 'https://www.theafricareport.com/27322/coronavirus-tanzanias-economy-resilient-to-pandemic-impact/',\n",
       " 'https://www.theafricareport.com/27470/coronavirus-unpacking-the-theories-behind-africas-low-infection-rate/',\n",
       " 'https://www.mobihealthnews.com/news/emea/digital-triage-changes-game-uk-gp-practices-age-covid-19',\n",
       " 'https://www.ft.com/content/0b2f4cac-36dc-401e-b020-be3dd990b7cf',\n",
       " 'https://www.livemint.com/money/personal-finance/reasons-for-delay-or-rejection-of-pf-withdrawal-claims-under-covid-19-11588670460721.html',\n",
       " 'https://www.reuters.com/article/us-health-coronavirus-safrica-comair-lim-idUSKBN22H1RJ',\n",
       " 'https://www.forbes.com/sites/lizfrazierpeck/2020/05/05/why-you-should-talk-to-your-kids-about-money-during-a-financial-crisis/',\n",
       " 'https://dailycoffeenews.com/2020/05/05/bellwether-coffee-launches-financial-assistance-program-for-new-customers/',\n",
       " 'https://www.fool.com/taxes/2020/05/05/things-know-before-throwing-out-old-tax-returns.aspx',\n",
       " 'https://hbr.org/2020/05/in-a-downturn-include-your-employees-in-cost-cutting-decisions',\n",
       " 'https://www.reuters.com/article/eu-moneylaundering-blackslist-idUSL8N2CN6VF',\n",
       " 'https://www.reuters.com/article/us-health-coronavirus-europe-porn-trfn-idUSKBN22H2I6',\n",
       " 'https://www.benefitspro.com/2020/05/05/3-steps-to-greater-fsahsa-participation/',\n",
       " 'https://www.bostonglobe.com/2020/05/05/nation/april-state-tax-revenue-drops-by-50-percent-2019-underlining-pandemics-pull/',\n",
       " 'https://www.cnbc.com/2018/03/05/cryptocurrency-ripple-jumps-as-traders-speculate-on-coinbase-adding-trading.html',\n",
       " 'https://www.thinkadvisor.com/2018/03/05/why-douglas-boneparth-33-is-crushing-it-with-wealthy-millennials/',\n",
       " 'https://www.itweb.co.za/content/Kjlyrvwd42O7k6am',\n",
       " 'https://www.investopedia.com/news/square-could-sell-april/',\n",
       " 'https://opengovasia.com/singapore-air-force-and-navy-leveraging-data-analytics-ai-and-robotics-for-smarter-operations-and-capabilities/',\n",
       " 'https://www.finextra.com/blogposting/15105/five-ways-fintech-is-disrupting-the-financial-services-industry',\n",
       " 'https://finance-commerce.com/2018/03/eden-prairie-to-see-150m-in-growth-around-mall/',\n",
       " 'https://www.livemint.com/Industry/PoFNkezjfhcE3jlgJDDiJJ/NERL-ties-up-with-Bank-of-Baroda-for-pledge-finance.html',\n",
       " 'https://www.straitstimes.com/politics/parliament-10000-more-students-to-benefit-from-financial-support-bringing-total-to-90000',\n",
       " 'https://www.businessbecause.com/news/online-mba/5087/online-mba-data-analytics?sponsored',\n",
       " 'https://www.cnbc.com/2018/03/05/the-wealthy-are-using-pawn-shops-to-finance-their-business-ideas.html',\n",
       " 'https://www.forbes.com/sites/meimeifox/2018/03/05/5-ways-to-manage-your-money-in-order-to-realize-your-dreams/',\n",
       " 'https://www.coindesk.com/markets/2018/03/05/websters-dictionary-adds-cryptocurrency-and-initial-coin-offering/',\n",
       " 'https://www.thetechedvocate.org/15-sources-digital-content-classroom/',\n",
       " 'https://techcrunch.com/2018/03/05/paro-series-a/',\n",
       " 'https://www.bellanaija.com/2018/03/zenith-bank-launch-quick-respons-bot/',\n",
       " 'https://www.forbes.com/sites/joeljohnson/2018/03/05/the-mindset-of-financially-successful-people/',\n",
       " 'https://www.devex.com/news/opinion-it-s-time-we-walk-the-talk-on-gender-equality-here-s-how-92255',\n",
       " 'https://www.bloomberg.com/news/articles/2018-03-06/national-bank-kenya-considering-branch-closures-to-cut-costs',\n",
       " 'https://www.reuters.com/article/us-zimbabwe-politics-idUSKBN1GH2J5',\n",
       " 'https://www.forbes.com/sites/forbescoachescouncil/2018/03/05/15-important-questions-to-ask-your-business-or-career-coach/',\n",
       " 'https://www.qsrmagazine.com/technology/study-kiosk-demand-rise-quick-service',\n",
       " 'https://obj.ca/article/shopify-names-amy-shapero-new-cfo-replacing-retiring-russ-jones',\n",
       " 'https://www.business-standard.com/article/education/cbse-partners-with-facebook-to-launch-curriculum-on-digital-safety-120070500865_1.html',\n",
       " 'https://www.forbes.com/sites/cathyhackl/2020/07/05/the-metaverse-is-coming--its-a-very-big-deal/',\n",
       " 'https://www.gov.uk/government/news/157-billion-investment-to-protect-britains-world-class-cultural-arts-and-heritage-institutions',\n",
       " 'https://www.reuters.com/article/us-congo-mining-smb-idUSKBN2460K2',\n",
       " 'https://www.thehindu.com/business/ask-us/article31991241.ece',\n",
       " 'https://www.reuters.com/article/us-singapore-election-opposition-file-ex-idUSKBN24702X',\n",
       " 'https://www.finance101.com/most-expensive-high-schools-united-states-ranked/',\n",
       " 'https://www.forbes.com/sites/judykoutsky/2020/07/05/looking-for-family-outdoor-adventure-check-out-this-west-virginia-under-the-radar-gem/']"
      ]
     },
     "execution_count": 65,
     "metadata": {},
     "output_type": "execute_result"
    }
   ],
   "source": [
    "data"
=======
    "'''\n",
    "with open(r'C:/Users/Notebiz003/BerTopic/' + name, 'rb') as f:\n",
    "    data = pickle.load(f) # 단 한줄씩 읽어옴\n",
    "'''"
>>>>>>> 0ab7f69a7149cee6d0356d1e59220eb4e9913372
   ]
  },
  {
   "cell_type": "code",
   "execution_count": 42,
   "id": "7df45c42",
   "metadata": {},
   "outputs": [],
   "source": [
    "from newspaper import Article\n",
    "url = 'https://www.ilo.org/global/about-the-ilo/newsroom/news/WCMS_836084/lang--en/index.htm'\n",
    "article = Article(url)\n",
    "article.download()\n",
    "article.parse()\n",
    "article.publish_date\n",
    "article.text"
   ]
  }
 ],
 "metadata": {
  "kernelspec": {
   "display_name": "Python 3",
   "language": "python",
   "name": "python3"
  },
  "language_info": {
   "codemirror_mode": {
    "name": "ipython",
    "version": 3
   },
   "file_extension": ".py",
   "mimetype": "text/x-python",
   "name": "python",
   "nbconvert_exporter": "python",
   "pygments_lexer": "ipython3",
   "version": "3.9.5"
  }
 },
 "nbformat": 4,
 "nbformat_minor": 5
}
