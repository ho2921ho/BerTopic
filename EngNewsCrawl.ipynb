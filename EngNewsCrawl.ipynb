{
 "cells": [
  {
   "cell_type": "code",
   "execution_count": 25,
   "id": "51a9495e",
   "metadata": {
    "collapsed": true
   },
   "outputs": [
    {
     "name": "stdout",
     "output_type": "stream",
     "text": [
      "Requirement already satisfied: beautifulsoup4 in c:\\users\\notebiz003\\anaconda3\\lib\\site-packages (4.11.1)\n",
      "Requirement already satisfied: soupsieve>1.2 in c:\\users\\notebiz003\\anaconda3\\lib\\site-packages (from beautifulsoup4) (2.3.1)\n",
      "Collecting selenium\n",
      "  Downloading selenium-4.4.3-py3-none-any.whl (985 kB)\n",
      "     -------------------------------------- 986.0/986.0 kB 2.0 MB/s eta 0:00:00\n",
      "Requirement already satisfied: certifi>=2021.10.8 in c:\\users\\notebiz003\\anaconda3\\lib\\site-packages (from selenium) (2021.10.8)\n",
      "Collecting trio-websocket~=0.9\n",
      "  Downloading trio_websocket-0.9.2-py3-none-any.whl (16 kB)\n",
      "Requirement already satisfied: urllib3[socks]~=1.26 in c:\\users\\notebiz003\\anaconda3\\lib\\site-packages (from selenium) (1.26.9)\n",
      "Collecting trio~=0.17\n",
      "  Downloading trio-0.21.0-py3-none-any.whl (358 kB)\n",
      "     -------------------------------------- 359.0/359.0 kB 5.6 MB/s eta 0:00:00\n",
      "Collecting outcome\n",
      "  Downloading outcome-1.2.0-py2.py3-none-any.whl (9.7 kB)\n",
      "Collecting async-generator>=1.9\n",
      "  Using cached async_generator-1.10-py3-none-any.whl (18 kB)\n",
      "Requirement already satisfied: sniffio in c:\\users\\notebiz003\\anaconda3\\lib\\site-packages (from trio~=0.17->selenium) (1.2.0)\n",
      "Requirement already satisfied: attrs>=19.2.0 in c:\\users\\notebiz003\\anaconda3\\lib\\site-packages (from trio~=0.17->selenium) (21.4.0)\n",
      "Requirement already satisfied: sortedcontainers in c:\\users\\notebiz003\\anaconda3\\lib\\site-packages (from trio~=0.17->selenium) (2.4.0)\n",
      "Requirement already satisfied: idna in c:\\users\\notebiz003\\anaconda3\\lib\\site-packages (from trio~=0.17->selenium) (3.3)\n",
      "Requirement already satisfied: cffi>=1.14 in c:\\users\\notebiz003\\anaconda3\\lib\\site-packages (from trio~=0.17->selenium) (1.15.0)\n",
      "Collecting wsproto>=0.14\n",
      "  Downloading wsproto-1.1.0-py3-none-any.whl (24 kB)\n",
      "Requirement already satisfied: PySocks!=1.5.7,<2.0,>=1.5.6 in c:\\users\\notebiz003\\anaconda3\\lib\\site-packages (from urllib3[socks]~=1.26->selenium) (1.7.1)\n",
      "Requirement already satisfied: pycparser in c:\\users\\notebiz003\\anaconda3\\lib\\site-packages (from cffi>=1.14->trio~=0.17->selenium) (2.21)\n",
      "Collecting h11<1,>=0.9.0\n",
      "  Downloading h11-0.13.0-py3-none-any.whl (58 kB)\n",
      "     ---------------------------------------- 58.2/58.2 kB 3.2 MB/s eta 0:00:00\n",
      "Installing collected packages: outcome, h11, async-generator, wsproto, trio, trio-websocket, selenium\n",
      "Successfully installed async-generator-1.10 h11-0.13.0 outcome-1.2.0 selenium-4.4.3 trio-0.21.0 trio-websocket-0.9.2 wsproto-1.1.0\n"
     ]
    }
   ],
   "source": [
    "!pip3 install beautifulsoup4\n",
    "!pip install selenium"
   ]
  },
  {
   "cell_type": "code",
   "execution_count": 29,
   "id": "42b0780e",
   "metadata": {},
   "outputs": [
    {
     "name": "stderr",
     "output_type": "stream",
     "text": [
      "<ipython-input-29-b91fd2893659>:15: DeprecationWarning: executable_path has been deprecated, please pass in a Service object\n",
      "  driver = webdriver.Chrome (executable_path=r\"C:\\Users\\Notebiz003\\Documents\\chromedriver_win32\\chromedriver.exe\")\n"
     ]
    }
   ],
   "source": [
    "import requests \n",
    "from bs4 import BeautifulSoup\n",
    "import re\n",
    "from tqdm import tqdm\n",
    "import time\n",
    "import numpy\n",
    "import random\n",
    "\n",
    "import selenium\n",
    "from selenium import webdriver\n",
    "from selenium.webdriver.common.by import By\n",
    "from datetime import datetime\n",
    "import pandas as pd\n",
    "\n",
    "driver = webdriver.Chrome (executable_path=r\"C:\\Users\\Notebiz003\\Documents\\chromedriver_win32\\chromedriver.exe\")"
   ]
  },
  {
   "cell_type": "code",
   "execution_count": 30,
   "id": "2c15f622",
   "metadata": {
    "scrolled": false
   },
   "outputs": [],
   "source": [
    "# 1 키워드 검색 뉴스 url 수집\n",
    "def page2url(searching_word,date):\n",
    "    urls = []\n",
    "    for start in range(0, 360, 10):\n",
    "        main_url = 'https://www.google.co.kr/search?q={}&tbs=cdr:1,cd_min:{},cd_max:{}&tbm=nws&ei=dPP-Yu_eCJLL-Qb55bvQDA&start={}&sa=N&ved=2ahUKEwjv6Lvy69H5AhWSZd4KHfnyDso4ChDy0wN6BAgBEDk&biw=1536&bih=754&dpr=1.25'.format(searching_word,date,date,start)\n",
    "        driver.get(url=main_url)\n",
    "        elements = driver.find_elements(By.TAG_NAME, 'a')\n",
    "        lnks = []\n",
    "        for lnk in elements:\n",
    "            lnk = str(lnk.get_attribute('href'))\n",
    "            if 'google' not in lnk and lnk != 'None':\n",
    "                lnks.append(lnk)\n",
    "        if len(lnks) == 0:\n",
    "            print(date, ' 완료')\n",
    "            break\n",
    "        urls.extend(lnks)\n",
    "        rand_value =random.uniform(2, 5)\n",
    "        time.sleep(rand_value)\n",
    "        \n",
    "    return urls"
   ]
  },
  {
   "cell_type": "code",
   "execution_count": 31,
   "id": "da9c1f67",
   "metadata": {
    "scrolled": true
   },
   "outputs": [],
   "source": [
    "from_date = '1/7/2018'\n",
    "to_date = '11/8/2022'\n",
    "\n",
    "datelist = pd.date_range(start=from_date, end=to_date).tolist()\n",
    "dtlst = []\n",
    "for d_t in datelist:\n",
    "    d_t = str(d_t)[0:-9]\n",
    "    d = datetime.strptime(d_t, '%Y-%m-%d')\n",
    "    d = d.strftime('%d/%m/%Y')\n",
    "    d = d[:5].replace('0','') + d[5:]\n",
    "    dtlst.append(d)"
   ]
  },
  {
   "cell_type": "code",
   "execution_count": 32,
   "id": "68bf1a52",
   "metadata": {},
   "outputs": [
    {
     "name": "stderr",
     "output_type": "stream",
     "text": [
      "  0%|                                                                               | 1/1773 [00:11<5:40:52, 11.54s/it]"
     ]
    },
    {
     "name": "stdout",
     "output_type": "stream",
     "text": [
      "1/1/2018  완료\n",
      "14\n"
     ]
    },
    {
     "name": "stderr",
     "output_type": "stream",
     "text": [
      "\r",
      "  0%|                                                                               | 2/1773 [00:26<6:41:27, 13.60s/it]"
     ]
    },
    {
     "name": "stdout",
     "output_type": "stream",
     "text": [
      "2/1/2018  완료\n",
      "43\n"
     ]
    },
    {
     "name": "stderr",
     "output_type": "stream",
     "text": [
      "\r",
      "  0%|▏                                                                              | 3/1773 [00:40<6:44:43, 13.72s/it]"
     ]
    },
    {
     "name": "stdout",
     "output_type": "stream",
     "text": [
      "3/1/2018  완료\n",
      "65\n"
     ]
    },
    {
     "name": "stderr",
     "output_type": "stream",
     "text": [
      "\r",
      "  0%|▏                                                                              | 4/1773 [00:45<4:58:13, 10.11s/it]"
     ]
    },
    {
     "name": "stdout",
     "output_type": "stream",
     "text": [
      "4/1/2018  완료\n",
      "72\n"
     ]
    },
    {
     "name": "stderr",
     "output_type": "stream",
     "text": [
      "\r",
      "  0%|▏                                                                              | 5/1773 [00:57<5:27:54, 11.13s/it]"
     ]
    },
    {
     "name": "stdout",
     "output_type": "stream",
     "text": [
      "5/1/2018  완료\n",
      "92\n"
     ]
    },
    {
     "name": "stderr",
     "output_type": "stream",
     "text": [
      "\r",
      "  0%|▎                                                                              | 6/1773 [01:08<5:17:12, 10.77s/it]"
     ]
    },
    {
     "name": "stdout",
     "output_type": "stream",
     "text": [
      "6/1/2018  완료\n",
      "107\n"
     ]
    },
    {
     "name": "stderr",
     "output_type": "stream",
     "text": [
      "\r",
      "  0%|▎                                                                              | 7/1773 [01:11<4:09:46,  8.49s/it]"
     ]
    },
    {
     "name": "stdout",
     "output_type": "stream",
     "text": [
      "7/1/2018  완료\n",
      "117\n"
     ]
    },
    {
     "name": "stderr",
     "output_type": "stream",
     "text": [
      "\r",
      "  0%|▎                                                                              | 8/1773 [01:24<4:51:29,  9.91s/it]"
     ]
    },
    {
     "name": "stdout",
     "output_type": "stream",
     "text": [
      "8/1/2018  완료\n",
      "142\n"
     ]
    },
    {
     "name": "stderr",
     "output_type": "stream",
     "text": [
      "\r",
      "  1%|▍                                                                              | 9/1773 [01:28<3:54:15,  7.97s/it]"
     ]
    },
    {
     "name": "stdout",
     "output_type": "stream",
     "text": [
      "9/1/2018  완료\n",
      "146\n"
     ]
    },
    {
     "name": "stderr",
     "output_type": "stream",
     "text": [
      "\r",
      "  1%|▍                                                                             | 10/1773 [01:38<4:10:49,  8.54s/it]"
     ]
    },
    {
     "name": "stdout",
     "output_type": "stream",
     "text": [
      "1/1/2018  완료\n",
      "159\n"
     ]
    },
    {
     "name": "stderr",
     "output_type": "stream",
     "text": [
      "\r",
      "  1%|▍                                                                             | 11/1773 [01:57<5:45:35, 11.77s/it]"
     ]
    },
    {
     "name": "stdout",
     "output_type": "stream",
     "text": [
      "11/1/2018  완료\n",
      "195\n"
     ]
    },
    {
     "name": "stderr",
     "output_type": "stream",
     "text": [
      "\r",
      "  1%|▌                                                                             | 12/1773 [02:02<4:41:46,  9.60s/it]"
     ]
    },
    {
     "name": "stdout",
     "output_type": "stream",
     "text": [
      "12/1/2018  완료\n",
      "201\n"
     ]
    },
    {
     "name": "stderr",
     "output_type": "stream",
     "text": [
      "\r",
      "  1%|▌                                                                             | 13/1773 [02:07<4:03:39,  8.31s/it]"
     ]
    },
    {
     "name": "stdout",
     "output_type": "stream",
     "text": [
      "13/1/2018  완료\n",
      "208\n"
     ]
    },
    {
     "name": "stderr",
     "output_type": "stream",
     "text": [
      "\r",
      "  1%|▌                                                                             | 14/1773 [02:14<3:54:42,  8.01s/it]"
     ]
    },
    {
     "name": "stdout",
     "output_type": "stream",
     "text": [
      "14/1/2018  완료\n",
      "225\n"
     ]
    },
    {
     "name": "stderr",
     "output_type": "stream",
     "text": [
      "\r",
      "  1%|▋                                                                             | 15/1773 [02:22<3:49:08,  7.82s/it]"
     ]
    },
    {
     "name": "stdout",
     "output_type": "stream",
     "text": [
      "15/1/2018  완료\n",
      "244\n"
     ]
    },
    {
     "name": "stderr",
     "output_type": "stream",
     "text": [
      "\r",
      "  1%|▋                                                                             | 16/1773 [02:33<4:17:19,  8.79s/it]"
     ]
    },
    {
     "name": "stdout",
     "output_type": "stream",
     "text": [
      "16/1/2018  완료\n",
      "263\n"
     ]
    },
    {
     "name": "stderr",
     "output_type": "stream",
     "text": [
      "\r",
      "  1%|▋                                                                             | 17/1773 [02:46<4:58:54, 10.21s/it]"
     ]
    },
    {
     "name": "stdout",
     "output_type": "stream",
     "text": [
      "17/1/2018  완료\n",
      "292\n"
     ]
    },
    {
     "name": "stderr",
     "output_type": "stream",
     "text": [
      "\r",
      "  1%|▊                                                                             | 18/1773 [02:51<4:12:22,  8.63s/it]"
     ]
    },
    {
     "name": "stdout",
     "output_type": "stream",
     "text": [
      "18/1/2018  완료\n",
      "294\n"
     ]
    },
    {
     "name": "stderr",
     "output_type": "stream",
     "text": [
      "\r",
      "  1%|▊                                                                             | 19/1773 [03:04<4:53:13, 10.03s/it]"
     ]
    },
    {
     "name": "stdout",
     "output_type": "stream",
     "text": [
      "19/1/2018  완료\n",
      "321\n"
     ]
    },
    {
     "name": "stderr",
     "output_type": "stream",
     "text": [
      "\r",
      "  1%|▉                                                                             | 20/1773 [03:19<5:30:16, 11.30s/it]"
     ]
    },
    {
     "name": "stdout",
     "output_type": "stream",
     "text": [
      "2/1/2018  완료\n",
      "350\n"
     ]
    },
    {
     "name": "stderr",
     "output_type": "stream",
     "text": [
      "\r",
      "  1%|▉                                                                             | 21/1773 [03:23<4:28:51,  9.21s/it]"
     ]
    },
    {
     "name": "stdout",
     "output_type": "stream",
     "text": [
      "21/1/2018  완료\n",
      "356\n"
     ]
    },
    {
     "name": "stderr",
     "output_type": "stream",
     "text": [
      "\r",
      "  1%|▉                                                                             | 22/1773 [03:37<5:08:05, 10.56s/it]"
     ]
    },
    {
     "name": "stdout",
     "output_type": "stream",
     "text": [
      "22/1/2018  완료\n",
      "377\n"
     ]
    },
    {
     "name": "stderr",
     "output_type": "stream",
     "text": [
      "\r",
      "  1%|█                                                                             | 23/1773 [03:46<4:57:26, 10.20s/it]"
     ]
    },
    {
     "name": "stdout",
     "output_type": "stream",
     "text": [
      "23/1/2018  완료\n",
      "393\n"
     ]
    },
    {
     "name": "stderr",
     "output_type": "stream",
     "text": [
      "\r",
      "  1%|█                                                                             | 24/1773 [03:52<4:22:36,  9.01s/it]"
     ]
    },
    {
     "name": "stdout",
     "output_type": "stream",
     "text": [
      "24/1/2018  완료\n",
      "402\n"
     ]
    },
    {
     "name": "stderr",
     "output_type": "stream",
     "text": [
      "\r",
      "  1%|█                                                                             | 25/1773 [03:56<3:34:52,  7.38s/it]"
     ]
    },
    {
     "name": "stdout",
     "output_type": "stream",
     "text": [
      "25/1/2018  완료\n",
      "410\n"
     ]
    },
    {
     "name": "stderr",
     "output_type": "stream",
     "text": [
      "\r",
      "  1%|█▏                                                                            | 26/1773 [04:02<3:20:06,  6.87s/it]"
     ]
    },
    {
     "name": "stdout",
     "output_type": "stream",
     "text": [
      "26/1/2018  완료\n",
      "415\n"
     ]
    },
    {
     "name": "stderr",
     "output_type": "stream",
     "text": [
      "\r",
      "  2%|█▏                                                                            | 27/1773 [04:06<3:01:44,  6.25s/it]"
     ]
    },
    {
     "name": "stdout",
     "output_type": "stream",
     "text": [
      "27/1/2018  완료\n",
      "423\n"
     ]
    },
    {
     "name": "stderr",
     "output_type": "stream",
     "text": [
      "\r",
      "  2%|█▏                                                                            | 28/1773 [04:21<4:11:12,  8.64s/it]"
     ]
    },
    {
     "name": "stdout",
     "output_type": "stream",
     "text": [
      "28/1/2018  완료\n",
      "448\n"
     ]
    },
    {
     "name": "stderr",
     "output_type": "stream",
     "text": [
      "\r",
      "  2%|█▎                                                                            | 29/1773 [04:34<4:50:24,  9.99s/it]"
     ]
    },
    {
     "name": "stdout",
     "output_type": "stream",
     "text": [
      "29/1/2018  완료\n",
      "471\n"
     ]
    },
    {
     "name": "stderr",
     "output_type": "stream",
     "text": [
      "\r",
      "  2%|█▎                                                                            | 30/1773 [04:43<4:46:27,  9.86s/it]"
     ]
    },
    {
     "name": "stdout",
     "output_type": "stream",
     "text": [
      "3/1/2018  완료\n",
      "490\n"
     ]
    },
    {
     "name": "stderr",
     "output_type": "stream",
     "text": [
      "\r",
      "  2%|█▎                                                                            | 31/1773 [05:01<5:52:24, 12.14s/it]"
     ]
    },
    {
     "name": "stdout",
     "output_type": "stream",
     "text": [
      "31/1/2018  완료\n",
      "526\n"
     ]
    },
    {
     "name": "stderr",
     "output_type": "stream",
     "text": [
      "\r",
      "  2%|█▍                                                                            | 32/1773 [05:14<6:03:57, 12.54s/it]"
     ]
    },
    {
     "name": "stdout",
     "output_type": "stream",
     "text": [
      "1/2/2018  완료\n",
      "549\n"
     ]
    },
    {
     "name": "stderr",
     "output_type": "stream",
     "text": [
      "\r",
      "  2%|█▍                                                                            | 33/1773 [05:26<5:58:33, 12.36s/it]"
     ]
    },
    {
     "name": "stdout",
     "output_type": "stream",
     "text": [
      "2/2/2018  완료\n",
      "570\n"
     ]
    },
    {
     "name": "stderr",
     "output_type": "stream",
     "text": [
      "\r",
      "  2%|█▍                                                                            | 34/1773 [05:37<5:43:48, 11.86s/it]"
     ]
    },
    {
     "name": "stdout",
     "output_type": "stream",
     "text": [
      "3/2/2018  완료\n",
      "590\n"
     ]
    },
    {
     "name": "stderr",
     "output_type": "stream",
     "text": [
      "\r",
      "  2%|█▌                                                                            | 35/1773 [05:51<6:06:21, 12.65s/it]"
     ]
    },
    {
     "name": "stdout",
     "output_type": "stream",
     "text": [
      "4/2/2018  완료\n",
      "612\n"
     ]
    },
    {
     "name": "stderr",
     "output_type": "stream",
     "text": [
      "\r",
      "  2%|█▌                                                                            | 36/1773 [06:07<6:30:06, 13.48s/it]"
     ]
    },
    {
     "name": "stdout",
     "output_type": "stream",
     "text": [
      "5/2/2018  완료\n",
      "634\n"
     ]
    },
    {
     "name": "stderr",
     "output_type": "stream",
     "text": [
      "\r",
      "  2%|█▋                                                                            | 37/1773 [06:11<5:09:45, 10.71s/it]"
     ]
    },
    {
     "name": "stdout",
     "output_type": "stream",
     "text": [
      "6/2/2018  완료\n",
      "638\n"
     ]
    },
    {
     "name": "stderr",
     "output_type": "stream",
     "text": [
      "\r",
      "  2%|█▋                                                                            | 38/1773 [06:18<4:37:21,  9.59s/it]"
     ]
    },
    {
     "name": "stdout",
     "output_type": "stream",
     "text": [
      "7/2/2018  완료\n",
      "656\n"
     ]
    },
    {
     "name": "stderr",
     "output_type": "stream",
     "text": [
      "\r",
      "  2%|█▋                                                                            | 39/1773 [06:34<5:31:46, 11.48s/it]"
     ]
    },
    {
     "name": "stdout",
     "output_type": "stream",
     "text": [
      "8/2/2018  완료\n",
      "689\n"
     ]
    },
    {
     "name": "stderr",
     "output_type": "stream",
     "text": [
      "\r",
      "  2%|█▊                                                                            | 40/1773 [06:39<4:34:27,  9.50s/it]"
     ]
    },
    {
     "name": "stdout",
     "output_type": "stream",
     "text": [
      "9/2/2018  완료\n",
      "698\n"
     ]
    },
    {
     "name": "stderr",
     "output_type": "stream",
     "text": [
      "\r",
      "  2%|█▊                                                                            | 41/1773 [06:53<5:17:33, 11.00s/it]"
     ]
    },
    {
     "name": "stdout",
     "output_type": "stream",
     "text": [
      "1/2/2018  완료\n",
      "721\n"
     ]
    },
    {
     "name": "stderr",
     "output_type": "stream",
     "text": [
      "\r",
      "  2%|█▊                                                                            | 42/1773 [07:06<5:31:05, 11.48s/it]"
     ]
    },
    {
     "name": "stdout",
     "output_type": "stream",
     "text": [
      "11/2/2018  완료\n",
      "744\n"
     ]
    },
    {
     "name": "stderr",
     "output_type": "stream",
     "text": [
      "\r",
      "  2%|█▉                                                                            | 43/1773 [07:11<4:35:45,  9.56s/it]"
     ]
    },
    {
     "name": "stdout",
     "output_type": "stream",
     "text": [
      "12/2/2018  완료\n",
      "748\n"
     ]
    },
    {
     "name": "stderr",
     "output_type": "stream",
     "text": [
      "\r",
      "  2%|█▉                                                                            | 44/1773 [07:20<4:29:42,  9.36s/it]"
     ]
    },
    {
     "name": "stdout",
     "output_type": "stream",
     "text": [
      "13/2/2018  완료\n",
      "765\n"
     ]
    },
    {
     "name": "stderr",
     "output_type": "stream",
     "text": [
      "\r",
      "  3%|█▉                                                                            | 45/1773 [07:25<3:54:36,  8.15s/it]"
     ]
    },
    {
     "name": "stdout",
     "output_type": "stream",
     "text": [
      "14/2/2018  완료\n",
      "771\n"
     ]
    },
    {
     "name": "stderr",
     "output_type": "stream",
     "text": [
      "\r",
      "  3%|██                                                                            | 46/1773 [07:31<3:35:39,  7.49s/it]"
     ]
    },
    {
     "name": "stdout",
     "output_type": "stream",
     "text": [
      "15/2/2018  완료\n",
      "775\n"
     ]
    },
    {
     "name": "stderr",
     "output_type": "stream",
     "text": [
      "\r",
      "  3%|██                                                                            | 47/1773 [07:47<4:48:33, 10.03s/it]"
     ]
    },
    {
     "name": "stdout",
     "output_type": "stream",
     "text": [
      "16/2/2018  완료\n",
      "806\n"
     ]
    },
    {
     "name": "stderr",
     "output_type": "stream",
     "text": [
      "\r",
      "  3%|██                                                                            | 48/1773 [08:00<5:14:39, 10.94s/it]"
     ]
    },
    {
     "name": "stdout",
     "output_type": "stream",
     "text": [
      "17/2/2018  완료\n",
      "830\n"
     ]
    },
    {
     "name": "stderr",
     "output_type": "stream",
     "text": [
      "\r",
      "  3%|██▏                                                                           | 49/1773 [08:07<4:37:05,  9.64s/it]"
     ]
    },
    {
     "name": "stdout",
     "output_type": "stream",
     "text": [
      "18/2/2018  완료\n",
      "835\n"
     ]
    },
    {
     "name": "stderr",
     "output_type": "stream",
     "text": [
      "\r",
      "  3%|██▏                                                                           | 50/1773 [08:21<5:19:48, 11.14s/it]"
     ]
    },
    {
     "name": "stdout",
     "output_type": "stream",
     "text": [
      "19/2/2018  완료\n",
      "864\n"
     ]
    },
    {
     "name": "stderr",
     "output_type": "stream",
     "text": [
      "\r",
      "  3%|██▏                                                                           | 51/1773 [08:34<5:30:58, 11.53s/it]"
     ]
    },
    {
     "name": "stdout",
     "output_type": "stream",
     "text": [
      "2/2/2018  완료\n",
      "885\n"
     ]
    },
    {
     "name": "stderr",
     "output_type": "stream",
     "text": [
      "\r",
      "  3%|██▎                                                                           | 52/1773 [08:43<5:14:32, 10.97s/it]"
     ]
    },
    {
     "name": "stdout",
     "output_type": "stream",
     "text": [
      "21/2/2018  완료\n",
      "896\n"
     ]
    },
    {
     "name": "stderr",
     "output_type": "stream",
     "text": [
      "\r",
      "  3%|██▎                                                                           | 53/1773 [09:01<6:14:22, 13.06s/it]"
     ]
    },
    {
     "name": "stdout",
     "output_type": "stream",
     "text": [
      "22/2/2018  완료\n",
      "934\n"
     ]
    },
    {
     "name": "stderr",
     "output_type": "stream",
     "text": [
      "\r",
      "  3%|██▍                                                                           | 54/1773 [09:07<5:14:47, 10.99s/it]"
     ]
    },
    {
     "name": "stdout",
     "output_type": "stream",
     "text": [
      "23/2/2018  완료\n",
      "937\n"
     ]
    },
    {
     "name": "stderr",
     "output_type": "stream",
     "text": [
      "\r",
      "  3%|██▍                                                                           | 55/1773 [09:24<5:59:22, 12.55s/it]"
     ]
    },
    {
     "name": "stdout",
     "output_type": "stream",
     "text": [
      "24/2/2018  완료\n",
      "963\n"
     ]
    },
    {
     "name": "stderr",
     "output_type": "stream",
     "text": [
      "\r",
      "  3%|██▍                                                                           | 56/1773 [09:32<5:25:52, 11.39s/it]"
     ]
    },
    {
     "name": "stdout",
     "output_type": "stream",
     "text": [
      "25/2/2018  완료\n",
      "978\n"
     ]
    },
    {
     "name": "stderr",
     "output_type": "stream",
     "text": [
      "\r",
      "  3%|██▌                                                                           | 57/1773 [09:36<4:18:48,  9.05s/it]"
     ]
    },
    {
     "name": "stdout",
     "output_type": "stream",
     "text": [
      "26/2/2018  완료\n",
      "982\n"
     ]
    },
    {
     "name": "stderr",
     "output_type": "stream",
     "text": [
      "\r",
      "  3%|██▌                                                                           | 58/1773 [09:50<4:58:57, 10.46s/it]"
     ]
    },
    {
     "name": "stdout",
     "output_type": "stream",
     "text": [
      "27/2/2018  완료\n",
      "1010\n"
     ]
    },
    {
     "name": "stderr",
     "output_type": "stream",
     "text": [
      "\r",
      "  3%|██▌                                                                           | 59/1773 [09:56<4:24:59,  9.28s/it]"
     ]
    },
    {
     "name": "stdout",
     "output_type": "stream",
     "text": [
      "28/2/2018  완료\n",
      "1028\n"
     ]
    },
    {
     "name": "stderr",
     "output_type": "stream",
     "text": [
      "\r",
      "  3%|██▋                                                                           | 60/1773 [10:09<4:51:54, 10.22s/it]"
     ]
    },
    {
     "name": "stdout",
     "output_type": "stream",
     "text": [
      "1/3/2018  완료\n",
      "1056\n"
     ]
    },
    {
     "name": "stderr",
     "output_type": "stream",
     "text": [
      "\r",
      "  3%|██▋                                                                           | 61/1773 [10:12<3:53:20,  8.18s/it]"
     ]
    },
    {
     "name": "stdout",
     "output_type": "stream",
     "text": [
      "2/3/2018  완료\n",
      "1062\n"
     ]
    },
    {
     "name": "stderr",
     "output_type": "stream",
     "text": [
      "\r",
      "  3%|██▋                                                                           | 62/1773 [10:23<4:15:58,  8.98s/it]"
     ]
    },
    {
     "name": "stdout",
     "output_type": "stream",
     "text": [
      "3/3/2018  완료\n",
      "1073\n"
     ]
    },
    {
     "name": "stderr",
     "output_type": "stream",
     "text": [
      "\r",
      "  4%|██▊                                                                           | 63/1773 [10:30<3:57:23,  8.33s/it]"
     ]
    },
    {
     "name": "stdout",
     "output_type": "stream",
     "text": [
      "4/3/2018  완료\n",
      "1085\n"
     ]
    },
    {
     "name": "stderr",
     "output_type": "stream",
     "text": [
      "\r",
      "  4%|██▊                                                                           | 64/1773 [10:50<5:35:06, 11.77s/it]"
     ]
    },
    {
     "name": "stdout",
     "output_type": "stream",
     "text": [
      "5/3/2018  완료\n",
      "1119\n"
     ]
    },
    {
     "name": "stderr",
     "output_type": "stream",
     "text": [
      "\r",
      "  4%|██▊                                                                           | 65/1773 [10:55<4:40:44,  9.86s/it]"
     ]
    },
    {
     "name": "stdout",
     "output_type": "stream",
     "text": [
      "6/3/2018  완료\n",
      "1124\n"
     ]
    },
    {
     "name": "stderr",
     "output_type": "stream",
     "text": [
      "\r",
      "  4%|██▉                                                                           | 66/1773 [11:03<4:24:09,  9.28s/it]"
     ]
    },
    {
     "name": "stdout",
     "output_type": "stream",
     "text": [
      "7/3/2018  완료\n",
      "1142\n"
     ]
    },
    {
     "name": "stderr",
     "output_type": "stream",
     "text": [
      "\r",
      "  4%|██▉                                                                           | 67/1773 [11:12<4:26:14,  9.36s/it]"
     ]
    },
    {
     "name": "stdout",
     "output_type": "stream",
     "text": [
      "8/3/2018  완료\n",
      "1157\n"
     ]
    },
    {
     "name": "stderr",
     "output_type": "stream",
     "text": [
      "\r",
      "  4%|██▉                                                                           | 68/1773 [11:22<4:26:23,  9.37s/it]"
     ]
    },
    {
     "name": "stdout",
     "output_type": "stream",
     "text": [
      "9/3/2018  완료\n",
      "1172\n"
     ]
    },
    {
     "name": "stderr",
     "output_type": "stream",
     "text": [
      "\r",
      "  4%|███                                                                           | 69/1773 [11:34<4:51:15, 10.26s/it]"
     ]
    },
    {
     "name": "stdout",
     "output_type": "stream",
     "text": [
      "1/3/2018  완료\n",
      "1200\n"
     ]
    },
    {
     "name": "stderr",
     "output_type": "stream",
     "text": [
      "\r",
      "  4%|███                                                                           | 70/1773 [11:41<4:18:57,  9.12s/it]"
     ]
    },
    {
     "name": "stdout",
     "output_type": "stream",
     "text": [
      "11/3/2018  완료\n",
      "1208\n"
     ]
    },
    {
     "name": "stderr",
     "output_type": "stream",
     "text": [
      "\r",
      "  4%|███                                                                           | 71/1773 [12:00<5:49:18, 12.31s/it]"
     ]
    },
    {
     "name": "stdout",
     "output_type": "stream",
     "text": [
      "12/3/2018  완료\n",
      "1243\n"
     ]
    },
    {
     "name": "stderr",
     "output_type": "stream",
     "text": [
      "\r",
      "  4%|███▏                                                                          | 72/1773 [12:11<5:35:56, 11.85s/it]"
     ]
    },
    {
     "name": "stdout",
     "output_type": "stream",
     "text": [
      "13/3/2018  완료\n",
      "1270\n"
     ]
    },
    {
     "name": "stderr",
     "output_type": "stream",
     "text": [
      "\r",
      "  4%|███▏                                                                          | 73/1773 [12:16<4:33:58,  9.67s/it]"
     ]
    },
    {
     "name": "stdout",
     "output_type": "stream",
     "text": [
      "14/3/2018  완료\n",
      "1277\n"
     ]
    },
    {
     "name": "stderr",
     "output_type": "stream",
     "text": [
      "\r",
      "  4%|███▎                                                                          | 74/1773 [12:19<3:42:56,  7.87s/it]"
     ]
    },
    {
     "name": "stdout",
     "output_type": "stream",
     "text": [
      "15/3/2018  완료\n",
      "1281\n"
     ]
    },
    {
     "name": "stderr",
     "output_type": "stream",
     "text": [
      "\r",
      "  4%|███▎                                                                          | 75/1773 [12:37<5:04:17, 10.75s/it]"
     ]
    },
    {
     "name": "stdout",
     "output_type": "stream",
     "text": [
      "16/3/2018  완료\n",
      "1310\n"
     ]
    },
    {
     "name": "stderr",
     "output_type": "stream",
     "text": [
      "\r",
      "  4%|███▎                                                                          | 76/1773 [12:47<4:54:48, 10.42s/it]"
     ]
    },
    {
     "name": "stdout",
     "output_type": "stream",
     "text": [
      "17/3/2018  완료\n",
      "1324\n"
     ]
    },
    {
     "name": "stderr",
     "output_type": "stream",
     "text": [
      "\r",
      "  4%|███▍                                                                          | 77/1773 [12:58<5:05:17, 10.80s/it]"
     ]
    },
    {
     "name": "stdout",
     "output_type": "stream",
     "text": [
      "18/3/2018  완료\n",
      "1345\n"
     ]
    },
    {
     "name": "stderr",
     "output_type": "stream",
     "text": [
      "\r",
      "  4%|███▍                                                                          | 78/1773 [13:08<4:56:40, 10.50s/it]"
     ]
    },
    {
     "name": "stdout",
     "output_type": "stream",
     "text": [
      "19/3/2018  완료\n",
      "1365\n"
     ]
    },
    {
     "name": "stderr",
     "output_type": "stream",
     "text": [
      "\r",
      "  4%|███▍                                                                          | 79/1773 [13:13<4:06:49,  8.74s/it]"
     ]
    },
    {
     "name": "stdout",
     "output_type": "stream",
     "text": [
      "2/3/2018  완료\n",
      "1371\n"
     ]
    },
    {
     "name": "stderr",
     "output_type": "stream",
     "text": [
      "\r",
      "  5%|███▌                                                                          | 80/1773 [13:28<5:02:10, 10.71s/it]"
     ]
    },
    {
     "name": "stdout",
     "output_type": "stream",
     "text": [
      "21/3/2018  완료\n",
      "1393\n"
     ]
    },
    {
     "name": "stderr",
     "output_type": "stream",
     "text": [
      "\r",
      "  5%|███▌                                                                          | 81/1773 [13:44<5:43:34, 12.18s/it]"
     ]
    },
    {
     "name": "stdout",
     "output_type": "stream",
     "text": [
      "22/3/2018  완료\n",
      "1422\n"
     ]
    },
    {
     "name": "stderr",
     "output_type": "stream",
     "text": [
      "\r",
      "  5%|███▌                                                                          | 82/1773 [13:49<4:45:02, 10.11s/it]"
     ]
    },
    {
     "name": "stdout",
     "output_type": "stream",
     "text": [
      "23/3/2018  완료\n",
      "1430\n"
     ]
    },
    {
     "name": "stderr",
     "output_type": "stream",
     "text": [
      "\r",
      "  5%|███▋                                                                          | 83/1773 [14:05<5:32:09, 11.79s/it]"
     ]
    },
    {
     "name": "stdout",
     "output_type": "stream",
     "text": [
      "24/3/2018  완료\n",
      "1468\n"
     ]
    },
    {
     "name": "stderr",
     "output_type": "stream",
     "text": [
      "\r",
      "  5%|███▋                                                                          | 84/1773 [14:13<5:05:47, 10.86s/it]"
     ]
    },
    {
     "name": "stdout",
     "output_type": "stream",
     "text": [
      "25/3/2018  완료\n",
      "1479\n"
     ]
    },
    {
     "name": "stderr",
     "output_type": "stream",
     "text": [
      "\r",
      "  5%|███▋                                                                          | 85/1773 [14:23<4:55:42, 10.51s/it]"
     ]
    },
    {
     "name": "stdout",
     "output_type": "stream",
     "text": [
      "26/3/2018  완료\n",
      "1494\n"
     ]
    },
    {
     "name": "stderr",
     "output_type": "stream",
     "text": [
      "\r",
      "  5%|███▊                                                                          | 86/1773 [14:38<5:38:00, 12.02s/it]"
     ]
    },
    {
     "name": "stdout",
     "output_type": "stream",
     "text": [
      "27/3/2018  완료\n",
      "1520\n"
     ]
    },
    {
     "name": "stderr",
     "output_type": "stream",
     "text": [
      "\r",
      "  5%|███▊                                                                          | 87/1773 [14:49<5:29:11, 11.72s/it]"
     ]
    },
    {
     "name": "stdout",
     "output_type": "stream",
     "text": [
      "28/3/2018  완료\n",
      "1542\n"
     ]
    },
    {
     "name": "stderr",
     "output_type": "stream",
     "text": [
      "\r",
      "  5%|███▊                                                                          | 88/1773 [14:54<4:29:08,  9.58s/it]"
     ]
    },
    {
     "name": "stdout",
     "output_type": "stream",
     "text": [
      "29/3/2018  완료\n",
      "1549\n"
     ]
    },
    {
     "name": "stderr",
     "output_type": "stream",
     "text": [
      "\r",
      "  5%|███▉                                                                          | 89/1773 [15:03<4:21:12,  9.31s/it]"
     ]
    },
    {
     "name": "stdout",
     "output_type": "stream",
     "text": [
      "3/3/2018  완료\n",
      "1560\n"
     ]
    },
    {
     "name": "stderr",
     "output_type": "stream",
     "text": [
      "\r",
      "  5%|███▉                                                                          | 90/1773 [15:06<3:33:37,  7.62s/it]"
     ]
    },
    {
     "name": "stdout",
     "output_type": "stream",
     "text": [
      "31/3/2018  완료\n",
      "1570\n"
     ]
    },
    {
     "name": "stderr",
     "output_type": "stream",
     "text": [
      "\r",
      "  5%|████                                                                          | 91/1773 [15:23<4:51:58, 10.41s/it]"
     ]
    },
    {
     "name": "stdout",
     "output_type": "stream",
     "text": [
      "1/4/2018  완료\n",
      "1605\n"
     ]
    },
    {
     "name": "stderr",
     "output_type": "stream",
     "text": [
      "\r",
      "  5%|████                                                                          | 92/1773 [15:28<4:07:14,  8.82s/it]"
     ]
    },
    {
     "name": "stdout",
     "output_type": "stream",
     "text": [
      "2/4/2018  완료\n",
      "1612\n"
     ]
    },
    {
     "name": "stderr",
     "output_type": "stream",
     "text": [
      "\r",
      "  5%|████                                                                          | 93/1773 [15:34<3:38:21,  7.80s/it]"
     ]
    },
    {
     "name": "stdout",
     "output_type": "stream",
     "text": [
      "3/4/2018  완료\n",
      "1618\n"
     ]
    },
    {
     "name": "stderr",
     "output_type": "stream",
     "text": [
      "\r",
      "  5%|████▏                                                                         | 94/1773 [15:43<3:51:01,  8.26s/it]"
     ]
    },
    {
     "name": "stdout",
     "output_type": "stream",
     "text": [
      "4/4/2018  완료\n",
      "1637\n"
     ]
    },
    {
     "name": "stderr",
     "output_type": "stream",
     "text": [
      "\r",
      "  5%|████▏                                                                         | 95/1773 [15:57<4:37:57,  9.94s/it]"
     ]
    },
    {
     "name": "stdout",
     "output_type": "stream",
     "text": [
      "5/4/2018  완료\n",
      "1660\n"
     ]
    },
    {
     "name": "stderr",
     "output_type": "stream",
     "text": [
      "\r",
      "  5%|████▏                                                                         | 96/1773 [16:15<5:42:26, 12.25s/it]"
     ]
    },
    {
     "name": "stdout",
     "output_type": "stream",
     "text": [
      "6/4/2018  완료\n",
      "1687\n"
     ]
    },
    {
     "name": "stderr",
     "output_type": "stream",
     "text": [
      "\r",
      "  5%|████▎                                                                         | 97/1773 [16:28<5:50:30, 12.55s/it]"
     ]
    },
    {
     "name": "stdout",
     "output_type": "stream",
     "text": [
      "7/4/2018  완료\n",
      "1710\n"
     ]
    },
    {
     "name": "stderr",
     "output_type": "stream",
     "text": [
      "\r",
      "  6%|████▎                                                                         | 98/1773 [16:33<4:47:52, 10.31s/it]"
     ]
    },
    {
     "name": "stdout",
     "output_type": "stream",
     "text": [
      "8/4/2018  완료\n",
      "1716\n"
     ]
    },
    {
     "name": "stderr",
     "output_type": "stream",
     "text": [
      "\r",
      "  6%|████▎                                                                         | 99/1773 [16:48<5:26:14, 11.69s/it]"
     ]
    },
    {
     "name": "stdout",
     "output_type": "stream",
     "text": [
      "9/4/2018  완료\n",
      "1741\n"
     ]
    },
    {
     "name": "stderr",
     "output_type": "stream",
     "text": [
      "\r",
      "  6%|████▎                                                                        | 100/1773 [17:06<6:15:15, 13.46s/it]"
     ]
    },
    {
     "name": "stdout",
     "output_type": "stream",
     "text": [
      "1/4/2018  완료\n",
      "1776\n"
     ]
    },
    {
     "name": "stderr",
     "output_type": "stream",
     "text": [
      "\r",
      "  6%|████▍                                                                        | 101/1773 [17:11<5:07:55, 11.05s/it]"
     ]
    },
    {
     "name": "stdout",
     "output_type": "stream",
     "text": [
      "11/4/2018  완료\n",
      "1784\n"
     ]
    },
    {
     "name": "stderr",
     "output_type": "stream",
     "text": [
      "\r",
      "  6%|████▍                                                                        | 102/1773 [17:31<6:22:31, 13.74s/it]"
     ]
    },
    {
     "name": "stdout",
     "output_type": "stream",
     "text": [
      "12/4/2018  완료\n",
      "1819\n"
     ]
    },
    {
     "name": "stderr",
     "output_type": "stream",
     "text": [
      "\r",
      "  6%|████▍                                                                        | 103/1773 [17:40<5:43:14, 12.33s/it]"
     ]
    },
    {
     "name": "stdout",
     "output_type": "stream",
     "text": [
      "13/4/2018  완료\n",
      "1839\n"
     ]
    },
    {
     "name": "stderr",
     "output_type": "stream",
     "text": [
      "\r",
      "  6%|████▌                                                                        | 104/1773 [17:48<5:07:16, 11.05s/it]"
     ]
    },
    {
     "name": "stdout",
     "output_type": "stream",
     "text": [
      "14/4/2018  완료\n",
      "1858\n"
     ]
    },
    {
     "name": "stderr",
     "output_type": "stream",
     "text": [
      "\r",
      "  6%|████▌                                                                        | 105/1773 [18:00<5:14:25, 11.31s/it]"
     ]
    },
    {
     "name": "stdout",
     "output_type": "stream",
     "text": [
      "15/4/2018  완료\n",
      "1885\n"
     ]
    },
    {
     "name": "stderr",
     "output_type": "stream",
     "text": [
      "\r",
      "  6%|████▌                                                                        | 106/1773 [18:15<5:43:27, 12.36s/it]"
     ]
    },
    {
     "name": "stdout",
     "output_type": "stream",
     "text": [
      "16/4/2018  완료\n",
      "1907\n"
     ]
    },
    {
     "name": "stderr",
     "output_type": "stream",
     "text": [
      "\r",
      "  6%|████▋                                                                        | 107/1773 [18:19<4:31:21,  9.77s/it]"
     ]
    },
    {
     "name": "stdout",
     "output_type": "stream",
     "text": [
      "17/4/2018  완료\n",
      "1910\n"
     ]
    },
    {
     "name": "stderr",
     "output_type": "stream",
     "text": [
      "\r",
      "  6%|████▋                                                                        | 108/1773 [18:34<5:21:51, 11.60s/it]"
     ]
    },
    {
     "name": "stdout",
     "output_type": "stream",
     "text": [
      "18/4/2018  완료\n",
      "1933\n"
     ]
    },
    {
     "name": "stderr",
     "output_type": "stream",
     "text": [
      "\r",
      "  6%|████▋                                                                        | 109/1773 [18:44<5:01:34, 10.87s/it]"
     ]
    },
    {
     "name": "stdout",
     "output_type": "stream",
     "text": [
      "19/4/2018  완료\n",
      "1949\n"
     ]
    },
    {
     "name": "stderr",
     "output_type": "stream",
     "text": [
      "\r",
      "  6%|████▊                                                                        | 110/1773 [18:50<4:21:49,  9.45s/it]"
     ]
    },
    {
     "name": "stdout",
     "output_type": "stream",
     "text": [
      "2/4/2018  완료\n",
      "1956\n"
     ]
    },
    {
     "name": "stderr",
     "output_type": "stream",
     "text": [
      "\r",
      "  6%|████▊                                                                        | 111/1773 [19:06<5:15:25, 11.39s/it]"
     ]
    },
    {
     "name": "stdout",
     "output_type": "stream",
     "text": [
      "21/4/2018  완료\n",
      "1992\n"
     ]
    },
    {
     "name": "stderr",
     "output_type": "stream",
     "text": [
      "\r",
      "  6%|████▊                                                                        | 112/1773 [19:22<5:54:45, 12.81s/it]"
     ]
    },
    {
     "name": "stdout",
     "output_type": "stream",
     "text": [
      "22/4/2018  완료\n",
      "2022\n"
     ]
    },
    {
     "name": "stderr",
     "output_type": "stream",
     "text": [
      "\r",
      "  6%|████▉                                                                        | 113/1773 [19:37<6:16:49, 13.62s/it]"
     ]
    },
    {
     "name": "stdout",
     "output_type": "stream",
     "text": [
      "23/4/2018  완료\n",
      "2049\n"
     ]
    },
    {
     "name": "stderr",
     "output_type": "stream",
     "text": [
      "\r",
      "  6%|████▉                                                                        | 114/1773 [19:45<5:26:05, 11.79s/it]"
     ]
    },
    {
     "name": "stdout",
     "output_type": "stream",
     "text": [
      "24/4/2018  완료\n",
      "2068\n"
     ]
    },
    {
     "name": "stderr",
     "output_type": "stream",
     "text": [
      "\r",
      "  6%|████▉                                                                        | 115/1773 [19:50<4:27:22,  9.68s/it]"
     ]
    },
    {
     "name": "stdout",
     "output_type": "stream",
     "text": [
      "25/4/2018  완료\n",
      "2072\n"
     ]
    },
    {
     "name": "stderr",
     "output_type": "stream",
     "text": [
      "\r",
      "  7%|█████                                                                        | 116/1773 [20:05<5:13:23, 11.35s/it]"
     ]
    },
    {
     "name": "stdout",
     "output_type": "stream",
     "text": [
      "26/4/2018  완료\n",
      "2098\n"
     ]
    },
    {
     "name": "stderr",
     "output_type": "stream",
     "text": [
      "\r",
      "  7%|█████                                                                        | 117/1773 [20:18<5:28:47, 11.91s/it]"
     ]
    },
    {
     "name": "stdout",
     "output_type": "stream",
     "text": [
      "27/4/2018  완료\n",
      "2124\n"
     ]
    },
    {
     "name": "stderr",
     "output_type": "stream",
     "text": [
      "\r",
      "  7%|█████                                                                        | 118/1773 [20:22<4:25:44,  9.63s/it]"
     ]
    },
    {
     "name": "stdout",
     "output_type": "stream",
     "text": [
      "28/4/2018  완료\n",
      "2128\n"
     ]
    },
    {
     "name": "stderr",
     "output_type": "stream",
     "text": [
      "\r",
      "  7%|█████▏                                                                       | 119/1773 [20:36<4:59:09, 10.85s/it]"
     ]
    },
    {
     "name": "stdout",
     "output_type": "stream",
     "text": [
      "29/4/2018  완료\n",
      "2154\n"
     ]
    },
    {
     "name": "stderr",
     "output_type": "stream",
     "text": [
      "\r",
      "  7%|█████▏                                                                       | 120/1773 [20:42<4:17:05,  9.33s/it]"
     ]
    },
    {
     "name": "stdout",
     "output_type": "stream",
     "text": [
      "3/4/2018  완료\n",
      "2160\n"
     ]
    },
    {
     "name": "stderr",
     "output_type": "stream",
     "text": [
      "\r",
      "  7%|█████▎                                                                       | 121/1773 [20:54<4:44:10, 10.32s/it]"
     ]
    },
    {
     "name": "stdout",
     "output_type": "stream",
     "text": [
      "1/5/2018  완료\n",
      "2181\n"
     ]
    },
    {
     "name": "stderr",
     "output_type": "stream",
     "text": [
      "\r",
      "  7%|█████▎                                                                       | 122/1773 [21:08<5:09:48, 11.26s/it]"
     ]
    },
    {
     "name": "stdout",
     "output_type": "stream",
     "text": [
      "2/5/2018  완료\n",
      "2206\n"
     ]
    },
    {
     "name": "stderr",
     "output_type": "stream",
     "text": [
      "\r",
      "  7%|█████▎                                                                       | 123/1773 [21:22<5:33:58, 12.14s/it]"
     ]
    },
    {
     "name": "stdout",
     "output_type": "stream",
     "text": [
      "3/5/2018  완료\n",
      "2229\n"
     ]
    },
    {
     "name": "stderr",
     "output_type": "stream",
     "text": [
      "\r",
      "  7%|█████▍                                                                       | 124/1773 [21:29<4:47:22, 10.46s/it]"
     ]
    },
    {
     "name": "stdout",
     "output_type": "stream",
     "text": [
      "4/5/2018  완료\n",
      "2248\n"
     ]
    },
    {
     "name": "stderr",
     "output_type": "stream",
     "text": [
      "\r",
      "  7%|█████▍                                                                       | 125/1773 [21:33<3:57:19,  8.64s/it]"
     ]
    },
    {
     "name": "stdout",
     "output_type": "stream",
     "text": [
      "5/5/2018  완료\n",
      "2252\n"
     ]
    },
    {
     "name": "stderr",
     "output_type": "stream",
     "text": [
      "\r",
      "  7%|█████▍                                                                       | 126/1773 [21:52<5:24:10, 11.81s/it]"
     ]
    },
    {
     "name": "stdout",
     "output_type": "stream",
     "text": [
      "6/5/2018  완료\n",
      "2286\n"
     ]
    },
    {
     "name": "stderr",
     "output_type": "stream",
     "text": [
      "\r",
      "  7%|█████▌                                                                       | 127/1773 [22:05<5:28:20, 11.97s/it]"
     ]
    },
    {
     "name": "stdout",
     "output_type": "stream",
     "text": [
      "7/5/2018  완료\n",
      "2307\n"
     ]
    },
    {
     "name": "stderr",
     "output_type": "stream",
     "text": [
      "\r",
      "  7%|█████▌                                                                       | 128/1773 [22:09<4:27:10,  9.75s/it]"
     ]
    },
    {
     "name": "stdout",
     "output_type": "stream",
     "text": [
      "8/5/2018  완료\n",
      "2312\n"
     ]
    },
    {
     "name": "stderr",
     "output_type": "stream",
     "text": [
      "\r",
      "  7%|█████▌                                                                       | 129/1773 [22:26<5:27:14, 11.94s/it]"
     ]
    },
    {
     "name": "stdout",
     "output_type": "stream",
     "text": [
      "9/5/2018  완료\n",
      "2348\n"
     ]
    },
    {
     "name": "stderr",
     "output_type": "stream",
     "text": [
      "\r",
      "  7%|█████▋                                                                       | 130/1773 [22:39<5:37:26, 12.32s/it]"
     ]
    },
    {
     "name": "stdout",
     "output_type": "stream",
     "text": [
      "1/5/2018  완료\n",
      "2369\n"
     ]
    },
    {
     "name": "stderr",
     "output_type": "stream",
     "text": [
      "\r",
      "  7%|█████▋                                                                       | 131/1773 [22:55<6:02:45, 13.26s/it]"
     ]
    },
    {
     "name": "stdout",
     "output_type": "stream",
     "text": [
      "11/5/2018  완료\n",
      "2392\n"
     ]
    },
    {
     "name": "stderr",
     "output_type": "stream",
     "text": [
      "\r",
      "  7%|█████▋                                                                       | 132/1773 [23:14<6:50:08, 15.00s/it]"
     ]
    },
    {
     "name": "stdout",
     "output_type": "stream",
     "text": [
      "12/5/2018  완료\n",
      "2424\n"
     ]
    },
    {
     "name": "stderr",
     "output_type": "stream",
     "text": [
      "\r",
      "  8%|█████▊                                                                       | 133/1773 [23:18<5:23:51, 11.85s/it]"
     ]
    },
    {
     "name": "stdout",
     "output_type": "stream",
     "text": [
      "13/5/2018  완료\n",
      "2430\n"
     ]
    },
    {
     "name": "stderr",
     "output_type": "stream",
     "text": [
      "\r",
      "  8%|█████▊                                                                       | 134/1773 [23:36<6:09:51, 13.54s/it]"
     ]
    },
    {
     "name": "stdout",
     "output_type": "stream",
     "text": [
      "14/5/2018  완료\n",
      "2462\n"
     ]
    },
    {
     "name": "stderr",
     "output_type": "stream",
     "text": [
      "\r",
      "  8%|█████▊                                                                       | 135/1773 [23:51<6:24:49, 14.10s/it]"
     ]
    },
    {
     "name": "stdout",
     "output_type": "stream",
     "text": [
      "15/5/2018  완료\n",
      "2486\n"
     ]
    },
    {
     "name": "stderr",
     "output_type": "stream",
     "text": [
      "\r",
      "  8%|█████▉                                                                       | 136/1773 [24:00<5:41:42, 12.52s/it]"
     ]
    },
    {
     "name": "stdout",
     "output_type": "stream",
     "text": [
      "16/5/2018  완료\n",
      "2505\n"
     ]
    },
    {
     "name": "stderr",
     "output_type": "stream",
     "text": [
      "\r",
      "  8%|█████▉                                                                       | 137/1773 [24:06<4:46:27, 10.51s/it]"
     ]
    },
    {
     "name": "stdout",
     "output_type": "stream",
     "text": [
      "17/5/2018  완료\n",
      "2512\n"
     ]
    },
    {
     "name": "stderr",
     "output_type": "stream",
     "text": [
      "\r",
      "  8%|█████▉                                                                       | 138/1773 [24:16<4:40:14, 10.28s/it]"
     ]
    },
    {
     "name": "stdout",
     "output_type": "stream",
     "text": [
      "18/5/2018  완료\n",
      "2531\n"
     ]
    },
    {
     "name": "stderr",
     "output_type": "stream",
     "text": [
      "\r",
      "  8%|██████                                                                       | 139/1773 [24:28<4:58:48, 10.97s/it]"
     ]
    },
    {
     "name": "stdout",
     "output_type": "stream",
     "text": [
      "19/5/2018  완료\n",
      "2555\n"
     ]
    },
    {
     "name": "stderr",
     "output_type": "stream",
     "text": [
      "\r",
      "  8%|██████                                                                       | 140/1773 [24:45<5:41:51, 12.56s/it]"
     ]
    },
    {
     "name": "stdout",
     "output_type": "stream",
     "text": [
      "2/5/2018  완료\n",
      "2580\n"
     ]
    },
    {
     "name": "stderr",
     "output_type": "stream",
     "text": [
      "\r",
      "  8%|██████                                                                       | 141/1773 [24:56<5:34:06, 12.28s/it]"
     ]
    },
    {
     "name": "stdout",
     "output_type": "stream",
     "text": [
      "21/5/2018  완료\n",
      "2606\n"
     ]
    },
    {
     "name": "stderr",
     "output_type": "stream",
     "text": [
      "\r",
      "  8%|██████▏                                                                      | 142/1773 [25:00<4:22:32,  9.66s/it]"
     ]
    },
    {
     "name": "stdout",
     "output_type": "stream",
     "text": [
      "22/5/2018  완료\n",
      "2611\n"
     ]
    },
    {
     "name": "stderr",
     "output_type": "stream",
     "text": [
      "\r",
      "  8%|██████▏                                                                      | 143/1773 [25:16<5:14:47, 11.59s/it]"
     ]
    },
    {
     "name": "stdout",
     "output_type": "stream",
     "text": [
      "23/5/2018  완료\n",
      "2634\n"
     ]
    },
    {
     "name": "stderr",
     "output_type": "stream",
     "text": [
      "\r",
      "  8%|██████▎                                                                      | 144/1773 [25:27<5:13:47, 11.56s/it]"
     ]
    },
    {
     "name": "stdout",
     "output_type": "stream",
     "text": [
      "24/5/2018  완료\n",
      "2653\n"
     ]
    },
    {
     "name": "stderr",
     "output_type": "stream",
     "text": [
      "\r",
      "  8%|██████▎                                                                      | 145/1773 [25:31<4:08:30,  9.16s/it]"
     ]
    },
    {
     "name": "stdout",
     "output_type": "stream",
     "text": [
      "25/5/2018  완료\n",
      "2657\n"
     ]
    },
    {
     "name": "stderr",
     "output_type": "stream",
     "text": [
      "\r",
      "  8%|██████▎                                                                      | 146/1773 [25:44<4:40:22, 10.34s/it]"
     ]
    },
    {
     "name": "stdout",
     "output_type": "stream",
     "text": [
      "26/5/2018  완료\n",
      "2682\n"
     ]
    },
    {
     "name": "stderr",
     "output_type": "stream",
     "text": [
      "\r",
      "  8%|██████▍                                                                      | 147/1773 [25:54<4:36:10, 10.19s/it]"
     ]
    },
    {
     "name": "stdout",
     "output_type": "stream",
     "text": [
      "27/5/2018  완료\n",
      "2702\n"
     ]
    },
    {
     "name": "stderr",
     "output_type": "stream",
     "text": [
      "\r",
      "  8%|██████▍                                                                      | 148/1773 [25:59<3:57:07,  8.76s/it]"
     ]
    },
    {
     "name": "stdout",
     "output_type": "stream",
     "text": [
      "28/5/2018  완료\n",
      "2711\n"
     ]
    },
    {
     "name": "stderr",
     "output_type": "stream",
     "text": [
      "\r",
      "  8%|██████▍                                                                      | 149/1773 [26:14<4:46:09, 10.57s/it]"
     ]
    },
    {
     "name": "stdout",
     "output_type": "stream",
     "text": [
      "29/5/2018  완료\n",
      "2734\n"
     ]
    },
    {
     "name": "stderr",
     "output_type": "stream",
     "text": [
      "\r",
      "  8%|██████▌                                                                      | 150/1773 [26:26<5:00:31, 11.11s/it]"
     ]
    },
    {
     "name": "stdout",
     "output_type": "stream",
     "text": [
      "3/5/2018  완료\n",
      "2757\n"
     ]
    },
    {
     "name": "stderr",
     "output_type": "stream",
     "text": [
      "\r",
      "  9%|██████▌                                                                      | 151/1773 [26:31<4:10:11,  9.26s/it]"
     ]
    },
    {
     "name": "stdout",
     "output_type": "stream",
     "text": [
      "31/5/2018  완료\n",
      "2763\n"
     ]
    },
    {
     "name": "stderr",
     "output_type": "stream",
     "text": [
      "\r",
      "  9%|██████▌                                                                      | 152/1773 [26:36<3:33:10,  7.89s/it]"
     ]
    },
    {
     "name": "stdout",
     "output_type": "stream",
     "text": [
      "1/6/2018  완료\n",
      "2770\n"
     ]
    },
    {
     "name": "stderr",
     "output_type": "stream",
     "text": [
      "\r",
      "  9%|██████▋                                                                      | 153/1773 [26:59<5:31:32, 12.28s/it]"
     ]
    },
    {
     "name": "stdout",
     "output_type": "stream",
     "text": [
      "2/6/2018  완료\n",
      "2799\n"
     ]
    },
    {
     "name": "stderr",
     "output_type": "stream",
     "text": [
      "\r",
      "  9%|██████▋                                                                      | 154/1773 [27:14<5:58:43, 13.29s/it]"
     ]
    },
    {
     "name": "stdout",
     "output_type": "stream",
     "text": [
      "3/6/2018  완료\n",
      "2829\n"
     ]
    },
    {
     "name": "stderr",
     "output_type": "stream",
     "text": [
      "\r",
      "  9%|██████▋                                                                      | 155/1773 [27:30<6:22:04, 14.17s/it]"
     ]
    },
    {
     "name": "stdout",
     "output_type": "stream",
     "text": [
      "4/6/2018  완료\n",
      "2848\n"
     ]
    },
    {
     "name": "stderr",
     "output_type": "stream",
     "text": [
      "\r",
      "  9%|██████▊                                                                      | 156/1773 [27:43<6:08:12, 13.66s/it]"
     ]
    },
    {
     "name": "stdout",
     "output_type": "stream",
     "text": [
      "5/6/2018  완료\n",
      "2858\n"
     ]
    },
    {
     "name": "stderr",
     "output_type": "stream",
     "text": [
      "\r",
      "  9%|██████▊                                                                      | 157/1773 [28:02<6:52:18, 15.31s/it]"
     ]
    },
    {
     "name": "stdout",
     "output_type": "stream",
     "text": [
      "6/6/2018  완료\n",
      "2892\n"
     ]
    },
    {
     "name": "stderr",
     "output_type": "stream",
     "text": [
      "\r",
      "  9%|██████▊                                                                      | 158/1773 [28:32<8:53:14, 19.81s/it]"
     ]
    },
    {
     "name": "stdout",
     "output_type": "stream",
     "text": [
      "7/6/2018  완료\n",
      "2954\n"
     ]
    },
    {
     "name": "stderr",
     "output_type": "stream",
     "text": [
      "\r",
      "  9%|██████▉                                                                      | 159/1773 [28:42<7:33:50, 16.87s/it]"
     ]
    },
    {
     "name": "stdout",
     "output_type": "stream",
     "text": [
      "8/6/2018  완료\n",
      "2968\n"
     ]
    },
    {
     "name": "stderr",
     "output_type": "stream",
     "text": [
      "\r",
      "  9%|██████▉                                                                      | 160/1773 [29:02<7:54:48, 17.66s/it]"
     ]
    },
    {
     "name": "stdout",
     "output_type": "stream",
     "text": [
      "9/6/2018  완료\n",
      "3003\n"
     ]
    },
    {
     "name": "stderr",
     "output_type": "stream",
     "text": [
      "\r",
      "  9%|██████▉                                                                      | 161/1773 [29:07<6:11:55, 13.84s/it]"
     ]
    },
    {
     "name": "stdout",
     "output_type": "stream",
     "text": [
      "1/6/2018  완료\n",
      "3010\n"
     ]
    },
    {
     "name": "stderr",
     "output_type": "stream",
     "text": [
      "\r",
      "  9%|███████                                                                      | 162/1773 [29:14<5:18:20, 11.86s/it]"
     ]
    },
    {
     "name": "stdout",
     "output_type": "stream",
     "text": [
      "11/6/2018  완료\n",
      "3023\n"
     ]
    },
    {
     "name": "stderr",
     "output_type": "stream",
     "text": [
      "\r",
      "  9%|███████                                                                      | 163/1773 [29:28<5:35:00, 12.48s/it]"
     ]
    },
    {
     "name": "stdout",
     "output_type": "stream",
     "text": [
      "12/6/2018  완료\n",
      "3053\n"
     ]
    },
    {
     "name": "stderr",
     "output_type": "stream",
     "text": [
      "\r",
      "  9%|███████                                                                      | 164/1773 [29:33<4:36:05, 10.30s/it]"
     ]
    },
    {
     "name": "stdout",
     "output_type": "stream",
     "text": [
      "13/6/2018  완료\n",
      "3060\n"
     ]
    },
    {
     "name": "stderr",
     "output_type": "stream",
     "text": [
      "\r",
      "  9%|███████▏                                                                     | 165/1773 [29:55<6:07:55, 13.73s/it]"
     ]
    },
    {
     "name": "stdout",
     "output_type": "stream",
     "text": [
      "14/6/2018  완료\n",
      "3094\n"
     ]
    },
    {
     "name": "stderr",
     "output_type": "stream",
     "text": [
      "\r",
      "  9%|███████▏                                                                     | 166/1773 [30:08<6:02:34, 13.54s/it]"
     ]
    },
    {
     "name": "stdout",
     "output_type": "stream",
     "text": [
      "15/6/2018  완료\n",
      "3117\n"
     ]
    },
    {
     "name": "stderr",
     "output_type": "stream",
     "text": [
      "\r",
      "  9%|███████▎                                                                     | 167/1773 [30:15<5:06:07, 11.44s/it]"
     ]
    },
    {
     "name": "stdout",
     "output_type": "stream",
     "text": [
      "16/6/2018  완료\n",
      "3118\n"
     ]
    },
    {
     "name": "stderr",
     "output_type": "stream",
     "text": [
      "\r",
      "  9%|███████▎                                                                     | 168/1773 [30:31<5:45:56, 12.93s/it]"
     ]
    },
    {
     "name": "stdout",
     "output_type": "stream",
     "text": [
      "17/6/2018  완료\n",
      "3145\n"
     ]
    },
    {
     "name": "stderr",
     "output_type": "stream",
     "text": [
      "\r",
      " 10%|███████▎                                                                     | 169/1773 [30:47<6:13:19, 13.96s/it]"
     ]
    },
    {
     "name": "stdout",
     "output_type": "stream",
     "text": [
      "18/6/2018  완료\n",
      "3171\n"
     ]
    },
    {
     "name": "stderr",
     "output_type": "stream",
     "text": [
      "\r",
      " 10%|███████▍                                                                     | 170/1773 [30:54<5:11:52, 11.67s/it]"
     ]
    },
    {
     "name": "stdout",
     "output_type": "stream",
     "text": [
      "19/6/2018  완료\n",
      "3174\n"
     ]
    },
    {
     "name": "stderr",
     "output_type": "stream",
     "text": [
      "\r",
      " 10%|███████▍                                                                     | 171/1773 [31:09<5:42:21, 12.82s/it]"
     ]
    },
    {
     "name": "stdout",
     "output_type": "stream",
     "text": [
      "2/6/2018  완료\n",
      "3203\n"
     ]
    },
    {
     "name": "stderr",
     "output_type": "stream",
     "text": [
      "\r",
      " 10%|███████▍                                                                     | 172/1773 [31:19<5:16:48, 11.87s/it]"
     ]
    },
    {
     "name": "stdout",
     "output_type": "stream",
     "text": [
      "21/6/2018  완료\n",
      "3218\n"
     ]
    },
    {
     "name": "stderr",
     "output_type": "stream",
     "text": [
      "\r",
      " 10%|███████▌                                                                     | 173/1773 [31:24<4:23:00,  9.86s/it]"
     ]
    },
    {
     "name": "stdout",
     "output_type": "stream",
     "text": [
      "22/6/2018  완료\n",
      "3225\n"
     ]
    },
    {
     "name": "stderr",
     "output_type": "stream",
     "text": [
      "\r",
      " 10%|███████▌                                                                     | 174/1773 [31:42<5:25:40, 12.22s/it]"
     ]
    },
    {
     "name": "stdout",
     "output_type": "stream",
     "text": [
      "23/6/2018  완료\n",
      "3259\n"
     ]
    },
    {
     "name": "stderr",
     "output_type": "stream",
     "text": [
      "\r",
      " 10%|███████▌                                                                     | 175/1773 [31:52<5:07:08, 11.53s/it]"
     ]
    },
    {
     "name": "stdout",
     "output_type": "stream",
     "text": [
      "24/6/2018  완료\n",
      "3277\n"
     ]
    },
    {
     "name": "stderr",
     "output_type": "stream",
     "text": [
      "\r",
      " 10%|███████▋                                                                     | 176/1773 [32:08<5:45:34, 12.98s/it]"
     ]
    },
    {
     "name": "stdout",
     "output_type": "stream",
     "text": [
      "25/6/2018  완료\n",
      "3303\n"
     ]
    },
    {
     "name": "stderr",
     "output_type": "stream",
     "text": [
      "\r",
      " 10%|███████▋                                                                     | 177/1773 [32:20<5:36:40, 12.66s/it]"
     ]
    },
    {
     "name": "stdout",
     "output_type": "stream",
     "text": [
      "26/6/2018  완료\n",
      "3327\n"
     ]
    },
    {
     "name": "stderr",
     "output_type": "stream",
     "text": [
      "\r",
      " 10%|███████▋                                                                     | 178/1773 [32:35<5:53:16, 13.29s/it]"
     ]
    },
    {
     "name": "stdout",
     "output_type": "stream",
     "text": [
      "27/6/2018  완료\n",
      "3348\n"
     ]
    },
    {
     "name": "stderr",
     "output_type": "stream",
     "text": [
      "\r",
      " 10%|███████▊                                                                     | 179/1773 [32:53<6:29:22, 14.66s/it]"
     ]
    },
    {
     "name": "stdout",
     "output_type": "stream",
     "text": [
      "28/6/2018  완료\n",
      "3380\n"
     ]
    },
    {
     "name": "stderr",
     "output_type": "stream",
     "text": [
      "\r",
      " 10%|███████▊                                                                     | 180/1773 [33:05<6:14:24, 14.10s/it]"
     ]
    },
    {
     "name": "stdout",
     "output_type": "stream",
     "text": [
      "29/6/2018  완료\n",
      "3407\n"
     ]
    },
    {
     "name": "stderr",
     "output_type": "stream",
     "text": [
      "\r",
      " 10%|███████▊                                                                     | 181/1773 [33:21<6:25:36, 14.53s/it]"
     ]
    },
    {
     "name": "stdout",
     "output_type": "stream",
     "text": [
      "3/6/2018  완료\n",
      "3437\n"
     ]
    },
    {
     "name": "stderr",
     "output_type": "stream",
     "text": [
      "\r",
      " 10%|███████▉                                                                     | 182/1773 [33:27<5:15:14, 11.89s/it]"
     ]
    },
    {
     "name": "stdout",
     "output_type": "stream",
     "text": [
      "1/7/2018  완료\n",
      "3439\n"
     ]
    },
    {
     "name": "stderr",
     "output_type": "stream",
     "text": [
      "\r",
      " 10%|███████▉                                                                     | 183/1773 [33:46<6:15:10, 14.16s/it]"
     ]
    },
    {
     "name": "stdout",
     "output_type": "stream",
     "text": [
      "2/7/2018  완료\n",
      "3470\n"
     ]
    },
    {
     "name": "stderr",
     "output_type": "stream",
     "text": [
      "\r",
      " 10%|███████▉                                                                     | 184/1773 [34:07<7:10:57, 16.27s/it]"
     ]
    },
    {
     "name": "stdout",
     "output_type": "stream",
     "text": [
      "3/7/2018  완료\n",
      "3504\n"
     ]
    },
    {
     "name": "stderr",
     "output_type": "stream",
     "text": [
      "\r",
      " 10%|████████                                                                     | 185/1773 [34:13<5:44:49, 13.03s/it]"
     ]
    },
    {
     "name": "stdout",
     "output_type": "stream",
     "text": [
      "4/7/2018  완료\n",
      "3506\n"
     ]
    },
    {
     "name": "stderr",
     "output_type": "stream",
     "text": [
      " 10%|████████                                                                     | 185/1773 [34:27<4:55:42, 11.17s/it]\n"
     ]
    },
    {
     "ename": "WebDriverException",
     "evalue": "Message: chrome not reachable\n  (Session info: chrome=104.0.5112.102)\nStacktrace:\nBacktrace:\n\tOrdinal0 [0x011C78B3+2193587]\n\tOrdinal0 [0x01160681+1771137]\n\tOrdinal0 [0x01074070+802928]\n\tOrdinal0 [0x01069AB2+760498]\n\tOrdinal0 [0x0105CEAF+708271]\n\tOrdinal0 [0x01061142+725314]\n\tOrdinal0 [0x010655C9+742857]\n\tOrdinal0 [0x01075500+808192]\n\tOrdinal0 [0x010CD2C2+1168066]\n\tOrdinal0 [0x010BD5C6+1103302]\n\tOrdinal0 [0x010977E0+948192]\n\tOrdinal0 [0x010986E6+952038]\n\tGetHandleVerifier [0x01470CB2+2738370]\n\tGetHandleVerifier [0x014621B8+2678216]\n\tGetHandleVerifier [0x012517AA+512954]\n\tGetHandleVerifier [0x01250856+509030]\n\tOrdinal0 [0x0116743B+1799227]\n\tOrdinal0 [0x0116BB68+1817448]\n\tOrdinal0 [0x0116BC55+1817685]\n\tOrdinal0 [0x01175230+1856048]\n\tBaseThreadInitThunk [0x754CFA29+25]\n\tRtlGetAppContainerNamedObjectPath [0x76FD7A9E+286]\n\tRtlGetAppContainerNamedObjectPath [0x76FD7A6E+238]\n",
     "output_type": "error",
     "traceback": [
      "\u001b[1;31m---------------------------------------------------------------------------\u001b[0m",
      "\u001b[1;31mWebDriverException\u001b[0m                        Traceback (most recent call last)",
      "\u001b[1;32m<ipython-input-32-d2168764ef75>\u001b[0m in \u001b[0;36m<module>\u001b[1;34m\u001b[0m\n\u001b[0;32m      2\u001b[0m \u001b[0mUrls\u001b[0m \u001b[1;33m=\u001b[0m \u001b[1;33m[\u001b[0m\u001b[1;33m]\u001b[0m\u001b[1;33m\u001b[0m\u001b[1;33m\u001b[0m\u001b[0m\n\u001b[0;32m      3\u001b[0m \u001b[1;32mfor\u001b[0m \u001b[0mdate\u001b[0m \u001b[1;32min\u001b[0m \u001b[0mtqdm\u001b[0m\u001b[1;33m(\u001b[0m\u001b[0mdtlst\u001b[0m\u001b[1;33m)\u001b[0m\u001b[1;33m:\u001b[0m\u001b[1;33m\u001b[0m\u001b[1;33m\u001b[0m\u001b[0m\n\u001b[1;32m----> 4\u001b[1;33m     \u001b[0murls\u001b[0m \u001b[1;33m=\u001b[0m \u001b[0mpage2url\u001b[0m\u001b[1;33m(\u001b[0m\u001b[0msearching_word\u001b[0m\u001b[1;33m,\u001b[0m\u001b[0mdate\u001b[0m\u001b[1;33m)\u001b[0m\u001b[1;33m\u001b[0m\u001b[1;33m\u001b[0m\u001b[0m\n\u001b[0m\u001b[0;32m      5\u001b[0m     \u001b[0mUrls\u001b[0m\u001b[1;33m.\u001b[0m\u001b[0mextend\u001b[0m\u001b[1;33m(\u001b[0m\u001b[0murls\u001b[0m\u001b[1;33m)\u001b[0m\u001b[1;33m\u001b[0m\u001b[1;33m\u001b[0m\u001b[0m\n\u001b[0;32m      6\u001b[0m     \u001b[0mprint\u001b[0m\u001b[1;33m(\u001b[0m\u001b[0mlen\u001b[0m\u001b[1;33m(\u001b[0m\u001b[0mUrls\u001b[0m\u001b[1;33m)\u001b[0m\u001b[1;33m)\u001b[0m\u001b[1;33m\u001b[0m\u001b[1;33m\u001b[0m\u001b[0m\n",
      "\u001b[1;32m<ipython-input-30-e069b1c1d798>\u001b[0m in \u001b[0;36mpage2url\u001b[1;34m(searching_word, date)\u001b[0m\n\u001b[0;32m      8\u001b[0m         \u001b[0mlnks\u001b[0m \u001b[1;33m=\u001b[0m \u001b[1;33m[\u001b[0m\u001b[1;33m]\u001b[0m\u001b[1;33m\u001b[0m\u001b[1;33m\u001b[0m\u001b[0m\n\u001b[0;32m      9\u001b[0m         \u001b[1;32mfor\u001b[0m \u001b[0mlnk\u001b[0m \u001b[1;32min\u001b[0m \u001b[0melements\u001b[0m\u001b[1;33m:\u001b[0m\u001b[1;33m\u001b[0m\u001b[1;33m\u001b[0m\u001b[0m\n\u001b[1;32m---> 10\u001b[1;33m             \u001b[0mlnk\u001b[0m \u001b[1;33m=\u001b[0m \u001b[0mstr\u001b[0m\u001b[1;33m(\u001b[0m\u001b[0mlnk\u001b[0m\u001b[1;33m.\u001b[0m\u001b[0mget_attribute\u001b[0m\u001b[1;33m(\u001b[0m\u001b[1;34m'href'\u001b[0m\u001b[1;33m)\u001b[0m\u001b[1;33m)\u001b[0m\u001b[1;33m\u001b[0m\u001b[1;33m\u001b[0m\u001b[0m\n\u001b[0m\u001b[0;32m     11\u001b[0m             \u001b[1;32mif\u001b[0m \u001b[1;34m'google'\u001b[0m \u001b[1;32mnot\u001b[0m \u001b[1;32min\u001b[0m \u001b[0mlnk\u001b[0m \u001b[1;32mand\u001b[0m \u001b[0mlnk\u001b[0m \u001b[1;33m!=\u001b[0m \u001b[1;34m'None'\u001b[0m\u001b[1;33m:\u001b[0m\u001b[1;33m\u001b[0m\u001b[1;33m\u001b[0m\u001b[0m\n\u001b[0;32m     12\u001b[0m                 \u001b[0mlnks\u001b[0m\u001b[1;33m.\u001b[0m\u001b[0mappend\u001b[0m\u001b[1;33m(\u001b[0m\u001b[0mlnk\u001b[0m\u001b[1;33m)\u001b[0m\u001b[1;33m\u001b[0m\u001b[1;33m\u001b[0m\u001b[0m\n",
      "\u001b[1;32m~\\anaconda3\\lib\\site-packages\\selenium\\webdriver\\remote\\webelement.py\u001b[0m in \u001b[0;36mget_attribute\u001b[1;34m(self, name)\u001b[0m\n\u001b[0;32m    170\u001b[0m         \u001b[1;32mif\u001b[0m \u001b[0mgetAttribute_js\u001b[0m \u001b[1;32mis\u001b[0m \u001b[1;32mNone\u001b[0m\u001b[1;33m:\u001b[0m\u001b[1;33m\u001b[0m\u001b[1;33m\u001b[0m\u001b[0m\n\u001b[0;32m    171\u001b[0m             \u001b[0m_load_js\u001b[0m\u001b[1;33m(\u001b[0m\u001b[1;33m)\u001b[0m\u001b[1;33m\u001b[0m\u001b[1;33m\u001b[0m\u001b[0m\n\u001b[1;32m--> 172\u001b[1;33m         attribute_value = self.parent.execute_script(\n\u001b[0m\u001b[0;32m    173\u001b[0m             \u001b[1;34m\"return (%s).apply(null, arguments);\"\u001b[0m \u001b[1;33m%\u001b[0m \u001b[0mgetAttribute_js\u001b[0m\u001b[1;33m,\u001b[0m\u001b[1;33m\u001b[0m\u001b[1;33m\u001b[0m\u001b[0m\n\u001b[0;32m    174\u001b[0m             self, name)\n",
      "\u001b[1;32m~\\anaconda3\\lib\\site-packages\\selenium\\webdriver\\remote\\webdriver.py\u001b[0m in \u001b[0;36mexecute_script\u001b[1;34m(self, script, *args)\u001b[0m\n\u001b[0;32m    489\u001b[0m         \u001b[0mcommand\u001b[0m \u001b[1;33m=\u001b[0m \u001b[0mCommand\u001b[0m\u001b[1;33m.\u001b[0m\u001b[0mW3C_EXECUTE_SCRIPT\u001b[0m\u001b[1;33m\u001b[0m\u001b[1;33m\u001b[0m\u001b[0m\n\u001b[0;32m    490\u001b[0m \u001b[1;33m\u001b[0m\u001b[0m\n\u001b[1;32m--> 491\u001b[1;33m         return self.execute(command, {\n\u001b[0m\u001b[0;32m    492\u001b[0m             \u001b[1;34m'script'\u001b[0m\u001b[1;33m:\u001b[0m \u001b[0mscript\u001b[0m\u001b[1;33m,\u001b[0m\u001b[1;33m\u001b[0m\u001b[1;33m\u001b[0m\u001b[0m\n\u001b[0;32m    493\u001b[0m             'args': converted_args})['value']\n",
      "\u001b[1;32m~\\anaconda3\\lib\\site-packages\\selenium\\webdriver\\remote\\webdriver.py\u001b[0m in \u001b[0;36mexecute\u001b[1;34m(self, driver_command, params)\u001b[0m\n\u001b[0;32m    426\u001b[0m         \u001b[0mresponse\u001b[0m \u001b[1;33m=\u001b[0m \u001b[0mself\u001b[0m\u001b[1;33m.\u001b[0m\u001b[0mcommand_executor\u001b[0m\u001b[1;33m.\u001b[0m\u001b[0mexecute\u001b[0m\u001b[1;33m(\u001b[0m\u001b[0mdriver_command\u001b[0m\u001b[1;33m,\u001b[0m \u001b[0mparams\u001b[0m\u001b[1;33m)\u001b[0m\u001b[1;33m\u001b[0m\u001b[1;33m\u001b[0m\u001b[0m\n\u001b[0;32m    427\u001b[0m         \u001b[1;32mif\u001b[0m \u001b[0mresponse\u001b[0m\u001b[1;33m:\u001b[0m\u001b[1;33m\u001b[0m\u001b[1;33m\u001b[0m\u001b[0m\n\u001b[1;32m--> 428\u001b[1;33m             \u001b[0mself\u001b[0m\u001b[1;33m.\u001b[0m\u001b[0merror_handler\u001b[0m\u001b[1;33m.\u001b[0m\u001b[0mcheck_response\u001b[0m\u001b[1;33m(\u001b[0m\u001b[0mresponse\u001b[0m\u001b[1;33m)\u001b[0m\u001b[1;33m\u001b[0m\u001b[1;33m\u001b[0m\u001b[0m\n\u001b[0m\u001b[0;32m    429\u001b[0m             response['value'] = self._unwrap_value(\n\u001b[0;32m    430\u001b[0m                 response.get('value', None))\n",
      "\u001b[1;32m~\\anaconda3\\lib\\site-packages\\selenium\\webdriver\\remote\\errorhandler.py\u001b[0m in \u001b[0;36mcheck_response\u001b[1;34m(self, response)\u001b[0m\n\u001b[0;32m    241\u001b[0m                 \u001b[0malert_text\u001b[0m \u001b[1;33m=\u001b[0m \u001b[0mvalue\u001b[0m\u001b[1;33m[\u001b[0m\u001b[1;34m'alert'\u001b[0m\u001b[1;33m]\u001b[0m\u001b[1;33m.\u001b[0m\u001b[0mget\u001b[0m\u001b[1;33m(\u001b[0m\u001b[1;34m'text'\u001b[0m\u001b[1;33m)\u001b[0m\u001b[1;33m\u001b[0m\u001b[1;33m\u001b[0m\u001b[0m\n\u001b[0;32m    242\u001b[0m             \u001b[1;32mraise\u001b[0m \u001b[0mexception_class\u001b[0m\u001b[1;33m(\u001b[0m\u001b[0mmessage\u001b[0m\u001b[1;33m,\u001b[0m \u001b[0mscreen\u001b[0m\u001b[1;33m,\u001b[0m \u001b[0mstacktrace\u001b[0m\u001b[1;33m,\u001b[0m \u001b[0malert_text\u001b[0m\u001b[1;33m)\u001b[0m  \u001b[1;31m# type: ignore[call-arg]  # mypy is not smart enough here\u001b[0m\u001b[1;33m\u001b[0m\u001b[1;33m\u001b[0m\u001b[0m\n\u001b[1;32m--> 243\u001b[1;33m         \u001b[1;32mraise\u001b[0m \u001b[0mexception_class\u001b[0m\u001b[1;33m(\u001b[0m\u001b[0mmessage\u001b[0m\u001b[1;33m,\u001b[0m \u001b[0mscreen\u001b[0m\u001b[1;33m,\u001b[0m \u001b[0mstacktrace\u001b[0m\u001b[1;33m)\u001b[0m\u001b[1;33m\u001b[0m\u001b[1;33m\u001b[0m\u001b[0m\n\u001b[0m",
      "\u001b[1;31mWebDriverException\u001b[0m: Message: chrome not reachable\n  (Session info: chrome=104.0.5112.102)\nStacktrace:\nBacktrace:\n\tOrdinal0 [0x011C78B3+2193587]\n\tOrdinal0 [0x01160681+1771137]\n\tOrdinal0 [0x01074070+802928]\n\tOrdinal0 [0x01069AB2+760498]\n\tOrdinal0 [0x0105CEAF+708271]\n\tOrdinal0 [0x01061142+725314]\n\tOrdinal0 [0x010655C9+742857]\n\tOrdinal0 [0x01075500+808192]\n\tOrdinal0 [0x010CD2C2+1168066]\n\tOrdinal0 [0x010BD5C6+1103302]\n\tOrdinal0 [0x010977E0+948192]\n\tOrdinal0 [0x010986E6+952038]\n\tGetHandleVerifier [0x01470CB2+2738370]\n\tGetHandleVerifier [0x014621B8+2678216]\n\tGetHandleVerifier [0x012517AA+512954]\n\tGetHandleVerifier [0x01250856+509030]\n\tOrdinal0 [0x0116743B+1799227]\n\tOrdinal0 [0x0116BB68+1817448]\n\tOrdinal0 [0x0116BC55+1817685]\n\tOrdinal0 [0x01175230+1856048]\n\tBaseThreadInitThunk [0x754CFA29+25]\n\tRtlGetAppContainerNamedObjectPath [0x76FD7A9E+286]\n\tRtlGetAppContainerNamedObjectPath [0x76FD7A6E+238]\n"
     ]
    }
   ],
   "source": [
    "searching_word = 'digital+finance'\n",
    "Urls = []\n",
    "for date in tqdm(dtlst):\n",
    "    urls = page2url(searching_word,date)\n",
    "    Urls.extend(urls)\n",
    "    print(len(Urls))"
   ]
  },
  {
   "cell_type": "code",
   "execution_count": 37,
   "id": "8cb68f9e",
   "metadata": {},
   "outputs": [],
   "source": [
    "name = \"Urls{}-{}.pickle\".format(from_date,r'4/7/2018')"
   ]
  },
  {
   "cell_type": "code",
   "execution_count": 49,
   "id": "9c7324a0",
   "metadata": {},
   "outputs": [],
   "source": [
    "name = name.replace('/','.')"
   ]
  },
  {
   "cell_type": "code",
   "execution_count": 51,
   "id": "99069297",
   "metadata": {},
   "outputs": [],
   "source": [
    "import pickle"
   ]
  },
  {
   "cell_type": "code",
   "execution_count": 52,
   "id": "a9a1ce55",
   "metadata": {},
   "outputs": [],
   "source": [
    "with open(r'C:/Users/Notebiz003/BerTopic/' + name,'wb') as f:\n",
    "    pickle.dump(Urls,f)"
   ]
  },
  {
   "cell_type": "code",
   "execution_count": 53,
   "id": "3a81e8e5",
   "metadata": {},
   "outputs": [],
   "source": [
    ">>> with open(r'C:/Users/Notebiz003/BerTopic/' + name, 'rb') as f:\n",
    "...     data = pickle.load(f) # 단 한줄씩 읽어옴"
   ]
  },
  {
   "cell_type": "code",
   "execution_count": 54,
   "id": "886e26d1",
   "metadata": {},
   "outputs": [
    {
     "data": {
      "text/plain": [
       "['https://www.ft.com/content/73f75fb4-da8f-11e7-a039-c64b1c09b482',\n",
       " 'https://www.business-standard.com/article/companies/tcs-sees-business-in-digital-consolidation-118010100960_1.html',\n",
       " 'https://www.ft.com/content/54d026d8-e4cc-11e7-97e2-916d4fbac0da',\n",
       " 'https://www.thebanker.com/Comment-Profiles/Team-of-the-Month/BNP-Paribas-assists-with-CMA-CGM-hat-trick',\n",
       " 'https://www.livemint.com/Opinion/YtRDoDK913EfV25iIDvTWI/UPI-20-The-digital-pigmy.html',\n",
       " 'https://www.business-standard.com/article/finance/odisha-turns-to-banking-outlets-to-cover-untapped-areas-118010100638_1.html',\n",
       " 'https://www.ft.com/content/fab994ac-e6df-11e7-97e2-916d4fbac0da',\n",
       " 'https://www.forbes.com/sites/bobbymcmahon/2018/01/01/part-2-head-to-head-financial-results-and-how-liverpool-is-going-to-overtake-arsenal/',\n",
       " 'https://www.ft.com/content/9e9573a0-ec9b-11e7-bd17-521324c81e23',\n",
       " 'https://www.business-standard.com/article/pti-stories/nifty-snaps-10-450-level-slips-95-pts-118010100650_1.html',\n",
       " 'https://qz.com/1169000/ripple-was-the-best-performing-cryptocurrency-of-2017-beating-bitcoin/',\n",
       " 'https://www.business-standard.com/article/current-affairs/pakistan-bars-26-11-brain-hafiz-saeed-s-jamaat-ud-dawa-from-raising-funds-118010100804_1.html',\n",
       " 'https://www.forbes.com/sites/ambergibson/2018/01/01/what-it-takes-to-be-relais-chateaux/',\n",
       " 'https://www.business-standard.com/article/news-ians/love-is-like-gardening-will-smith-118010100447_1.html',\n",
       " 'https://europa.eu/rapid/press-release_IP-18-521_en.htm',\n",
       " 'https://www.livemint.com/Politics/xmBDOdP2H2hbXH7eV1VTqL/Budget-2018-Crypto-currencies-illegal-will-eliminate-their.html',\n",
       " 'https://www.thebanker.com/Transactions-Technology/People/AIB-s-chief-digital-officer-looks-towards-frictionless-banking',\n",
       " 'https://www.openaccessgovernment.org/implementing-digital-technology-brain-health/41801/',\n",
       " 'https://www.business-standard.com/article/companies/jiocoin-mukesh-ambani-s-reliance-jio-denies-launch-of-digital-currency-app-118020100037_1.html',\n",
       " 'https://www.thequint.com/news/business/union-budget-2018-rs-1-lakh-crore-allocated-for-education',\n",
       " 'https://economist.com.na/32429/columns/jumping-on-the-digital-banking-bandwagon/',\n",
       " 'https://bitcoinmagazine.com/business/cryptocurrency-regulation-2018-where-world-stands-right-now',\n",
       " 'https://www.accountancyage.com/2018/02/01/top-8-skills-need-nurture-accountant/',\n",
       " 'https://businesstech.co.za/news/banking/222627/best-and-worst-bank-brands-in-south-africa-in-2018/',\n",
       " 'https://www.openaccessgovernment.org/blockchain-technologies-automatic-regulation-compliance/41885/',\n",
       " 'https://thelogicalindian.com/news/central-government-vacant-jobs-five-years-scrapped/',\n",
       " 'https://www.mic.com/articles/187747/newsweek-media-group-chair-exits-company-amid-ongoing-turmoil',\n",
       " 'https://www.livemint.com/Politics/zrbl91l8aL1bIgpyEY4nDN/Budget-2018-Ujjwala-scheme-to-cover-80-million-families-sa.html',\n",
       " 'https://www.forbes.com/sites/davidphelan/2018/02/01/apple-reveals-watch-sales-storm-ahead-in-best-ever-quarter/',\n",
       " 'https://www.prnewswire.com/news-releases/dominos-winning-game-day-strategy-includes-15-digital-ordering-options-300591221.html',\n",
       " 'https://www.business-standard.com/budget/article/spicejet-surges-as-government-proposes-udan-expansion-118020100609_1.html',\n",
       " 'https://www.livemint.com/Politics/xKLDIrykuzo9w9mdbkpKEM/Govt-to-formulate-comprehensive-gold-policy-says-Arun-Jaitl.html',\n",
       " 'https://www.cnbc.com/2018/02/01/cnbc-announces-apac-leadership-changes.html',\n",
       " 'https://theprint.in/india/governance/budget-2018-mps-salaries-doubled-theyll-no-longer-decide-raises/32945/',\n",
       " 'https://www.livemint.com/Money/iDwt0RIPZeSmXAgrCq3aBL/Budget-2018-Govt-to-merge-3-insurance-companies-and-launch.html',\n",
       " 'https://techcrunch.com/2018/02/01/alibaba-ant-financial/',\n",
       " 'https://www.bloomberg.com/news/articles/2018-02-01/electric-buses-will-take-over-half-the-world-by-2025',\n",
       " 'https://www.cnbc.com/2018/02/01/bitcoin-drops-9-percent-nears-crucial-make-or-break-level-of-9000.html',\n",
       " 'https://economictimes.indiatimes.com/wealth/tax/budget-2018-gives-rs-40000-standard-deduction-removes-other-allowances-salaried-may-be-left-poorer/articleshow/62458566.cms',\n",
       " 'https://www.cjr.org/business_of_news/time-inc-meredith.php',\n",
       " 'https://www.bloomberg.com/news/articles/2018-02-01/hackers-in-500-million-heist-targeted-obscure-cryptocurrency',\n",
       " 'https://www.bloomberg.com/news/features/2018-02-01/women-once-ruled-computers-when-did-the-valley-become-brotopia',\n",
       " 'https://www.reuters.com/article/us-emirates-attraction-zipline-idUSKBN1FL50Z',\n",
       " 'https://www.wsj.com/articles/daimler-financial-cio-seeks-digital-assistant-with-emotional-intelligence-1519937644',\n",
       " 'https://www.wsj.com/articles/p-g-slashed-digital-ad-spending-by-another-100-million-1519915621',\n",
       " 'https://ec.europa.eu/commission/presscorner/detail/en/IP_18_1169',\n",
       " 'https://www.financemagnates.com/cryptocurrency/news/cryptocurrencynewswoori-bank-seoul-reports-successful-test-ripple-remittance/',\n",
       " 'https://www.businessinsider.com/digital-camera-shipments-15-years-decline-and-rise-2018-2',\n",
       " 'https://www.businesswire.com/news/home/20180301005786/en/Duff-Phelps-Launches-Cost-of-Capital-Navigator-Digital-Platform',\n",
       " 'https://fcw.com/workforce/2018/03/teaching-digital-government-at-harvard-today/240983/',\n",
       " 'https://www.cnbc.com/2018/03/01/institutional-investor-magazine-to-completely-ditch-print-by-next-month.html',\n",
       " 'https://econsultancy.com/new-retail-to-vr-the-hottest-digital-technologies-in-china-that-you-should-know-about/',\n",
       " 'https://knowledge.wharton.upenn.edu/article/turn-iot-data-exhaust-next-competitive-advantage/',\n",
       " 'https://www.cnbc.com/2018/03/01/how-to-build-a-portfolio-of-digital-currencies-crypto-fund-manager.html',\n",
       " 'https://www.digitalsignagetoday.com/blogs/5-ways-to-get-the-cash-flowing-with-digital-signage/',\n",
       " 'https://www.govtech.com/civic/the-quest-for-digital-equity.html',\n",
       " 'https://www.mobihealthnews.com/content/mental-health-ai-platform-woebot-lands-8m-funding',\n",
       " 'https://www.itnewsafrica.com/2018/03/azumi-mobile-to-feature-payjoys-lock-system/',\n",
       " 'https://www.financialexpress.com/india-news/shocking-doctors-remove-99-stones-from-womans-gallbladder/1085009/',\n",
       " 'https://time.com/5161663/bitcoin-sting-jason-klein-crypto-irs-money-transmitter/',\n",
       " 'https://www.forbes.com/sites/thomaspellechia/2018/03/01/double-digit-billions-puts-north-america-in-the-worldwide-cannabis-market-lead/',\n",
       " 'https://www.business-standard.com/article/companies/tvs-motor-logs-37-growth-in-february-total-exports-grew-by-53-2-118030100848_1.html',\n",
       " 'https://www.business-standard.com/article/economy-policy/rapeseed-mustard-production-estimate-dips-marginally-by-4-says-sea-118030100849_1.html',\n",
       " 'https://knowledge.insead.edu/blog/insead-blog/how-to-build-a-brand-pyramid-8491',\n",
       " 'https://www.cnbc.com/2018/03/01/options-action-podcast.html',\n",
       " 'https://tirto.id/pt-pegadaian-luncurkan-layanan-digital-sebagai-financial-company-cG4D',\n",
       " 'https://www.business-standard.com/article/companies/vodafone-s-initiative-to-shift-customers-from-assisted-only-care-to-digital-118040100668_1.html',\n",
       " 'https://www.forbes.com/sites/financialfinesse/2018/04/01/10-common-financial-myths-that-should-be-april-fools-jokes/',\n",
       " 'https://www.theguardian.com/technology/2018/mar/31/big-data-lie-exposed-simply-blaming-facebook-wont-fix-reclaim-private-information',\n",
       " 'https://www.cbc.ca/news/business/duplicate-deposits-mobile-chequing-banks-1.4584304',\n",
       " 'https://www.standardmedia.co.ke/mobile/article/2001275242/how-mobile-loan-platforms-have-lured-kenyans-into-debt-trap',\n",
       " 'https://www.business-standard.com/article/international/the-japanese-economy-abenomics-looks-a-lot-like-reaganomics-118040100650_1.html',\n",
       " 'https://www.edsurge.com/news/2018-05-01-four-ways-digital-financial-education-is-improving-student-outcomes',\n",
       " 'https://www.cnbc.com/2018/05/01/blackstone-is-expanding-its-investment-in-subprime-car-loans.html',\n",
       " 'https://www.hindustantimes.com/india-news/ashok-mitra-bengal-s-first-left-finance-minister-and-champion-of-federalism-dies-at-90/story-of0tRqFCRmD1aDKFzwmeYI.html',\n",
       " 'https://inc42.com/features/blockchain-founder-nicolas-cary-on-cryptocurrency-regulations-in-india/',\n",
       " 'https://delawarebusinesstimes.com/news/customer-satisfaction-with-retail-banks/',\n",
       " 'https://diginomica.com/a-different-ceridian-returns-to-the-public-markets-the-backstory',\n",
       " 'https://www2.deloitte.com/us/en/insights/topics/marketing-and-sales-operations.html',\n",
       " 'https://www.refinery29.com/en-us/money-saving-finance-tips-2018',\n",
       " 'https://www.bankofcanada.ca/2018/05/canada-economy-household-debt-how-big-the-problem/',\n",
       " 'https://www.cnbc.com/2018/05/01/warren-buffett-bitcoin-isnt-an-investment.html',\n",
       " 'https://www.nytimes.com/2018/05/01/learning/is-the-digital-era-improving-or-ruining-the-experience-of-art.html',\n",
       " 'https://www.businessinsider.com/centre-for-evidence-based-managements-martin-walker-on-blockchain-2018-5',\n",
       " 'https://www.startribune.com/there-s-no-reason-to-let-a-traffic-ticket-turn-into-a-financial-crisis/481431081/',\n",
       " 'https://www.forbes.com/sites/randalllane/2018/05/01/exclusive-french-president-macron-says-he-will-end-frances-notorious-exit-tax/',\n",
       " 'https://www.openaccessgovernment.org/are-electric-luxury-vehicles-on-the-brink-of-technological-evolution/45312/',\n",
       " 'https://www.ipe.com/financial-crises-awaiting-the-minsky-moment/10024448.article',\n",
       " 'https://news.ontario.ca/en/bulletin/49343/ontario-providing-opportunities-for-social-enterprises',\n",
       " 'https://www.qsrmagazine.com/reports/inside-plan-fix-mcdonalds',\n",
       " 'https://tidbits.com/2018/05/01/apples-q2-2018-financials-prove-iphone-x-doubters-wrong/',\n",
       " 'https://indusbusinessjournal.com/2018/05/indias-digital-drive-inspires-michael-dell/',\n",
       " 'https://www.imf.org/en/News/Articles/2018/06/01/pr18208-imf-brings-key-stakeholders-together-to-foster-collaboration-on-fintech',\n",
       " 'https://www.techtarget.com/searchnetworking/feature/DevOps-for-networking-evolves-with-software',\n",
       " 'https://www.thebanker.com/Awards/Islamic-Bank-of-the-Year-Awards/Islamic-Bank-of-the-Year-Awards-2018',\n",
       " 'https://reliefweb.int/report/central-african-republic/african-development-bank-supports-fiber-optic-development-central',\n",
       " 'https://www.searchenginejournal.com/pinterest-introduces-max-width-promoted-videos/255617/',\n",
       " 'https://www.financialafrik.com/2018/06/01/la-finance-digitale-une-opportunite-pour-accelerer-linclusion-financiere-en-afrique/',\n",
       " 'https://www.intellinews.com/eurasians-come-in-from-the-financial-cold-142432/',\n",
       " 'https://www.cpomagazine.com/cyber-security/reducing-the-impact-of-new-account-and-credit-card-fraud-on-financial-institutions/',\n",
       " 'https://www.financialexpress.com/economy/massive-relief-to-gurdwaras-modi-government-waives-gst-on-langar-items/1189939/',\n",
       " 'https://www.techtarget.com/searchsecurity/feature/Business-email-compromise-moves-closer-to-advanced-threats',\n",
       " 'https://www.wsj.com/articles/apple-looks-to-expand-advertising-business-with-new-network-for-apps-1527869990',\n",
       " 'https://www.forbes.com/sites/nathanvardi/2018/06/01/after-10-years-nathan-myhrvolds-3-billion-of-private-equity-funds-show-big-losses/',\n",
       " 'https://www.forbes.com/sites/oliversmith/2018/06/01/ricky-knox-is-taking-tandem-from-old-rich-arabs-to-the-amex-of-fintech/',\n",
       " 'https://www.reuters.com/article/us-peru-china-idUSKCN1IX5WW',\n",
       " 'https://www.forbes.com/sites/forbescoachescouncil/2018/06/01/how-to-build-your-personal-brand-using-pr/',\n",
       " 'https://www.ft.com/content/0e6e17e2-7ae8-11e8-bc55-50daf11b720d',\n",
       " 'https://www.financialexpress.com/industry/banking-finance/sbi-other-banks-using-artificial-intelligence-big-time-to-improve-efficiency-cut-costs/1227133/',\n",
       " 'https://www.financialexpress.com/aadhaar-card/aadhaar-safety-alert-how-to-use-vid-digit-virtual-id-number-protect-personal-data/1227077/',\n",
       " 'https://www.govtech.com/products/is-government-ready-for-ai.html',\n",
       " 'https://www.hani.co.kr/arti/economy/finance/851408.html',\n",
       " 'https://www.forbes.com/sites/brianthompson1/2018/07/01/what-this-rising-star-can-teach-the-financial-planning-industry-about-becoming-more-inclusive/',\n",
       " 'https://www.forbes.com/sites/briandomitrovic/2018/07/01/central-bankings-connection-to-warfare-is-intimate/',\n",
       " 'https://www.business-standard.com/article/markets/ipos-have-valuation-information-risks-wait-for-some-time-after-listing-118070100649_1.html',\n",
       " 'https://www.reuters.com/article/us-india-fraud-punjab-natl-bank-idUSKBN1JS0FX',\n",
       " 'https://www.ft.com/content/f4677208-69a8-11e8-8cf3-0c230fa67aec',\n",
       " 'https://www.businessinsider.com/morgan-stanley-hires-crypto-banker-andrew-peel-to-head-digital-asset-markets-2018-8',\n",
       " 'https://www.brookings.edu/blog/africa-in-focus/2018/08/01/giving-credit-to-africas-financial-markets-and-why-we-need-to-step-up-reform/',\n",
       " 'https://www.reuters.com/article/us-siemens-results-idUSKBN1KN0GE',\n",
       " 'https://guardian.ng/technology/digital-assets-exchange-firm-quidax-launches-in-nigeria/',\n",
       " 'https://www.atlanticcouncil.org/blogs/new-atlanticist/pompeo-s-indo-pacific-investment-plan/',\n",
       " 'https://www.news24.com/citypress/business/empowering-or-increasing-inequality-the-ethical-dilemma-of-digital-disruption-20180731',\n",
       " 'https://en.vietnamplus.vn/children-theme-dominates-august-activities-at-ethnic-cultural-village/135679.vnp',\n",
       " 'https://www.orfonline.org/expert-speak/42893-smart-cities-impressive-finance-models-of-yinchuan-chengdu-and-hangzhou/',\n",
       " 'https://cointelegraph.com/news/pwc-among-digital-assets-only-digital-currencies-can-really-be-used-at-present',\n",
       " 'https://ledgerinsights.com/monetago-blockchain-trade-finance-fraud/',\n",
       " 'https://www.livemint.com/Companies/O3gZgj8G2Qpudxucak36tK/Piramal-Capital-and-Housing-Finance-invests-in-multiple-real.html',\n",
       " 'https://www.business-standard.com/article/economy-policy/investors-bet-on-small-finance-banks-as-financial-inclusion-makes-way-118080101573_1.html',\n",
       " 'https://www.straitstimes.com/singapore/be-wary-of-fake-sms-notifications-e-mails-or-calls-on-gst-voucher-cash-payouts-mof',\n",
       " 'https://www.reuters.com/article/us-morocco-government-idUSKBN1KM5FE',\n",
       " 'https://en.vietnamplus.vn/indonesia-over-1000-hikers-evacuated-from-mt-rinjani/135704.vnp',\n",
       " 'https://finance-commerce.com/2018/08/curtis-capital-buys-eagan-apartments-for-29-million/',\n",
       " 'https://knnindia.co.in/news/newsdetails/msme/happy-loans-to-disburse-7-lakh-msme-loans-by-end-of-2020',\n",
       " 'https://www.forbes.com/sites/nextavenue/2018/08/01/why-workplace-financial-wellness-programs-arent-well/',\n",
       " 'https://www.financialexpress.com/money/insurance/14-add-ons-which-will-give-your-vehicle-a-full-coverage/1265573/',\n",
       " 'https://www.business-standard.com/article/economy-policy/rbi-begins-simultaneous-annual-financial-inspections-for-banks-118080100013_1.html',\n",
       " 'https://www.ft.com/content/65c15491-2066-3f4f-89fc-2d8ced159481',\n",
       " 'https://www.business-standard.com/article/international/a-hidden-amazon-fortune-jeff-bezos-parents-may-be-worth-billions-118080100058_1.html',\n",
       " 'https://www.forbes.com/sites/anthonysmith/2018/08/01/how-to-build-lasting-customer-relationships/',\n",
       " 'https://www.reuters.com/article/indonesia-moneymarket-idUSL4N1US2HC',\n",
       " 'https://www.cnbc.com/2018/08/01/amazon-plans-to-move-off-oracle-software-by-early-2020.html',\n",
       " 'https://www.digitaltrends.com/movies/netflix-global-expansion/',\n",
       " 'https://www.business-standard.com/article/international/us-slaps-sanctions-on-two-pakistani-firms-for-nuke-missile-trade-118090100528_1.html',\n",
       " 'https://www.bloomberg.com/news/articles/2018-09-01/mccain-funeral-to-feature-eulogies-by-former-rivals-bush-obama',\n",
       " 'https://www.cnbc.com/2018/08/31/warren-buffett-explains-the-enduring-power-of-stock-buybacks.html',\n",
       " 'https://www.ft.com/content/73f75fb4-da8f-11e7-a039-c64b1c09b482',\n",
       " 'https://www.business-standard.com/article/companies/tcs-sees-business-in-digital-consolidation-118010100960_1.html',\n",
       " 'https://www.ft.com/content/54d026d8-e4cc-11e7-97e2-916d4fbac0da',\n",
       " 'https://www.thebanker.com/Comment-Profiles/Team-of-the-Month/BNP-Paribas-assists-with-CMA-CGM-hat-trick',\n",
       " 'https://www.livemint.com/Opinion/YtRDoDK913EfV25iIDvTWI/UPI-20-The-digital-pigmy.html',\n",
       " 'https://www.business-standard.com/article/finance/odisha-turns-to-banking-outlets-to-cover-untapped-areas-118010100638_1.html',\n",
       " 'https://www.ft.com/content/fab994ac-e6df-11e7-97e2-916d4fbac0da',\n",
       " 'https://www.forbes.com/sites/bobbymcmahon/2018/01/01/part-2-head-to-head-financial-results-and-how-liverpool-is-going-to-overtake-arsenal/',\n",
       " 'https://www.ft.com/content/9e9573a0-ec9b-11e7-bd17-521324c81e23',\n",
       " 'https://qz.com/1169000/ripple-was-the-best-performing-cryptocurrency-of-2017-beating-bitcoin/',\n",
       " 'https://www.business-standard.com/article/current-affairs/pakistan-bars-26-11-brain-hafiz-saeed-s-jamaat-ud-dawa-from-raising-funds-118010100804_1.html',\n",
       " 'https://www.forbes.com/sites/ambergibson/2018/01/01/what-it-takes-to-be-relais-chateaux/',\n",
       " 'https://www.business-standard.com/article/news-ians/love-is-like-gardening-will-smith-118010100447_1.html',\n",
       " 'https://www.business-standard.com/article/companies/tcs-buys-digital-design-firm-w12-studios-in-its-1st-acquisition-since-2013-118110101220_1.html',\n",
       " 'https://www.cnbc.com/2018/11/01/new-york-times-jumps-on-earnings-beat.html',\n",
       " 'https://qz.com/africa/1446982/malawi-says-all-local-businesses-must-offer-digital-payment-options-not-just-cash/',\n",
       " 'https://www.intelligentcio.com/eu/2018/11/01/epam-expands-european-presence-with-opening-of-new-office-in-spain/',\n",
       " 'https://www.nasdaq.com/articles/goldman-sachs-its-not-just-wealthy-anymore-2018-11-01',\n",
       " 'https://www.london.edu/think/the-future-is-platforms',\n",
       " 'https://www.newtimes.co.rw/business/malawi-says-businesses-must-offer-digital-payment-options-not-just-cash',\n",
       " 'https://www.cnbc.com/2018/11/01/fintech-banks-face-extinction-phase-amid-new-financial-technology.html',\n",
       " 'https://www.prnewswire.com/news-releases/dapper-labs-the-company-behind-cryptokitties-raises-15m-in-financing-to-drive-consumer-adoption-of-blockchain-technology-300741850.html',\n",
       " 'https://www.digitaltveurope.com/2018/11/01/vodafone-deutschland-names-new-chief-financial-officer/',\n",
       " 'https://www.forbes.com/sites/deloitte/2018/11/01/the-societal-impact-of-ai-in-financial-services/',\n",
       " 'https://ewnews.com/rbc-promoting-digital-banking',\n",
       " 'https://www.fortuneindia.com/enterprise/sonyliv-and-lionsgate-partner-for-global-content/102646',\n",
       " 'https://www.businessinsider.in/miscellaneous/meet-2018s-rising-stars-of-wall-street-shaking-up-investing-trading-and-dealmaking/slidelist/66460896.cms',\n",
       " 'https://news.gcu.edu/gcu-news/students-tech-skills-on-digital-display-at-showcase/',\n",
       " 'https://www.cleanroomtechnology.com/news/article_page/Lindstrom_reports_BRIC_potential/148628',\n",
       " 'https://crej.com/news/essex-names-williams-as-president/',\n",
       " 'https://finance.yahoo.com/news/claire-foy-cut-sex-scenes-dragon-tattoo-sequel-girl-spiders-web-114703232.html',\n",
       " 'https://www.iol.co.za/business-report/companies/ibm-to-deliver-digital-banking-platform-for-bank-zero-17720110',\n",
       " 'https://www.business-standard.com/article/companies/rs-530-bn-banks-exposure-to-il-fs-critical-to-financial-stability-report-118110100035_1.html',\n",
       " 'https://www.forbes.com/sites/carolynrosenblatt/2018/11/01/how-much-should-you-know-about-aging-parents-finances/',\n",
       " 'https://www.openaccessgovernment.org/the-environment-clean-water-is-life-health-food-leisure-and-energy/53926/',\n",
       " 'https://www.pymnts.com/news/banking/2018/vietnam-bank-digital-ecommerce-cash-federal-reserve/',\n",
       " 'https://www.reuters.com/article/us-deutsche-bank-investor-idUSKCN1N64I5',\n",
       " 'https://www.moneylife.in/article/pensioners-can-submit-life-certificate-in-physical-form-or-digitally-in-pension-paying-bank/55671.html',\n",
       " 'https://www.forbes.com/sites/briannawiest/2018/11/01/how-to-get-over-your-fear-of-making-money-before-it-robs-you-of-your-success/',\n",
       " 'https://www.reuters.com/article/us-commodities-summit-shell-canada-idUSKCN1N6604',\n",
       " 'https://www.reuters.com/article/column-miller-socialsecurity-idUSL2N1XB16O',\n",
       " 'https://www.entrepreneur.com/article/322652',\n",
       " 'https://www.marketwatch.com/story/how-bitcoin-has-failed-to-achieve-satoshi-nakamotos-original-intent-in-one-chart-2018-11-01',\n",
       " 'https://www.rollingstone.com/pro/news/ditto-music-lee-parsons-interview-749510/',\n",
       " 'https://ssir.org/articles/entry/why_we_need_to_nurture_entrepreneurship_in_young_girls',\n",
       " 'https://www.business2community.com/small-business/6-tips-to-avoid-common-accounting-mistakes-02136656',\n",
       " 'https://www.cnbc.com/2018/11/01/apple-earnings-q4-2018.html',\n",
       " 'https://afrique.latribune.fr/africa-tech/e-business/2018-11-01/e-commerce-avec-ewtp-africa-alibaba-fait-du-rwanda-le-premier-pays-d-afrique-de-sa-plateforme-mondiale-796091.html',\n",
       " 'https://www.tagesanzeiger.ch/das-beste-aus-zuerichs-laeden-im-november-und-dezember-960245981669',\n",
       " 'https://en.antaranews.com/news/120958/indonesia-supports-womens-partisanship-in-digital-era-minister',\n",
       " 'https://inc42.com/buzz/in-a-first-india-records-over-half-a-billion-upi-transactions-in-a-month/',\n",
       " 'https://www.cnbc.com/2018/12/01/forget-leasing-or-buying-a-car-these-companies-let-you-subscribe.html',\n",
       " 'https://www.business-standard.com/article/international/how-mainstream-media-play-a-medium-for-far-right-conspiracy-theories-118120100413_1.html',\n",
       " 'https://fortune.com/2018/12/01/social-finance-layoffs-job-cuts/',\n",
       " 'https://www.entrepreneur.com/article/324155',\n",
       " 'https://www.gulf-times.com/story/618047/Blockchain-is-making-its-way-into-Islamic-finance',\n",
       " 'https://www.forbes.com/sites/pavelkrapivin/2019/01/01/the-financial-value-of-having-a-purpose-in-your-life/',\n",
       " 'https://www.consulting.us/news/1482/flotek-hires-rgps-elizabeth-wilkinson-as-new-cfo',\n",
       " 'https://www.ft.com/content/1ba3c9c4-03b0-11e9-99df-6183d3002ee1',\n",
       " 'https://www.orfonline.org/expert-speak/online-shopping-impact-city-planning-infrastructure-46937/',\n",
       " 'https://www.business-standard.com/article/markets/varun-beverages-up-15-in-five-days-stock-nears-record-high-119010100167_1.html',\n",
       " 'https://nationalpost.com/opinion/christie-blatchford-ontario-nursing-homes-are-now-required-to-have-sprinklers-but-dozens-still-dont',\n",
       " 'https://www.forbes.com/sites/dawnchmielewski/2019/02/01/vice-media-latest-digital-media-operation-to-undergo-layoffs/',\n",
       " 'https://www.africanreview.com/ict/banking-software/temenos-wins-banker-africa-s-award-for-digital-banking-solution',\n",
       " 'https://en.vietnamplus.vn/vietnam-national-university-hanoi-up-216-steps-in-rankings/146103.vnp',\n",
       " 'https://www.gfmag.com/magazine/february-2019/worlds-best-trade-finance-providers-2019-getting-paper-out',\n",
       " 'https://www.pymnts.com/news/digital-banking/2019/hsbc-ai-machine-learning-immune-system/',\n",
       " 'https://www.nytimes.com/2019/02/01/style/what-is-graydon-carter-doing-now.html',\n",
       " 'https://www.bizjournals.com/southflorida/news/2019/02/01/bank-of-america-eyes-spanish-language-market.html',\n",
       " 'https://www.hindustantimes.com/india-news/no-change-in-income-tax-slabs-returns-to-be-processed-in-24-hours/story-kxkB3K3WnbfhapGzOqpXpO.html',\n",
       " 'https://www.weforum.org/agenda/2019/02/davos-talk-taxes-inequality-rutger-bregman/',\n",
       " 'https://www.gfmag.com/magazine/february-2019/',\n",
       " 'https://www.nytimes.com/2019/02/01/business/media/buzzfeed-digital-media-wrong.html',\n",
       " 'https://www.tubefilter.com/2019/02/01/lauren-schnipper-next-10-ventures/',\n",
       " 'https://www.reuters.com/article/us-softbank-investment-guazi-idUSKCN1PR03O',\n",
       " 'https://monthlyreview.org/2019/02/01/capitalism-has-failed-what-next/',\n",
       " 'https://monthlyreview.org/2019/02/01/new-means-of-workplace-surveillance/',\n",
       " 'https://www.forbes.com/sites/forbesagencycouncil/2019/02/01/leveraging-social-media-to-create-multiple-income-streams/',\n",
       " 'https://www.clevelandbrowns.com/about/terms-of-use',\n",
       " 'https://www.financialexpress.com/economy/former-finance-secretary-an-jha-joins-15th-finance-commission-as-member/1502383/',\n",
       " 'https://delawarebusinesstimes.com/news/industry/banking/wsfs-to-use-savings-from-merger-to-fund-tech-upgrades/',\n",
       " 'https://www.ft.com/content/3d8cde6a-3c0c-11e9-b72b-2c7f526ca5d0',\n",
       " 'https://www.am-online.com/news/finance/2019/03/01/hmrc-s-pcp-car-finance-vat-changes-could-lead-to-pch-dominance',\n",
       " 'https://www.financialexpress.com/money/ease-of-banking-for-senior-citizens-are-you-availing-these-facilities/1502437/',\n",
       " 'https://blockonomi.com/what-is-an-sto/',\n",
       " 'https://www.weforum.org/agenda/2019/03/pixar-takes-on-toxic-work-cultures-in-online-short',\n",
       " 'https://www.business-standard.com/article/news-cm/public-sector-banks-are-lifeline-of-indian-economy-says-union-finance-minister-arun-jaitley-119030100466_1.html',\n",
       " 'https://www.koreatimes.co.kr/www/biz/2020/09/602_264652.html',\n",
       " 'https://www.cpomagazine.com/cyber-security/is-digital-forensics-effectively-joining-the-dots-in-todays-corporate-crime-scenes/',\n",
       " 'https://www.msnbc.com/rachel-maddow-show/trumps-alleged-financial-fraud-creates-important-new-vulnerability-msna1200161',\n",
       " 'https://europa.eu/rapid/press-release_MEMO-19-1470_en.htm',\n",
       " 'https://qz.com/1560010/is-sofi-invests-brokerage-service-really-free/',\n",
       " 'https://www.computerweekly.com/news/252458635/IBM-deal-to-drive-Nordeas-IT-led-transformation',\n",
       " 'https://www.reuters.com/article/us-wells-fargo-settlement-idUSKCN1QI4P3',\n",
       " 'https://hbr.org/sponsored/2019/03/cloud-based-services-are-making-it-easier-for-companies-to-use-ai',\n",
       " 'https://www.forbes.com/sites/jasonbloomberg/2019/03/01/is-ripple-a-scam/',\n",
       " 'https://venturebeat.com/ai/ai-weekly-education-is-essential-for-the-future-of-ai-mit-panel-says/',\n",
       " 'https://venturebeat.com/business/ebay-kicks-off-strategic-review-that-could-lead-to-stubhub-and-classifieds-sale/',\n",
       " 'https://unctad.org/news/step-efforts-link-digital-economy-development',\n",
       " 'https://internationalbanker.com/banking/for-kbc-europes-leading-bank-insurer-digital-first-means-customer-first/',\n",
       " 'https://www.prnewswire.com/news-releases/schneider-electric-launches-new-digital-ecosystem-to-drive-worldwide-economies-of-scale-for-iot-solutions-300821811.html',\n",
       " 'https://www.reuters.com/article/us-nikkei-ft-readers-idUSKCN1RD1TF',\n",
       " 'https://www.theafricareport.com/11255/kenyas-equity-bank-relies-increasingly-on-digital-services/',\n",
       " 'https://www.modernhealthcare.com/technology/epic-takes-shot-cnbcs-jim-cramer-april-fools-day-prank',\n",
       " 'https://www.thisismoney.co.uk/money/saving/article-6872419/Mimo-NatWest-announces-trial-digital-personal-finance-assistant-app.html',\n",
       " 'https://www.dw.com/en/hanover-fair-no-industrial-revolution-without-5g/a-48142201',\n",
       " 'https://www.devex.com/news/pisa-founder-andreas-schleicher-on-the-future-of-the-education-ranking-94561',\n",
       " 'https://www.bbva.com/es/bbva-revoluciona-el-mercado-de-prestamos-a-empresas-con-la-creacion-del-prestamo-digital/',\n",
       " 'https://www.forbes.com/sites/ronshevlin/2019/04/01/how-much-do-banks-spend-on-technology-hint-chase-spends-more-than-all-credit-unions-combined/',\n",
       " 'https://www.ft.com/content/857e4a80-5492-11e9-91f9-b6515a54c5b1',\n",
       " 'https://www.financialexpress.com/money/kotak-bank-to-levy-charges-on-upi-transactions-all-you-need-to-know/1534257/',\n",
       " 'https://headstuff.org/topical/science/technology-science/bar-technology/',\n",
       " 'https://www.businessinsider.com/personal-finance/abigail-disney-wealth-inheritance-advice-2019-4',\n",
       " 'https://europa.eu/rapid/press-release_IP-19-1929_en.htm',\n",
       " 'https://www.forbes.com/sites/kimelsesser/2019/04/01/the-gender-pay-gap-and-the-career-choice-myth/',\n",
       " 'https://www.reuters.com/article/us-shanghai-lng-conference-nextdecade-idUSKCN1RE09W',\n",
       " 'https://www.ccn.com/pakistan-military-india-propoganda-facebook/',\n",
       " 'https://www.businesswire.com/news/home/20190501005621/en/Cogeco-Peer-1-Acquisition-by-Digital-Colony-Closes',\n",
       " 'https://www.ft.com/content/e24dea0a-6b57-11e9-80c7-60ee53e6681d',\n",
       " 'https://www.ledgerinsights.com/blockchain-identity-securekey-banks-rbc-cibc-td/',\n",
       " 'https://www.zawya.com/en/press-release/finance-house-takes-sms-banking-to-the-next-level-cijwo3rm',\n",
       " 'https://www.financialexpress.com/aadhaar-card/aadhaar-card-signature-verification-validation-change-check-process-follow-these-steps-watch-video/1564546/',\n",
       " 'https://www.niemanlab.org/2019/05/want-to-see-what-one-digital-future-for-newspapers-looks-like-look-at-the-guardian-which-isnt-losing-money-anymore/',\n",
       " 'https://www.winshuttle.com/press-releases/winshuttle-announces-participation-in-the-blue-prism-digital-exchange-as-part-of-the-technology-alliance-partnership/',\n",
       " 'https://www.txfnews.com/articles/6733/Pulling-the-plug-on-TSU-and-the-wiring-of-trade-finance-What-next-for-BPO',\n",
       " 'https://www.cio.com/article/220026/five-key-factors-for-digital-transformation-in-the-banking-industry.html',\n",
       " 'https://stluciastar.com/eccb-launches-digital-currency/',\n",
       " 'https://www.businesswire.com/news/home/20190501005956/en/E*TRADE-Financial-Corporation-Names-Alice-Milligan-as-Chief-Customer-Officer',\n",
       " 'https://www.forbes.com/sites/ericbrotman/2019/05/01/ask-a-financial-advisor-how-often-will-we-meet-together/',\n",
       " 'https://www.financialexpress.com/industry/banking-finance/this-housing-bank-once-owned-by-rbi-is-now-govt-owned-entity-heres-why/1565008/',\n",
       " 'https://www.financialexecutives.org/FEI-Daily/May-2019/The-3-Stages-of-Digital-Maturity-A-Q-A-With-PwC%E2%80%99s.aspx',\n",
       " 'https://www.accountancyage.com/2019/05/01/five-things-we-have-learned-from-accountex-so-far/',\n",
       " 'https://analyticsindiamag.com/deep-dive-razorpay-is-betting-big-on-its-latest-analytics-powered-product-to-help-smes-go-cashless/',\n",
       " 'https://www.forbes.com/sites/davidrae/2019/05/01/can-you-reach-financial-freedom/',\n",
       " 'https://www.entrepreneur.com/article/327462',\n",
       " 'https://www.reuters.com/article/us-alphabet-advertising-idUSKCN1S73WT',\n",
       " 'https://www.smartcitiesworld.net/news/news/green-development-bank-proposed-for-cities-4135',\n",
       " 'https://www.accountancydaily.co/kpmg-fined-ps6m-over-lloyds-syndicate-audit-failures',\n",
       " 'https://foreignpolicy.com/2019/05/01/china-belt-road-partners-serbia-belarus-debt/',\n",
       " 'https://econsultancy.com/a-day-in-the-life-director-social-media-ogilvy-health/',\n",
       " 'https://www.forbes.com/sites/forbesfinancecouncil/2019/05/01/how-living-longer-impacts-your-retirement/',\n",
       " 'https://www.forbes.com/sites/mattperez/2019/05/01/exclusive-the-saga-of-star-citizen-a-video-game-that-raised-300-millionbut-may-never-be-ready-to-play/',\n",
       " 'https://www.atlanticcouncil.org/blogs/iransource/iran-s-private-sector-stuck-in-the-middle/',\n",
       " 'https://www.businessinsider.com/facebook-5-employee-party-luxury-hotel-redesign-launch-2019-5',\n",
       " 'https://www.zdnet.com/article/dell-laptops-and-computers-vulnerable-to-remote-hijacks/',\n",
       " 'https://www.businessinsider.com/how-to-download-amazon-prime-movies',\n",
       " 'https://www.financialexpress.com/economy/nirmala-sitharaman-will-need-strongman-handling-skills-while-working-as-finance-minister-with-modi/1595059/',\n",
       " 'https://www.forbes.com/sites/ewanspence/2019/06/01/oneplus-7-pro-three-great-features-oxygen-os-triple-lens-camera-90hz-screen/',\n",
       " 'https://www.ft.com/content/ad1a6ae8-9be5-11e9-9c06-a4640c9feebb',\n",
       " 'https://www.altfi.com/article/5488_myeva-launches-uk-first-regulated-digital-ifa-independent-financial-adviser',\n",
       " 'https://www.calcalistech.com/ctech/articles/0,7340,L-3765431,00.html',\n",
       " 'https://www.coindesk.com/markets/2019/07/01/bis-chief-central-banks-may-issue-digital-currencies-sooner-than-we-think/',\n",
       " 'https://thefinancialbrand.com/news/bank-marketing/subscription-banking-retail-bank-future-85092/',\n",
       " 'https://internationalbanker.com/banking/interview-with-mr-alvaro-saborio-chief-executive-officer-of-grupo-financiero-bct/',\n",
       " 'https://www.prnewswire.com/news-releases/jack-henry--associates-acquires-geezeo-300878255.html',\n",
       " 'https://opengovasia.com/malaysia-government-working-to-support-digital-health-initiatives/',\n",
       " 'https://www.zdnet.com/article/sport-businesses-become-digital-media-companies-in-the-digital-media-revolution/',\n",
       " 'https://www.altfi.com/article/5487_jaja-buys-bank-of-irelands-uk-credit-card-business-for-530m',\n",
       " 'https://www.business-standard.com/article/economy-policy/finance-ministry-to-monitor-rate-cut-transmission-by-public-sector-banks-119063000602_1.html',\n",
       " 'https://www.accountancyage.com/2019/07/01/how-to-keep-pace-in-the-fast-changing-world-of-technology/',\n",
       " 'https://financefeeds.com/denmarks-fin-regulator-publishes-findings-saxo-bank-inspection/',\n",
       " 'https://www.ft.com/content/aa0c7e40-9bef-11e9-9c06-a4640c9feebb',\n",
       " 'https://www.marketplace.org/2019/07/01/the-new-version-of-monopoly-is-voice-activated-and-uses-a-computer-as-banker/',\n",
       " 'https://www.accountancyage.com/2019/07/01/accountancy-is-disruptive-technology-having-an-impact/',\n",
       " 'https://www.forbes.com/sites/jeffthomson/2019/07/01/ethics-in-the-digital-age-protect-others-data-as-you-would-your-own/',\n",
       " 'https://www.reuters.com/article/us-india-floods-idUSKCN1TX07F',\n",
       " 'https://www.wealthbriefing.com/html/article.php?id=184100',\n",
       " 'https://www.forbesindia.com/news/business/markets/3-point-analysis-can-hdb-financial-services-create-value-for-hdfc-bank-4155981.html',\n",
       " 'https://www.forbes.com/sites/eladnatanson/2019/07/01/from-food-delivery-to-fintech-the-new-app-convergence-in-brazil/',\n",
       " 'https://www.livemint.com/companies/news/rubique-scales-down-operations-as-liquidity-crisis-slows-down-biz-1561999792299.html',\n",
       " 'https://financefeeds.com/esma-stops-renewing-binary-options-ban/',\n",
       " 'https://www.finews.com/news/english-news/37048-daniel-spier-initium-facebook-libra-commentary',\n",
       " 'https://www.reuters.com/article/us-genesee-wyo-m-a-brookfield-infrastruc-idUSKCN1TW2AU',\n",
       " 'https://www.businessinsider.com/cori-coco-gauff-upset-venus-williams-hoosiers-2019-7',\n",
       " 'https://www.autonews.com/technology/dual-clutch-gearbox-complaints-haunt-ford',\n",
       " 'https://europa.eu/rapid/press-release_IP-18-521_en.htm',\n",
       " 'https://www.livemint.com/Politics/xmBDOdP2H2hbXH7eV1VTqL/Budget-2018-Crypto-currencies-illegal-will-eliminate-their.html',\n",
       " 'https://www.thebanker.com/Transactions-Technology/People/AIB-s-chief-digital-officer-looks-towards-frictionless-banking',\n",
       " 'https://www.openaccessgovernment.org/implementing-digital-technology-brain-health/41801/',\n",
       " 'https://www.business-standard.com/article/companies/jiocoin-mukesh-ambani-s-reliance-jio-denies-launch-of-digital-currency-app-118020100037_1.html',\n",
       " 'https://www.thequint.com/news/business/union-budget-2018-rs-1-lakh-crore-allocated-for-education',\n",
       " 'https://economist.com.na/32429/columns/jumping-on-the-digital-banking-bandwagon/',\n",
       " 'https://bitcoinmagazine.com/business/cryptocurrency-regulation-2018-where-world-stands-right-now',\n",
       " 'https://www.accountancyage.com/2018/02/01/top-8-skills-need-nurture-accountant/',\n",
       " 'https://businesstech.co.za/news/banking/222627/best-and-worst-bank-brands-in-south-africa-in-2018/',\n",
       " 'https://www.openaccessgovernment.org/blockchain-technologies-automatic-regulation-compliance/41885/',\n",
       " 'https://thelogicalindian.com/news/central-government-vacant-jobs-five-years-scrapped/',\n",
       " 'https://www.mic.com/articles/187747/newsweek-media-group-chair-exits-company-amid-ongoing-turmoil',\n",
       " 'https://www.livemint.com/Politics/zrbl91l8aL1bIgpyEY4nDN/Budget-2018-Ujjwala-scheme-to-cover-80-million-families-sa.html',\n",
       " 'https://www.forbes.com/sites/davidphelan/2018/02/01/apple-reveals-watch-sales-storm-ahead-in-best-ever-quarter/',\n",
       " 'https://www.prnewswire.com/news-releases/dominos-winning-game-day-strategy-includes-15-digital-ordering-options-300591221.html',\n",
       " 'https://www.livemint.com/Politics/xKLDIrykuzo9w9mdbkpKEM/Govt-to-formulate-comprehensive-gold-policy-says-Arun-Jaitl.html',\n",
       " 'https://www.cnbc.com/2018/02/01/cnbc-announces-apac-leadership-changes.html',\n",
       " 'https://theprint.in/india/governance/budget-2018-mps-salaries-doubled-theyll-no-longer-decide-raises/32945/',\n",
       " 'https://www.livemint.com/Money/iDwt0RIPZeSmXAgrCq3aBL/Budget-2018-Govt-to-merge-3-insurance-companies-and-launch.html',\n",
       " 'https://www.cnbc.com/2018/02/01/goldman-gets-less-bullish-on-nvidia-due-to-cryptomining-exposure-risk.html',\n",
       " 'https://techcrunch.com/2018/02/01/alibaba-ant-financial/',\n",
       " 'https://www.bloomberg.com/news/articles/2018-02-01/electric-buses-will-take-over-half-the-world-by-2025',\n",
       " 'https://www.cnbc.com/2018/02/01/bitcoin-drops-9-percent-nears-crucial-make-or-break-level-of-9000.html',\n",
       " 'https://economictimes.indiatimes.com/wealth/tax/budget-2018-gives-rs-40000-standard-deduction-removes-other-allowances-salaried-may-be-left-poorer/articleshow/62458566.cms',\n",
       " 'https://www.cjr.org/business_of_news/time-inc-meredith.php',\n",
       " 'https://www.bloomberg.com/news/articles/2018-02-01/hackers-in-500-million-heist-targeted-obscure-cryptocurrency',\n",
       " 'https://www.bloomberg.com/news/features/2018-02-01/women-once-ruled-computers-when-did-the-valley-become-brotopia',\n",
       " 'https://www.reuters.com/article/us-emirates-attraction-zipline-idUSKBN1FL50Z',\n",
       " 'https://www.todayonline.com/singapore/explainer-whats-big-deal-about-digital-banks',\n",
       " 'https://www.livemint.com/money/personal-finance/the-curious-cases-of-sim-swap-frauds-in-recent-times-1567345049648.html',\n",
       " 'https://www.weforum.org/agenda/2019/09/africa-innovation-rather-than-industrialization/',\n",
       " 'https://www.forbes.com/sites/pedrodacosta/2019/09/01/americas-first-bond-market-was-backed-by-enslaved-human-beings/',\n",
       " 'https://www.weforum.org/agenda/2019/09/why-the-4ir-is-a-fast-track-to-african-prosperity/',\n",
       " 'https://www.calcalistech.com/ctech/articles/0,7340,L-3769401,00.html',\n",
       " 'https://sdg.iisd.org/news/task-force-analyzes-role-of-fintech-in-accelerating-sdgs/',\n",
       " 'https://www.prnewswire.com/news-releases/ally-financial-announces-completion-of-acquisition-of-health-credit-services-300928674.html',\n",
       " 'https://www.busiweek.com/infrastructure-experts-to-discuss-innovative-approaches-that-advance-timely-delivery-of-projects/',\n",
       " 'https://en.vietnamplus.vn/vietnams-first-recycled-plasticmade-road-being-built-in-hai-phong/161349.vnp',\n",
       " 'https://www.norfolk.gov/4445/Goal-2-Create-Economic-Opportunity-by-Ad',\n",
       " 'https://www.forbes.com/sites/forbestechcouncil/2019/10/01/alternative-data-its-not-just-for-finance/',\n",
       " 'https://www.hsj.co.uk/northern-care-alliance-nhs-foundation-trust/leading-trust-strikes-25m-deal-for-digital-control-centre/7026045.article',\n",
       " 'https://www.finextra.com/blogposting/17959/how-can-digital-customer-onboarding-in-banks-increase-sales-and-build-loyalty',\n",
       " 'https://www.business-standard.com/article/markets/indiabulls-housing-finance-tanks-34-on-uncertainties-over-lvb-merger-119093001113_1.html',\n",
       " 'https://www.finextra.com/blogposting/17951/advanced-analytics-in-banking-world',\n",
       " 'https://www.weforum.org/agenda/2019/10/india-economic-summit-growth-sustainable-4ir-inclusion-environment/',\n",
       " 'https://www.weforum.org/agenda/2019/10/regional-risks-to-doing-business-2019-reduce-risk-of-financial-crisis/',\n",
       " 'https://www.forbes.com/sites/michaelkay/2019/10/01/why-you-need-to-buy-green-bananas/',\n",
       " 'https://enterprisersproject.com/article/2019/10/it-roi-how-measure',\n",
       " 'https://www.cnbc.com/2019/10/01/heres-how-to-use-allowance-to-teach-your-kid-financial-responsibility.html',\n",
       " 'https://www.expresshealthcare.in/blogs/guest-blogs-healthcare/managing-rheumatoid-arthritis-better-than-never-before/414350/',\n",
       " 'https://www.forbes.com/sites/theyec/2019/10/01/10-data-security-risks-that-could-impact-your-company-in-2020/',\n",
       " 'https://www.prweb.com/releases/strategy_2025_deutsche_post_dhl_group_accelerates_growth_in_core_businesses_and_invests_eur_2_billion_in_digital_transformation/prweb16614293.htm',\n",
       " 'https://www.ncregister.com/blog/when-st-therese-showers-roses-and-miracles-on-her-friends',\n",
       " 'https://www.insurancebusinessmag.com/ca/news/auto-motor/alberta-drivers-with-distracted-driving-tickets-struggling-to-get-full-auto-coverage-179386.aspx',\n",
       " 'https://blokt.com/news/monero-interview-shedding-light-on-the-coming-0-15-upgrade-and-randomx',\n",
       " 'https://www.businessinsider.com/southeast-asia-financial-services-revenue-will-triple-by-2025-2019-11',\n",
       " 'https://www.techtarget.com/searcherp/ehandbook/Financial-business-analytics-transforms-numbers-into-gold',\n",
       " 'https://www.reuters.com/article/us-china-markets-digital-currency-idUSKBN1XB3QP',\n",
       " 'https://qz.com/1733345/the-fight-against-discriminatory-financial-ads-on-facebook/',\n",
       " 'https://www.gov.uk/government/news/hmrc-appoints-interim-chief-digital-and-information-officer',\n",
       " 'https://www.devex.com/news/opinion-the-case-for-good-digital-identity-95906',\n",
       " 'https://www.businesswire.com/news/home/20191101005081/en/Q2-Holdings-Completes-Acquisition-of-PrecisionLender',\n",
       " 'https://www.thebanker.com/Reports/The-Banker-s-Top-Islamic-Financial-Institutions-2019',\n",
       " 'https://inc42.com/startups/slice-finds-a-niche-with-its-digital-payment-card-for-underserved-students-and-freelancers/',\n",
       " 'https://thepaypers.com/mobile-payments/hakrinbank-rolls-out-mobile-payments-app-in-surinam--1239401',\n",
       " 'https://www.itnewsafrica.com/2019/11/8-things-you-should-know-about-the-nokia-6-2/',\n",
       " 'https://www.eco-business.com/news/ocbc-is-now-coal-free-singapore-bank-drops-out-of-final-coal-project/',\n",
       " 'https://www.business-standard.com/article/companies/centrum-microcredit-buys-altura-financial-with-its-rs-100-crore-loan-119110100099_1.html',\n",
       " 'https://sdtimes.com/agile/agile-costing-and-capitalization-how-to-work-with-finance-to-scale-agile/',\n",
       " 'https://www.cultofmac.com/660224/top-free-mac-personal-finance-apps/',\n",
       " 'https://www.reuters.com/article/us-southkorea-sexcrimes-idUSKBN1XB3O4',\n",
       " 'https://www.ft.com/content/7210fca8-12ca-11ea-a7e6-62bf4f9e548a',\n",
       " 'https://timesofoman.com/article/82739-muscat-finance-partners-with-omantel',\n",
       " 'https://www.business-standard.com/article/economy-policy/miles-to-go-as-financial-inclusion-has-only-scratched-surface-tribe-ceo-119120100013_1.html',\n",
       " 'https://www.ft.com/content/f23d8854-11fa-11ea-a225-db2f231cfeae',\n",
       " 'https://www.crowdfundinsider.com/2019/12/154673-galaxy-digital-a-full-service-crypto-merchant-bank-records-a-net-loss-of-68-2-million-during-q3/',\n",
       " 'https://www.cnbc.com/2019/12/01/omada-health-is-seeking-solutions-for-clash-of-doctors-and-techies.html',\n",
       " 'https://www.theguardian.com/business/2019/dec/01/un-appoints-mark-carney-to-help-finance-climate-action-goals',\n",
       " 'https://www.nasdaq.com/articles/newell-brands-nwl-up-1.3-since-last-earnings-report:-can-it-continue-2019-12-01',\n",
       " 'https://www.forbes.com/sites/joshkatzowitz/2019/12/01/the-ksi-vs-logan-paul-rematch-reportedly-did-horrible-ppv-numbers-in-the-uk/',\n",
       " 'https://www.cnbc.com/2020/01/02/gaming-firm-razer-says-it-applied-for-singapore-digital-bank-license.html',\n",
       " 'https://nairametrics.com/2020/01/01/events-that-shape-fintech-industry-in-2019/',\n",
       " 'https://cointelegraph.com/news/the-financial-system-of-the-future-who-benefits-from-cbdcs',\n",
       " 'https://www.ft.com/content/4658d340-24f6-11ea-9a4f-963f0ec7e134',\n",
       " 'https://www.livemint.com/money/personal-finance/balance-in-your-financial-life-leads-to-equilibrium-in-your-overall-life-11577891265829.html',\n",
       " 'https://www.usatoday.com/story/tech/2020/01/01/phishing-attempts-look-real-but-theres-always-giveaway/2775646001/',\n",
       " 'https://www.forbes.com/sites/sergeiklebnikov/2020/01/01/heres-how-2019-turned-out-to-be-a-historic-year-for-the-stock-market/',\n",
       " 'https://www.nst.com.my/world/world/2020/01/552716/massive-hong-kong-pro-democracy-rally-ends-police-clashes',\n",
       " 'https://www.economist.com/finance-and-economics/2020/02/01/the-ecb-considers-counting-owner-occupied-housing-in-inflation',\n",
       " 'https://inc42.com/buzz/union-budget-2020-govt-promotes-digital-platform-for-intellectual-property-rights/',\n",
       " 'https://www.hindustantimes.com/lucknow/15th-finance-commission-recommendations-up-s-share-in-central-taxes-set-to-come-down-only-marginally-still-the-highest-among-states/story-tQwFyICFmRwWWWDgZ5ZUIP.html',\n",
       " 'https://theprint.in/economy/nirmala-sitharaman-cuts-short-her-budget-speech-but-its-still-indias-longest-ever/358051/',\n",
       " 'https://www.livemint.com/budget/news/budget-2020-ayushman-bharat-insurance-plan-outlay-unchanged-11580555339287.html',\n",
       " 'https://www.mmtimes.com/news/mother-finance-nearme-collaborate-expand-fintech-reach-myanmar.html',\n",
       " 'https://www.cnbc.com/2020/02/28/technology-is-making-personal-finance-easier-for-everyday-americans.html',\n",
       " 'https://www.bis.org/publ/qtrpdf/r_qt2003.htm',\n",
       " 'https://www.theguardian.com/money/2020/mar/02/swindled-with-bitcoin-australian-victims-count-cost-of-online-finance-scam',\n",
       " 'https://www.reuters.com/article/zambia-agriculture-idUSL8N2AU0D9',\n",
       " 'https://cointelegraph.com/news/what-do-the-richest-men-in-the-world-think-of-crypto-and-blockchain',\n",
       " 'https://www.nbcnews.com/health/cancer/how-dupont-may-avoid-paying-clean-toxic-forever-chemical-n1138766',\n",
       " 'https://www.reuters.com/article/us-caltex-australia-m-a-eg-group-idUSKBN20O2CQ',\n",
       " 'https://www.gtreview.com/news/fintech/trade-finance-pressured-to-digitalise-amid-covid-19-chaos/',\n",
       " 'https://news.trust.org/item/20200401103954-g3mju',\n",
       " 'https://www.reuters.com/article/health-coronavirus-africa/coronavirus-seen-as-trigger-for-mobile-money-growth-in-west-africa-idINL8N2BN6AF',\n",
       " 'https://thefinancialbrand.com/news/financial-education/banking-government-financial-wellness-trends-jennifer-tescher-podcast-94583/',\n",
       " 'https://www.iflr.com/article/2a637ufubsvq6c6n61khs/uncertainty-hangs-over-indian-crypto-community',\n",
       " 'https://techwireasia.com/2020/04/complex-regulations-and-evolving-digital-payment-landscape-require-financial-services-to-rethink-ekyc/',\n",
       " 'https://www.biometricupdate.com/202004/fintech-apps-with-fingerprint-security-options-looks-for-u-s-foothold-offer-to-distribute-stimulus-funds',\n",
       " 'https://www.paymentsjournal.com/how-economic-impact-of-covid-19-is-pushing-banks-to-digitize/',\n",
       " 'https://www.business-standard.com/article/companies/phonepe-launches-coronavirus-hospitalisation-insurance-policy-corona-care-120040101167_1.html',\n",
       " 'https://www.forbes.com/sites/jeffkauflin/2020/04/01/broken-synapse-why-employees-and-customers-are-fleeing-this-andreessen-backed-fintech-startup/',\n",
       " 'https://techcrunch.com/2020/04/01/upi-india-growth-startups-business-model/',\n",
       " 'https://www.mobihealthnews.com/news/emea/sidekickhealth-provide-digital-platform-covid-19-patients-iceland',\n",
       " 'https://www.reuters.com/article/uk-factcheck-coronavirus-only-hit-wuhan-idUSKBN21J6MT',\n",
       " 'https://www.kiplinger.com/slideshow/retirement/t023-s004-retirees-pick-the-perfect-financial-planner/index.html',\n",
       " 'https://www.hindustantimes.com/business-news/new-financial-year-begins-tax-regime-and-other-changes-which-will-come-into-effect-from-april-1/story-F5AdMakt5jHbme0lVagYEM.html',\n",
       " 'https://www.koreatimes.co.kr/www/sports/2020/04/661_287182.html',\n",
       " 'https://navbharattimes.indiatimes.com/business/personal-finance/savings-and-investments/contactless-and-digital-finance-to-be-first-choice-of-world-after-coronavirus-times/articleshow/74930366.cms',\n",
       " 'https://www.livemint.com/news/india/covid-19-crisis-kerala-joins-other-states-on-pay-cuts-for-government-staff-11585742173406.html',\n",
       " 'https://www.reuters.com/article/global-oil-tankers-idUSL8N2BP4OA',\n",
       " 'https://www.reuters.com/article/us-health-coronavirus-italy-cybercrime-idUSKBN21J5U1',\n",
       " 'https://www.livemint.com/industry/banking/canara-bank-now-4th-largest-psu-bank-after-merger-with-syndicate-11585745401655.html',\n",
       " 'https://www.reuters.com/article/us-health-coronavirus-steel-idUSKBN21J5XZ',\n",
       " 'https://www.reuters.com/article/us-sprint-corp-m-a-t-mobile-us-idUSKBN21J5Q2',\n",
       " 'https://www.reuters.com/article/us-health-coronavirus-fda-chloroquine-idUSKBN21J5RX',\n",
       " 'https://www.relocatemagazine.com/articles/serviced-apartments-luxury-serviced-apartments-cheval-collection-remains-open-ideal-for-self-isolation-and-remote-working-0420',\n",
       " 'https://www.reuters.com/article/us-uganda-healthcare-idUSKBN22D561',\n",
       " 'https://www.ft.com/content/d868bd30-8a78-11ea-a01c-a28a3e3fbd33',\n",
       " 'https://unctad.org/news/securing-access-financial-services-vulnerable-people-during-covid-19',\n",
       " 'https://www.capacitymedia.com/article/29otc4cbu6due4of3s3k0/appointment/burns-to-step-down-from-veon-after-three-years-at-the-top',\n",
       " 'https://www.business-standard.com/article/economy-policy/lockdown-impact-digital-transactions-nosedive-in-april-shows-npci-data-120050101580_1.html',\n",
       " 'https://techcrunch.com/2020/05/01/bo-shutter/',\n",
       " 'https://www.gfmag.com/topics/blogs/islamic-finance-covid-19-coronavirus',\n",
       " 'https://www.healthcarefinancenews.com/news/how-improving-patient-experience-through-net-promoter-scores-can-improve-outcomes-boost-revenue',\n",
       " 'https://www.bloomberg.com/news/articles/2020-05-01/goldman-sachs-aims-smaller-to-bring-in-future-fintech-clients',\n",
       " 'https://siliconcanals.com/news/finance-on-phone-amsterdam-fintech-startup-with-russian-roots-secures-e6-5m-funding/',\n",
       " 'https://securityboulevard.com/2020/05/covid-19-phishing-update-scammers-impersonating-financial-institutions-on-instagram/',\n",
       " 'https://www.moneymarketing.co.uk/opinion/learning-from-sjps-use-of-salesforce/',\n",
       " 'https://www.biometricupdate.com/202005/uk-government-guidelines-for-digital-id-lauded-by-yoti-as-ekyc-guidelines-for-arab-region-launched',\n",
       " 'https://www.ft.com/content/d2e09235-b28e-438d-9b55-0e6bab7ac8ec',\n",
       " 'https://www.atlanticcouncil.org/blogs/new-atlanticist/economic-recovery-from-coronavirus-lessons-from-1918-1923/',\n",
       " 'https://www.forbes.com/sites/tiffanylung/2020/05/01/after-latest-round-of-store-closures-maybe-esprit-is-a-boomer-brand-not-worth-saving/',\n",
       " 'https://www.reuters.com/article/health-coronavirus-southasia/india-to-keep-restrictions-in-big-cities-under-staggered-exit-from-lockdown-idUSL1N2CJ074',\n",
       " 'https://www.cnbc.com/2020/05/01/coronavirus-7-ways-the-pandemic-is-going-to-change-the-way-we-shop.html',\n",
       " 'https://www.rtinsights.com/ai-predictive-models-coronavirus/',\n",
       " 'https://www.eagletribune.com/news/merrimack_valley/merrimack-college-cuts-30-jobs-vows-to-reopen-in-the-fall/article_e51cb941-3ecb-570f-949b-8cdd492c7f13.html',\n",
       " 'https://www.economist.com/podcasts/2020/05/01/apocalypse-now-is-america-ceding-global-leadership',\n",
       " 'https://moneyweek.com/investments/commodities/gold/601236/should-you-buy-gold-coins',\n",
       " 'https://scroll.in/field/960163/against-all-odds-when-german-weightlifter-steiner-fulfilled-a-golden-promise-to-his-late-wife',\n",
       " 'https://www.wsj.com/articles/daimler-financial-cio-seeks-digital-assistant-with-emotional-intelligence-1519937644',\n",
       " 'https://www.wsj.com/articles/p-g-slashed-digital-ad-spending-by-another-100-million-1519915621',\n",
       " 'https://ec.europa.eu/commission/presscorner/detail/en/IP_18_1169',\n",
       " 'https://www.financemagnates.com/cryptocurrency/news/cryptocurrencynewswoori-bank-seoul-reports-successful-test-ripple-remittance/',\n",
       " 'https://www.businessinsider.com/digital-camera-shipments-15-years-decline-and-rise-2018-2',\n",
       " 'https://www.businesswire.com/news/home/20180301005786/en/Duff-Phelps-Launches-Cost-of-Capital-Navigator-Digital-Platform',\n",
       " 'https://www.cnbc.com/2018/03/01/institutional-investor-magazine-to-completely-ditch-print-by-next-month.html',\n",
       " 'https://www.financialexpress.com/money/kyc-deadline-ends-here-is-how-you-can-re-activate-your-paytm-mobikwik-and-other-wallets/1084650/',\n",
       " 'https://knowledge.wharton.upenn.edu/article/turn-iot-data-exhaust-next-competitive-advantage/',\n",
       " 'https://www.cnbc.com/2018/03/01/how-to-build-a-portfolio-of-digital-currencies-crypto-fund-manager.html',\n",
       " 'https://www.digitalsignagetoday.com/blogs/5-ways-to-get-the-cash-flowing-with-digital-signage/',\n",
       " 'https://www.govtech.com/civic/the-quest-for-digital-equity.html',\n",
       " 'https://www.mobihealthnews.com/content/mental-health-ai-platform-woebot-lands-8m-funding',\n",
       " 'https://www.itnewsafrica.com/2018/03/azumi-mobile-to-feature-payjoys-lock-system/',\n",
       " 'https://time.com/5161663/bitcoin-sting-jason-klein-crypto-irs-money-transmitter/',\n",
       " 'https://www.modernhealthcare.com/article/20180301/NEWS/180309990/nevada-becomes-third-state-in-trump-era-to-cover-sex-reassignment-under-medicaid',\n",
       " 'https://www.business-standard.com/article/companies/hcl-infosystems-vice-chairman-seshadri-quits-to-pursue-other-options-118030100507_1.html',\n",
       " 'https://www.forbes.com/sites/paularmstrongtech/2018/03/01/how-technology-is-really-going-to-change-politics-in-the-next-20-years/',\n",
       " 'https://www.cnbc.com/2018/03/01/options-action-podcast.html',\n",
       " 'https://blogs.imf.org/2020/07/01/digital-financial-inclusion-in-the-times-of-covid-19/',\n",
       " 'https://www.imf.org/en/Publications/Departmental-Papers-Policy-Papers/Issues/2020/06/29/The-Promise-of-Fintech-Financial-Inclusion-in-the-Post-COVID-19-Era-48623',\n",
       " 'https://www.business-standard.com/article/companies/digital-payments-rebound-in-june-after-blip-in-april-transactions-120070101519_1.html',\n",
       " 'https://yourstory.com/mystory/financial-technology-affects-traditional-banking-system/amp',\n",
       " 'https://ssir.org/articles/entry/a_digital_lifeline_in_a_public_health_crisis',\n",
       " 'https://www.globalgovernmentforum.com/saudi-arabias-digital-infrastructure-pays-dividends-in-covid-response-and-recovery/',\n",
       " 'https://www.forbes.com/sites/cherylwinokurmunk/2020/07/01/bored-at-home-take-free-online-financial-classes/',\n",
       " 'https://www.ledgerinsights.com/sbi-invests-in-digital-asset-firm-b2c2/',\n",
       " 'https://www.govtech.com/budget-finance/georgia-to-spend-additional-5-million-on-online-education.html',\n",
       " 'https://www.livemint.com/companies/news/amid-pandemic-muthoot-finance-will-give-you-a-gold-loan-at-your-home-11593604621265.html',\n",
       " 'https://www.housingwire.com/articles/how-one-company-is-addressing-digital-voa-shortcomings-for-lenders/',\n",
       " 'https://kr-asia.com/fintech-startup-akulaku-advances-on-digital-banking-in-southeast-asia',\n",
       " 'https://www.forbes.com/sites/tomgroenfeldt/2020/07/01/covid-19-accelerates-banks-move-to-digitalization/',\n",
       " 'https://www.computerweekly.com/news/252485497/Societe-Generale-acquires-fintech-challenger-bank',\n",
       " 'https://fintechnews.my/24206/e-wallets-malaysia/boost-and-aspirasi-launches-micro-insurance-underwritten-by-great-eastern-life-assurance/',\n",
       " 'https://www.livemint.com/money/personal-finance/new-tds-rates-on-high-value-withdrawals-apply-from-today-know-the-details-11593603457613.html',\n",
       " 'https://ec.europa.eu/commission/presscorner/detail/en/IP_20_1193',\n",
       " 'https://www.cnbc.com/2020/07/01/remote-work-risks-creating-a-new-digital-jobs-divide-for-minorities.html',\n",
       " 'https://www.forbes.com/sites/robertfarrington/2020/07/01/personal-finance-influencers-are-on-tiktok-and-its-awesome/',\n",
       " 'https://ec.europa.eu/commission/presscorner/detail/en/qanda_20_1194',\n",
       " 'https://www.reuters.com/article/us-global-centurybond-idUKKBN24252L',\n",
       " 'https://techpoint.africa/2020/07/01/reaching-for-the-cloud-embracing-digital-channels-in-cooperative-societies-within-africa',\n",
       " 'https://www.umass.edu/news/article/spotlight-library-resources-digital-access',\n",
       " 'https://www.itnewsafrica.com/2020/07/new-popi-act-regulations-heres-everything-you-should-know/',\n",
       " 'https://www.fool.com/investing/2020/07/01/is-360-finance-a-good-stock-to-consider-now.aspx',\n",
       " 'https://venturesafrica.com/carbon-posts-record-17-5-million-revenue-for-fy-2019/',\n",
       " 'https://www.finextra.com/blogposting/18961/are-we-at-another-herstatt-risk-moment-in-the-global-financial-system',\n",
       " 'https://www.businessoffashion.com/articles/retail/afterpay-report-gen-z-retail-emerging-consumer-behaviour/',\n",
       " 'https://www.business-standard.com/article/companies/ban-on-chinese-apps-domestic-players-rush-to-add-features-grab-user-base-120070101618_1.html',\n",
       " 'https://www.forbes.com/sites/forbesbusinessdevelopmentcouncil/2020/07/01/top-three-data-trends-helping-to-transform-lending/',\n",
       " 'https://www.bloomberg.com/news/features/2020-07-01/did-china-steal-canada-s-edge-in-5g-from-nortel',\n",
       " 'https://www.reuters.com/article/us-macy-s-results-idUSKBN2425K5',\n",
       " 'https://www.finextra.com/blogposting/18959/why-fintech-has-fallen-in-love-with-kubernetes',\n",
       " 'https://www.reuters.com/article/us-tesla-shares-idUSKBN2426E8',\n",
       " 'https://www.reuters.com/article/us-citigroup-moves-idUSKBN242791',\n",
       " 'https://www.forbes.com/sites/michellewilliams/2020/07/01/light-the-grill-and-grab-a-glass--tempranillo-pairs-perfectly-with-fourth-of-july-and-national-grilling-month/',\n",
       " 'https://www.investopedia.com/news/which-governments-are-hoarding-bitcoin/',\n",
       " 'https://www.fa-mag.com/news/hybrid-digital-and-human-platforms-offer-best-of-both-worlds-36378.html',\n",
       " 'https://money.cnn.com/2018/01/02/investing/bitcoin-finance-top-quotes/index.html',\n",
       " 'https://www.gfmag.com/topics/north-america/women-cfos-us-companies',\n",
       " 'https://www.financialexpress.com/money/personal-finance-management-in-2018-what-will-change-and-what-will-not-heres-how-to-benefit/998293/',\n",
       " 'https://inc42.com/buzz/flipkart-sachin-bansal-binny-bansal-sabin-advisors/',\n",
       " 'https://www.bloomberg.com/news/articles/2018-01-02/criminal-underworld-is-dropping-bitcoin-for-another-currency',\n",
       " 'https://www.hcamag.com/au/specialisation/leadership/the-staff-retention-challenge-in-the-digital-age/151387',\n",
       " 'https://www.forbes.com/sites/danielnewman/2018/01/02/top-6-digital-transformation-trends-in-hospitality-and-tourism/',\n",
       " 'https://www.cnbc.com/2018/01/02/ant-financial-moneygram-deal-off-mgi-stock-falls.html',\n",
       " 'https://www.computerweekly.com/microscope/news/450432493/Syscap-rebranded-as-parent-opts-for-more-unified-approach',\n",
       " 'https://www.business-standard.com/article/markets/l-t-infotech-l-t-technology-services-hit-52-week-high-118010200198_1.html',\n",
       " 'https://www.forbes.com/sites/peterhigh/2018/01/02/linda-jojos-path-from-board-level-cio-to-evp-of-technology-and-cdo-of-united-airlines/',\n",
       " 'https://www.cnbc.com/2018/01/02/bitcoin-could-boost-japans-gdp-nomura-analysts-say.html',\n",
       " 'https://roboticsandautomationnews.com/2018/01/02/the-future-role-of-robotics-in-finance/15536/',\n",
       " 'https://www.ft.com/content/d53c0ca8-e678-11e7-97e2-916d4fbac0da',\n",
       " 'https://www.reuters.com/article/us-steinhoff-intlnl-results-idUSKBN1ER0J4',\n",
       " 'https://www.livemint.com/Home-Page/9Dkjg6R2QgUpOhBnsRlXGI/Govt-notifies-1-GST-on-manufacturers-under-composition-sche.html',\n",
       " 'https://www.forbes.com/sites/forbesfinancecouncil/2018/01/02/what-is-luck-and-does-it-affect-your-chances-of-success/',\n",
       " 'https://www.cnbc.com/2018/01/02/bitcoin-dominance-of-cryptocurrency-market-lowest-level-ever.html',\n",
       " 'https://www.forbes.com/sites/lizryan/2018/01/02/five-ways-to-answer-the-question-whats-your-ideal-job/',\n",
       " 'https://fortune.com/2018/01/02/replicating-human-sperm/',\n",
       " 'https://www.businessinsider.com/north-korea-opens-communication-channel-with-south-korea-2018-1',\n",
       " 'https://www.gbc.gi/news/gibraltar-continue-successful-digital-financial-hub-even-after-brexit-says-picardo',\n",
       " 'https://www.ship-technology.com/news/dp-world-partners-oracle-digital-transformation/',\n",
       " 'https://www.financialexpress.com/budget/budget-2018-fm-arun-jaitley-still-has-to-reason-his-case-against-cryptocurrencies/1046501/',\n",
       " 'https://www.azernews.az/region/126501.html',\n",
       " 'https://www.businesswire.com/news/home/20180202005104/en/Digiliti-Money-formerly-Cachet-Financial-Solutions-to-Merge-Into-Urban-FT',\n",
       " 'https://www.nature.com/articles/d41586-018-01504-5',\n",
       " 'https://www.beckershospitalreview.com/finance/these-3-clinics-accept-bitcoin-payments-but-see-little-demand-from-patients.html',\n",
       " 'https://www.searchenginejournal.com/instagram-introduces-type-mode-text-based-stories/235003/',\n",
       " 'https://www.govtech.com/fs/infrastructure/floridas-latest-railroad-is-a-mostly-private-gamble.html',\n",
       " 'https://www.dw.com/en/three-as-post-strong-financial-results/av-42419400',\n",
       " 'https://www.cnbc.com/2018/02/02/japanese-regulators-raid-coincheck-in-wake-of-crypto-heist.html',\n",
       " 'https://www.americanbanker.com/news/fed-drops-hammer-on-wells-fargo-as-four-board-members-fired',\n",
       " 'https://www.reuters.com/article/us-china-banking-fraud-idUSKBN1FM16S',\n",
       " 'https://www.forbes.com/sites/forbesagencycouncil/2018/02/02/how-fast-growing-financial-companies-are-leveraging-marketing-efforts/',\n",
       " 'https://www.reuters.com/article/us-usa-trump-russia-sanctions-idUSKBN1FM24Q',\n",
       " 'https://www.reuters.com/article/us-india-property-rights-idUSKBN1FM19L',\n",
       " 'https://www.business-standard.com/article/companies/nike-s-limited-edition-playstation-sneaker-the-pg2-vibrates-on-your-feet-118020201674_1.html',\n",
       " 'https://www.forbes.com/sites/danpontefract/2018/02/02/why-your-organization-needs-an-internal-gig-economy-platform/',\n",
       " 'https://hbr.org/2018/02/ikeas-success-cant-be-attributed-to-one-charismatic-leader',\n",
       " 'https://worldview.stratfor.com/article/dual-approach-forecasting-europe-s-future',\n",
       " 'https://www.agenceecofin.com/exploration/0202-54027-cameroun-new-age-loue-une-plateforme-de-forage-pour-le-projet-de-petrole-et-de-gaz-etinde',\n",
       " 'https://thefinancialbrand.com/news/fintech-banking/banking-fintech-collaboration-bigtech-trends-71050/',\n",
       " 'https://www.bbc.com/news/business-43254537',\n",
       " 'https://venturebeat.com/business/salaryo-launches-coworking-bank-for-freelancers-and-digital-nomads/',\n",
       " 'https://www.investopedia.com/news/pg-cuts-back-digital-ads/',\n",
       " 'https://www.fortuneindia.com/opinion/how-do-you-prepare-for-the-future-of-leadership-the-digital-leader/101639',\n",
       " 'https://www.worldfinance.com/banking/how-data-portability-is-transforming-the-financial-services-industry',\n",
       " 'https://www.cnbc.com/2018/03/02/sec-subpoenas-techcrunch-founders-cryptofund-amid-broader-investigation-into-digital-coins.html',\n",
       " 'https://www.business-standard.com/article/current-affairs/south-indian-movie-makers-on-strike-in-protest-against-digital-service-fee-118030200224_1.html',\n",
       " 'https://news.usc.edu/136965/4109-bitcoin-frenzy-spawns-study-technology-usc-viterbi/',\n",
       " 'https://www.cnbc.com/2018/03/02/spending-cryptocurrencies-on-everyday-purchases-is-getting-easier.html',\n",
       " 'https://slator.com/global-marketer-datawords-acquires-vanksen/',\n",
       " 'https://www.cnbc.com/2018/03/01/cryptocurrency-candidates-politicians-embrace-bitcoin.html',\n",
       " 'https://www.forbes.com/sites/jeffkauflin/2018/03/02/bitcoin-thieves-beware-super-secure-wallet-maker-casa-raises-2-million/',\n",
       " 'https://www.globenewswire.com/en/news-release/2018/03/02/1414340/0/en/intimate-Announces-1-1-Million-Investment-from-Billion-Dollar-Digital-Currency-Fund-Alphabit.html',\n",
       " 'https://cardealermagazine.co.uk/publish/johns-man-mann-island-finance-md-role/147063',\n",
       " 'https://www.nyasatimes.com/tnm-mpamba-trust-donates-kasungu-salima-schools/',\n",
       " 'https://www.investopedia.com/news/uber-founder-designs-new-cryptocurrency/',\n",
       " 'https://www.forbes.com/sites/forbesagencycouncil/2018/03/02/12-attention-grabbing-strategies-to-improve-your-email-engagement/',\n",
       " 'https://www.bloomberg.com/news/features/2018-03-02/china-is-turning-ethiopia-into-a-giant-fast-fashion-factory',\n",
       " 'https://www.boersen-zeitung.de/banken-finanzen/ohne-fixe-gebuehr-54c4afff-9efe-40cc-a072-cecca0225c6c',\n",
       " 'https://www.ft.com/content/0b892c0c-32c1-11e8-b5bf-23cb17fd1498',\n",
       " 'https://www.ccn.com/russia-allows-cryptocurrency-payments-for-hotels-during-fifa-world-cup-2018/',\n",
       " 'https://www.investopedia.com/news/wyoming-exempts-cryptocurrencies-taxes/',\n",
       " 'https://www.financialexpress.com/lifestyle/digital-is-as-measurable-as-you-set-it-up-to-be-joanna-catalano-ceo-apac-iprospect-dentsu-aegis-network/1119152/',\n",
       " 'https://www.business-standard.com/article/companies/tata-sky-is-expanding-scope-and-digital-footprint-to-stay-relevant-118040201219_1.html',\n",
       " 'https://www.thedrum.com/creative-works/project/fcb-new-york-onemain-financial-lending-done-human',\n",
       " 'https://www.livemint.com/Money/nobjrAQBHnet570c4pbVSO/JM-Financial-gives-buy-rating-to-Avenue-Supermarts-compares.html',\n",
       " 'https://www.livemint.com/Industry/FCjf5FhdeE4aem0KWsby0H/The-best-workplaces-to-work-bank-upon-the-best-talent.html',\n",
       " 'https://www.investopedia.com/news/80-icos-are-scams-report/',\n",
       " 'https://www.calcalistech.com/ctech/articles/0,7340,L-3735417,00.html',\n",
       " 'https://www.hindustantimes.com/delhi-news/defamation-case-arvind-kejriwal-aap-leaders-apologise-to-jaitley/story-CEAztTuqfKKdKks0gR5LrO.html',\n",
       " 'https://www.healthcareitnews.com/news/ge-healthcare-sells-value-based-care-division-veritas-capital-105-billion',\n",
       " 'https://www.cfo.com/accounting-tax/2018/04/dont-let-blind-spots-ruin-your-career/',\n",
       " 'https://www.forbes.com/sites/tomgroenfeldt/2018/04/02/alexa-move-over-smart-turret-tech-understands-trading/',\n",
       " 'https://en.vietnamplus.vn/vietnam-shooting-team-aim-for-medals-at-asiad-2018/128910.vnp',\n",
       " 'https://europa.eu/rapid/press-release_IP-18-2604_en.htm',\n",
       " 'https://news.bitcoin.com/bitcoin-hardware-wallet-nano-ledger-most-popular-holiday-purchase-in-this-us-state/',\n",
       " 'https://www.business-standard.com/article/companies/suzuki-motorcycle-sales-up-43-in-fy18-record-501-226-units-sold-118040200364_1.html',\n",
       " 'https://www.cnbc.com/2018/04/02/what-to-do-after-the-lord-taylor-saks-fifth-avenue-data-breach.html',\n",
       " 'https://www.forbes.com/sites/nathanvardi/2018/04/02/sec-charges-mozido-founder-michael-liberty-of-defrauding-200-investors/',\n",
       " 'https://www.business-standard.com/article/international/how-elon-musk-fooled-his-twitter-followers-tesla-goes-bankrupt-118040200254_1.html',\n",
       " 'https://www.forbes.com/sites/jillbarth/2018/04/02/how-the-wind-is-making-petaluma-gap-californias-newest-wine-region/',\n",
       " 'https://www.centralbanking.com/central-banks/economics/3458646/guangzhou-a-city-of-commerce-for-the-millennium',\n",
       " 'https://www.dvidshub.net/news/275325/navsup-bsc-navy-business-intelligence-services-accelerating-digital-solutions',\n",
       " 'https://www.beckershospitalreview.com/finance/california-hospital-to-close-by-mid-june-lay-off-200-employees.html',\n",
       " 'https://www.centralbanking.com/central-banks/financial-stability/3494931/islamic-finance-can-tackle-global-instability-kuwaits-al-hashel',\n",
       " 'https://campaignsandelections.com/industry-news/dnc-unveils-approved-vendors-site/',\n",
       " 'https://www.forbesindia.com/article/innovation-nation/digibank-riding-the-digital-wave/50083/1',\n",
       " 'https://europa.eu/rapid/press-release_IP-18-3570_en.htm',\n",
       " 'https://www.globalgovernmentforum.com/reversing-the-flow-tempting-emigrants-back-home/',\n",
       " 'https://www.cnbc.com/2018/05/02/sec-official-urges-caution-on-icos.html',\n",
       " 'https://analyticsindiamag.com/platform-based-personalization-using-data-science-a-real-re-inventor-in-financial-services-industry/',\n",
       " 'https://www.dw.com/en/global-carmakers-form-blockchain-technology-coalition/a-43628769',\n",
       " 'https://www.forbes.com/sites/petercohan/2018/05/02/cloudian-taking-customers-from-netapp-in-24b-market/',\n",
       " 'https://www.nytimes.com/2018/05/02/technology/bitcoin-goldman-sachs.html',\n",
       " 'https://www.eleconomista.com.mx/opinion/El-giro-hacia-las-suscripciones-digitales-moda-o-tendencia-estructural-20180502-0034.html',\n",
       " 'https://www.ft.com/content/2ec95b9a-4709-11e8-8c77-ff51caedcde6',\n",
       " 'https://en.vietnamplus.vn/hcm-city-promotes-new-farming-cooperative-model/130349.vnp',\n",
       " 'https://www.reuters.com/article/us-berkshire-buffett-factbox-idUSKBN1I320O',\n",
       " 'https://www.calcalistech.com/ctech/articles/0,7340,L-3737264,00.html',\n",
       " 'https://paperjam.lu/article/news-collaborer-pour-mettre-a-jour-les-competences',\n",
       " 'https://www.forbes.com/sites/piasilva/2018/05/02/is-the-ideal-entrepreneur-right-brain-or-left-brain/',\n",
       " 'https://www.bloomberg.com/news/articles/2018-05-02/bulls-flee-buffett-s-china-investment-as-shares-lose-9-billion',\n",
       " 'https://www.reuters.com/article/us-health-cancer-pharmaceuticals-insight-idUSKBN1I31EX',\n",
       " 'https://www.borgenmagazine.com/financial-inclusion-in-pakistan/',\n",
       " 'https://www.haitilibre.com/en/news-24556-haiti-canada-$1-million-for-microfinance-in-haiti.html',\n",
       " 'https://www.livemint.com/Companies/OTEdrhCiBcJpLM3oSXYyEI/Ordering-food-online-Heres-how-you-can-pay-for-it-later.html',\n",
       " 'https://www.newsbtc.com/opinion/visa-outage-in-europe-highlights-potential-of-cryptocurrency-payments/',\n",
       " 'https://businesstech.co.za/news/banking/255877/australias-commonwealth-bank-reviewing-tyme-digital-ownership-in-sa-report/',\n",
       " 'https://irishtechnews.ie/digipulse-launches-worlds-first-decentralised-digital-asset-vault/',\n",
       " 'https://bitcoinist.com/cryptocurrency-in-thailand-both-currency-and-security/',\n",
       " 'https://www.livemint.com/Opinion/rZeiS4ZkrH9C6p1QfjJHhP/IDBI-Bank-favourite-guinea-pig-in-Indian-financial-lab.html',\n",
       " 'https://www.cfr.org/blog/belt-and-router-china-aims-tighter-internet-controls-digital-silk-road',\n",
       " 'https://www.itnewsafrica.com/2018/07/top-10-wealthiest-african-countries-according-to-gdp/',\n",
       " 'https://www.computerweekly.com/news/252443830/Case-study-Logistics-firm-GWC-moves-from-paper-to-digital-HR-in-three-months',\n",
       " 'https://www.bloomberg.com/news/videos/2018-07-02/cirrus-ceo-says-digital-deflation-is-underway-but-shy-of-1999-video',\n",
       " 'https://www.cnbc.com/2018/07/02/virtual-doctor-start-up-american-well-just-raised-291-million-more.html',\n",
       " 'https://cointelegraph.com/news/from-russia-to-macedonia-how-cryptocurrencies-are-regulated-in-eastern-europe',\n",
       " 'https://www.forbes.com/sites/forbesagencycouncil/2018/07/02/how-to-choose-the-right-digital-agency-for-your-business/',\n",
       " 'https://www.finews.ch/news/banken/32386-fintech-additiv-orange-michael-stemmle-martin-kull',\n",
       " 'https://www.straitstimes.com/singapore/education/everything-you-need-to-know-to-join-the-fintech-industry',\n",
       " 'https://www.playstationlifestyle.net/2018/07/02/video-game-distribution-switch-to-digital-by-2022/',\n",
       " 'https://www.business-standard.com/article/economy-policy/saarc-development-fund-looking-to-team-up-with-financing-majors-118070200213_1.html',\n",
       " 'https://www.lemondeinformatique.fr/actualites/lire-obs-s-allie-a-additiv-dans-la-gestion-de-patrimoine-dans-le-cloud-72213.html',\n",
       " 'https://www.cnbc.com/2018/07/02/over-800-cryptocurrencies-are-now-dead-as-bitcoin-feels-pressure.html',\n",
       " 'https://www.forbes.com/sites/kurtbadenhausen/2018/07/02/roger-federers-uniqlo-deal-pushes-his-endorsement-earnings-to-the-worlds-highest/',\n",
       " 'https://www.business-standard.com/article/companies/jio-sbi-deepen-digital-partnership-integarte-sbi-yono-app-myjio-platform-118080201181_1.html',\n",
       " 'https://unctad.org/news/dig-deep-think-local-go-digital-unctad-head-african-leaders',\n",
       " 'https://www.business-standard.com/article/economy-policy/discount-on-digital-payment-at-petrol-pumps-cut-to-0-25-from-0-75-118080200963_1.html',\n",
       " 'https://www.devex.com/news/q-a-how-mobile-technology-can-help-achieve-the-sdgs-93187',\n",
       " 'https://www.pewtrusts.org/en/research-and-analysis/reports/2018/08/02/how-can-regulators-promote-financial-innovation-while-also-protecting-consumers',\n",
       " 'https://www.nyasatimes.com/reserve-bank-of-malawi-says-mobile-money-transfers-way-to-go/',\n",
       " 'https://www.forbes.com/sites/tonysilber/2018/08/02/kiplingers-personal-finance-still-standing-long-after-buzzy-competitors-failed/',\n",
       " 'https://www.business-standard.com/article/finance/online-insurance-space-to-hit-rs-600-bn-premium-revenues-in-5-years-118080200632_1.html',\n",
       " 'https://www.forbes.com/sites/mfonobongnsehe/2018/08/02/how-fintech-firm-mybucks-plans-to-offer-access-and-financial-inclusion-to-africas-unbanked/',\n",
       " 'https://www.forbes.com/sites/forbesnycouncil/2018/08/02/why-data-curation-is-vital-to-your-financial-services-firm/',\n",
       " 'https://www.financialexpress.com/industry/banking-finance/are-indian-banks-too-big-to-fail-heres-what-rbi-is-doing-about-it-rbi-monetary-policy-august-2018-rate-hike-2nd-time-6-5/1266140/',\n",
       " 'https://finance-commerce.com/2018/08/mn-snapshot-persistence-local-connections-and-luck-helped-seal-daikin-deal/',\n",
       " 'https://www.kiplinger.com/article/saving/t065-c032-s014-my-10-best-financial-literacy-apps-for-kids.html',\n",
       " 'https://paymentweek.com/2018-8-3-paylater-mobile-app-providing-nigerian-consumers-access-credit-reached-1-million-downloads/',\n",
       " 'https://msdynamicsworld.com/story/electronic-reporting-power-dynamics-365-finance-and-operations',\n",
       " 'https://www.healthcarefinancenews.com/news/andy-anderson-takes-reins-combined-medical-group-featuring-two-large-new-jersey-health-systems',\n",
       " 'https://www.cnbc.com/2018/08/02/virtual-assistants-and-robotic-deliveries-are-transforming-takeout.html',\n",
       " 'https://www.financialexpress.com/india-news/muzaffarpur-shelter-home-case-major-crackdown-by-bihar-government/1267581/',\n",
       " 'https://www.orfonline.org/expert-speak/42923-70-policies-development-finance-institutions-1948/',\n",
       " 'https://phys.org/news/2018-08-financial-fruit-apple-1st-trillion-dollar.html',\n",
       " 'https://www.regulationasia.com/chinas-ant-financial-and-webank-too-big-to-regulate/',\n",
       " 'https://theconversation.com/what-is-a-blockchain-token-98916',\n",
       " 'https://www.business-standard.com/article/companies/jiophone-tops-in-indian-mobile-market-in-q2-gives-birth-to-fusion-phones-118080200166_1.html',\n",
       " 'https://www.forbes.com/sites/forbesbusinessdevelopmentcouncil/2018/08/02/10-ways-technology-has-changed-team-communication/',\n",
       " 'https://www.reuters.com/article/us-column-marksjarvis-parttime-idUSKBN1KN1D2',\n",
       " 'https://knowtechie.com/software-engineer-in-finance-a-millionaire-in-4-years/',\n",
       " 'https://www.digitalspy.com/tv/ustv/a863023/the-originals-creator-julie-plec-story-not-told-klaus-werewolf/',\n",
       " 'https://www.reuters.com/article/us-germany-politics-idUSKBN1KN2U7',\n",
       " 'https://wccftech.com/konami-q1-results-profits-fall-due-to-research-development/',\n",
       " 'https://www.reuters.com/article/us-blackrock-moves-idUSKBN1KN1H0',\n",
       " 'https://bravenewcoin.com/insights/tron-pa-failure-to-launch-or-is-the-best-yet-to-come',\n",
       " 'http://dnaberita.com/2018/08/02/antisipasi-banjir-pemko-keruk-sungai-selayang/',\n",
       " 'https://www.sangbadpratidin.in/lifestyle/try-this-recipe/',\n",
       " 'https://www.ndtv.com/business/india-post-payments-bank-ippb-zero-balance-digital-savings-account-interest-rate-other-details-1910018',\n",
       " 'https://www.business-standard.com/article/markets/many-reasons-why-bajaj-finance-stock-will-remain-an-outperformer-118090200494_1.html',\n",
       " 'https://www.straitstimes.com/sport/st-run-2018-learn-how-to-boost-your-financial-fitness-with-lion-global-investors',\n",
       " 'https://www.business-standard.com/article/companies/cloud-business-a-double-edged-sword-for-it-companies-say-analysts-118090100791_1.html',\n",
       " 'https://www.forbes.com/sites/advisor/2018/09/02/why-you-dont-need-a-financial-advisor/',\n",
       " 'https://www.hindustantimes.com/india-news/jat-group-in-haryana-stopped-from-protesting-at-state-minister-s-function/story-AxB7Y34gneYrhtwbSrqUBI.html',\n",
       " 'https://www.theguardian.com/commentisfree/2018/sep/03/our-financial-system-only-works-for-the-1-it-will-take-another-crash-to-fix-it',\n",
       " 'https://www.ft.com/content/94d6aada-a16a-11e8-85da-eeb7a9ce36e4',\n",
       " 'https://www.forbes.com/sites/pamdanziger/2018/09/02/amazons-under-the-radar-advertising-strategy-to-control-5-of-global-retail/',\n",
       " 'https://www.investopedia.com/news/which-governments-are-hoarding-bitcoin/',\n",
       " 'https://www.fa-mag.com/news/hybrid-digital-and-human-platforms-offer-best-of-both-worlds-36378.html',\n",
       " 'https://money.cnn.com/2018/01/02/investing/bitcoin-finance-top-quotes/index.html',\n",
       " 'https://www.gfmag.com/topics/north-america/women-cfos-us-companies',\n",
       " 'https://www.financialexpress.com/money/personal-finance-management-in-2018-what-will-change-and-what-will-not-heres-how-to-benefit/998293/',\n",
       " 'https://inc42.com/buzz/flipkart-sachin-bansal-binny-bansal-sabin-advisors/',\n",
       " 'https://www.bloomberg.com/news/articles/2018-01-02/criminal-underworld-is-dropping-bitcoin-for-another-currency',\n",
       " 'https://www.hcamag.com/au/specialisation/leadership/the-staff-retention-challenge-in-the-digital-age/151387',\n",
       " 'https://www.forbes.com/sites/danielnewman/2018/01/02/top-6-digital-transformation-trends-in-hospitality-and-tourism/',\n",
       " 'https://www.cnbc.com/2018/01/02/ant-financial-moneygram-deal-off-mgi-stock-falls.html',\n",
       " 'https://www.computerweekly.com/microscope/news/450432493/Syscap-rebranded-as-parent-opts-for-more-unified-approach',\n",
       " 'https://www.business-standard.com/article/markets/l-t-infotech-l-t-technology-services-hit-52-week-high-118010200198_1.html',\n",
       " 'https://www.forbes.com/sites/peterhigh/2018/01/02/linda-jojos-path-from-board-level-cio-to-evp-of-technology-and-cdo-of-united-airlines/',\n",
       " 'https://www.cnbc.com/2018/01/02/bitcoin-could-boost-japans-gdp-nomura-analysts-say.html',\n",
       " 'https://roboticsandautomationnews.com/2018/01/02/the-future-role-of-robotics-in-finance/15536/',\n",
       " 'https://www.ft.com/content/d53c0ca8-e678-11e7-97e2-916d4fbac0da',\n",
       " 'https://www.reuters.com/article/us-steinhoff-intlnl-results-idUSKBN1ER0J4',\n",
       " 'https://www.livemint.com/Home-Page/9Dkjg6R2QgUpOhBnsRlXGI/Govt-notifies-1-GST-on-manufacturers-under-composition-sche.html',\n",
       " 'https://www.forbes.com/sites/forbesfinancecouncil/2018/01/02/what-is-luck-and-does-it-affect-your-chances-of-success/',\n",
       " 'https://www.cnbc.com/2018/01/02/bitcoin-dominance-of-cryptocurrency-market-lowest-level-ever.html',\n",
       " 'https://www.forbes.com/sites/lizryan/2018/01/02/five-ways-to-answer-the-question-whats-your-ideal-job/',\n",
       " 'https://fortune.com/2018/01/02/replicating-human-sperm/',\n",
       " 'https://www.businessinsider.com/north-korea-opens-communication-channel-with-south-korea-2018-1',\n",
       " 'https://www.ft.com/content/79b56392-dde5-11e8-8f50-cbae5495d92b',\n",
       " 'https://www.newtimes.co.rw/news/rwanda-rollout-financial-services-refugee-camps',\n",
       " 'https://www.moneycontrol.com/news/business/w12-acquisition-to-help-tcs-compete-better-in-digital-design-space-3123481.html',\n",
       " 'https://www.worldfinance.com/markets/us-awards-eight-nations-oil-waivers-under-iran-sanctions',\n",
       " 'https://www.busiweek.com/how-digitalisation-is-transforming-banking-in-uganda/',\n",
       " 'https://www.finextra.com/blogposting/16244/myanmar-goes-digital',\n",
       " 'https://www.business-standard.com/article/finance/chola-ms-indusind-bank-renew-bancassurance-partnership-for-5-years-118110201139_1.html',\n",
       " 'https://www.theedgemarkets.com/article/tech-digital-wallets-growing-threat-traditional-banks',\n",
       " 'https://www.bankofcanada.ca/rates/staff-economic-projections/',\n",
       " 'https://finance-commerce.com/2018/11/north-loops-variant-apartments-sold-for-50-million/',\n",
       " 'https://www.reuters.com/article/marijuana-loans-idUSL2N1XD0MN',\n",
       " 'https://www.forbes.com/sites/forbesagencycouncil/2018/11/02/the-four-stages-of-digital-maturity-how-does-your-organization-rank/',\n",
       " 'https://www.devex.com/news/keeping-up-with-global-development-skills-in-demand-93708',\n",
       " 'https://www.nst.com.my/news/nation/2018/11/427605/2019-budget-finance-ministers-full-speech-text',\n",
       " 'https://www.livemint.com/Industry/01UOJLU4HfS5IpYNFhOBcK/India-liquidity-crisis-RBI-tweaks-norms-to-help-NBFCs-refin.html',\n",
       " 'https://financefeeds.com/fca-voices-concerns-flying-printing/',\n",
       " 'https://www.livemint.com/Politics/5edXRhIhZE9LPr8Qek6AeO/Modi-woos-small-businesses-with-credit.html',\n",
       " 'https://www.nerdwallet.com/article/finance/how-to-coupon-at-walmart',\n",
       " 'https://www.searchenginejournal.com/facebook-introduces-advanced-analytics-measure-page-level-actions/276529/',\n",
       " 'https://www.raconteur.net/in-emerging-economies-locals-push-ecommerce-advantages/',\n",
       " 'https://www.forbes.com/sites/forbesagencycouncil/2018/11/02/what-can-luxury-brands-learn-from-gucci-about-millennials/',\n",
       " 'https://news.usc.edu/151301/what-is-the-line-between-cultural-appropriation-and-appreciation/',\n",
       " 'https://hbr.org/2018/11/how-a-german-manufacturing-company-set-up-its-analytics-lab',\n",
       " 'https://www.ft.com/content/6f7e1f52-e9c7-11e8-94da-a6478f64c783',\n",
       " 'https://qz.com/africa/1482013/safaricoms-m-pesa-connects-with-chinas-wechat-pay/',\n",
       " 'https://www.ft.com/content/ff7b46e8-f480-11e8-ae55-df4bf40f9d0d',\n",
       " 'https://www.cnbc.com/2018/11/30/new-music-legislation-could-affect-independent-artists.html',\n",
       " 'https://fintechnews.sg/27626/fintech-india/top-30-fintech-influencers-in-india-2019/',\n",
       " 'https://bfsi.eletsonline.com/how-digital-transformation-is-reinventing-the-bfsi-sector/',\n",
       " 'https://www.bai.org/banking-strategies/article-detail/the-top-three-driving-forces-of-the-financial-services-industry-in-2019/',\n",
       " 'https://www.information-age.com/success-financial-services-123477795/',\n",
       " 'https://www.entrepreneur.com/article/325535',\n",
       " 'https://www.thinkadvisor.com/2019/01/02/what-suze-orman-really-thinks-of-financial-advisors/',\n",
       " 'https://journals.plos.org/plosmedicine/article?id=10.1371/journal.pmed.1002719',\n",
       " 'https://www.forbes.com/sites/forbesfinancecouncil/2019/01/02/what-does-your-financial-advisor-really-know-about-high-net-worth-tax-and-estate-planning/',\n",
       " 'https://bitcoinist.com/islamic-finance-blockchain-startups/',\n",
       " 'https://www.thehindu.com/business/Economy/direct-tax-gdp-ratio-in-fy18-best-in-10-years-finance-ministry/article25889046.ece',\n",
       " 'https://www.cmswire.com/digital-marketing/sentiment-analysis-in-marketing-what-are-you-waiting-for/',\n",
       " 'https://www.computerworld.com/article/3329962/how-blockchain-may-kill-the-password.html',\n",
       " 'https://www.newswire.ca/news-releases/equitable-completes-strategic-acquisition-of-bennington-financial-services-corp--852496598.html',\n",
       " 'https://www.financemagnates.com/cryptocurrency/news/has-the-bitcoin-mining-industry-entered-into-a-death-spiral/',\n",
       " 'https://www.forbes.com/sites/noahkirsch/2019/01/02/when-a-billionaire-needs-a-boss-the-story-of-the-jimmy-johns-sandwich-empire/',\n",
       " 'https://www.gov.uk/eu-withdrawal-act-2018-statutory-instruments/the-social-security-coordination-regulation-ec-no-987-2009-amendment-eu-exit-regulations-2018-9',\n",
       " 'https://www.inlander.com/spokane/no-spokane-doesnt-have-the-fifth-highest-homeless-population-in-the-country/Content?oid=15883793',\n",
       " 'https://indiacsr.in/digital-sakhi-of-lt-financial-services-impacting-more-than-2-lakh-lives/',\n",
       " 'https://www.financialexpress.com/budget/budget-2019-now-use-capital-gains-to-buy-second-house-also-know-how-section-54-works/1472709/',\n",
       " 'https://www.hindustantimes.com/budget/budget-job-seekers-are-now-becoming-job-creators-says-piyush-goyal/story-Mtuyshv0lxPQfkegVgeIIM.html',\n",
       " 'https://www.ccn.com/wall-street-is-playing-chicken-on-bitcoin-adoption-hedge-fund-cio/',\n",
       " 'https://theprint.in/opinion/newsmaker-of-the-week/piyush-goyal-the-chartered-accountant-and-minister-who-became-newsmaker-of-the-week/187016/',\n",
       " 'https://www.business-standard.com/article/interim-budget-2019/centre-s-non-tax-revenue-growth-pegged-at-11-2-to-rs-2-72-trillion-in-fy20-119020101655_1.html',\n",
       " 'https://www.financialexpress.com/industry/sme/indias-fintech-startups-soared-3x-during-2015-18-second-highest-globally-says-report/1503433/',\n",
       " 'https://www.modernhealthcare.com/technology/why-prescription-drug-list-prices-matter',\n",
       " 'https://www.cnbc.com/2019/03/02/as-gen-z-balks-at-traditional-tv-content-creators-shift-to-youtube.html',\n",
       " 'https://www.manchestertimes.com/sports/national/aptopix-germany-european-championships-athletics/image_c11e9f92-9d27-5034-b785-9abac54720f3.html',\n",
       " 'https://www.finextra.com/newsarticle/33626/south-africas-tymebank-picks-finn-ai-for-digital-financial-fitness-coach',\n",
       " 'https://www.businessinsider.com/natwest-mimo-digital-personal-assistant-2019-4',\n",
       " 'https://www.biometricupdate.com/201904/gemalto-now-known-as-thales-digital-identity-and-security-with-acquisition-completed',\n",
       " 'https://www.financemagnates.com/cryptocurrency/news/sequoia-backed-onchain-set-to-launch-its-crypto-custodian-services/',\n",
       " 'https://www.prnewswire.com/news-releases/jd-power-teams-with-centric-digital-to-expand-digital-customer-experience-intelligence-solutions-300821343.html',\n",
       " 'https://www.businesstoday.in/technology/news/story/siemens-launches-next-level-of-digital-solutions-in-manufacturing-at-hannover-messe-185312-2019-04-02',\n",
       " 'https://www.coindesk.com/markets/2019/04/02/pakistan-central-bank-eyes-digital-currency-launch-by-2025/',\n",
       " 'https://www.globenewswire.com/en/news-release/2019/04/02/1795096/0/en/Digital-Reasoning-Hires-Chris-Hasenbein-as-SVP-of-Sales-to-Accelerate-Growth-in-the-Americas.html',\n",
       " 'https://www.bobsguide.com/articles/the-role-of-collaboration-and-culture-in-digital-transformation/',\n",
       " 'https://www.tallahassee.com/story/news/2019/04/02/florida-a-m-university-students-top-take-top-honors-entrepreneurship-competition-hosted-rapper-big-s/3339213002/',\n",
       " 'https://europa.eu/rapid/press-release_IP-19-1755_en.htm',\n",
       " 'https://betakit.com/motusbank-meridians-digital-bank-officially-launches/',\n",
       " 'https://som.yale.edu/news/2019/04/alumni-startup-seeks-to-decentralize-digital-services-through-blockchain',\n",
       " 'https://www.irishtimes.com/business/personal-finance/what-protections-are-in-place-for-customers-at-digital-banks-1.3847362',\n",
       " 'https://www.newswire.ca/news-releases/introducing-motusbank-the-fresh-new-banking-alternative-for-digitally-savvy-canadians-849524903.html',\n",
       " 'https://www.ama-assn.org/practice-management/digital/new-icd-10-codes-will-help-physicians-tackle-social-barriers-care',\n",
       " 'https://europa.eu/rapid/press-release_IP-19-1872_en.htm',\n",
       " 'https://opengovasia.com/becybersafe-provides-online-safety-for-filipino-children/',\n",
       " 'https://europa.eu/rapid/press-release_IP-19-1948_en.htm',\n",
       " 'https://www.ft.com/content/8fbc2062-5537-11e9-91f9-b6515a54c5b1',\n",
       " 'https://www.business-standard.com/article/companies/agnello-dias-elevated-as-creative-chairman-of-dentsu-aegis-network-119040101236_1.html',\n",
       " 'https://www.reuters.com/article/us-crypto-currencies-idUSKCN1RE0JY',\n",
       " 'https://www.atlanticcouncil.org/blogs/iransource/sanctions-propel-iran-in-the-global-race-for-terminator-like-ai/',\n",
       " 'https://www.reuters.com/article/us-britain-building-tulip-idUSKCN1RE1P6',\n",
       " 'https://www.ft.com/content/dbafbb5e-5529-11e9-a3db-1fe89bedc16e',\n",
       " 'https://www.atlanticcouncil.org/blogs/ukrainealert/what-the-business-community-wants-from-ukraine-s-next-president/',\n",
       " 'https://laboratoriodeperiodismo.org/financial-times-las-claves-del-exito/',\n",
       " 'https://www.forbes.com/sites/greatspeculations/2019/04/02/what-is-urban-outfitters-revenue-breakdown/',\n",
       " 'https://www.reuters.com/article/us-harley-davidson-labor-contract-idUSKCN1RE1XH',\n",
       " 'https://www.cnbc.com/2019/04/02/online-shopping-officially-overtakes-brick-and-mortar-retail-for-the-first-time-ever.html',\n",
       " 'https://www.sandiegouniontribune.com/business/restaurants/story/2019-04-01/mission-hills-brooklyn-girl-restaurant-closes-after-7-years',\n",
       " 'https://www.finews.asia/people/28716-bain-apac-financial-services-head-henrik-naujoks',\n",
       " 'https://www.finextra.com/blogposting/17194/the-importance-of-compliance-in-the-remittance-industry',\n",
       " 'https://www.zdnet.com/article/australian-2021-digital-census-to-be-built-on-aws/',\n",
       " 'https://www.internationalinvestment.net/news/4002044/julius-baer-subsidiary-inks-partnership-deal-fintech-brazil',\n",
       " 'https://www.brandeis.edu/global/news/2019/fintech-report.html',\n",
       " 'https://www.prnewswire.com/news-releases/digital-turbine-partners-with-leading-attribution-and-analytics-companies-300843199.html',\n",
       " 'https://www.itnews.com.au/news/nab-suffers-worst-outage-rate-in-three-years-524571',\n",
       " 'https://www.london.edu/think/changemakers-hussein-kanji',\n",
       " 'https://www.charlotteobserver.com/news/business/banking/article229633119.html',\n",
       " 'https://www.zdnet.com/article/china-uses-biometrics-and-digital-scanning-data-doors-to-track-muslim-minority/',\n",
       " 'https://www.nst.com.my/business/2019/05/484883/hellogold-making-gold-savings-accessible-all',\n",
       " 'https://www.ledgerinsights.com/ing-blockchain-privacy-bulletproofs-zkp/',\n",
       " 'https://www.weforum.org/agenda/2019/05/islamic-social-finance-humanitarian-aid-charity-climate-change/',\n",
       " 'https://www.cnbc.com/2019/05/02/glassdoor-14-companies-are-hiring-like-crazy-in-may-2019.html',\n",
       " 'https://www.reuters.com/article/us-caterpillar-investors-meeting-idUSKCN1S812B',\n",
       " 'https://www.pymnts.com/news/b2b-payments/2019/bank-of-england-blockchain-industrial-revolution/',\n",
       " 'https://www.ft.com/content/ab23ddde-6740-11e9-a79d-04f350474d62',\n",
       " 'https://www.forbes.com/sites/karlynborysenko/2019/05/02/how-much-are-your-disengaged-employees-costing-you/',\n",
       " 'https://www.reuters.com/article/us-magenti-marelli-m-a-closing-idUSKCN1S817V',\n",
       " 'https://www.reuters.com/article/us-brazil-politics-idUSKCN1S824M',\n",
       " 'https://www.forbes.com/sites/forbestechcouncil/2019/05/02/wearable-health-technologies-and-their-impact-on-the-health-industry/',\n",
       " 'https://www.digitalspy.com/movies/a27341049/avengers-endgame-directors-cast-salaries-huge-financial-issue/',\n",
       " 'https://www.reuters.com/article/us-usa-oil-offshore-idUSKCN1S81BT',\n",
       " 'https://www.reuters.com/article/us-kenya-solar-women-health-idUSKCN1S80LF',\n",
       " 'https://mnetax.com/zimbabwe-introduces-digital-economy-tax-transfer-pricing-filing-requirement-34093',\n",
       " 'https://www.livemint.com/money/personal-finance/is-rbi-nod-for-ekyc-a-step-towards-its-total-revival-1559470306761.html',\n",
       " 'https://www.forbes.com/sites/stevedenning/2019/06/02/how-amazon-tames-the-budget/',\n",
       " 'https://thefintechtimes.com/banks-fintechs-st-gallen/',\n",
       " 'https://www.forbes.com/sites/katetalbot/2019/06/02/diversity-in-influencer-marketing-why-representation-matters/',\n",
       " 'https://www.techtarget.com/searcherp/feature/How-to-overcome-digital-transformation-in-finance-challenges',\n",
       " 'https://inc42.com/buzz/looking-back-at-pm-modis-four-year-old-digital-india-programme/',\n",
       " 'https://www.zawya.com/en/press-release/aion-digital-and-risq-sign-partnership-to-offer-digital-commercial-lending-oxhdt5jb',\n",
       " 'https://www.businesswire.com/news/home/20190702005148/en/NCR-Acquires-D3-Technology',\n",
       " 'https://finance.yahoo.com/news/daniel-aharonoff-discusses-benefits-digital-110000397.html',\n",
       " 'https://www.fortuneindia.com/enterprise/at-the-top-of-their-game/103350',\n",
       " 'https://www.ledgerinsights.com/euronext-invests-tokeny-digital-assets-public-blockchain/',\n",
       " 'https://www.cnbc.com/2019/07/01/when-an-advisor-has-to-deliver-some-bad-news-to-a-client.html',\n",
       " 'https://inc42.com/buzz/propelld-funding/',\n",
       " 'https://www.capacitymedia.com/article/29otbigvj3wq5cbjv6iv5/news/digital-realty-names-new-sales-vp-for-western-europe',\n",
       " 'https://ledgerinsights.com/chinas-institute-of-financial-research-facebooks-libra-will-have-big-impact-on-existing-system/',\n",
       " 'https://www.livemint.com/budget/news/budget-2019-finance-ministry-may-eye-rich-pickings-with-an-estate-tax-1562090409532.html',\n",
       " 'https://www.investopedia.com/facebook-stock-could-test-2018-s-all-time-high-4691971',\n",
       " 'https://www.finextra.com/blogposting/17455/uk-regulatory-reporting-regime-is-unduly-complex---could-regtech-be-the-solution',\n",
       " 'https://globalnews.ca/news/5453634/edmonton-digital-arts-college-shutting-down/',\n",
       " 'https://www.livemint.com/money/personal-finance/how-does-the-insolvency-resolution-process-work-1562084179866.html',\n",
       " 'https://www.cfo.com/accounting-tax/2019/07/are-women-cfos-less-prone-to-financial-misreporting/',\n",
       " 'https://www.orange.com/en/how-protect-yourself-phishing',\n",
       " 'https://realassets.ipe.com/deutsche-finance-international-closes-debut-fund-and-builds-856m-portfolio/10032063.article',\n",
       " 'https://ekbis.sindonews.com/berita/1416822/178/tumbuh-positif-cimb-niaga-auto-finance-siapkan-transformasi-digital',\n",
       " 'https://www.financial-planning.com/list/ai-and-other-future-trends-for-financial-advisors',\n",
       " 'https://www.mobihealthnews.com/news/north-america/youth-facing-homelessness-embrace-digital-interventions-despite-few-clinical',\n",
       " 'https://www.pymnts.com/news/b2b-payments/2019/a-new-divide-in-business-banking/',\n",
       " 'https://www.reuters.com/article/us-norway-moneylaunderingsanctions-idUSKCN1TX29B',\n",
       " 'https://www.reuters.com/article/us-mexico-uber-idUSKCN1TX23N',\n",
       " 'https://www.forbes.com/sites/forbesagencycouncil/2019/07/02/15-strategies-to-help-agencies-and-clients-develop-strong-working-relationships/',\n",
       " 'https://www.cjr.org/the_media_today/media_layoffs_the_vindicator.php',\n",
       " 'https://www.accountingtoday.com/author/oussama-el-hilali',\n",
       " 'https://www.investing.com/news/cryptocurrency-news/zclassic-zcl-gets-delisted-from-bittrex-news-crashes-price-to-record-lows-1913357',\n",
       " 'https://www.gbc.gi/news/gibraltar-continue-successful-digital-financial-hub-even-after-brexit-says-picardo',\n",
       " 'https://www.ship-technology.com/news/dp-world-partners-oracle-digital-transformation/',\n",
       " 'https://www.financialexpress.com/budget/budget-2018-fm-arun-jaitley-still-has-to-reason-his-case-against-cryptocurrencies/1046501/',\n",
       " 'https://www.azernews.az/region/126501.html',\n",
       " 'https://www.businesswire.com/news/home/20180202005104/en/Digiliti-Money-formerly-Cachet-Financial-Solutions-to-Merge-Into-Urban-FT',\n",
       " 'https://www.nature.com/articles/d41586-018-01504-5',\n",
       " 'https://www.beckershospitalreview.com/finance/these-3-clinics-accept-bitcoin-payments-but-see-little-demand-from-patients.html',\n",
       " 'https://www.searchenginejournal.com/instagram-introduces-type-mode-text-based-stories/235003/',\n",
       " 'https://www.govtech.com/fs/infrastructure/floridas-latest-railroad-is-a-mostly-private-gamble.html',\n",
       " 'https://www.dw.com/en/three-as-post-strong-financial-results/av-42419400',\n",
       " 'https://www.cnbc.com/2018/02/02/japanese-regulators-raid-coincheck-in-wake-of-crypto-heist.html',\n",
       " 'https://www.americanbanker.com/news/fed-drops-hammer-on-wells-fargo-as-four-board-members-fired',\n",
       " 'https://www.reuters.com/article/us-china-banking-fraud-idUSKBN1FM16S',\n",
       " 'https://www.forbes.com/sites/forbesagencycouncil/2018/02/02/how-fast-growing-financial-companies-are-leveraging-marketing-efforts/',\n",
       " 'https://www.reuters.com/article/us-usa-trump-russia-sanctions-idUSKBN1FM24Q',\n",
       " 'https://www.reuters.com/article/us-india-property-rights-idUSKBN1FM19L',\n",
       " 'https://www.business-standard.com/article/companies/nike-s-limited-edition-playstation-sneaker-the-pg2-vibrates-on-your-feet-118020201674_1.html',\n",
       " 'https://www.forbes.com/sites/danpontefract/2018/02/02/why-your-organization-needs-an-internal-gig-economy-platform/',\n",
       " 'https://hbr.org/2018/02/ikeas-success-cant-be-attributed-to-one-charismatic-leader',\n",
       " 'https://worldview.stratfor.com/article/dual-approach-forecasting-europe-s-future',\n",
       " 'https://www.agenceecofin.com/exploration/0202-54027-cameroun-new-age-loue-une-plateforme-de-forage-pour-le-projet-de-petrole-et-de-gaz-etinde',\n",
       " 'https://www.capacitymedia.com/article/29otbnxqlvj07jesyfj0g/news/mtn-targets-98m-nigerians-with-new-mobile-money-service',\n",
       " 'https://www.thejakartapost.com/academia/2019/09/02/how-inclusive-is-financial-inclusion-in-indonesia.html',\n",
       " 'https://pressgazette.co.uk/ft-financial-times-two-thirds-profit-growth-digital-subscription-success/',\n",
       " 'https://www.arabianbusiness.com/industries/banking-finance/427062-uaes-al-hilal-bank-hires-new-ceo-to-lead-digital-transformation',\n",
       " 'https://www.livemint.com/industry/banking/credit-history-shouldn-t-be-viewed-as-sensitive-data-say-digital-lenders-1567445641051.html',\n",
       " 'https://www.reuters.com/article/us-hsbc-hldg-blockchain-idUSKCN1VN1QL',\n",
       " 'https://www.reuters.com/article/egypt-economy-idUSL5N25T2KS',\n",
       " 'https://www.cnbc.com/2019/09/02/this-is-how-millennials-are-shaping-the-new-economy.html',\n",
       " 'https://www.reuters.com/article/novartis-ms-idUSL5N25U0NM',\n",
       " 'https://www.reuters.com/article/us-china-realestate-breakingviews-idUSKCN1VO04X',\n",
       " 'https://www.thegayuk.com/here-are-some-of-the-lgbt-news-sites-that-have-closed-in-recent-years/',\n",
       " 'https://www.zawya.com/en/press-release/deloitte-opens-its-first-digital-center-in-the-middle-east-lbbvc2k9',\n",
       " 'https://www.gfmag.com/topics/blogs/boubyan-bank-unites-zain-telecom-launch-digital-islamic-bank',\n",
       " 'https://www.prnewswire.com/news-releases/majority-the-first-digital-financial-service-for-migrants-launches-in-the-united-states-300929679.html',\n",
       " 'https://www.omfif.org/2019/10/digital-sdr-to-enhance-payment-systems/',\n",
       " 'https://www.paymentsjournal.com/disrupted-household-budgets-more-than-credit-card-debt-look-at-auto-loans/',\n",
       " 'https://www.devex.com/news/mongolian-nomads-create-shared-funds-and-financial-security-95673',\n",
       " 'https://fortune.com/2019/10/02/bank-blockchain-state-street-digital-assets/',\n",
       " 'https://www.businessinsider.in/finance/news/the-future-of-retail-mobile-online-digital-only-banking-technology/articleshow/71412460.cms',\n",
       " 'https://www.businessinsider.in/finance/news/majority-a-digital-bank-offering-packages-for-prepaid-cards-remittances-and-international-calling-160is-launching-in-the-us/articleshow/71409649.cms',\n",
       " 'https://www.forbes.com/sites/csylt/2019/10/02/formula-one-makes-2-million-loss-on-digital-media/',\n",
       " 'https://www.businessinsider.com/hgtvs-head-digital-on-strategy-a-very-brady-renovation-2019-9',\n",
       " 'https://www.businessinsider.com/banks-see-partners-as-best-path-to-digital-transformation-2019-10',\n",
       " 'https://www.businesswire.com/news/home/20191002005817/en/1-Digital-Broker-E*TRADE-Announces-0-Base-Rate-Commissions-for-Online-Stock-ETF-and-Options-Trades',\n",
       " 'https://www.cnbc.com/2019/10/02/how-millennials-can-overcome-their-fear-of-investing.html',\n",
       " 'https://blogs.imf.org/2019/10/02/to-tackle-housing-affordability-in-canada-build-more-houses/',\n",
       " 'https://www.zdnet.com/article/telstra-mixes-up-physical-and-digital-realities-for-better-water-flow/',\n",
       " 'https://iccwbo.org/media-wall/news-speeches/icc-new-ata-carnet-app-makes-digital-declarations-and-transactions-possible/',\n",
       " 'https://www.project-syndicate.org/commentary/platform-economy-digital-feudalism-by-mariana-mazzucato-2019-10',\n",
       " 'https://www.cnbc.com/2019/10/02/libra-association-companies-planning-to-meet-in-switzerland-this-month.html',\n",
       " 'https://www.hindustantimes.com/business-news/i-t-notices-without-computer-generated-identification-numbers-invalid-says-finance-minister-nirmala-sitharaman/story-tMe0AO43KlwequB7gqEMnN.html',\n",
       " 'https://www.risk.net/investing/7047346/how-virtu-trained-its-intelligent-algos',\n",
       " 'https://www.mobihealthnews.com/news/north-america/sleep-data-raises-6m-digital-platform-betternight',\n",
       " 'https://www.prnewswire.co.uk/news-releases/ecolog-leads-discussions-at-financing-for-sustainable-development-2030-forum-during-united-nations-general-assembly-897534874.html',\n",
       " 'https://www.nst.com.my/business/2019/10/526571/citibank-and-lazada-group-aim-500000-memberships-new-credit-card-sea',\n",
       " 'https://www.livemint.com/companies/news/click-moment-we-changed-tack-to-be-a-true-emi-lender-for-bharat-lizzie-chapman-co-founder-and-ceo-zestmoney-11570032580301.html',\n",
       " 'https://www.weforum.org/agenda/2019/10/india-technology-development-silicon-valley/',\n",
       " 'https://www.calcalistech.com/ctech/articles/0,7340,L-3771332,00.html',\n",
       " 'https://ec.europa.eu/commission/presscorner/detail/en/IP_19_5951',\n",
       " 'https://www.businessinsider.com/florida-man-video-cutting-lime-electric-scooter-brake-lines-arrested-2019-10',\n",
       " 'https://allafrica.com/stories/201910020327.html',\n",
       " 'https://www.reuters.com/article/us-usa-treasury-sanctions-idUSKBN1WH1Z0',\n",
       " 'https://www.reuters.com/article/us-cftc-new-york-brokerages-idUSKBN1WH23U',\n",
       " 'https://www.forbes.com/sites/gilpress/2019/10/02/ai-stats-news-86-of-consumers-prefer-to-interact-with-a-human-agent-rather-than-a-chatbot/',\n",
       " 'https://www.askmen.com/career_money/money/best-financial-practices-for-men-in-their-30s.html',\n",
       " 'https://www.reuters.com/article/us-hongkong-protest-markets-idUSKBN1WI0CR',\n",
       " 'https://www.reuters.com/article/us-citigroup-forex-ramchandani-idUSKBN1WH1Y2',\n",
       " 'https://www.forbes.com/sites/kellyphillipserb/2019/10/02/new-sales-tax-rules-take-effective-this-week-in-more-than-a-dozen-states/',\n",
       " 'https://wraltechwire.com/2019/10/02/study-raleigh-durham-is-nations-no-2-hottest-real-estate-market-charlotte-is-no-4/',\n",
       " 'https://www.timesnownews.com/business-economy/personal-finance/article/3-financial-habits-of-wealthy-successful-people/510826',\n",
       " 'https://www.cnbc.com/2019/11/02/pinterest-snap-and-amazons-ads-businesses-outpaced-the-giants-in-q3.html',\n",
       " 'https://www.business-standard.com/article/international/world-s-most-profitable-company-saudi-aramco-surprisingly-pays-very-little-119110201015_1.html',\n",
       " 'https://www.cnbc.com/2019/12/03/us-vows-100percent-tariffs-on-french-champagne-cheese-over-digital-tax.html',\n",
       " 'https://ehrintelligence.com/news/how-the-cloud-technologies-benefit-enterprise-resource-planning',\n",
       " 'https://www.esi-africa.com/industry-sectors/research-and-development/findings-of-world-banks-nigeria-digital-economy-diagnostic-report/',\n",
       " 'https://www.ft.com/content/04a4fcde-dfb5-11e9-b8e0-026e07cbe5b4',\n",
       " 'https://www.nyasatimes.com/digital-financial-transactions-service-offering-cheaper-more-secure-way-of-doing-business/',\n",
       " 'https://www.zdnet.com/article/dxc-partners-with-uts-to-open-digital-transformation-centre-in-sydney/',\n",
       " 'https://thefinancialbrand.com/news/gen-z-banking/generation-z-millennials-social-media-branch-youtube-marketing-90873/',\n",
       " 'https://waterfm.com/reno-selects-sensus-for-smart-water-deployment/',\n",
       " 'https://www.theafricareport.com/20682/mtn-must-adapt-mobile-money-model-to-crack-south-african-market/',\n",
       " 'https://www.forbes.com/sites/ronshevlin/2019/12/02/the-5-debates-that-will-shape-fintech-in-the-2020s/',\n",
       " 'https://www.kroll.com/en/our-team/james-mcleary',\n",
       " 'https://www.theguardian.com/news/audio/2019/dec/02/how-big-tech-is-dragging-us-towards-the-next-financial-crash',\n",
       " 'https://www.prnewswire.com/news-releases/top-5-technology-trends-to-impact-the-digital-infrastructure-landscape-in-2020-300966940.html',\n",
       " 'https://www.ft.com/content/91b7db44-1527-11ea-9ee4-11f260415385',\n",
       " 'https://www.forbes.com/sites/forbesfinancecouncil/2019/12/02/why-consumers-need-to-be-aware-of-libor/',\n",
       " 'https://www.reuters.com/article/russia-economy-budget-idUSL8N28C22S',\n",
       " 'https://www.ft.com/content/92fddc33-536c-47e5-85e3-2041b785dd81',\n",
       " 'https://www.reuters.com/article/airasia-santan-idUSL4N28C1NC',\n",
       " 'https://www.forbes.com/sites/forbestechcouncil/2019/12/02/what-is-the-cost-of-a-data-breach/',\n",
       " 'https://www.zdnet.com/finance/blockchain/10-ways-the-enterprise-uses-blockchain/',\n",
       " 'https://www.livemint.com/opinion/columns/address-underlying-problems-to-raise-our-growth-trajectory-11575304917175.html',\n",
       " 'https://www.reuters.com/article/oneconnect-ipo-idUSL8N28C3SR',\n",
       " 'https://www.ccn.com/real-reason-stock-market-all-time-high/',\n",
       " 'https://www.nbcnews.com/better/lifestyle/7-tips-deal-debt-stress-ncna1094076',\n",
       " 'https://delano.lu/article/delano_theatre-review-immorality-play',\n",
       " 'https://maritime-executive.com/editorials/tanzania-pushes-back-on-chinese-port-project',\n",
       " 'https://www.scmp.com/tech/big-tech/article/3044349/chinas-ant-financial-joins-razer-grab-contest-singapore-digital',\n",
       " 'https://www.financialexpress.com/economy/digital-india-to-get-boost-from-these-areas-in-2020-fintech-apps-rule-in-upi-transactions/1810737/',\n",
       " 'https://www.forbes.com/sites/forbesfinancecouncil/2020/01/02/13-changes-coming-to-the-banking-industry/',\n",
       " 'https://news.bloombergtax.com/financial-accounting/big-four-invest-billions-in-tech-reshaping-their-identities',\n",
       " 'https://www.forbes.com/sites/impactpartners/2020/01/02/three-lies-financial-advisors-tell/',\n",
       " 'https://www.livemint.com/money/personal-finance/shriram-transport-finance-offers-ncds-with-interest-rates-up-to-9-1-11577967004247.html',\n",
       " 'https://www.forbes.com/sites/forbestechcouncil/2020/01/02/16-ways-to-make-digital-payment-methods-more-effective/',\n",
       " 'https://ewnews.com/pm-on-campaign-finance-reform-i-have-seven-more-years',\n",
       " 'https://finance.yahoo.com/news/top-20-entrepreneurs-watch-2020-204500266.html',\n",
       " 'https://www.forbes.com/sites/forbesfinancecouncil/2020/01/02/the-high-cost-of-it-in-health-care/',\n",
       " 'https://www.forbes.com/sites/poetsandquants/2020/01/02/what-new-college-grads-made-in-2019/',\n",
       " 'https://www.accountancyage.com/2020/01/02/what-is-arga-brydons-recommendations-for-stronger-audit-regulator/',\n",
       " 'https://www.reuters.com/article/us-algeria-government-idUSKBN1Z11CU',\n",
       " 'https://www.expresshealthcare.in/news/internet-services-in-80-hospitals-in-kashmir-restored/415992/',\n",
       " 'https://www.reuters.com/article/us-usa-trump-impeachment-explainer-idUSKBN1Z10PT',\n",
       " 'https://www.livemint.com/companies/news/centrum-housing-finance-raises-rs-190-crore-from-morgan-stanley-s-pe-arm-11580647052532.html',\n",
       " 'https://www.reuters.com/article/us-emirates-startup-financing-idUSKBN1ZX0Q3',\n",
       " 'https://www.reuters.com/article/us-health-china-shortselling-idUSKBN1ZW0P2',\n",
       " 'https://www.ccn.com/is-warren-buffett-saving-his-cash-pile-to-buy-a-housing-market-crash/',\n",
       " 'https://www.reuters.com/article/us-britain-eu-trade-usa-mandate-digital-idUSKBN20P1LY',\n",
       " 'http://www.tribune242.com/news/2020/mar/02/bahamian-digital-dollar-to-boost-finance-crime/',\n",
       " 'https://www.businesstimes.com.sg/companies-markets/dbs-ocbc-pushing-trade-finance-into-the-digital-age',\n",
       " 'https://www.business-standard.com/article/companies/more-than-30-of-top-50-listed-companies-complete-digital-overhaul-120030201539_1.html',\n",
       " 'https://www.forbes.com/sites/ronshevlin/2020/03/02/the-next-revolution-in-personal-finance-the-financial-feed/',\n",
       " 'https://seekingalpha.com/article/4328665-why-outsourcing-your-digital-marketing-to-agency-makes-sense',\n",
       " 'https://www.autoremarketing.com/subprime/two-former-ny-hyundai-store-managers-indicted-elaborate-1-point-5-million-fraud-scheme-involving-chase',\n",
       " 'https://www.imf.org/external/pubs/ft/fandd/2020/03/interview-with-somalia-finance-minister-abdirahman-dualeh-beileh-trenches.htm',\n",
       " 'https://www.imf.org/en/Publications/fandd/issues/2020/03/what-are-negative-interest-rates-basics',\n",
       " 'https://www.imf.org/en/Publications/fandd/issues/2020/03/infographic-global-population-trends-picture',\n",
       " 'https://www.reuters.com/article/us-indonesia-digitalpayments-islam-idUSKBN20Q0IA',\n",
       " 'https://inc42.com/startups/inspired-by-legos-yap-breaks-down-banking-into-ai-based-api-modules/',\n",
       " 'https://www.imf.org/en/Publications/fandd/issues/2020/03/powering-Africa-with-solar-energy-sy',\n",
       " 'https://www.ft.com/content/691390ca-53d9-11ea-90ad-25e377c0ee1f',\n",
       " 'https://www.forbes.com/sites/forbesfinancecouncil/2020/03/02/how-to-be-successful-in-financial-services-even-without-a-degree/',\n",
       " 'https://www.forbes.com/sites/jackmccullough/2020/03/02/what-do-ceos-want-from-their-cfos/',\n",
       " 'https://www.forbes.com/sites/forbesfinancecouncil/2020/03/02/mergers-and-acquisitions-financing-external-vs-internal-options/',\n",
       " 'https://www.imf.org/en/Publications/fandd/issues/2020/03/imf-launches-world-uncertainty-index-wui-furceri',\n",
       " ...]"
      ]
     },
     "execution_count": 54,
     "metadata": {},
     "output_type": "execute_result"
    }
   ],
   "source": [
    "data"
   ]
  },
  {
   "cell_type": "code",
   "execution_count": 42,
   "id": "7df45c42",
   "metadata": {},
   "outputs": [],
   "source": [
    "from newspaper import Article\n",
    "url = 'https://www.ilo.org/global/about-the-ilo/newsroom/news/WCMS_836084/lang--en/index.htm'\n",
    "article = Article(url)\n",
    "article.download()\n",
    "article.parse()\n",
    "article.publish_date\n",
    "article.text"
   ]
  }
 ],
 "metadata": {
  "kernelspec": {
   "display_name": "Python 3",
   "language": "python",
   "name": "python3"
  },
  "language_info": {
   "codemirror_mode": {
    "name": "ipython",
    "version": 3
   },
   "file_extension": ".py",
   "mimetype": "text/x-python",
   "name": "python",
   "nbconvert_exporter": "python",
   "pygments_lexer": "ipython3",
   "version": "3.9.12"
  }
 },
 "nbformat": 4,
 "nbformat_minor": 5
}
