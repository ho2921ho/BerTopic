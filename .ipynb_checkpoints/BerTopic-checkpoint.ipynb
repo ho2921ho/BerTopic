{
 "cells": [
  {
   "cell_type": "code",
   "execution_count": 1,
   "id": "20715bce",
   "metadata": {
    "scrolled": true
   },
   "outputs": [
    {
     "name": "stdout",
     "output_type": "stream",
     "text": [
      "Python 3.9.12\n"
     ]
    }
   ],
   "source": [
    "!python --version"
   ]
  },
  {
   "cell_type": "code",
   "execution_count": 2,
   "id": "8cae5b54",
   "metadata": {},
   "outputs": [
    {
     "data": {
      "text/plain": [
       "'C:\\\\Users\\\\Notebiz003\\\\BerTopic'"
      ]
     },
     "execution_count": 2,
     "metadata": {},
     "output_type": "execute_result"
    }
   ],
   "source": [
    "import os\n",
    "os.getcwd()"
   ]
  },
  {
   "cell_type": "code",
   "execution_count": 3,
   "id": "c2fd8a64",
   "metadata": {
    "scrolled": true
   },
   "outputs": [
    {
     "name": "stdout",
     "output_type": "stream",
     "text": [
      "Requirement already satisfied: pandas in c:\\users\\notebiz003\\anaconda3\\envs\\py36\\lib\\site-packages (1.1.5)\n",
      "Requirement already satisfied: pytz>=2017.2 in c:\\users\\notebiz003\\anaconda3\\envs\\py36\\lib\\site-packages (from pandas) (2022.1)\n",
      "Requirement already satisfied: python-dateutil>=2.7.3 in c:\\users\\notebiz003\\anaconda3\\envs\\py36\\lib\\site-packages (from pandas) (2.8.2)\n",
      "Requirement already satisfied: numpy>=1.15.4 in c:\\users\\notebiz003\\anaconda3\\envs\\py36\\lib\\site-packages (from pandas) (1.19.5)\n",
      "Requirement already satisfied: six>=1.5 in c:\\users\\notebiz003\\anaconda3\\envs\\py36\\lib\\site-packages (from python-dateutil>=2.7.3->pandas) (1.16.0)\n",
      "Requirement already satisfied: konlpy in c:\\users\\notebiz003\\anaconda3\\envs\\py36\\lib\\site-packages (0.6.0)\n",
      "Requirement already satisfied: JPype1>=0.7.0 in c:\\users\\notebiz003\\anaconda3\\envs\\py36\\lib\\site-packages (from konlpy) (1.3.0)\n",
      "Requirement already satisfied: numpy>=1.6 in c:\\users\\notebiz003\\anaconda3\\envs\\py36\\lib\\site-packages (from konlpy) (1.19.5)\n",
      "Requirement already satisfied: lxml>=4.1.0 in c:\\users\\notebiz003\\anaconda3\\envs\\py36\\lib\\site-packages (from konlpy) (4.9.1)\n",
      "Requirement already satisfied: typing-extensions in c:\\users\\notebiz003\\anaconda3\\envs\\py36\\lib\\site-packages (from JPype1>=0.7.0->konlpy) (4.1.1)\n",
      "Requirement already satisfied: umap in c:\\users\\notebiz003\\anaconda3\\envs\\py36\\lib\\site-packages (0.1.1)\n",
      "Requirement already satisfied: scikit-learn in c:\\users\\notebiz003\\anaconda3\\envs\\py36\\lib\\site-packages (0.24.2)\n",
      "Requirement already satisfied: threadpoolctl>=2.0.0 in c:\\users\\notebiz003\\anaconda3\\envs\\py36\\lib\\site-packages (from scikit-learn) (3.1.0)\n",
      "Requirement already satisfied: joblib>=0.11 in c:\\users\\notebiz003\\anaconda3\\envs\\py36\\lib\\site-packages (from scikit-learn) (1.1.0)\n",
      "Requirement already satisfied: numpy>=1.13.3 in c:\\users\\notebiz003\\anaconda3\\envs\\py36\\lib\\site-packages (from scikit-learn) (1.19.5)\n",
      "Requirement already satisfied: scipy>=0.19.1 in c:\\users\\notebiz003\\anaconda3\\envs\\py36\\lib\\site-packages (from scikit-learn) (1.5.4)\n"
     ]
    }
   ],
   "source": [
    "!pip install pandas\n",
    "!pip install konlpy\n",
    "!pip install umap\n",
    "!pip install -U scikit-learn\n",
    "!pip install --upgrade pip\n",
    "!pip install matplotlib"
   ]
  },
  {
   "cell_type": "code",
   "execution_count": 3,
   "id": "e13f1d28",
   "metadata": {
    "scrolled": false
   },
   "outputs": [],
   "source": [
    "import pandas as pd\n",
    "path = \"C:/Users/Notebiz003/BerTopic/data/\"\n",
    "file_list = os.listdir(path)\n",
    "dfs = []"
   ]
  },
  {
   "cell_type": "code",
   "execution_count": 6,
   "id": "93a91903",
   "metadata": {},
   "outputs": [
    {
     "name": "stderr",
     "output_type": "stream",
     "text": [
      "C:\\Users\\Notebiz003\\anaconda3\\lib\\site-packages\\openpyxl\\styles\\stylesheet.py:226: UserWarning: Workbook contains no default style, apply openpyxl's default\n",
      "  warn(\"Workbook contains no default style, apply openpyxl's default\")\n"
     ]
    },
    {
     "name": "stdout",
     "output_type": "stream",
     "text": [
      "NewsResult_20180101-20181213.xlsx\n"
     ]
    },
    {
     "name": "stderr",
     "output_type": "stream",
     "text": [
      "C:\\Users\\Notebiz003\\anaconda3\\lib\\site-packages\\openpyxl\\styles\\stylesheet.py:226: UserWarning: Workbook contains no default style, apply openpyxl's default\n",
      "  warn(\"Workbook contains no default style, apply openpyxl's default\")\n"
     ]
    },
    {
     "name": "stdout",
     "output_type": "stream",
     "text": [
      "NewsResult_20190101-20191231.xlsx\n"
     ]
    },
    {
     "name": "stderr",
     "output_type": "stream",
     "text": [
      "C:\\Users\\Notebiz003\\anaconda3\\lib\\site-packages\\openpyxl\\styles\\stylesheet.py:226: UserWarning: Workbook contains no default style, apply openpyxl's default\n",
      "  warn(\"Workbook contains no default style, apply openpyxl's default\")\n"
     ]
    },
    {
     "name": "stdout",
     "output_type": "stream",
     "text": [
      "NewsResult_20200101-20201231.xlsx\n"
     ]
    },
    {
     "name": "stderr",
     "output_type": "stream",
     "text": [
      "C:\\Users\\Notebiz003\\anaconda3\\lib\\site-packages\\openpyxl\\styles\\stylesheet.py:226: UserWarning: Workbook contains no default style, apply openpyxl's default\n",
      "  warn(\"Workbook contains no default style, apply openpyxl's default\")\n"
     ]
    },
    {
     "name": "stdout",
     "output_type": "stream",
     "text": [
      "NewsResult_20210101-20211231.xlsx\n"
     ]
    },
    {
     "name": "stderr",
     "output_type": "stream",
     "text": [
      "C:\\Users\\Notebiz003\\anaconda3\\lib\\site-packages\\openpyxl\\styles\\stylesheet.py:226: UserWarning: Workbook contains no default style, apply openpyxl's default\n",
      "  warn(\"Workbook contains no default style, apply openpyxl's default\")\n"
     ]
    },
    {
     "name": "stdout",
     "output_type": "stream",
     "text": [
      "NewsResult_20220101-20220812.xlsx\n"
     ]
    }
   ],
   "source": [
    "for i in file_list:\n",
    "    df = pd.read_excel(path+i)\n",
    "    dfs.append(df)\n",
    "    print(i)"
   ]
  },
  {
   "cell_type": "code",
   "execution_count": 51,
   "id": "eca90c6b",
   "metadata": {},
   "outputs": [],
   "source": [
    "data = pd.concat(dfs)"
   ]
  },
  {
   "cell_type": "code",
   "execution_count": 8,
   "id": "2742592e",
   "metadata": {},
   "outputs": [],
   "source": [
    "from datetime import datetime\n",
    "\n",
    "import logging\n",
    "import re\n",
    "\n",
    "import numpy as np\n",
    "import pandas as pd"
   ]
  },
  {
   "cell_type": "code",
   "execution_count": 198,
   "id": "5b24a16f",
   "metadata": {},
   "outputs": [
    {
     "name": "stderr",
     "output_type": "stream",
     "text": [
      "<ipython-input-198-f07790b606d6>:9: SettingWithCopyWarning: \n",
      "A value is trying to be set on a copy of a slice from a DataFrame.\n",
      "Try using .loc[row_indexer,col_indexer] = value instead\n",
      "\n",
      "See the caveats in the documentation: https://pandas.pydata.org/pandas-docs/stable/user_guide/indexing.html#returning-a-view-versus-a-copy\n",
      "  df['키워드'] = corpus\n",
      "<ipython-input-198-f07790b606d6>:10: SettingWithCopyWarning: \n",
      "A value is trying to be set on a copy of a slice from a DataFrame.\n",
      "Try using .loc[row_indexer,col_indexer] = value instead\n",
      "\n",
      "See the caveats in the documentation: https://pandas.pydata.org/pandas-docs/stable/user_guide/indexing.html#returning-a-view-versus-a-copy\n",
      "  df['일자'] = [str(x)[0:4] for x in df['일자']]\n"
     ]
    },
    {
     "name": "stdout",
     "output_type": "stream",
     "text": [
      "2018\n",
      "2019\n",
      "2020\n",
      "2021\n",
      "2022\n"
     ]
    },
    {
     "name": "stderr",
     "output_type": "stream",
     "text": [
      "<ipython-input-198-f07790b606d6>:36: FutureWarning: Passing 'suffixes' which cause duplicate columns {'cnt_x'} in the result is deprecated and will raise a MergeError in a future version.\n",
      "  df = df.merge(tmp_df_list[i], on = 'keyword', how = 'outer')\n"
     ]
    },
    {
     "data": {
      "text/html": [
       "<div>\n",
       "<style scoped>\n",
       "    .dataframe tbody tr th:only-of-type {\n",
       "        vertical-align: middle;\n",
       "    }\n",
       "\n",
       "    .dataframe tbody tr th {\n",
       "        vertical-align: top;\n",
       "    }\n",
       "\n",
       "    .dataframe thead th {\n",
       "        text-align: right;\n",
       "    }\n",
       "</style>\n",
       "<table border=\"1\" class=\"dataframe\">\n",
       "  <thead>\n",
       "    <tr style=\"text-align: right;\">\n",
       "      <th></th>\n",
       "      <th>2018</th>\n",
       "      <th>2019</th>\n",
       "      <th>2020</th>\n",
       "      <th>2021</th>\n",
       "      <th>2022</th>\n",
       "      <th>tot_cnt</th>\n",
       "    </tr>\n",
       "    <tr>\n",
       "      <th>keyword</th>\n",
       "      <th></th>\n",
       "      <th></th>\n",
       "      <th></th>\n",
       "      <th></th>\n",
       "      <th></th>\n",
       "      <th></th>\n",
       "    </tr>\n",
       "  </thead>\n",
       "  <tbody>\n",
       "    <tr>\n",
       "      <th>신한</th>\n",
       "      <td>473.0</td>\n",
       "      <td>453.0</td>\n",
       "      <td>513.0</td>\n",
       "      <td>623.0</td>\n",
       "      <td>629.0</td>\n",
       "      <td>2691.0</td>\n",
       "    </tr>\n",
       "    <tr>\n",
       "      <th>신한은행</th>\n",
       "      <td>633.0</td>\n",
       "      <td>605.0</td>\n",
       "      <td>621.0</td>\n",
       "      <td>979.0</td>\n",
       "      <td>904.0</td>\n",
       "      <td>3742.0</td>\n",
       "    </tr>\n",
       "    <tr>\n",
       "      <th>소비자</th>\n",
       "      <td>572.0</td>\n",
       "      <td>953.0</td>\n",
       "      <td>1244.0</td>\n",
       "      <td>1715.0</td>\n",
       "      <td>1361.0</td>\n",
       "      <td>5845.0</td>\n",
       "    </tr>\n",
       "    <tr>\n",
       "      <th>금융업</th>\n",
       "      <td>175.0</td>\n",
       "      <td>247.0</td>\n",
       "      <td>367.0</td>\n",
       "      <td>383.0</td>\n",
       "      <td>424.0</td>\n",
       "      <td>1596.0</td>\n",
       "    </tr>\n",
       "    <tr>\n",
       "      <th>재정의</th>\n",
       "      <td>15.0</td>\n",
       "      <td>1.0</td>\n",
       "      <td>2.0</td>\n",
       "      <td>5.0</td>\n",
       "      <td>2.0</td>\n",
       "      <td>25.0</td>\n",
       "    </tr>\n",
       "    <tr>\n",
       "      <th>...</th>\n",
       "      <td>...</td>\n",
       "      <td>...</td>\n",
       "      <td>...</td>\n",
       "      <td>...</td>\n",
       "      <td>...</td>\n",
       "      <td>...</td>\n",
       "    </tr>\n",
       "    <tr>\n",
       "      <th>호랑이띠</th>\n",
       "      <td>0.0</td>\n",
       "      <td>0.0</td>\n",
       "      <td>0.0</td>\n",
       "      <td>0.0</td>\n",
       "      <td>2.0</td>\n",
       "      <td>2.0</td>\n",
       "    </tr>\n",
       "    <tr>\n",
       "      <th>닛케이225지수</th>\n",
       "      <td>0.0</td>\n",
       "      <td>0.0</td>\n",
       "      <td>0.0</td>\n",
       "      <td>0.0</td>\n",
       "      <td>2.0</td>\n",
       "      <td>2.0</td>\n",
       "    </tr>\n",
       "    <tr>\n",
       "      <th>항공우주국</th>\n",
       "      <td>0.0</td>\n",
       "      <td>0.0</td>\n",
       "      <td>0.0</td>\n",
       "      <td>0.0</td>\n",
       "      <td>2.0</td>\n",
       "      <td>2.0</td>\n",
       "    </tr>\n",
       "    <tr>\n",
       "      <th>트렌드들</th>\n",
       "      <td>0.0</td>\n",
       "      <td>0.0</td>\n",
       "      <td>0.0</td>\n",
       "      <td>0.0</td>\n",
       "      <td>2.0</td>\n",
       "      <td>2.0</td>\n",
       "    </tr>\n",
       "    <tr>\n",
       "      <th>year_cnt</th>\n",
       "      <td>171990.0</td>\n",
       "      <td>251701.0</td>\n",
       "      <td>307604.0</td>\n",
       "      <td>357655.0</td>\n",
       "      <td>353713.0</td>\n",
       "      <td>1442663.0</td>\n",
       "    </tr>\n",
       "  </tbody>\n",
       "</table>\n",
       "<p>125267 rows × 6 columns</p>\n",
       "</div>"
      ],
      "text/plain": [
       "              2018      2019      2020      2021      2022    tot_cnt\n",
       "keyword                                                              \n",
       "신한           473.0     453.0     513.0     623.0     629.0     2691.0\n",
       "신한은행         633.0     605.0     621.0     979.0     904.0     3742.0\n",
       "소비자          572.0     953.0    1244.0    1715.0    1361.0     5845.0\n",
       "금융업          175.0     247.0     367.0     383.0     424.0     1596.0\n",
       "재정의           15.0       1.0       2.0       5.0       2.0       25.0\n",
       "...            ...       ...       ...       ...       ...        ...\n",
       "호랑이띠           0.0       0.0       0.0       0.0       2.0        2.0\n",
       "닛케이225지수       0.0       0.0       0.0       0.0       2.0        2.0\n",
       "항공우주국          0.0       0.0       0.0       0.0       2.0        2.0\n",
       "트렌드들           0.0       0.0       0.0       0.0       2.0        2.0\n",
       "year_cnt  171990.0  251701.0  307604.0  357655.0  353713.0  1442663.0\n",
       "\n",
       "[125267 rows x 6 columns]"
      ]
     },
     "execution_count": 198,
     "metadata": {},
     "output_type": "execute_result"
    }
   ],
   "source": [
    "## 데이터 전처리\n",
    "data = data[['뉴스 식별자','일자','제목','키워드','특성추출(가중치순 상위 50개)']]\n",
    "cluster_mode = '특성추출(가중치순 상위 50개)'\n",
    "corpus = data[cluster_mode].values.tolist()\n",
    "\n",
    "for i, cp in enumerate(corpus):\n",
    "    corpus[i] = cp.split(',')\n",
    "df = data[['일자']]\n",
    "df['키워드'] = corpus\n",
    "df['일자'] = [str(x)[0:4] for x in df['일자']] \n",
    "\n",
    "# 키워드 사전 \n",
    "keyword_vocab = []\n",
    "for i in df['키워드']:\n",
    "    keyword_vocab.extend(i)\n",
    "keyword_vocab = list(set(keyword_vocab))\n",
    "\n",
    "# 연도별 카운팅 후 병합\n",
    "from collections import Counter\n",
    "years = ['2018','2019','2020','2021','2022']\n",
    "\n",
    "tmp_df_list = []\n",
    "for year in years:\n",
    "    print(year)\n",
    "    tmp = []\n",
    "    for i in df[df['일자']== year]['키워드']:\n",
    "        tmp.extend(i)\n",
    "    tmp_df = pd.DataFrame(pd.Series(Counter(tmp)))\n",
    "    tmp_df = tmp_df.reset_index()\n",
    "    tmp_df = tmp_df.rename(columns = {0:'cnt','index':'keyword'})\n",
    "    tmp_df_list.append(tmp_df)\n",
    "    \n",
    "df = tmp_df_list[0].merge(tmp_df_list[1], on = 'keyword', how = 'outer')\n",
    "for i in range(len(tmp_df_list)):\n",
    "    if i > 1:\n",
    "        df = df.merge(tmp_df_list[i], on = 'keyword', how = 'outer')\n",
    "col = ['keyword'] + years\n",
    "df.columns = col\n",
    "\n",
    "# 2022년 수치 날짜 보정\n",
    "df['2022'] = round(df['2022']*(365/224)) \n",
    "df\n",
    "\n",
    "# 합산 값 만들기\n",
    "df.index = df['keyword']\n",
    "df = df.drop('keyword', axis = 1)\n",
    "df['tot_cnt'] = df.sum(axis = 1)\n",
    "df = df.T\n",
    "df['year_cnt'] = df.sum(axis = 1)\n",
    "df = df.T\n",
    "df\n",
    "\n",
    "# 결측치 처리\n",
    "df =df.fillna(0)\n",
    "df"
   ]
  },
  {
   "cell_type": "code",
   "execution_count": 199,
   "id": "3dcee759",
   "metadata": {},
   "outputs": [
    {
     "data": {
      "text/html": [
       "<div>\n",
       "<style scoped>\n",
       "    .dataframe tbody tr th:only-of-type {\n",
       "        vertical-align: middle;\n",
       "    }\n",
       "\n",
       "    .dataframe tbody tr th {\n",
       "        vertical-align: top;\n",
       "    }\n",
       "\n",
       "    .dataframe thead th {\n",
       "        text-align: right;\n",
       "    }\n",
       "</style>\n",
       "<table border=\"1\" class=\"dataframe\">\n",
       "  <thead>\n",
       "    <tr style=\"text-align: right;\">\n",
       "      <th></th>\n",
       "      <th>2018</th>\n",
       "      <th>2019</th>\n",
       "      <th>2020</th>\n",
       "      <th>2021</th>\n",
       "      <th>2022</th>\n",
       "      <th>tot_cnt</th>\n",
       "    </tr>\n",
       "    <tr>\n",
       "      <th>keyword</th>\n",
       "      <th></th>\n",
       "      <th></th>\n",
       "      <th></th>\n",
       "      <th></th>\n",
       "      <th></th>\n",
       "      <th></th>\n",
       "    </tr>\n",
       "  </thead>\n",
       "  <tbody>\n",
       "    <tr>\n",
       "      <th>nft</th>\n",
       "      <td>0.0</td>\n",
       "      <td>0.0</td>\n",
       "      <td>7.0</td>\n",
       "      <td>356.0</td>\n",
       "      <td>753.0</td>\n",
       "      <td>1116.0</td>\n",
       "    </tr>\n",
       "  </tbody>\n",
       "</table>\n",
       "</div>"
      ],
      "text/plain": [
       "         2018  2019  2020   2021   2022  tot_cnt\n",
       "keyword                                         \n",
       "nft       0.0   0.0   7.0  356.0  753.0   1116.0"
      ]
     },
     "execution_count": 199,
     "metadata": {},
     "output_type": "execute_result"
    }
   ],
   "source": [
    "# 데이터 확인\n",
    "key = 'nft'\n",
    "df[df.index == key]"
   ]
  },
  {
   "cell_type": "code",
   "execution_count": null,
   "id": "6a083650",
   "metadata": {},
   "outputs": [],
   "source": []
  },
  {
   "cell_type": "code",
   "execution_count": 202,
   "id": "8fa5e829",
   "metadata": {},
   "outputs": [],
   "source": [
    "# 데이터 비교1 . 회귀선의 기울기\n",
    "# 연도별 건수 보정(normaliae)\n",
    "\n",
    "df2 = df.copy()\n",
    "for year in years:\n",
    "    df2[year] = df2[year][:-1]*10000 / df2[year][-1]\n",
    "from scipy import stats\n",
    "\n",
    "x = [1,2,3,4,5]\n",
    "\n",
    "slopes = []\n",
    "for i in list(df2.values):\n",
    "    y = i[:-1]\n",
    "    slope, intercept, r, p, std_err = stats.linregress(x, y)\n",
    "    slopes.append(slope)\n",
    "df2['slope'] = slopes"
   ]
  },
  {
   "cell_type": "code",
   "execution_count": 203,
   "id": "117f6466",
   "metadata": {
    "scrolled": true
   },
   "outputs": [
    {
     "data": {
      "text/html": [
       "<div>\n",
       "<style scoped>\n",
       "    .dataframe tbody tr th:only-of-type {\n",
       "        vertical-align: middle;\n",
       "    }\n",
       "\n",
       "    .dataframe tbody tr th {\n",
       "        vertical-align: top;\n",
       "    }\n",
       "\n",
       "    .dataframe thead th {\n",
       "        text-align: right;\n",
       "    }\n",
       "</style>\n",
       "<table border=\"1\" class=\"dataframe\">\n",
       "  <thead>\n",
       "    <tr style=\"text-align: right;\">\n",
       "      <th></th>\n",
       "      <th>2018</th>\n",
       "      <th>2019</th>\n",
       "      <th>2020</th>\n",
       "      <th>2021</th>\n",
       "      <th>2022</th>\n",
       "      <th>tot_cnt</th>\n",
       "      <th>slope</th>\n",
       "    </tr>\n",
       "    <tr>\n",
       "      <th>keyword</th>\n",
       "      <th></th>\n",
       "      <th></th>\n",
       "      <th></th>\n",
       "      <th></th>\n",
       "      <th></th>\n",
       "      <th></th>\n",
       "      <th></th>\n",
       "    </tr>\n",
       "  </thead>\n",
       "  <tbody>\n",
       "    <tr>\n",
       "      <th>코로나19</th>\n",
       "      <td>0.000000</td>\n",
       "      <td>0.000000</td>\n",
       "      <td>130.589979</td>\n",
       "      <td>79.573891</td>\n",
       "      <td>49.051067</td>\n",
       "      <td>8598.0</td>\n",
       "      <td>17.767602</td>\n",
       "    </tr>\n",
       "    <tr>\n",
       "      <th>가상자산</th>\n",
       "      <td>0.058143</td>\n",
       "      <td>0.993242</td>\n",
       "      <td>6.469357</td>\n",
       "      <td>18.817016</td>\n",
       "      <td>32.512234</td>\n",
       "      <td>2048.0</td>\n",
       "      <td>8.273196</td>\n",
       "    </tr>\n",
       "    <tr>\n",
       "      <th>메타버스</th>\n",
       "      <td>0.000000</td>\n",
       "      <td>0.039730</td>\n",
       "      <td>0.000000</td>\n",
       "      <td>21.109729</td>\n",
       "      <td>30.646315</td>\n",
       "      <td>1840.0</td>\n",
       "      <td>8.236263</td>\n",
       "    </tr>\n",
       "    <tr>\n",
       "      <th>마이데이터</th>\n",
       "      <td>1.860573</td>\n",
       "      <td>4.131887</td>\n",
       "      <td>18.107697</td>\n",
       "      <td>27.009269</td>\n",
       "      <td>27.423363</td>\n",
       "      <td>2629.0</td>\n",
       "      <td>7.400296</td>\n",
       "    </tr>\n",
       "    <tr>\n",
       "      <th>빅테크</th>\n",
       "      <td>0.116286</td>\n",
       "      <td>1.430268</td>\n",
       "      <td>18.952939</td>\n",
       "      <td>26.617830</td>\n",
       "      <td>24.059054</td>\n",
       "      <td>2424.0</td>\n",
       "      <td>7.307310</td>\n",
       "    </tr>\n",
       "    <tr>\n",
       "      <th>esg</th>\n",
       "      <td>0.058143</td>\n",
       "      <td>1.311079</td>\n",
       "      <td>5.038946</td>\n",
       "      <td>24.688597</td>\n",
       "      <td>24.567941</td>\n",
       "      <td>1941.0</td>\n",
       "      <td>7.239711</td>\n",
       "    </tr>\n",
       "    <tr>\n",
       "      <th>코로나</th>\n",
       "      <td>0.000000</td>\n",
       "      <td>0.000000</td>\n",
       "      <td>54.810731</td>\n",
       "      <td>29.693420</td>\n",
       "      <td>21.231903</td>\n",
       "      <td>3499.0</td>\n",
       "      <td>7.215723</td>\n",
       "    </tr>\n",
       "    <tr>\n",
       "      <th>온라인</th>\n",
       "      <td>31.397174</td>\n",
       "      <td>28.605369</td>\n",
       "      <td>62.255367</td>\n",
       "      <td>58.631922</td>\n",
       "      <td>42.887878</td>\n",
       "      <td>6789.0</td>\n",
       "      <td>5.300796</td>\n",
       "    </tr>\n",
       "    <tr>\n",
       "      <th>nft</th>\n",
       "      <td>0.000000</td>\n",
       "      <td>0.000000</td>\n",
       "      <td>0.227565</td>\n",
       "      <td>9.953726</td>\n",
       "      <td>21.288446</td>\n",
       "      <td>1116.0</td>\n",
       "      <td>5.253062</td>\n",
       "    </tr>\n",
       "    <tr>\n",
       "      <th>투자자</th>\n",
       "      <td>25.815454</td>\n",
       "      <td>22.804836</td>\n",
       "      <td>24.642072</td>\n",
       "      <td>40.066545</td>\n",
       "      <td>43.396765</td>\n",
       "      <td>4744.0</td>\n",
       "      <td>5.242433</td>\n",
       "    </tr>\n",
       "  </tbody>\n",
       "</table>\n",
       "</div>"
      ],
      "text/plain": [
       "              2018       2019        2020       2021       2022  tot_cnt  \\\n",
       "keyword                                                                    \n",
       "코로나19     0.000000   0.000000  130.589979  79.573891  49.051067   8598.0   \n",
       "가상자산      0.058143   0.993242    6.469357  18.817016  32.512234   2048.0   \n",
       "메타버스      0.000000   0.039730    0.000000  21.109729  30.646315   1840.0   \n",
       "마이데이터     1.860573   4.131887   18.107697  27.009269  27.423363   2629.0   \n",
       "빅테크       0.116286   1.430268   18.952939  26.617830  24.059054   2424.0   \n",
       "esg       0.058143   1.311079    5.038946  24.688597  24.567941   1941.0   \n",
       "코로나       0.000000   0.000000   54.810731  29.693420  21.231903   3499.0   \n",
       "온라인      31.397174  28.605369   62.255367  58.631922  42.887878   6789.0   \n",
       "nft       0.000000   0.000000    0.227565   9.953726  21.288446   1116.0   \n",
       "투자자      25.815454  22.804836   24.642072  40.066545  43.396765   4744.0   \n",
       "\n",
       "             slope  \n",
       "keyword             \n",
       "코로나19    17.767602  \n",
       "가상자산      8.273196  \n",
       "메타버스      8.236263  \n",
       "마이데이터     7.400296  \n",
       "빅테크       7.307310  \n",
       "esg       7.239711  \n",
       "코로나       7.215723  \n",
       "온라인       5.300796  \n",
       "nft       5.253062  \n",
       "투자자       5.242433  "
      ]
     },
     "execution_count": 203,
     "metadata": {},
     "output_type": "execute_result"
    }
   ],
   "source": [
    "df2.sort_values(by = 'slope',ascending = False)[0:10]"
   ]
  },
  {
   "cell_type": "code",
   "execution_count": 204,
   "id": "55c6ff4d",
   "metadata": {},
   "outputs": [
    {
     "data": {
      "text/html": [
       "<div>\n",
       "<style scoped>\n",
       "    .dataframe tbody tr th:only-of-type {\n",
       "        vertical-align: middle;\n",
       "    }\n",
       "\n",
       "    .dataframe tbody tr th {\n",
       "        vertical-align: top;\n",
       "    }\n",
       "\n",
       "    .dataframe thead th {\n",
       "        text-align: right;\n",
       "    }\n",
       "</style>\n",
       "<table border=\"1\" class=\"dataframe\">\n",
       "  <thead>\n",
       "    <tr style=\"text-align: right;\">\n",
       "      <th></th>\n",
       "      <th>2018</th>\n",
       "      <th>2019</th>\n",
       "      <th>2020</th>\n",
       "      <th>2021</th>\n",
       "      <th>2022</th>\n",
       "      <th>tot_cnt</th>\n",
       "      <th>slope</th>\n",
       "    </tr>\n",
       "    <tr>\n",
       "      <th>keyword</th>\n",
       "      <th></th>\n",
       "      <th></th>\n",
       "      <th></th>\n",
       "      <th></th>\n",
       "      <th></th>\n",
       "      <th></th>\n",
       "      <th></th>\n",
       "    </tr>\n",
       "  </thead>\n",
       "  <tbody>\n",
       "    <tr>\n",
       "      <th>블록체인</th>\n",
       "      <td>62.096634</td>\n",
       "      <td>39.531031</td>\n",
       "      <td>20.870990</td>\n",
       "      <td>21.361368</td>\n",
       "      <td>22.108319</td>\n",
       "      <td>4251.0</td>\n",
       "      <td>-9.814629</td>\n",
       "    </tr>\n",
       "    <tr>\n",
       "      <th>블록체</th>\n",
       "      <td>54.189197</td>\n",
       "      <td>43.623188</td>\n",
       "      <td>22.041326</td>\n",
       "      <td>25.695153</td>\n",
       "      <td>27.027562</td>\n",
       "      <td>4583.0</td>\n",
       "      <td>-7.225130</td>\n",
       "    </tr>\n",
       "    <tr>\n",
       "      <th>빅데이터</th>\n",
       "      <td>50.002907</td>\n",
       "      <td>42.590216</td>\n",
       "      <td>45.578081</td>\n",
       "      <td>31.287134</td>\n",
       "      <td>20.949188</td>\n",
       "      <td>5194.0</td>\n",
       "      <td>-6.941052</td>\n",
       "    </tr>\n",
       "    <tr>\n",
       "      <th>핀테크</th>\n",
       "      <td>49.072621</td>\n",
       "      <td>71.831260</td>\n",
       "      <td>47.853734</td>\n",
       "      <td>43.533573</td>\n",
       "      <td>34.971856</td>\n",
       "      <td>6918.0</td>\n",
       "      <td>-5.649922</td>\n",
       "    </tr>\n",
       "    <tr>\n",
       "      <th>서울</th>\n",
       "      <td>71.050642</td>\n",
       "      <td>70.122884</td>\n",
       "      <td>55.525936</td>\n",
       "      <td>47.503879</td>\n",
       "      <td>57.673877</td>\n",
       "      <td>8434.0</td>\n",
       "      <td>-4.937254</td>\n",
       "    </tr>\n",
       "    <tr>\n",
       "      <th>본부장</th>\n",
       "      <td>41.630327</td>\n",
       "      <td>37.782925</td>\n",
       "      <td>30.201168</td>\n",
       "      <td>31.454894</td>\n",
       "      <td>24.935470</td>\n",
       "      <td>4603.0</td>\n",
       "      <td>-3.971775</td>\n",
       "    </tr>\n",
       "    <tr>\n",
       "      <th>국민은행</th>\n",
       "      <td>25.989883</td>\n",
       "      <td>27.691586</td>\n",
       "      <td>16.417212</td>\n",
       "      <td>15.853266</td>\n",
       "      <td>12.298106</td>\n",
       "      <td>2651.0</td>\n",
       "      <td>-3.922187</td>\n",
       "    </tr>\n",
       "    <tr>\n",
       "      <th>kb</th>\n",
       "      <td>30.641316</td>\n",
       "      <td>32.101581</td>\n",
       "      <td>23.926867</td>\n",
       "      <td>20.690330</td>\n",
       "      <td>19.083268</td>\n",
       "      <td>3486.0</td>\n",
       "      <td>-3.452735</td>\n",
       "    </tr>\n",
       "    <tr>\n",
       "      <th>중국</th>\n",
       "      <td>34.595035</td>\n",
       "      <td>36.988331</td>\n",
       "      <td>32.411802</td>\n",
       "      <td>30.168738</td>\n",
       "      <td>21.458075</td>\n",
       "      <td>4361.0</td>\n",
       "      <td>-3.309351</td>\n",
       "    </tr>\n",
       "    <tr>\n",
       "      <th>스마트폰</th>\n",
       "      <td>19.652305</td>\n",
       "      <td>20.063488</td>\n",
       "      <td>17.164926</td>\n",
       "      <td>9.674127</td>\n",
       "      <td>8.340095</td>\n",
       "      <td>2012.0</td>\n",
       "      <td>-3.301378</td>\n",
       "    </tr>\n",
       "  </tbody>\n",
       "</table>\n",
       "</div>"
      ],
      "text/plain": [
       "              2018       2019       2020       2021       2022  tot_cnt  \\\n",
       "keyword                                                                   \n",
       "블록체인     62.096634  39.531031  20.870990  21.361368  22.108319   4251.0   \n",
       "블록체      54.189197  43.623188  22.041326  25.695153  27.027562   4583.0   \n",
       "빅데이터     50.002907  42.590216  45.578081  31.287134  20.949188   5194.0   \n",
       "핀테크      49.072621  71.831260  47.853734  43.533573  34.971856   6918.0   \n",
       "서울       71.050642  70.122884  55.525936  47.503879  57.673877   8434.0   \n",
       "본부장      41.630327  37.782925  30.201168  31.454894  24.935470   4603.0   \n",
       "국민은행     25.989883  27.691586  16.417212  15.853266  12.298106   2651.0   \n",
       "kb       30.641316  32.101581  23.926867  20.690330  19.083268   3486.0   \n",
       "중국       34.595035  36.988331  32.411802  30.168738  21.458075   4361.0   \n",
       "스마트폰     19.652305  20.063488  17.164926   9.674127   8.340095   2012.0   \n",
       "\n",
       "            slope  \n",
       "keyword            \n",
       "블록체인    -9.814629  \n",
       "블록체     -7.225130  \n",
       "빅데이터    -6.941052  \n",
       "핀테크     -5.649922  \n",
       "서울      -4.937254  \n",
       "본부장     -3.971775  \n",
       "국민은행    -3.922187  \n",
       "kb      -3.452735  \n",
       "중국      -3.309351  \n",
       "스마트폰    -3.301378  "
      ]
     },
     "execution_count": 204,
     "metadata": {},
     "output_type": "execute_result"
    }
   ],
   "source": [
    "df2.sort_values(by = 'slope',ascending = True)[0:10]"
   ]
  },
  {
   "cell_type": "code",
   "execution_count": 183,
   "id": "ae6f0956",
   "metadata": {
    "scrolled": false
   },
   "outputs": [],
   "source": [
    "# 시각화 비교 남는 시간 방법\n",
    "\n",
    "\n",
    "x = []\n",
    "y = []\n",
    "keys = []\n",
    "min_cnt = 300\n",
    "for i in keyword_vocab:\n",
    "    word = i\n",
    "    if df['2021'][word] > min_cnt and df['2022'][word] > min_cnt:\n",
    "        conf_2021 = df['2021'][word]/df['2021'][-1]\n",
    "        conf_2022 = df['2022'][word]/df['2022'][-1]\n",
    "        ratio_2022 = conf_2022 / conf_2021\n",
    "        ratio_2021 = conf_2021 / conf_2022\n",
    "        key = word\n",
    "        x.append(ratio_2021)\n",
    "        y.append(ratio_2022)\n",
    "        keys.append(key)"
   ]
  },
  {
   "cell_type": "code",
   "execution_count": 184,
   "id": "e7e634fb",
   "metadata": {
    "scrolled": true
   },
   "outputs": [],
   "source": [
    "df3 = pd.DataFrame({'key2021':x,'key2022':y}, index = keys)"
   ]
  },
  {
   "cell_type": "code",
   "execution_count": 185,
   "id": "51334e66",
   "metadata": {},
   "outputs": [],
   "source": [
    "df3 = df3.dropna()"
   ]
  },
  {
   "cell_type": "code",
   "execution_count": 187,
   "id": "9ece3baa",
   "metadata": {},
   "outputs": [],
   "source": [
    "df3 = df3[df3.sum(axis = 1) != np.inf]"
   ]
  },
  {
   "cell_type": "code",
   "execution_count": 186,
   "id": "cf6f0b65",
   "metadata": {},
   "outputs": [
    {
     "data": {
      "text/plain": [
       "2.016397948794066"
      ]
     },
     "execution_count": 186,
     "metadata": {},
     "output_type": "execute_result"
    }
   ],
   "source": [
    "df2.sum(axis = 1)[0]"
   ]
  },
  {
   "cell_type": "code",
   "execution_count": 193,
   "id": "da9251bb",
   "metadata": {
    "scrolled": true
   },
   "outputs": [
    {
     "data": {
      "text/html": [
       "<div>\n",
       "<style scoped>\n",
       "    .dataframe tbody tr th:only-of-type {\n",
       "        vertical-align: middle;\n",
       "    }\n",
       "\n",
       "    .dataframe tbody tr th {\n",
       "        vertical-align: top;\n",
       "    }\n",
       "\n",
       "    .dataframe thead th {\n",
       "        text-align: right;\n",
       "    }\n",
       "</style>\n",
       "<table border=\"1\" class=\"dataframe\">\n",
       "  <thead>\n",
       "    <tr style=\"text-align: right;\">\n",
       "      <th></th>\n",
       "      <th>key2021</th>\n",
       "      <th>key2022</th>\n",
       "    </tr>\n",
       "  </thead>\n",
       "  <tbody>\n",
       "    <tr>\n",
       "      <th>비트코인</th>\n",
       "      <td>2.289220</td>\n",
       "      <td>0.436830</td>\n",
       "    </tr>\n",
       "    <tr>\n",
       "      <th>중앙은행</th>\n",
       "      <td>1.837033</td>\n",
       "      <td>0.544356</td>\n",
       "    </tr>\n",
       "    <tr>\n",
       "      <th>코로나19</th>\n",
       "      <td>1.622266</td>\n",
       "      <td>0.616422</td>\n",
       "    </tr>\n",
       "    <tr>\n",
       "      <th>농협은행</th>\n",
       "      <td>1.552466</td>\n",
       "      <td>0.644137</td>\n",
       "    </tr>\n",
       "    <tr>\n",
       "      <th>빅데이터</th>\n",
       "      <td>1.493477</td>\n",
       "      <td>0.669578</td>\n",
       "    </tr>\n",
       "    <tr>\n",
       "      <th>금융서비스</th>\n",
       "      <td>1.478539</td>\n",
       "      <td>0.676343</td>\n",
       "    </tr>\n",
       "    <tr>\n",
       "      <th>비대면</th>\n",
       "      <td>1.455396</td>\n",
       "      <td>0.687098</td>\n",
       "    </tr>\n",
       "    <tr>\n",
       "      <th>은행장</th>\n",
       "      <td>1.416376</td>\n",
       "      <td>0.706027</td>\n",
       "    </tr>\n",
       "    <tr>\n",
       "      <th>카카오페이</th>\n",
       "      <td>1.411917</td>\n",
       "      <td>0.708257</td>\n",
       "    </tr>\n",
       "    <tr>\n",
       "      <th>중국</th>\n",
       "      <td>1.405939</td>\n",
       "      <td>0.711269</td>\n",
       "    </tr>\n",
       "    <tr>\n",
       "      <th>코로나</th>\n",
       "      <td>1.398528</td>\n",
       "      <td>0.715037</td>\n",
       "    </tr>\n",
       "    <tr>\n",
       "      <th>온라인</th>\n",
       "      <td>1.367098</td>\n",
       "      <td>0.731477</td>\n",
       "    </tr>\n",
       "    <tr>\n",
       "      <th>가상화폐</th>\n",
       "      <td>1.348193</td>\n",
       "      <td>0.741733</td>\n",
       "    </tr>\n",
       "    <tr>\n",
       "      <th>연구원</th>\n",
       "      <td>1.322961</td>\n",
       "      <td>0.755880</td>\n",
       "    </tr>\n",
       "    <tr>\n",
       "      <th>사업자</th>\n",
       "      <td>1.306864</td>\n",
       "      <td>0.765191</td>\n",
       "    </tr>\n",
       "  </tbody>\n",
       "</table>\n",
       "</div>"
      ],
      "text/plain": [
       "        key2021   key2022\n",
       "비트코인   2.289220  0.436830\n",
       "중앙은행   1.837033  0.544356\n",
       "코로나19  1.622266  0.616422\n",
       "농협은행   1.552466  0.644137\n",
       "빅데이터   1.493477  0.669578\n",
       "금융서비스  1.478539  0.676343\n",
       "비대면    1.455396  0.687098\n",
       "은행장    1.416376  0.706027\n",
       "카카오페이  1.411917  0.708257\n",
       "중국     1.405939  0.711269\n",
       "코로나    1.398528  0.715037\n",
       "온라인    1.367098  0.731477\n",
       "가상화폐   1.348193  0.741733\n",
       "연구원    1.322961  0.755880\n",
       "사업자    1.306864  0.765191"
      ]
     },
     "execution_count": 193,
     "metadata": {},
     "output_type": "execute_result"
    }
   ],
   "source": [
    "df3.sort_values(by = 'key2022').head(15)"
   ]
  },
  {
   "cell_type": "code",
   "execution_count": 188,
   "id": "31f91c5a",
   "metadata": {
    "scrolled": true
   },
   "outputs": [
    {
     "data": {
      "text/html": [
       "<div>\n",
       "<style scoped>\n",
       "    .dataframe tbody tr th:only-of-type {\n",
       "        vertical-align: middle;\n",
       "    }\n",
       "\n",
       "    .dataframe tbody tr th {\n",
       "        vertical-align: top;\n",
       "    }\n",
       "\n",
       "    .dataframe thead th {\n",
       "        text-align: right;\n",
       "    }\n",
       "</style>\n",
       "<table border=\"1\" class=\"dataframe\">\n",
       "  <thead>\n",
       "    <tr style=\"text-align: right;\">\n",
       "      <th></th>\n",
       "      <th>key2021</th>\n",
       "      <th>key2022</th>\n",
       "    </tr>\n",
       "  </thead>\n",
       "  <tbody>\n",
       "    <tr>\n",
       "      <th>반도체</th>\n",
       "      <td>0.879882</td>\n",
       "      <td>1.136516</td>\n",
       "    </tr>\n",
       "    <tr>\n",
       "      <th>센터장</th>\n",
       "      <td>1.279042</td>\n",
       "      <td>0.781835</td>\n",
       "    </tr>\n",
       "    <tr>\n",
       "      <th>활성화</th>\n",
       "      <td>1.072239</td>\n",
       "      <td>0.932628</td>\n",
       "    </tr>\n",
       "    <tr>\n",
       "      <th>금융당국</th>\n",
       "      <td>1.140643</td>\n",
       "      <td>0.876699</td>\n",
       "    </tr>\n",
       "    <tr>\n",
       "      <th>업무협약</th>\n",
       "      <td>1.238300</td>\n",
       "      <td>0.807558</td>\n",
       "    </tr>\n",
       "    <tr>\n",
       "      <th>...</th>\n",
       "      <td>...</td>\n",
       "      <td>...</td>\n",
       "    </tr>\n",
       "    <tr>\n",
       "      <th>수수료</th>\n",
       "      <td>1.160105</td>\n",
       "      <td>0.861991</td>\n",
       "    </tr>\n",
       "    <tr>\n",
       "      <th>대한민국</th>\n",
       "      <td>0.937315</td>\n",
       "      <td>1.066877</td>\n",
       "    </tr>\n",
       "    <tr>\n",
       "      <th>은행권</th>\n",
       "      <td>1.095982</td>\n",
       "      <td>0.912423</td>\n",
       "    </tr>\n",
       "    <tr>\n",
       "      <th>소비자</th>\n",
       "      <td>1.246214</td>\n",
       "      <td>0.802430</td>\n",
       "    </tr>\n",
       "    <tr>\n",
       "      <th>투자자</th>\n",
       "      <td>0.923261</td>\n",
       "      <td>1.083117</td>\n",
       "    </tr>\n",
       "  </tbody>\n",
       "</table>\n",
       "<p>112 rows × 2 columns</p>\n",
       "</div>"
      ],
      "text/plain": [
       "       key2021   key2022\n",
       "반도체   0.879882  1.136516\n",
       "센터장   1.279042  0.781835\n",
       "활성화   1.072239  0.932628\n",
       "금융당국  1.140643  0.876699\n",
       "업무협약  1.238300  0.807558\n",
       "...        ...       ...\n",
       "수수료   1.160105  0.861991\n",
       "대한민국  0.937315  1.066877\n",
       "은행권   1.095982  0.912423\n",
       "소비자   1.246214  0.802430\n",
       "투자자   0.923261  1.083117\n",
       "\n",
       "[112 rows x 2 columns]"
      ]
     },
     "execution_count": 188,
     "metadata": {},
     "output_type": "execute_result"
    }
   ],
   "source": [
    "df2"
   ]
  },
  {
   "cell_type": "code",
   "execution_count": 205,
   "id": "dde55423",
   "metadata": {},
   "outputs": [
    {
     "data": {
      "text/html": [
       "<div>\n",
       "<style scoped>\n",
       "    .dataframe tbody tr th:only-of-type {\n",
       "        vertical-align: middle;\n",
       "    }\n",
       "\n",
       "    .dataframe tbody tr th {\n",
       "        vertical-align: top;\n",
       "    }\n",
       "\n",
       "    .dataframe thead th {\n",
       "        text-align: right;\n",
       "    }\n",
       "</style>\n",
       "<table border=\"1\" class=\"dataframe\">\n",
       "  <thead>\n",
       "    <tr style=\"text-align: right;\">\n",
       "      <th></th>\n",
       "      <th>2018</th>\n",
       "      <th>2019</th>\n",
       "      <th>2020</th>\n",
       "      <th>2021</th>\n",
       "      <th>2022</th>\n",
       "      <th>tot_cnt</th>\n",
       "    </tr>\n",
       "    <tr>\n",
       "      <th>keyword</th>\n",
       "      <th></th>\n",
       "      <th></th>\n",
       "      <th></th>\n",
       "      <th></th>\n",
       "      <th></th>\n",
       "      <th></th>\n",
       "    </tr>\n",
       "  </thead>\n",
       "  <tbody>\n",
       "    <tr>\n",
       "      <th>농협은행</th>\n",
       "      <td>290.0</td>\n",
       "      <td>427.0</td>\n",
       "      <td>531.0</td>\n",
       "      <td>540.0</td>\n",
       "      <td>344.0</td>\n",
       "      <td>2132.0</td>\n",
       "    </tr>\n",
       "  </tbody>\n",
       "</table>\n",
       "</div>"
      ],
      "text/plain": [
       "          2018   2019   2020   2021   2022  tot_cnt\n",
       "keyword                                            \n",
       "농협은행     290.0  427.0  531.0  540.0  344.0   2132.0"
      ]
     },
     "execution_count": 205,
     "metadata": {},
     "output_type": "execute_result"
    }
   ],
   "source": [
    "# 데이터 확인\n",
    "key = '농협은행'\n",
    "df[df.index == key]"
   ]
  },
  {
   "cell_type": "code",
   "execution_count": 194,
   "id": "9c67b1d7",
   "metadata": {
    "scrolled": true
   },
   "outputs": [
    {
     "data": {
      "text/html": [
       "<div>\n",
       "<style scoped>\n",
       "    .dataframe tbody tr th:only-of-type {\n",
       "        vertical-align: middle;\n",
       "    }\n",
       "\n",
       "    .dataframe tbody tr th {\n",
       "        vertical-align: top;\n",
       "    }\n",
       "\n",
       "    .dataframe thead th {\n",
       "        text-align: right;\n",
       "    }\n",
       "</style>\n",
       "<table border=\"1\" class=\"dataframe\">\n",
       "  <thead>\n",
       "    <tr style=\"text-align: right;\">\n",
       "      <th></th>\n",
       "      <th>key2021</th>\n",
       "      <th>key2022</th>\n",
       "    </tr>\n",
       "  </thead>\n",
       "  <tbody>\n",
       "    <tr>\n",
       "      <th>nft</th>\n",
       "      <td>0.467565</td>\n",
       "      <td>2.138741</td>\n",
       "    </tr>\n",
       "    <tr>\n",
       "      <th>가상자산</th>\n",
       "      <td>0.578767</td>\n",
       "      <td>1.727810</td>\n",
       "    </tr>\n",
       "    <tr>\n",
       "      <th>간담회</th>\n",
       "      <td>0.616238</td>\n",
       "      <td>1.622749</td>\n",
       "    </tr>\n",
       "    <tr>\n",
       "      <th>부산</th>\n",
       "      <td>0.667042</td>\n",
       "      <td>1.499156</td>\n",
       "    </tr>\n",
       "    <tr>\n",
       "      <th>메타버스</th>\n",
       "      <td>0.688818</td>\n",
       "      <td>1.451763</td>\n",
       "    </tr>\n",
       "    <tr>\n",
       "      <th>메타</th>\n",
       "      <td>0.734272</td>\n",
       "      <td>1.361894</td>\n",
       "    </tr>\n",
       "    <tr>\n",
       "      <th>위원장</th>\n",
       "      <td>0.742653</td>\n",
       "      <td>1.346524</td>\n",
       "    </tr>\n",
       "    <tr>\n",
       "      <th>부동산</th>\n",
       "      <td>0.755977</td>\n",
       "      <td>1.322791</td>\n",
       "    </tr>\n",
       "    <tr>\n",
       "      <th>고객들</th>\n",
       "      <td>0.774894</td>\n",
       "      <td>1.290500</td>\n",
       "    </tr>\n",
       "    <tr>\n",
       "      <th>자회사</th>\n",
       "      <td>0.786145</td>\n",
       "      <td>1.272030</td>\n",
       "    </tr>\n",
       "    <tr>\n",
       "      <th>신한금융</th>\n",
       "      <td>0.814453</td>\n",
       "      <td>1.227818</td>\n",
       "    </tr>\n",
       "    <tr>\n",
       "      <th>임직원</th>\n",
       "      <td>0.818028</td>\n",
       "      <td>1.222452</td>\n",
       "    </tr>\n",
       "    <tr>\n",
       "      <th>서울</th>\n",
       "      <td>0.823664</td>\n",
       "      <td>1.214088</td>\n",
       "    </tr>\n",
       "    <tr>\n",
       "      <th>위원회</th>\n",
       "      <td>0.849548</td>\n",
       "      <td>1.177096</td>\n",
       "    </tr>\n",
       "    <tr>\n",
       "      <th>스타트업</th>\n",
       "      <td>0.853292</td>\n",
       "      <td>1.171931</td>\n",
       "    </tr>\n",
       "  </tbody>\n",
       "</table>\n",
       "</div>"
      ],
      "text/plain": [
       "       key2021   key2022\n",
       "nft   0.467565  2.138741\n",
       "가상자산  0.578767  1.727810\n",
       "간담회   0.616238  1.622749\n",
       "부산    0.667042  1.499156\n",
       "메타버스  0.688818  1.451763\n",
       "메타    0.734272  1.361894\n",
       "위원장   0.742653  1.346524\n",
       "부동산   0.755977  1.322791\n",
       "고객들   0.774894  1.290500\n",
       "자회사   0.786145  1.272030\n",
       "신한금융  0.814453  1.227818\n",
       "임직원   0.818028  1.222452\n",
       "서울    0.823664  1.214088\n",
       "위원회   0.849548  1.177096\n",
       "스타트업  0.853292  1.171931"
      ]
     },
     "execution_count": 194,
     "metadata": {},
     "output_type": "execute_result"
    }
   ],
   "source": [
    "df2.sort_values(by = 'key2021').head(15)"
   ]
  },
  {
   "cell_type": "code",
   "execution_count": 206,
   "id": "ffd3f5dd",
   "metadata": {
    "scrolled": true
   },
   "outputs": [
    {
     "name": "stdout",
     "output_type": "stream",
     "text": [
      "Requirement already satisfied: sentence-transformers in c:\\users\\notebiz003\\anaconda3\\lib\\site-packages (2.2.2)\n",
      "Requirement already satisfied: sentencepiece in c:\\users\\notebiz003\\anaconda3\\lib\\site-packages (from sentence-transformers) (0.1.96)\n",
      "Requirement already satisfied: huggingface-hub>=0.4.0 in c:\\users\\notebiz003\\anaconda3\\lib\\site-packages (from sentence-transformers) (0.8.1)\n",
      "Requirement already satisfied: torchvision in c:\\users\\notebiz003\\anaconda3\\lib\\site-packages (from sentence-transformers) (0.13.0)\n",
      "Requirement already satisfied: transformers<5.0.0,>=4.6.0 in c:\\users\\notebiz003\\anaconda3\\lib\\site-packages (from sentence-transformers) (4.20.1)\n",
      "Requirement already satisfied: scikit-learn in c:\\users\\notebiz003\\anaconda3\\lib\\site-packages (from sentence-transformers) (1.0.2)\n",
      "Requirement already satisfied: tqdm in c:\\users\\notebiz003\\anaconda3\\lib\\site-packages (from sentence-transformers) (4.64.0)\n",
      "Requirement already satisfied: numpy in c:\\users\\notebiz003\\anaconda3\\lib\\site-packages (from sentence-transformers) (1.21.5)\n",
      "Requirement already satisfied: scipy in c:\\users\\notebiz003\\anaconda3\\lib\\site-packages (from sentence-transformers) (1.7.3)\n",
      "Requirement already satisfied: torch>=1.6.0 in c:\\users\\notebiz003\\anaconda3\\lib\\site-packages (from sentence-transformers) (1.12.0)\n",
      "Requirement already satisfied: nltk in c:\\users\\notebiz003\\anaconda3\\lib\\site-packages (from sentence-transformers) (3.7)\n",
      "Requirement already satisfied: packaging>=20.9 in c:\\users\\notebiz003\\anaconda3\\lib\\site-packages (from huggingface-hub>=0.4.0->sentence-transformers) (21.3)\n",
      "Requirement already satisfied: pyyaml>=5.1 in c:\\users\\notebiz003\\anaconda3\\lib\\site-packages (from huggingface-hub>=0.4.0->sentence-transformers) (6.0)\n",
      "Requirement already satisfied: requests in c:\\users\\notebiz003\\anaconda3\\lib\\site-packages (from huggingface-hub>=0.4.0->sentence-transformers) (2.27.1)\n",
      "Requirement already satisfied: typing-extensions>=3.7.4.3 in c:\\users\\notebiz003\\anaconda3\\lib\\site-packages (from huggingface-hub>=0.4.0->sentence-transformers) (4.1.1)\n",
      "Requirement already satisfied: filelock in c:\\users\\notebiz003\\anaconda3\\lib\\site-packages (from huggingface-hub>=0.4.0->sentence-transformers) (3.6.0)\n",
      "Requirement already satisfied: pyparsing!=3.0.5,>=2.0.2 in c:\\users\\notebiz003\\anaconda3\\lib\\site-packages (from packaging>=20.9->huggingface-hub>=0.4.0->sentence-transformers) (3.0.4)\n",
      "Requirement already satisfied: tokenizers!=0.11.3,<0.13,>=0.11.1 in c:\\users\\notebiz003\\anaconda3\\lib\\site-packages (from transformers<5.0.0,>=4.6.0->sentence-transformers) (0.12.1)\n",
      "Requirement already satisfied: regex!=2019.12.17 in c:\\users\\notebiz003\\anaconda3\\lib\\site-packages (from transformers<5.0.0,>=4.6.0->sentence-transformers) (2022.3.15)\n",
      "Requirement already satisfied: colorama in c:\\users\\notebiz003\\anaconda3\\lib\\site-packages (from tqdm->sentence-transformers) (0.4.4)\n",
      "Requirement already satisfied: joblib in c:\\users\\notebiz003\\anaconda3\\lib\\site-packages (from nltk->sentence-transformers) (1.1.0)\n",
      "Requirement already satisfied: click in c:\\users\\notebiz003\\anaconda3\\lib\\site-packages (from nltk->sentence-transformers) (8.0.4)\n",
      "Requirement already satisfied: idna<4,>=2.5 in c:\\users\\notebiz003\\anaconda3\\lib\\site-packages (from requests->huggingface-hub>=0.4.0->sentence-transformers) (3.3)\n",
      "Requirement already satisfied: charset-normalizer~=2.0.0 in c:\\users\\notebiz003\\anaconda3\\lib\\site-packages (from requests->huggingface-hub>=0.4.0->sentence-transformers) (2.0.4)\n",
      "Requirement already satisfied: urllib3<1.27,>=1.21.1 in c:\\users\\notebiz003\\anaconda3\\lib\\site-packages (from requests->huggingface-hub>=0.4.0->sentence-transformers) (1.26.9)\n",
      "Requirement already satisfied: certifi>=2017.4.17 in c:\\users\\notebiz003\\anaconda3\\lib\\site-packages (from requests->huggingface-hub>=0.4.0->sentence-transformers) (2021.10.8)\n",
      "Requirement already satisfied: threadpoolctl>=2.0.0 in c:\\users\\notebiz003\\anaconda3\\lib\\site-packages (from scikit-learn->sentence-transformers) (2.2.0)\n",
      "Requirement already satisfied: pillow!=8.3.*,>=5.3.0 in c:\\users\\notebiz003\\anaconda3\\lib\\site-packages (from torchvision->sentence-transformers) (9.2.0)\n"
     ]
    },
    {
     "ename": "RepositoryNotFoundError",
     "evalue": "401 Client Error: Repository Not Found for url: https://huggingface.co/api/models/kpfSBERT. If the repo is private, make sure you are authenticated. (Request ID: 1a1KF1SNh-lUdjb_2pT-o)",
     "output_type": "error",
     "traceback": [
      "\u001b[1;31m---------------------------------------------------------------------------\u001b[0m",
      "\u001b[1;31mRepositoryNotFoundError\u001b[0m                   Traceback (most recent call last)",
      "\u001b[1;32m<ipython-input-206-c4fc2f314a24>\u001b[0m in \u001b[0;36m<module>\u001b[1;34m\u001b[0m\n\u001b[0;32m      3\u001b[0m \u001b[1;33m\u001b[0m\u001b[0m\n\u001b[0;32m      4\u001b[0m \u001b[0mmodel_path\u001b[0m \u001b[1;33m=\u001b[0m \u001b[1;34m\"./kpfSBERT\"\u001b[0m\u001b[1;33m\u001b[0m\u001b[1;33m\u001b[0m\u001b[0m\n\u001b[1;32m----> 5\u001b[1;33m \u001b[0mmodel\u001b[0m \u001b[1;33m=\u001b[0m \u001b[0mSentenceTransformer\u001b[0m\u001b[1;33m(\u001b[0m\u001b[0mmodel_path\u001b[0m\u001b[1;33m)\u001b[0m\u001b[1;33m\u001b[0m\u001b[1;33m\u001b[0m\u001b[0m\n\u001b[0m\u001b[0;32m      6\u001b[0m \u001b[1;32mfrom\u001b[0m \u001b[0msklearn\u001b[0m\u001b[1;33m.\u001b[0m\u001b[0mcluster\u001b[0m \u001b[1;32mimport\u001b[0m \u001b[0mDBSCAN\u001b[0m\u001b[1;33m\u001b[0m\u001b[1;33m\u001b[0m\u001b[0m\n\u001b[0;32m      7\u001b[0m \u001b[1;32mimport\u001b[0m \u001b[0mmatplotlib\u001b[0m\u001b[1;33m.\u001b[0m\u001b[0mpyplot\u001b[0m \u001b[1;32mas\u001b[0m \u001b[0mplt\u001b[0m\u001b[1;33m\u001b[0m\u001b[1;33m\u001b[0m\u001b[0m\n",
      "\u001b[1;32m~\\anaconda3\\lib\\site-packages\\sentence_transformers\\SentenceTransformer.py\u001b[0m in \u001b[0;36m__init__\u001b[1;34m(self, model_name_or_path, modules, device, cache_folder, use_auth_token)\u001b[0m\n\u001b[0;32m     85\u001b[0m                 \u001b[1;32mif\u001b[0m \u001b[1;32mnot\u001b[0m \u001b[0mos\u001b[0m\u001b[1;33m.\u001b[0m\u001b[0mpath\u001b[0m\u001b[1;33m.\u001b[0m\u001b[0mexists\u001b[0m\u001b[1;33m(\u001b[0m\u001b[0mos\u001b[0m\u001b[1;33m.\u001b[0m\u001b[0mpath\u001b[0m\u001b[1;33m.\u001b[0m\u001b[0mjoin\u001b[0m\u001b[1;33m(\u001b[0m\u001b[0mmodel_path\u001b[0m\u001b[1;33m,\u001b[0m \u001b[1;34m'modules.json'\u001b[0m\u001b[1;33m)\u001b[0m\u001b[1;33m)\u001b[0m\u001b[1;33m:\u001b[0m\u001b[1;33m\u001b[0m\u001b[1;33m\u001b[0m\u001b[0m\n\u001b[0;32m     86\u001b[0m                     \u001b[1;31m# Download from hub with caching\u001b[0m\u001b[1;33m\u001b[0m\u001b[1;33m\u001b[0m\u001b[0m\n\u001b[1;32m---> 87\u001b[1;33m                     snapshot_download(model_name_or_path,\n\u001b[0m\u001b[0;32m     88\u001b[0m                                         \u001b[0mcache_dir\u001b[0m\u001b[1;33m=\u001b[0m\u001b[0mcache_folder\u001b[0m\u001b[1;33m,\u001b[0m\u001b[1;33m\u001b[0m\u001b[1;33m\u001b[0m\u001b[0m\n\u001b[0;32m     89\u001b[0m                                         \u001b[0mlibrary_name\u001b[0m\u001b[1;33m=\u001b[0m\u001b[1;34m'sentence-transformers'\u001b[0m\u001b[1;33m,\u001b[0m\u001b[1;33m\u001b[0m\u001b[1;33m\u001b[0m\u001b[0m\n",
      "\u001b[1;32m~\\anaconda3\\lib\\site-packages\\sentence_transformers\\util.py\u001b[0m in \u001b[0;36msnapshot_download\u001b[1;34m(repo_id, revision, cache_dir, library_name, library_version, user_agent, ignore_files, use_auth_token)\u001b[0m\n\u001b[0;32m    440\u001b[0m         \u001b[0mtoken\u001b[0m \u001b[1;33m=\u001b[0m \u001b[0mHfFolder\u001b[0m\u001b[1;33m.\u001b[0m\u001b[0mget_token\u001b[0m\u001b[1;33m(\u001b[0m\u001b[1;33m)\u001b[0m\u001b[1;33m\u001b[0m\u001b[1;33m\u001b[0m\u001b[0m\n\u001b[0;32m    441\u001b[0m \u001b[1;33m\u001b[0m\u001b[0m\n\u001b[1;32m--> 442\u001b[1;33m     \u001b[0mmodel_info\u001b[0m \u001b[1;33m=\u001b[0m \u001b[0m_api\u001b[0m\u001b[1;33m.\u001b[0m\u001b[0mmodel_info\u001b[0m\u001b[1;33m(\u001b[0m\u001b[0mrepo_id\u001b[0m\u001b[1;33m=\u001b[0m\u001b[0mrepo_id\u001b[0m\u001b[1;33m,\u001b[0m \u001b[0mrevision\u001b[0m\u001b[1;33m=\u001b[0m\u001b[0mrevision\u001b[0m\u001b[1;33m,\u001b[0m \u001b[0mtoken\u001b[0m\u001b[1;33m=\u001b[0m\u001b[0mtoken\u001b[0m\u001b[1;33m)\u001b[0m\u001b[1;33m\u001b[0m\u001b[1;33m\u001b[0m\u001b[0m\n\u001b[0m\u001b[0;32m    443\u001b[0m \u001b[1;33m\u001b[0m\u001b[0m\n\u001b[0;32m    444\u001b[0m     storage_folder = os.path.join(\n",
      "\u001b[1;32m~\\anaconda3\\lib\\site-packages\\huggingface_hub\\hf_api.py\u001b[0m in \u001b[0;36mmodel_info\u001b[1;34m(self, repo_id, revision, token, timeout, securityStatus)\u001b[0m\n\u001b[0;32m   1134\u001b[0m             \u001b[0mpath\u001b[0m\u001b[1;33m,\u001b[0m \u001b[0mheaders\u001b[0m\u001b[1;33m=\u001b[0m\u001b[0mheaders\u001b[0m\u001b[1;33m,\u001b[0m \u001b[0mtimeout\u001b[0m\u001b[1;33m=\u001b[0m\u001b[0mtimeout\u001b[0m\u001b[1;33m,\u001b[0m \u001b[0mparams\u001b[0m\u001b[1;33m=\u001b[0m\u001b[0mstatus_query_param\u001b[0m\u001b[1;33m\u001b[0m\u001b[1;33m\u001b[0m\u001b[0m\n\u001b[0;32m   1135\u001b[0m         )\n\u001b[1;32m-> 1136\u001b[1;33m         \u001b[0m_raise_for_status\u001b[0m\u001b[1;33m(\u001b[0m\u001b[0mr\u001b[0m\u001b[1;33m)\u001b[0m\u001b[1;33m\u001b[0m\u001b[1;33m\u001b[0m\u001b[0m\n\u001b[0m\u001b[0;32m   1137\u001b[0m         \u001b[0md\u001b[0m \u001b[1;33m=\u001b[0m \u001b[0mr\u001b[0m\u001b[1;33m.\u001b[0m\u001b[0mjson\u001b[0m\u001b[1;33m(\u001b[0m\u001b[1;33m)\u001b[0m\u001b[1;33m\u001b[0m\u001b[1;33m\u001b[0m\u001b[0m\n\u001b[0;32m   1138\u001b[0m         \u001b[1;32mreturn\u001b[0m \u001b[0mModelInfo\u001b[0m\u001b[1;33m(\u001b[0m\u001b[1;33m**\u001b[0m\u001b[0md\u001b[0m\u001b[1;33m)\u001b[0m\u001b[1;33m\u001b[0m\u001b[1;33m\u001b[0m\u001b[0m\n",
      "\u001b[1;32m~\\anaconda3\\lib\\site-packages\\huggingface_hub\\utils\\_errors.py\u001b[0m in \u001b[0;36m_raise_for_status\u001b[1;34m(request)\u001b[0m\n\u001b[0;32m     76\u001b[0m     \u001b[1;32mif\u001b[0m \u001b[0mrequest\u001b[0m\u001b[1;33m.\u001b[0m\u001b[0mstatus_code\u001b[0m \u001b[1;33m==\u001b[0m \u001b[1;36m401\u001b[0m\u001b[1;33m:\u001b[0m\u001b[1;33m\u001b[0m\u001b[1;33m\u001b[0m\u001b[0m\n\u001b[0;32m     77\u001b[0m         \u001b[1;31m# The repo was not found and the user is not Authenticated\u001b[0m\u001b[1;33m\u001b[0m\u001b[1;33m\u001b[0m\u001b[0m\n\u001b[1;32m---> 78\u001b[1;33m         raise RepositoryNotFoundError(\n\u001b[0m\u001b[0;32m     79\u001b[0m             \u001b[1;34mf\"401 Client Error: Repository Not Found for url: {request.url}. If the\"\u001b[0m\u001b[1;33m\u001b[0m\u001b[1;33m\u001b[0m\u001b[0m\n\u001b[0;32m     80\u001b[0m             \u001b[1;34m\" repo is private, make sure you are authenticated. (Request ID:\"\u001b[0m\u001b[1;33m\u001b[0m\u001b[1;33m\u001b[0m\u001b[0m\n",
      "\u001b[1;31mRepositoryNotFoundError\u001b[0m: 401 Client Error: Repository Not Found for url: https://huggingface.co/api/models/kpfSBERT. If the repo is private, make sure you are authenticated. (Request ID: 1a1KF1SNh-lUdjb_2pT-o)"
     ]
    }
   ],
   "source": [
    "!pip install sentence-transformers\n",
    "from sentence_transformers import SentenceTransformer\n",
    "\n",
    "\n",
    "from sklearn.cluster import DBSCAN\n",
    "import matplotlib.pyplot as plt"
   ]
  },
  {
   "cell_type": "code",
   "execution_count": 209,
   "id": "8c2b4143",
   "metadata": {},
   "outputs": [],
   "source": [
    "model_path = \"C:/Users/Notebiz003/kpfSBERT\"\n",
    "model = SentenceTransformer(model_path) "
   ]
  },
  {
   "cell_type": "code",
   "execution_count": 218,
   "id": "e8751878",
   "metadata": {
    "scrolled": false
   },
   "outputs": [],
   "source": [
    "for idx, i in enumerate(corpus):\n",
    "    corpus[idx] = ','.join(i)"
   ]
  },
  {
   "cell_type": "code",
   "execution_count": 223,
   "id": "3f74b2d5",
   "metadata": {},
   "outputs": [
    {
     "data": {
      "text/plain": [
       "68315"
      ]
     },
     "execution_count": 223,
     "metadata": {},
     "output_type": "execute_result"
    }
   ],
   "source": [
    "len(corpus)"
   ]
  },
  {
   "cell_type": "code",
   "execution_count": 224,
   "id": "20178f0e",
   "metadata": {
    "scrolled": true
   },
   "outputs": [
    {
     "data": {
      "application/vnd.jupyter.widget-view+json": {
       "model_id": "81be1b1a09494632bc203d91ec96511f",
       "version_major": 2,
       "version_minor": 0
      },
      "text/plain": [
       "Batches:   0%|          | 0/2135 [00:00<?, ?it/s]"
      ]
     },
     "metadata": {},
     "output_type": "display_data"
    },
    {
     "ename": "KeyboardInterrupt",
     "evalue": "",
     "output_type": "error",
     "traceback": [
      "\u001b[1;31m---------------------------------------------------------------------------\u001b[0m",
      "\u001b[1;31mKeyboardInterrupt\u001b[0m                         Traceback (most recent call last)",
      "\u001b[1;32m<ipython-input-224-918e9b6551a1>\u001b[0m in \u001b[0;36m<module>\u001b[1;34m\u001b[0m\n\u001b[0;32m      1\u001b[0m \u001b[1;31m# BERT 임베딩\u001b[0m\u001b[1;33m\u001b[0m\u001b[1;33m\u001b[0m\u001b[0m\n\u001b[1;32m----> 2\u001b[1;33m \u001b[0mcorpus_embeddings\u001b[0m \u001b[1;33m=\u001b[0m \u001b[0mmodel\u001b[0m\u001b[1;33m.\u001b[0m\u001b[0mencode\u001b[0m\u001b[1;33m(\u001b[0m\u001b[0mcorpus\u001b[0m\u001b[1;33m,\u001b[0m \u001b[0mshow_progress_bar\u001b[0m\u001b[1;33m=\u001b[0m\u001b[1;32mTrue\u001b[0m\u001b[1;33m)\u001b[0m\u001b[1;33m\u001b[0m\u001b[1;33m\u001b[0m\u001b[0m\n\u001b[0m",
      "\u001b[1;32m~\\anaconda3\\lib\\site-packages\\sentence_transformers\\SentenceTransformer.py\u001b[0m in \u001b[0;36mencode\u001b[1;34m(self, sentences, batch_size, show_progress_bar, output_value, convert_to_numpy, convert_to_tensor, device, normalize_embeddings)\u001b[0m\n\u001b[0;32m    163\u001b[0m \u001b[1;33m\u001b[0m\u001b[0m\n\u001b[0;32m    164\u001b[0m             \u001b[1;32mwith\u001b[0m \u001b[0mtorch\u001b[0m\u001b[1;33m.\u001b[0m\u001b[0mno_grad\u001b[0m\u001b[1;33m(\u001b[0m\u001b[1;33m)\u001b[0m\u001b[1;33m:\u001b[0m\u001b[1;33m\u001b[0m\u001b[1;33m\u001b[0m\u001b[0m\n\u001b[1;32m--> 165\u001b[1;33m                 \u001b[0mout_features\u001b[0m \u001b[1;33m=\u001b[0m \u001b[0mself\u001b[0m\u001b[1;33m.\u001b[0m\u001b[0mforward\u001b[0m\u001b[1;33m(\u001b[0m\u001b[0mfeatures\u001b[0m\u001b[1;33m)\u001b[0m\u001b[1;33m\u001b[0m\u001b[1;33m\u001b[0m\u001b[0m\n\u001b[0m\u001b[0;32m    166\u001b[0m \u001b[1;33m\u001b[0m\u001b[0m\n\u001b[0;32m    167\u001b[0m                 \u001b[1;32mif\u001b[0m \u001b[0moutput_value\u001b[0m \u001b[1;33m==\u001b[0m \u001b[1;34m'token_embeddings'\u001b[0m\u001b[1;33m:\u001b[0m\u001b[1;33m\u001b[0m\u001b[1;33m\u001b[0m\u001b[0m\n",
      "\u001b[1;32m~\\anaconda3\\lib\\site-packages\\torch\\nn\\modules\\container.py\u001b[0m in \u001b[0;36mforward\u001b[1;34m(self, input)\u001b[0m\n\u001b[0;32m    137\u001b[0m     \u001b[1;32mdef\u001b[0m \u001b[0mforward\u001b[0m\u001b[1;33m(\u001b[0m\u001b[0mself\u001b[0m\u001b[1;33m,\u001b[0m \u001b[0minput\u001b[0m\u001b[1;33m)\u001b[0m\u001b[1;33m:\u001b[0m\u001b[1;33m\u001b[0m\u001b[1;33m\u001b[0m\u001b[0m\n\u001b[0;32m    138\u001b[0m         \u001b[1;32mfor\u001b[0m \u001b[0mmodule\u001b[0m \u001b[1;32min\u001b[0m \u001b[0mself\u001b[0m\u001b[1;33m:\u001b[0m\u001b[1;33m\u001b[0m\u001b[1;33m\u001b[0m\u001b[0m\n\u001b[1;32m--> 139\u001b[1;33m             \u001b[0minput\u001b[0m \u001b[1;33m=\u001b[0m \u001b[0mmodule\u001b[0m\u001b[1;33m(\u001b[0m\u001b[0minput\u001b[0m\u001b[1;33m)\u001b[0m\u001b[1;33m\u001b[0m\u001b[1;33m\u001b[0m\u001b[0m\n\u001b[0m\u001b[0;32m    140\u001b[0m         \u001b[1;32mreturn\u001b[0m \u001b[0minput\u001b[0m\u001b[1;33m\u001b[0m\u001b[1;33m\u001b[0m\u001b[0m\n\u001b[0;32m    141\u001b[0m \u001b[1;33m\u001b[0m\u001b[0m\n",
      "\u001b[1;32m~\\anaconda3\\lib\\site-packages\\torch\\nn\\modules\\module.py\u001b[0m in \u001b[0;36m_call_impl\u001b[1;34m(self, *input, **kwargs)\u001b[0m\n\u001b[0;32m   1128\u001b[0m         if not (self._backward_hooks or self._forward_hooks or self._forward_pre_hooks or _global_backward_hooks\n\u001b[0;32m   1129\u001b[0m                 or _global_forward_hooks or _global_forward_pre_hooks):\n\u001b[1;32m-> 1130\u001b[1;33m             \u001b[1;32mreturn\u001b[0m \u001b[0mforward_call\u001b[0m\u001b[1;33m(\u001b[0m\u001b[1;33m*\u001b[0m\u001b[0minput\u001b[0m\u001b[1;33m,\u001b[0m \u001b[1;33m**\u001b[0m\u001b[0mkwargs\u001b[0m\u001b[1;33m)\u001b[0m\u001b[1;33m\u001b[0m\u001b[1;33m\u001b[0m\u001b[0m\n\u001b[0m\u001b[0;32m   1131\u001b[0m         \u001b[1;31m# Do not call functions when jit is used\u001b[0m\u001b[1;33m\u001b[0m\u001b[1;33m\u001b[0m\u001b[0m\n\u001b[0;32m   1132\u001b[0m         \u001b[0mfull_backward_hooks\u001b[0m\u001b[1;33m,\u001b[0m \u001b[0mnon_full_backward_hooks\u001b[0m \u001b[1;33m=\u001b[0m \u001b[1;33m[\u001b[0m\u001b[1;33m]\u001b[0m\u001b[1;33m,\u001b[0m \u001b[1;33m[\u001b[0m\u001b[1;33m]\u001b[0m\u001b[1;33m\u001b[0m\u001b[1;33m\u001b[0m\u001b[0m\n",
      "\u001b[1;32m~\\anaconda3\\lib\\site-packages\\sentence_transformers\\models\\Transformer.py\u001b[0m in \u001b[0;36mforward\u001b[1;34m(self, features)\u001b[0m\n\u001b[0;32m     64\u001b[0m             \u001b[0mtrans_features\u001b[0m\u001b[1;33m[\u001b[0m\u001b[1;34m'token_type_ids'\u001b[0m\u001b[1;33m]\u001b[0m \u001b[1;33m=\u001b[0m \u001b[0mfeatures\u001b[0m\u001b[1;33m[\u001b[0m\u001b[1;34m'token_type_ids'\u001b[0m\u001b[1;33m]\u001b[0m\u001b[1;33m\u001b[0m\u001b[1;33m\u001b[0m\u001b[0m\n\u001b[0;32m     65\u001b[0m \u001b[1;33m\u001b[0m\u001b[0m\n\u001b[1;32m---> 66\u001b[1;33m         \u001b[0moutput_states\u001b[0m \u001b[1;33m=\u001b[0m \u001b[0mself\u001b[0m\u001b[1;33m.\u001b[0m\u001b[0mauto_model\u001b[0m\u001b[1;33m(\u001b[0m\u001b[1;33m**\u001b[0m\u001b[0mtrans_features\u001b[0m\u001b[1;33m,\u001b[0m \u001b[0mreturn_dict\u001b[0m\u001b[1;33m=\u001b[0m\u001b[1;32mFalse\u001b[0m\u001b[1;33m)\u001b[0m\u001b[1;33m\u001b[0m\u001b[1;33m\u001b[0m\u001b[0m\n\u001b[0m\u001b[0;32m     67\u001b[0m         \u001b[0moutput_tokens\u001b[0m \u001b[1;33m=\u001b[0m \u001b[0moutput_states\u001b[0m\u001b[1;33m[\u001b[0m\u001b[1;36m0\u001b[0m\u001b[1;33m]\u001b[0m\u001b[1;33m\u001b[0m\u001b[1;33m\u001b[0m\u001b[0m\n\u001b[0;32m     68\u001b[0m \u001b[1;33m\u001b[0m\u001b[0m\n",
      "\u001b[1;32m~\\anaconda3\\lib\\site-packages\\torch\\nn\\modules\\module.py\u001b[0m in \u001b[0;36m_call_impl\u001b[1;34m(self, *input, **kwargs)\u001b[0m\n\u001b[0;32m   1128\u001b[0m         if not (self._backward_hooks or self._forward_hooks or self._forward_pre_hooks or _global_backward_hooks\n\u001b[0;32m   1129\u001b[0m                 or _global_forward_hooks or _global_forward_pre_hooks):\n\u001b[1;32m-> 1130\u001b[1;33m             \u001b[1;32mreturn\u001b[0m \u001b[0mforward_call\u001b[0m\u001b[1;33m(\u001b[0m\u001b[1;33m*\u001b[0m\u001b[0minput\u001b[0m\u001b[1;33m,\u001b[0m \u001b[1;33m**\u001b[0m\u001b[0mkwargs\u001b[0m\u001b[1;33m)\u001b[0m\u001b[1;33m\u001b[0m\u001b[1;33m\u001b[0m\u001b[0m\n\u001b[0m\u001b[0;32m   1131\u001b[0m         \u001b[1;31m# Do not call functions when jit is used\u001b[0m\u001b[1;33m\u001b[0m\u001b[1;33m\u001b[0m\u001b[0m\n\u001b[0;32m   1132\u001b[0m         \u001b[0mfull_backward_hooks\u001b[0m\u001b[1;33m,\u001b[0m \u001b[0mnon_full_backward_hooks\u001b[0m \u001b[1;33m=\u001b[0m \u001b[1;33m[\u001b[0m\u001b[1;33m]\u001b[0m\u001b[1;33m,\u001b[0m \u001b[1;33m[\u001b[0m\u001b[1;33m]\u001b[0m\u001b[1;33m\u001b[0m\u001b[1;33m\u001b[0m\u001b[0m\n",
      "\u001b[1;32m~\\anaconda3\\lib\\site-packages\\transformers\\models\\bert\\modeling_bert.py\u001b[0m in \u001b[0;36mforward\u001b[1;34m(self, input_ids, attention_mask, token_type_ids, position_ids, head_mask, inputs_embeds, encoder_hidden_states, encoder_attention_mask, past_key_values, use_cache, output_attentions, output_hidden_states, return_dict)\u001b[0m\n\u001b[0;32m   1016\u001b[0m             \u001b[0mpast_key_values_length\u001b[0m\u001b[1;33m=\u001b[0m\u001b[0mpast_key_values_length\u001b[0m\u001b[1;33m,\u001b[0m\u001b[1;33m\u001b[0m\u001b[1;33m\u001b[0m\u001b[0m\n\u001b[0;32m   1017\u001b[0m         )\n\u001b[1;32m-> 1018\u001b[1;33m         encoder_outputs = self.encoder(\n\u001b[0m\u001b[0;32m   1019\u001b[0m             \u001b[0membedding_output\u001b[0m\u001b[1;33m,\u001b[0m\u001b[1;33m\u001b[0m\u001b[1;33m\u001b[0m\u001b[0m\n\u001b[0;32m   1020\u001b[0m             \u001b[0mattention_mask\u001b[0m\u001b[1;33m=\u001b[0m\u001b[0mextended_attention_mask\u001b[0m\u001b[1;33m,\u001b[0m\u001b[1;33m\u001b[0m\u001b[1;33m\u001b[0m\u001b[0m\n",
      "\u001b[1;32m~\\anaconda3\\lib\\site-packages\\torch\\nn\\modules\\module.py\u001b[0m in \u001b[0;36m_call_impl\u001b[1;34m(self, *input, **kwargs)\u001b[0m\n\u001b[0;32m   1128\u001b[0m         if not (self._backward_hooks or self._forward_hooks or self._forward_pre_hooks or _global_backward_hooks\n\u001b[0;32m   1129\u001b[0m                 or _global_forward_hooks or _global_forward_pre_hooks):\n\u001b[1;32m-> 1130\u001b[1;33m             \u001b[1;32mreturn\u001b[0m \u001b[0mforward_call\u001b[0m\u001b[1;33m(\u001b[0m\u001b[1;33m*\u001b[0m\u001b[0minput\u001b[0m\u001b[1;33m,\u001b[0m \u001b[1;33m**\u001b[0m\u001b[0mkwargs\u001b[0m\u001b[1;33m)\u001b[0m\u001b[1;33m\u001b[0m\u001b[1;33m\u001b[0m\u001b[0m\n\u001b[0m\u001b[0;32m   1131\u001b[0m         \u001b[1;31m# Do not call functions when jit is used\u001b[0m\u001b[1;33m\u001b[0m\u001b[1;33m\u001b[0m\u001b[0m\n\u001b[0;32m   1132\u001b[0m         \u001b[0mfull_backward_hooks\u001b[0m\u001b[1;33m,\u001b[0m \u001b[0mnon_full_backward_hooks\u001b[0m \u001b[1;33m=\u001b[0m \u001b[1;33m[\u001b[0m\u001b[1;33m]\u001b[0m\u001b[1;33m,\u001b[0m \u001b[1;33m[\u001b[0m\u001b[1;33m]\u001b[0m\u001b[1;33m\u001b[0m\u001b[1;33m\u001b[0m\u001b[0m\n",
      "\u001b[1;32m~\\anaconda3\\lib\\site-packages\\transformers\\models\\bert\\modeling_bert.py\u001b[0m in \u001b[0;36mforward\u001b[1;34m(self, hidden_states, attention_mask, head_mask, encoder_hidden_states, encoder_attention_mask, past_key_values, use_cache, output_attentions, output_hidden_states, return_dict)\u001b[0m\n\u001b[0;32m    605\u001b[0m                 )\n\u001b[0;32m    606\u001b[0m             \u001b[1;32melse\u001b[0m\u001b[1;33m:\u001b[0m\u001b[1;33m\u001b[0m\u001b[1;33m\u001b[0m\u001b[0m\n\u001b[1;32m--> 607\u001b[1;33m                 layer_outputs = layer_module(\n\u001b[0m\u001b[0;32m    608\u001b[0m                     \u001b[0mhidden_states\u001b[0m\u001b[1;33m,\u001b[0m\u001b[1;33m\u001b[0m\u001b[1;33m\u001b[0m\u001b[0m\n\u001b[0;32m    609\u001b[0m                     \u001b[0mattention_mask\u001b[0m\u001b[1;33m,\u001b[0m\u001b[1;33m\u001b[0m\u001b[1;33m\u001b[0m\u001b[0m\n",
      "\u001b[1;32m~\\anaconda3\\lib\\site-packages\\torch\\nn\\modules\\module.py\u001b[0m in \u001b[0;36m_call_impl\u001b[1;34m(self, *input, **kwargs)\u001b[0m\n\u001b[0;32m   1128\u001b[0m         if not (self._backward_hooks or self._forward_hooks or self._forward_pre_hooks or _global_backward_hooks\n\u001b[0;32m   1129\u001b[0m                 or _global_forward_hooks or _global_forward_pre_hooks):\n\u001b[1;32m-> 1130\u001b[1;33m             \u001b[1;32mreturn\u001b[0m \u001b[0mforward_call\u001b[0m\u001b[1;33m(\u001b[0m\u001b[1;33m*\u001b[0m\u001b[0minput\u001b[0m\u001b[1;33m,\u001b[0m \u001b[1;33m**\u001b[0m\u001b[0mkwargs\u001b[0m\u001b[1;33m)\u001b[0m\u001b[1;33m\u001b[0m\u001b[1;33m\u001b[0m\u001b[0m\n\u001b[0m\u001b[0;32m   1131\u001b[0m         \u001b[1;31m# Do not call functions when jit is used\u001b[0m\u001b[1;33m\u001b[0m\u001b[1;33m\u001b[0m\u001b[0m\n\u001b[0;32m   1132\u001b[0m         \u001b[0mfull_backward_hooks\u001b[0m\u001b[1;33m,\u001b[0m \u001b[0mnon_full_backward_hooks\u001b[0m \u001b[1;33m=\u001b[0m \u001b[1;33m[\u001b[0m\u001b[1;33m]\u001b[0m\u001b[1;33m,\u001b[0m \u001b[1;33m[\u001b[0m\u001b[1;33m]\u001b[0m\u001b[1;33m\u001b[0m\u001b[1;33m\u001b[0m\u001b[0m\n",
      "\u001b[1;32m~\\anaconda3\\lib\\site-packages\\transformers\\models\\bert\\modeling_bert.py\u001b[0m in \u001b[0;36mforward\u001b[1;34m(self, hidden_states, attention_mask, head_mask, encoder_hidden_states, encoder_attention_mask, past_key_value, output_attentions)\u001b[0m\n\u001b[0;32m    491\u001b[0m         \u001b[1;31m# decoder uni-directional self-attention cached key/values tuple is at positions 1,2\u001b[0m\u001b[1;33m\u001b[0m\u001b[1;33m\u001b[0m\u001b[0m\n\u001b[0;32m    492\u001b[0m         \u001b[0mself_attn_past_key_value\u001b[0m \u001b[1;33m=\u001b[0m \u001b[0mpast_key_value\u001b[0m\u001b[1;33m[\u001b[0m\u001b[1;33m:\u001b[0m\u001b[1;36m2\u001b[0m\u001b[1;33m]\u001b[0m \u001b[1;32mif\u001b[0m \u001b[0mpast_key_value\u001b[0m \u001b[1;32mis\u001b[0m \u001b[1;32mnot\u001b[0m \u001b[1;32mNone\u001b[0m \u001b[1;32melse\u001b[0m \u001b[1;32mNone\u001b[0m\u001b[1;33m\u001b[0m\u001b[1;33m\u001b[0m\u001b[0m\n\u001b[1;32m--> 493\u001b[1;33m         self_attention_outputs = self.attention(\n\u001b[0m\u001b[0;32m    494\u001b[0m             \u001b[0mhidden_states\u001b[0m\u001b[1;33m,\u001b[0m\u001b[1;33m\u001b[0m\u001b[1;33m\u001b[0m\u001b[0m\n\u001b[0;32m    495\u001b[0m             \u001b[0mattention_mask\u001b[0m\u001b[1;33m,\u001b[0m\u001b[1;33m\u001b[0m\u001b[1;33m\u001b[0m\u001b[0m\n",
      "\u001b[1;32m~\\anaconda3\\lib\\site-packages\\torch\\nn\\modules\\module.py\u001b[0m in \u001b[0;36m_call_impl\u001b[1;34m(self, *input, **kwargs)\u001b[0m\n\u001b[0;32m   1128\u001b[0m         if not (self._backward_hooks or self._forward_hooks or self._forward_pre_hooks or _global_backward_hooks\n\u001b[0;32m   1129\u001b[0m                 or _global_forward_hooks or _global_forward_pre_hooks):\n\u001b[1;32m-> 1130\u001b[1;33m             \u001b[1;32mreturn\u001b[0m \u001b[0mforward_call\u001b[0m\u001b[1;33m(\u001b[0m\u001b[1;33m*\u001b[0m\u001b[0minput\u001b[0m\u001b[1;33m,\u001b[0m \u001b[1;33m**\u001b[0m\u001b[0mkwargs\u001b[0m\u001b[1;33m)\u001b[0m\u001b[1;33m\u001b[0m\u001b[1;33m\u001b[0m\u001b[0m\n\u001b[0m\u001b[0;32m   1131\u001b[0m         \u001b[1;31m# Do not call functions when jit is used\u001b[0m\u001b[1;33m\u001b[0m\u001b[1;33m\u001b[0m\u001b[0m\n\u001b[0;32m   1132\u001b[0m         \u001b[0mfull_backward_hooks\u001b[0m\u001b[1;33m,\u001b[0m \u001b[0mnon_full_backward_hooks\u001b[0m \u001b[1;33m=\u001b[0m \u001b[1;33m[\u001b[0m\u001b[1;33m]\u001b[0m\u001b[1;33m,\u001b[0m \u001b[1;33m[\u001b[0m\u001b[1;33m]\u001b[0m\u001b[1;33m\u001b[0m\u001b[1;33m\u001b[0m\u001b[0m\n",
      "\u001b[1;32m~\\anaconda3\\lib\\site-packages\\transformers\\models\\bert\\modeling_bert.py\u001b[0m in \u001b[0;36mforward\u001b[1;34m(self, hidden_states, attention_mask, head_mask, encoder_hidden_states, encoder_attention_mask, past_key_value, output_attentions)\u001b[0m\n\u001b[0;32m    421\u001b[0m         \u001b[0moutput_attentions\u001b[0m\u001b[1;33m:\u001b[0m \u001b[0mOptional\u001b[0m\u001b[1;33m[\u001b[0m\u001b[0mbool\u001b[0m\u001b[1;33m]\u001b[0m \u001b[1;33m=\u001b[0m \u001b[1;32mFalse\u001b[0m\u001b[1;33m,\u001b[0m\u001b[1;33m\u001b[0m\u001b[1;33m\u001b[0m\u001b[0m\n\u001b[0;32m    422\u001b[0m     ) -> Tuple[torch.Tensor]:\n\u001b[1;32m--> 423\u001b[1;33m         self_outputs = self.self(\n\u001b[0m\u001b[0;32m    424\u001b[0m             \u001b[0mhidden_states\u001b[0m\u001b[1;33m,\u001b[0m\u001b[1;33m\u001b[0m\u001b[1;33m\u001b[0m\u001b[0m\n\u001b[0;32m    425\u001b[0m             \u001b[0mattention_mask\u001b[0m\u001b[1;33m,\u001b[0m\u001b[1;33m\u001b[0m\u001b[1;33m\u001b[0m\u001b[0m\n",
      "\u001b[1;32m~\\anaconda3\\lib\\site-packages\\torch\\nn\\modules\\module.py\u001b[0m in \u001b[0;36m_call_impl\u001b[1;34m(self, *input, **kwargs)\u001b[0m\n\u001b[0;32m   1128\u001b[0m         if not (self._backward_hooks or self._forward_hooks or self._forward_pre_hooks or _global_backward_hooks\n\u001b[0;32m   1129\u001b[0m                 or _global_forward_hooks or _global_forward_pre_hooks):\n\u001b[1;32m-> 1130\u001b[1;33m             \u001b[1;32mreturn\u001b[0m \u001b[0mforward_call\u001b[0m\u001b[1;33m(\u001b[0m\u001b[1;33m*\u001b[0m\u001b[0minput\u001b[0m\u001b[1;33m,\u001b[0m \u001b[1;33m**\u001b[0m\u001b[0mkwargs\u001b[0m\u001b[1;33m)\u001b[0m\u001b[1;33m\u001b[0m\u001b[1;33m\u001b[0m\u001b[0m\n\u001b[0m\u001b[0;32m   1131\u001b[0m         \u001b[1;31m# Do not call functions when jit is used\u001b[0m\u001b[1;33m\u001b[0m\u001b[1;33m\u001b[0m\u001b[0m\n\u001b[0;32m   1132\u001b[0m         \u001b[0mfull_backward_hooks\u001b[0m\u001b[1;33m,\u001b[0m \u001b[0mnon_full_backward_hooks\u001b[0m \u001b[1;33m=\u001b[0m \u001b[1;33m[\u001b[0m\u001b[1;33m]\u001b[0m\u001b[1;33m,\u001b[0m \u001b[1;33m[\u001b[0m\u001b[1;33m]\u001b[0m\u001b[1;33m\u001b[0m\u001b[1;33m\u001b[0m\u001b[0m\n",
      "\u001b[1;32m~\\anaconda3\\lib\\site-packages\\transformers\\models\\bert\\modeling_bert.py\u001b[0m in \u001b[0;36mforward\u001b[1;34m(self, hidden_states, attention_mask, head_mask, encoder_hidden_states, encoder_attention_mask, past_key_value, output_attentions)\u001b[0m\n\u001b[0;32m    309\u001b[0m             \u001b[0mvalue_layer\u001b[0m \u001b[1;33m=\u001b[0m \u001b[0mtorch\u001b[0m\u001b[1;33m.\u001b[0m\u001b[0mcat\u001b[0m\u001b[1;33m(\u001b[0m\u001b[1;33m[\u001b[0m\u001b[0mpast_key_value\u001b[0m\u001b[1;33m[\u001b[0m\u001b[1;36m1\u001b[0m\u001b[1;33m]\u001b[0m\u001b[1;33m,\u001b[0m \u001b[0mvalue_layer\u001b[0m\u001b[1;33m]\u001b[0m\u001b[1;33m,\u001b[0m \u001b[0mdim\u001b[0m\u001b[1;33m=\u001b[0m\u001b[1;36m2\u001b[0m\u001b[1;33m)\u001b[0m\u001b[1;33m\u001b[0m\u001b[1;33m\u001b[0m\u001b[0m\n\u001b[0;32m    310\u001b[0m         \u001b[1;32melse\u001b[0m\u001b[1;33m:\u001b[0m\u001b[1;33m\u001b[0m\u001b[1;33m\u001b[0m\u001b[0m\n\u001b[1;32m--> 311\u001b[1;33m             \u001b[0mkey_layer\u001b[0m \u001b[1;33m=\u001b[0m \u001b[0mself\u001b[0m\u001b[1;33m.\u001b[0m\u001b[0mtranspose_for_scores\u001b[0m\u001b[1;33m(\u001b[0m\u001b[0mself\u001b[0m\u001b[1;33m.\u001b[0m\u001b[0mkey\u001b[0m\u001b[1;33m(\u001b[0m\u001b[0mhidden_states\u001b[0m\u001b[1;33m)\u001b[0m\u001b[1;33m)\u001b[0m\u001b[1;33m\u001b[0m\u001b[1;33m\u001b[0m\u001b[0m\n\u001b[0m\u001b[0;32m    312\u001b[0m             \u001b[0mvalue_layer\u001b[0m \u001b[1;33m=\u001b[0m \u001b[0mself\u001b[0m\u001b[1;33m.\u001b[0m\u001b[0mtranspose_for_scores\u001b[0m\u001b[1;33m(\u001b[0m\u001b[0mself\u001b[0m\u001b[1;33m.\u001b[0m\u001b[0mvalue\u001b[0m\u001b[1;33m(\u001b[0m\u001b[0mhidden_states\u001b[0m\u001b[1;33m)\u001b[0m\u001b[1;33m)\u001b[0m\u001b[1;33m\u001b[0m\u001b[1;33m\u001b[0m\u001b[0m\n\u001b[0;32m    313\u001b[0m \u001b[1;33m\u001b[0m\u001b[0m\n",
      "\u001b[1;32m~\\anaconda3\\lib\\site-packages\\torch\\nn\\modules\\module.py\u001b[0m in \u001b[0;36m_call_impl\u001b[1;34m(self, *input, **kwargs)\u001b[0m\n\u001b[0;32m   1128\u001b[0m         if not (self._backward_hooks or self._forward_hooks or self._forward_pre_hooks or _global_backward_hooks\n\u001b[0;32m   1129\u001b[0m                 or _global_forward_hooks or _global_forward_pre_hooks):\n\u001b[1;32m-> 1130\u001b[1;33m             \u001b[1;32mreturn\u001b[0m \u001b[0mforward_call\u001b[0m\u001b[1;33m(\u001b[0m\u001b[1;33m*\u001b[0m\u001b[0minput\u001b[0m\u001b[1;33m,\u001b[0m \u001b[1;33m**\u001b[0m\u001b[0mkwargs\u001b[0m\u001b[1;33m)\u001b[0m\u001b[1;33m\u001b[0m\u001b[1;33m\u001b[0m\u001b[0m\n\u001b[0m\u001b[0;32m   1131\u001b[0m         \u001b[1;31m# Do not call functions when jit is used\u001b[0m\u001b[1;33m\u001b[0m\u001b[1;33m\u001b[0m\u001b[0m\n\u001b[0;32m   1132\u001b[0m         \u001b[0mfull_backward_hooks\u001b[0m\u001b[1;33m,\u001b[0m \u001b[0mnon_full_backward_hooks\u001b[0m \u001b[1;33m=\u001b[0m \u001b[1;33m[\u001b[0m\u001b[1;33m]\u001b[0m\u001b[1;33m,\u001b[0m \u001b[1;33m[\u001b[0m\u001b[1;33m]\u001b[0m\u001b[1;33m\u001b[0m\u001b[1;33m\u001b[0m\u001b[0m\n",
      "\u001b[1;32m~\\anaconda3\\lib\\site-packages\\torch\\nn\\modules\\linear.py\u001b[0m in \u001b[0;36mforward\u001b[1;34m(self, input)\u001b[0m\n\u001b[0;32m    112\u001b[0m \u001b[1;33m\u001b[0m\u001b[0m\n\u001b[0;32m    113\u001b[0m     \u001b[1;32mdef\u001b[0m \u001b[0mforward\u001b[0m\u001b[1;33m(\u001b[0m\u001b[0mself\u001b[0m\u001b[1;33m,\u001b[0m \u001b[0minput\u001b[0m\u001b[1;33m:\u001b[0m \u001b[0mTensor\u001b[0m\u001b[1;33m)\u001b[0m \u001b[1;33m->\u001b[0m \u001b[0mTensor\u001b[0m\u001b[1;33m:\u001b[0m\u001b[1;33m\u001b[0m\u001b[1;33m\u001b[0m\u001b[0m\n\u001b[1;32m--> 114\u001b[1;33m         \u001b[1;32mreturn\u001b[0m \u001b[0mF\u001b[0m\u001b[1;33m.\u001b[0m\u001b[0mlinear\u001b[0m\u001b[1;33m(\u001b[0m\u001b[0minput\u001b[0m\u001b[1;33m,\u001b[0m \u001b[0mself\u001b[0m\u001b[1;33m.\u001b[0m\u001b[0mweight\u001b[0m\u001b[1;33m,\u001b[0m \u001b[0mself\u001b[0m\u001b[1;33m.\u001b[0m\u001b[0mbias\u001b[0m\u001b[1;33m)\u001b[0m\u001b[1;33m\u001b[0m\u001b[1;33m\u001b[0m\u001b[0m\n\u001b[0m\u001b[0;32m    115\u001b[0m \u001b[1;33m\u001b[0m\u001b[0m\n\u001b[0;32m    116\u001b[0m     \u001b[1;32mdef\u001b[0m \u001b[0mextra_repr\u001b[0m\u001b[1;33m(\u001b[0m\u001b[0mself\u001b[0m\u001b[1;33m)\u001b[0m \u001b[1;33m->\u001b[0m \u001b[0mstr\u001b[0m\u001b[1;33m:\u001b[0m\u001b[1;33m\u001b[0m\u001b[1;33m\u001b[0m\u001b[0m\n",
      "\u001b[1;31mKeyboardInterrupt\u001b[0m: "
     ]
    }
   ],
   "source": [
    "# BERT 임베딩\n",
    "corpus_embeddings = model.encode(corpus, show_progress_bar=True)"
   ]
  },
  {
   "cell_type": "code",
   "execution_count": 171,
   "id": "3319fe59",
   "metadata": {},
   "outputs": [
    {
     "data": {
      "text/plain": [
       "68885"
      ]
     },
     "execution_count": 171,
     "metadata": {},
     "output_type": "execute_result"
    }
   ],
   "source": [
    "len(corpus_embeddings)"
   ]
  },
  {
   "cell_type": "code",
   "execution_count": 172,
   "id": "81c2c1bf",
   "metadata": {},
   "outputs": [],
   "source": [
    "clustering = DBSCAN(eps=0.4, min_samples=10,metric = 'cosine').fit(corpus_embeddings)"
   ]
  },
  {
   "cell_type": "code",
   "execution_count": 225,
   "id": "0db24cdf",
   "metadata": {
    "scrolled": true
   },
   "outputs": [
    {
     "ename": "NameError",
     "evalue": "name 'clustering' is not defined",
     "output_type": "error",
     "traceback": [
      "\u001b[1;31m---------------------------------------------------------------------------\u001b[0m",
      "\u001b[1;31mNameError\u001b[0m                                 Traceback (most recent call last)",
      "\u001b[1;32m<ipython-input-225-574a9b1d9a07>\u001b[0m in \u001b[0;36m<module>\u001b[1;34m\u001b[0m\n\u001b[1;32m----> 1\u001b[1;33m \u001b[0mset\u001b[0m\u001b[1;33m(\u001b[0m\u001b[0mclustering\u001b[0m\u001b[1;33m.\u001b[0m\u001b[0mlabels_\u001b[0m\u001b[1;33m)\u001b[0m\u001b[1;33m\u001b[0m\u001b[1;33m\u001b[0m\u001b[0m\n\u001b[0m",
      "\u001b[1;31mNameError\u001b[0m: name 'clustering' is not defined"
     ]
    }
   ],
   "source": [
    "set(clustering.labels_)"
   ]
  },
  {
   "cell_type": "code",
   "execution_count": 228,
   "id": "460b4fbd",
   "metadata": {},
   "outputs": [
    {
     "ename": "NameError",
     "evalue": "name 'clustering' is not defined",
     "output_type": "error",
     "traceback": [
      "\u001b[1;31m---------------------------------------------------------------------------\u001b[0m",
      "\u001b[1;31mNameError\u001b[0m                                 Traceback (most recent call last)",
      "\u001b[1;32m<ipython-input-228-14608be56490>\u001b[0m in \u001b[0;36m<module>\u001b[1;34m\u001b[0m\n\u001b[1;32m----> 1\u001b[1;33m \u001b[0mclustering_df\u001b[0m \u001b[1;33m=\u001b[0m \u001b[0mpd\u001b[0m\u001b[1;33m.\u001b[0m\u001b[0mDataFrame\u001b[0m\u001b[1;33m(\u001b[0m\u001b[1;33m{\u001b[0m\u001b[1;34m'corpus'\u001b[0m\u001b[1;33m:\u001b[0m\u001b[0mcorpus\u001b[0m\u001b[1;33m,\u001b[0m\u001b[1;34m'corpus_e'\u001b[0m\u001b[1;33m:\u001b[0m\u001b[0mcorpus_embeddings\u001b[0m\u001b[1;33m,\u001b[0m\u001b[1;34m'Topic'\u001b[0m\u001b[1;33m:\u001b[0m\u001b[0mclustering\u001b[0m\u001b[1;33m.\u001b[0m\u001b[0mlabels_\u001b[0m\u001b[1;33m}\u001b[0m\u001b[1;33m)\u001b[0m\u001b[1;33m\u001b[0m\u001b[1;33m\u001b[0m\u001b[0m\n\u001b[0m",
      "\u001b[1;31mNameError\u001b[0m: name 'clustering' is not defined"
     ]
    }
   ],
   "source": [
    "clustering_df = pd.DataFrame({'corpus':corpus,'corpus_e':corpus_embeddings,'Topic':clustering.labels_})"
   ]
  },
  {
   "cell_type": "code",
   "execution_count": null,
   "id": "76407e0d",
   "metadata": {},
   "outputs": [],
   "source": [
    "# 클러스터별로 Topic 모델링 일반적인 시각화"
   ]
  },
  {
   "cell_type": "code",
   "execution_count": null,
   "id": "37d4fbbd",
   "metadata": {},
   "outputs": [],
   "source": [
    "# T-sne 시각화"
   ]
  },
  {
   "cell_type": "code",
   "execution_count": 61,
   "id": "7fac9195",
   "metadata": {},
   "outputs": [],
   "source": [
    "from sklearn.feature_extraction.text import CountVectorizer\n",
    "\n",
    "def c_tf_idf(documents, m, ngram_range=(1, 1)):\n",
    "    count = CountVectorizer(ngram_range=ngram_range, stop_words=\"english\").fit(documents)\n",
    "    t = count.transform(documents).toarray()\n",
    "    w = t.sum(axis=1)\n",
    "    tf = np.divide(t.T, w)\n",
    "    sum_t = t.sum(axis=0)\n",
    "    idf = np.log(np.divide(m, sum_t)).reshape(-1, 1)\n",
    "    tf_idf = np.multiply(tf, idf)\n",
    "\n",
    "    return tf_idf, count\n",
    "\n",
    "def extract_top_n_words_per_topic(tf_idf, count, docs_per_topic, n=20):\n",
    "    words = count.get_feature_names_out()\n",
    "    labels = list(docs_per_topic.Topic)\n",
    "    tf_idf_transposed = tf_idf.T\n",
    "    indices = tf_idf_transposed.argsort()[:, -n:]\n",
    "    top_n_words = {label: [(words[j], tf_idf_transposed[i][j]) for j in indices[i]][::-1] for i, label in enumerate(labels)}\n",
    "    return top_n_words\n",
    "\n",
    "def extract_topic_sizes(df):\n",
    "    topic_sizes = (df.groupby(['Topic'])\n",
    "                     .Doc\n",
    "                     .count()\n",
    "                     .reset_index()\n",
    "                     .rename({\"Topic\": \"Topic\", \"Doc\": \"Size\"}, axis='columns')\n",
    "                     .sort_values(\"Size\", ascending=False))\n",
    "    return topic_sizes"
   ]
  },
  {
   "cell_type": "code",
   "execution_count": 62,
   "id": "dcd44896",
   "metadata": {
    "scrolled": true
   },
   "outputs": [
    {
     "name": "stderr",
     "output_type": "stream",
     "text": [
      "<ipython-input-61-0f534e09bd9e>:7: RuntimeWarning: invalid value encountered in true_divide\n",
      "  tf = np.divide(t.T, w)\n"
     ]
    }
   ],
   "source": [
    "tf_idf, count = c_tf_idf(corpus, m=len(corpus))"
   ]
  },
  {
   "cell_type": "code",
   "execution_count": 66,
   "id": "15e595a0",
   "metadata": {},
   "outputs": [
    {
     "ename": "AttributeError",
     "evalue": "'list' object has no attribute 'Topic'",
     "output_type": "error",
     "traceback": [
      "\u001b[1;31m---------------------------------------------------------------------------\u001b[0m",
      "\u001b[1;31mAttributeError\u001b[0m                            Traceback (most recent call last)",
      "\u001b[1;32m<ipython-input-66-4475436b9aff>\u001b[0m in \u001b[0;36m<module>\u001b[1;34m\u001b[0m\n\u001b[1;32m----> 1\u001b[1;33m \u001b[0mtop_n_words\u001b[0m \u001b[1;33m=\u001b[0m \u001b[0mextract_top_n_words_per_topic\u001b[0m\u001b[1;33m(\u001b[0m\u001b[0mtf_idf\u001b[0m\u001b[1;33m,\u001b[0m \u001b[0mcount\u001b[0m\u001b[1;33m,\u001b[0m \u001b[0mcorpus\u001b[0m\u001b[1;33m,\u001b[0m \u001b[0mn\u001b[0m\u001b[1;33m=\u001b[0m\u001b[1;36m20\u001b[0m\u001b[1;33m)\u001b[0m\u001b[1;33m\u001b[0m\u001b[1;33m\u001b[0m\u001b[0m\n\u001b[0m",
      "\u001b[1;32m<ipython-input-61-0f534e09bd9e>\u001b[0m in \u001b[0;36mextract_top_n_words_per_topic\u001b[1;34m(tf_idf, count, docs_per_topic, n)\u001b[0m\n\u001b[0;32m     14\u001b[0m \u001b[1;32mdef\u001b[0m \u001b[0mextract_top_n_words_per_topic\u001b[0m\u001b[1;33m(\u001b[0m\u001b[0mtf_idf\u001b[0m\u001b[1;33m,\u001b[0m \u001b[0mcount\u001b[0m\u001b[1;33m,\u001b[0m \u001b[0mdocs_per_topic\u001b[0m\u001b[1;33m,\u001b[0m \u001b[0mn\u001b[0m\u001b[1;33m=\u001b[0m\u001b[1;36m20\u001b[0m\u001b[1;33m)\u001b[0m\u001b[1;33m:\u001b[0m\u001b[1;33m\u001b[0m\u001b[1;33m\u001b[0m\u001b[0m\n\u001b[0;32m     15\u001b[0m     \u001b[0mwords\u001b[0m \u001b[1;33m=\u001b[0m \u001b[0mcount\u001b[0m\u001b[1;33m.\u001b[0m\u001b[0mget_feature_names_out\u001b[0m\u001b[1;33m(\u001b[0m\u001b[1;33m)\u001b[0m\u001b[1;33m\u001b[0m\u001b[1;33m\u001b[0m\u001b[0m\n\u001b[1;32m---> 16\u001b[1;33m     \u001b[0mlabels\u001b[0m \u001b[1;33m=\u001b[0m \u001b[0mlist\u001b[0m\u001b[1;33m(\u001b[0m\u001b[0mdocs_per_topic\u001b[0m\u001b[1;33m.\u001b[0m\u001b[0mTopic\u001b[0m\u001b[1;33m)\u001b[0m\u001b[1;33m\u001b[0m\u001b[1;33m\u001b[0m\u001b[0m\n\u001b[0m\u001b[0;32m     17\u001b[0m     \u001b[0mtf_idf_transposed\u001b[0m \u001b[1;33m=\u001b[0m \u001b[0mtf_idf\u001b[0m\u001b[1;33m.\u001b[0m\u001b[0mT\u001b[0m\u001b[1;33m\u001b[0m\u001b[1;33m\u001b[0m\u001b[0m\n\u001b[0;32m     18\u001b[0m     \u001b[0mindices\u001b[0m \u001b[1;33m=\u001b[0m \u001b[0mtf_idf_transposed\u001b[0m\u001b[1;33m.\u001b[0m\u001b[0margsort\u001b[0m\u001b[1;33m(\u001b[0m\u001b[1;33m)\u001b[0m\u001b[1;33m[\u001b[0m\u001b[1;33m:\u001b[0m\u001b[1;33m,\u001b[0m \u001b[1;33m-\u001b[0m\u001b[0mn\u001b[0m\u001b[1;33m:\u001b[0m\u001b[1;33m]\u001b[0m\u001b[1;33m\u001b[0m\u001b[1;33m\u001b[0m\u001b[0m\n",
      "\u001b[1;31mAttributeError\u001b[0m: 'list' object has no attribute 'Topic'"
     ]
    }
   ],
   "source": [
    "top_n_words = extract_top_n_words_per_topic(tf_idf, count, corpus, n=20)"
   ]
  },
  {
   "cell_type": "code",
   "execution_count": null,
   "id": "3c13b5a7",
   "metadata": {},
   "outputs": [],
   "source": [
    "topic_sizes = extract_topic_sizes(rslt[category_id]); topic_sizes.head(10)"
   ]
  },
  {
   "cell_type": "code",
   "execution_count": null,
   "id": "8283f889",
   "metadata": {},
   "outputs": [],
   "source": []
  },
  {
   "cell_type": "code",
   "execution_count": 60,
   "id": "de996228",
   "metadata": {
    "scrolled": true
   },
   "outputs": [
    {
     "ename": "JVMNotFoundException",
     "evalue": "No JVM shared library file (jvm.dll) found. Try setting up the JAVA_HOME environment variable properly.",
     "output_type": "error",
     "traceback": [
      "\u001b[1;31m---------------------------------------------------------------------------\u001b[0m",
      "\u001b[1;31mJVMNotFoundException\u001b[0m                      Traceback (most recent call last)",
      "\u001b[1;32m<ipython-input-60-d93f929e65e6>\u001b[0m in \u001b[0;36m<module>\u001b[1;34m\u001b[0m\n\u001b[0;32m      9\u001b[0m         \u001b[1;32mreturn\u001b[0m \u001b[0mresult\u001b[0m\u001b[1;33m\u001b[0m\u001b[1;33m\u001b[0m\u001b[0m\n\u001b[0;32m     10\u001b[0m \u001b[1;33m\u001b[0m\u001b[0m\n\u001b[1;32m---> 11\u001b[1;33m \u001b[0mcustom_tokenizer\u001b[0m \u001b[1;33m=\u001b[0m \u001b[0mCustomTokenizer\u001b[0m\u001b[1;33m(\u001b[0m\u001b[0mKkma\u001b[0m\u001b[1;33m(\u001b[0m\u001b[1;33m)\u001b[0m\u001b[1;33m)\u001b[0m\u001b[1;33m\u001b[0m\u001b[1;33m\u001b[0m\u001b[0m\n\u001b[0m",
      "\u001b[1;32m~\\miniconda3\\lib\\site-packages\\konlpy\\tag\\_kkma.py\u001b[0m in \u001b[0;36m__init__\u001b[1;34m(self, jvmpath, max_heap_size)\u001b[0m\n\u001b[0;32m     42\u001b[0m     \u001b[1;32mdef\u001b[0m \u001b[0m__init__\u001b[0m\u001b[1;33m(\u001b[0m\u001b[0mself\u001b[0m\u001b[1;33m,\u001b[0m \u001b[0mjvmpath\u001b[0m\u001b[1;33m=\u001b[0m\u001b[1;32mNone\u001b[0m\u001b[1;33m,\u001b[0m \u001b[0mmax_heap_size\u001b[0m\u001b[1;33m=\u001b[0m\u001b[1;36m1024\u001b[0m\u001b[1;33m)\u001b[0m\u001b[1;33m:\u001b[0m\u001b[1;33m\u001b[0m\u001b[1;33m\u001b[0m\u001b[0m\n\u001b[0;32m     43\u001b[0m         \u001b[1;32mif\u001b[0m \u001b[1;32mnot\u001b[0m \u001b[0mjpype\u001b[0m\u001b[1;33m.\u001b[0m\u001b[0misJVMStarted\u001b[0m\u001b[1;33m(\u001b[0m\u001b[1;33m)\u001b[0m\u001b[1;33m:\u001b[0m\u001b[1;33m\u001b[0m\u001b[1;33m\u001b[0m\u001b[0m\n\u001b[1;32m---> 44\u001b[1;33m             \u001b[0mjvm\u001b[0m\u001b[1;33m.\u001b[0m\u001b[0minit_jvm\u001b[0m\u001b[1;33m(\u001b[0m\u001b[0mjvmpath\u001b[0m\u001b[1;33m,\u001b[0m \u001b[0mmax_heap_size\u001b[0m\u001b[1;33m)\u001b[0m\u001b[1;33m\u001b[0m\u001b[1;33m\u001b[0m\u001b[0m\n\u001b[0m\u001b[0;32m     45\u001b[0m \u001b[1;33m\u001b[0m\u001b[0m\n\u001b[0;32m     46\u001b[0m         \u001b[0mkkmaJavaPackage\u001b[0m \u001b[1;33m=\u001b[0m \u001b[0mjpype\u001b[0m\u001b[1;33m.\u001b[0m\u001b[0mJPackage\u001b[0m\u001b[1;33m(\u001b[0m\u001b[1;34m'kr.lucypark.kkma'\u001b[0m\u001b[1;33m)\u001b[0m\u001b[1;33m\u001b[0m\u001b[1;33m\u001b[0m\u001b[0m\n",
      "\u001b[1;32m~\\miniconda3\\lib\\site-packages\\konlpy\\jvm.py\u001b[0m in \u001b[0;36minit_jvm\u001b[1;34m(jvmpath, max_heap_size)\u001b[0m\n\u001b[0;32m     53\u001b[0m     \u001b[0mclasspath\u001b[0m \u001b[1;33m=\u001b[0m \u001b[1;33m[\u001b[0m\u001b[0mf\u001b[0m\u001b[1;33m.\u001b[0m\u001b[0mformat\u001b[0m\u001b[1;33m(\u001b[0m\u001b[1;33m*\u001b[0m\u001b[0margs\u001b[0m\u001b[1;33m)\u001b[0m \u001b[1;32mfor\u001b[0m \u001b[0mf\u001b[0m \u001b[1;32min\u001b[0m \u001b[0mfolder_suffix\u001b[0m\u001b[1;33m]\u001b[0m\u001b[1;33m\u001b[0m\u001b[1;33m\u001b[0m\u001b[0m\n\u001b[0;32m     54\u001b[0m \u001b[1;33m\u001b[0m\u001b[0m\n\u001b[1;32m---> 55\u001b[1;33m     \u001b[0mjvmpath\u001b[0m \u001b[1;33m=\u001b[0m \u001b[0mjvmpath\u001b[0m \u001b[1;32mor\u001b[0m \u001b[0mjpype\u001b[0m\u001b[1;33m.\u001b[0m\u001b[0mgetDefaultJVMPath\u001b[0m\u001b[1;33m(\u001b[0m\u001b[1;33m)\u001b[0m\u001b[1;33m\u001b[0m\u001b[1;33m\u001b[0m\u001b[0m\n\u001b[0m\u001b[0;32m     56\u001b[0m \u001b[1;33m\u001b[0m\u001b[0m\n\u001b[0;32m     57\u001b[0m     \u001b[1;31m# NOTE: Temporary patch for Issue #76. Erase when possible.\u001b[0m\u001b[1;33m\u001b[0m\u001b[1;33m\u001b[0m\u001b[1;33m\u001b[0m\u001b[0m\n",
      "\u001b[1;32m~\\miniconda3\\lib\\site-packages\\jpype\\_jvmfinder.py\u001b[0m in \u001b[0;36mgetDefaultJVMPath\u001b[1;34m()\u001b[0m\n\u001b[0;32m     72\u001b[0m     \u001b[1;32melse\u001b[0m\u001b[1;33m:\u001b[0m\u001b[1;33m\u001b[0m\u001b[1;33m\u001b[0m\u001b[0m\n\u001b[0;32m     73\u001b[0m         \u001b[0mfinder\u001b[0m \u001b[1;33m=\u001b[0m \u001b[0mLinuxJVMFinder\u001b[0m\u001b[1;33m(\u001b[0m\u001b[1;33m)\u001b[0m\u001b[1;33m\u001b[0m\u001b[1;33m\u001b[0m\u001b[0m\n\u001b[1;32m---> 74\u001b[1;33m     \u001b[1;32mreturn\u001b[0m \u001b[0mfinder\u001b[0m\u001b[1;33m.\u001b[0m\u001b[0mget_jvm_path\u001b[0m\u001b[1;33m(\u001b[0m\u001b[1;33m)\u001b[0m\u001b[1;33m\u001b[0m\u001b[1;33m\u001b[0m\u001b[0m\n\u001b[0m\u001b[0;32m     75\u001b[0m \u001b[1;33m\u001b[0m\u001b[0m\n\u001b[0;32m     76\u001b[0m \u001b[1;33m\u001b[0m\u001b[0m\n",
      "\u001b[1;32m~\\miniconda3\\lib\\site-packages\\jpype\\_jvmfinder.py\u001b[0m in \u001b[0;36mget_jvm_path\u001b[1;34m(self)\u001b[0m\n\u001b[0;32m    210\u001b[0m         \u001b[1;32mif\u001b[0m \u001b[0mjvm_notsupport_ext\u001b[0m \u001b[1;32mis\u001b[0m \u001b[1;32mnot\u001b[0m \u001b[1;32mNone\u001b[0m\u001b[1;33m:\u001b[0m\u001b[1;33m\u001b[0m\u001b[1;33m\u001b[0m\u001b[0m\n\u001b[0;32m    211\u001b[0m             \u001b[1;32mraise\u001b[0m \u001b[0mjvm_notsupport_ext\u001b[0m\u001b[1;33m\u001b[0m\u001b[1;33m\u001b[0m\u001b[0m\n\u001b[1;32m--> 212\u001b[1;33m         raise JVMNotFoundException(\"No JVM shared library file ({0}) \"\n\u001b[0m\u001b[0;32m    213\u001b[0m                                    \u001b[1;34m\"found. Try setting up the JAVA_HOME \"\u001b[0m\u001b[1;33m\u001b[0m\u001b[1;33m\u001b[0m\u001b[0m\n\u001b[0;32m    214\u001b[0m                                    \u001b[1;34m\"environment variable properly.\"\u001b[0m\u001b[1;33m\u001b[0m\u001b[1;33m\u001b[0m\u001b[0m\n",
      "\u001b[1;31mJVMNotFoundException\u001b[0m: No JVM shared library file (jvm.dll) found. Try setting up the JAVA_HOME environment variable properly."
     ]
    }
   ],
   "source": [
    "''' JAVA HOME 문제 해결 필요\n",
    "from konlpy.tag import Kkma\n",
    " \n",
    "class CustomTokenizer:\n",
    "    def __init__(self, tagger):\n",
    "        self.tagger = tagger\n",
    "    def __call__(self, sent):\n",
    "        word_tokens = self.tagger.morphs(sent)\n",
    "        result = [word for word in word_tokens if len(word) > 1]\n",
    "        return result\n",
    "    \n",
    "custom_tokenizer = CustomTokenizer(Kkma())\n",
    "'''"
   ]
  },
  {
   "cell_type": "code",
   "execution_count": null,
   "id": "8a06da66",
   "metadata": {},
   "outputs": [],
   "source": [
    " model.get_topic_freq().head()"
   ]
  },
  {
   "cell_type": "code",
   "execution_count": null,
   "id": "a84a16b7",
   "metadata": {},
   "outputs": [],
   "source": [
    " model.get_topic(49)"
   ]
  },
  {
   "cell_type": "code",
   "execution_count": null,
   "id": "6f007375",
   "metadata": {},
   "outputs": [],
   "source": [
    "model.visualize_topics("
   ]
  },
  {
   "cell_type": "code",
   "execution_count": null,
   "id": "2c7ddacb",
   "metadata": {},
   "outputs": [],
   "source": [
    "model.visualize_distribution(probabilities[0])"
   ]
  },
  {
   "cell_type": "code",
   "execution_count": null,
   "id": "8a7cd1df",
   "metadata": {},
   "outputs": [],
   "source": []
  }
 ],
 "metadata": {
  "kernelspec": {
   "display_name": "Python 3",
   "language": "python",
   "name": "python3"
  },
  "language_info": {
   "codemirror_mode": {
    "name": "ipython",
    "version": 3
   },
   "file_extension": ".py",
   "mimetype": "text/x-python",
   "name": "python",
   "nbconvert_exporter": "python",
   "pygments_lexer": "ipython3",
   "version": "3.9.12"
  }
 },
 "nbformat": 4,
 "nbformat_minor": 5
}
